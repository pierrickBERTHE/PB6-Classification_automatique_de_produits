{
 "cells": [
  {
   "cell_type": "markdown",
   "metadata": {},
   "source": [
    "# <span style='color:SteelBlue'>P6 - Classifiez automatiquement des biens de consommation (part 1)</span>"
   ]
  },
  {
   "cell_type": "markdown",
   "metadata": {},
   "source": [
    "<img src=\"https://user.oc-static.com/upload/2019/02/24/15510259240381_Projet%20textimage%20logo.png\" width=\"600\" height=\"400\">"
   ]
  },
  {
   "cell_type": "markdown",
   "metadata": {},
   "source": [
    "# <span style='background:red; color:black'>a MAJ</span>\n",
    "\n",
    "# <span style='background:white; color:black'>Sommaire</span>\n",
    "\n",
    "Importations des librairies<br>\n",
    "\n",
    "Paramètres d'affichage<br>\n",
    "\n",
    "Fonctions <br>\n",
    "\n",
    "Importation des donnees <br>\n",
    "\n",
    "**Etape 1 : Description des donnees**\n",
    "- _1/ etc..._\n",
    "\n",
    "\n",
    "Conclusion"
   ]
  },
  {
   "cell_type": "markdown",
   "metadata": {},
   "source": [
    "# <span style='background:blue'>Introduction</span>\n",
    "\n",
    "L'entreprise **\"place de marché\"** est une entreprise qui souhaite lancer une\n",
    "marketplace e-commerce. Sur cette place de marché anglophone, des vendeurs\n",
    "proposent des articles à des acheteurs en postant une photo et une description.\n",
    "Pour rendre l’expérience utilisateur des vendeurs (faciliter la mise en ligne\n",
    "de nouveaux articles) et des acheteurs (faciliter la recherche de produits) \n",
    "la plus fluide possible, et dans l'optique d'un passage à l'échelle, \n",
    "il devient nécessaire **d'automatiser l'attribution de la catégorie** d'un \n",
    "article (actuellement effectuée manuellement par les vendeurs, donc peu \n",
    "fiable).\n",
    "___\n",
    "**Missions**<br>\n",
    "1/ Faire une **étude de la faisabilité d’un moteur de classification**\n",
    "d’article basé sur une image et une description pour automatiser l’attribution\n",
    "de catégorie de l’article. \n",
    "\n",
    "2/ **Réaliser une classification supervisée** à partir des images par la mise\n",
    "en place d’une data augmentation afin d’optimiser le modèle. \n",
    "\n",
    "3/ **Extraire les 10 premiers produits à base de « champagne »** issus de\n",
    "l’API fournie dans un fichier “.csv”, contenant pour chaque produit les\n",
    "données suivantes : foodId, label, category, foodContentsLabel, image.\n",
    "___\n",
    "Ce notebook presente la 2ème partie concernant la faisabilité d'un moteur de\n",
    "classification. Nous allons donc analyser les images des produits en \n",
    "réalisant :\n",
    "-\t1 prétraitement des données texte ou image suivant le cas.\n",
    "-\t1 extraction des features par différentes méthodes :\n",
    "    - Pour les données textuelles :\n",
    "      - 2 approches de type “bag-of-words” avec comptage simple de mots et Tf-idf\n",
    "      - 1 approche de type word/sentence embedding classique avec Word2Vec\n",
    "      - 1 approche de type word/sentence embedding avec BERT\n",
    "      - 1 approche de type word/sentence embedding avec USE\n",
    "    - Pour les données images :\n",
    "      - 1 algorithme de type SIFT/ ORB / SURF\n",
    "      - 1 algorithme de type CNN Transfer Learning\n",
    "-\t1 réduction en 2 dimensions, afin de projeter les produits sur un\n",
    "    graphique 2D, sous la forme de points dont la couleur correspondra à la\n",
    "    catégorie réelle\n",
    "-\t1 analyse graphique pour déduire la faisabilité de regroupement\n",
    "    automatique. \n",
    "-\t1 calcul de similarité entre les catégories réelles et les catégories\n",
    "issues d’une segmentation en clusters pour confirmer notre analyse visuelle.\n",
    "___\n",
    "**Source des datasets**<br>\n",
    "Source : Non précisé<br>\n",
    "___"
   ]
  },
  {
   "cell_type": "markdown",
   "metadata": {},
   "source": [
    "<div class=\"alert alert-block alert-warning\">\n",
    "<b>Formattage du notebook au PEP8 => lancer cette ligne de code dans le\n",
    "terminal VSC : </b><br>\n",
    "nbqa black Berthe_Pierrick_1_notebook_exploration_112023.ipynb</div>"
   ]
  },
  {
   "cell_type": "markdown",
   "metadata": {},
   "source": [
    "# <span style='background:grey'>Importations des librairies</span>"
   ]
  },
  {
   "cell_type": "code",
   "execution_count": 1,
   "metadata": {},
   "outputs": [
    {
     "name": "stdout",
     "output_type": "stream",
     "text": [
      "Version des librairies utilisees :\n",
      "Python        : 3.11.7 (tags/v3.11.7:fa7a6f2, Dec  4 2023, 19:24:49) [MSC v.1937 64 bit (AMD64)]\n",
      "Matplotlib    : 3.8.2\n",
      "NumPy         : 1.26.2\n",
      "Pandas        : 2.1.4\n",
      "Seaborn       : 0.13.0\n",
      "Sklearn       : 1.3.2\n",
      "\n",
      "Nombre de coeur disponible(s) sur ce PC: 12 coeur(s)\n",
      "\n",
      "Code lance le : 2024-01-10T12:29:37.903261\n",
      "\n"
     ]
    }
   ],
   "source": [
    "# Librairies generales\n",
    "import os.path\n",
    "import sys\n",
    "from IPython.display import display\n",
    "import time\n",
    "from datetime import datetime\n",
    "\n",
    "# Librairies data science\n",
    "import matplotlib as mpl\n",
    "import matplotlib.pyplot as plt\n",
    "import numpy as np\n",
    "import pandas as pd\n",
    "import seaborn as sns\n",
    "\n",
    "# Computer vision\n",
    "from matplotlib.image import imread\n",
    "\n",
    "# machine learning\n",
    "import sklearn\n",
    "from sklearn import preprocessing\n",
    "\n",
    "# Affichage plot dans le notebook\n",
    "%matplotlib inline\n",
    "\n",
    "# Versions\n",
    "print(\"Version des librairies utilisees :\")\n",
    "print(\"Python        : \" + sys.version)\n",
    "print(\"Matplotlib    : \" + mpl.__version__)\n",
    "print(\"NumPy         : \" + np.version.full_version)\n",
    "print(\"Pandas        : \" + pd.__version__)\n",
    "print(\"Seaborn       : \" + sns.__version__)\n",
    "print(\"Sklearn       : \" + sklearn.__version__)\n",
    "\n",
    "# Nombre de coeurs\n",
    "nbr_coeur = os.cpu_count()\n",
    "print(f\"\\nNombre de coeur disponible(s) sur ce PC: {nbr_coeur} coeur(s)\")\n",
    "\n",
    "# Afficher heure lancement\n",
    "maintenant = datetime.now().isoformat()\n",
    "print(\"\\nCode lance le : \" + maintenant)\n",
    "\n",
    "# Enregistrer l'heure de debut\n",
    "start_time = time.time()\n",
    "\n",
    "# Activer la verification PEP8\n",
    "print(\"\")\n",
    "%load_ext pycodestyle_magic\n",
    "%pycodestyle_on"
   ]
  },
  {
   "cell_type": "markdown",
   "metadata": {},
   "source": [
    "<div class=\"alert alert-block alert-warning\">\n",
    "<b>Formattage du notebook au PEP8 => lancer cette ligne de code dans le \n",
    "terminal VSC : </b> <br>\n",
    "nbqa black nom_fichier.ipynb</div>"
   ]
  },
  {
   "cell_type": "markdown",
   "metadata": {},
   "source": [
    "# <span style='background:grey'>Paramètres d'affichage</span>"
   ]
  },
  {
   "cell_type": "code",
   "execution_count": 2,
   "metadata": {},
   "outputs": [],
   "source": [
    "# parametrage des paramètres d'affichage dans le notebook\n",
    "pd.set_option(\"display.max_row\", 50)\n",
    "pd.set_option(\"display.max_column\", 50)\n",
    "pd.set_option(\"display.precision\", 2)\n",
    "\n",
    "# Creation d'1 palette de couleurs\n",
    "colors_list = [\n",
    "    \"Gold\",\n",
    "    \"MediumPurple\",\n",
    "    \"DarkOrange\",\n",
    "    \"LimeGreen\",\n",
    "    \"Tomato\",\n",
    "    \"SteelBlue\",\n",
    "    \"SaddleBrown\",\n",
    "    \"DeepPink\",\n",
    "    \"LightSkyBlue\",\n",
    "    \"OliveDrab\",\n",
    "]\n",
    "\n",
    "# Style de la police pour le titre des graphiques\n",
    "font_title = {\n",
    "    \"family\": \"Times New Roman\",\n",
    "    \"color\": \"000000\",\n",
    "    \"size\": 22,\n",
    "}\n",
    "\n",
    "# Style de la police pour les axes du graphique\n",
    "font_axe = {\n",
    "    \"family\": \"Times New Roman\",\n",
    "    \"color\": \"000000\",\n",
    "    \"size\": 16,\n",
    "}"
   ]
  },
  {
   "cell_type": "markdown",
   "metadata": {},
   "source": [
    "# <span style='background:grey'>Fonctions</span>\n"
   ]
  },
  {
   "cell_type": "code",
   "execution_count": 3,
   "metadata": {},
   "outputs": [],
   "source": [
    "def list_fct(name, df_image):\n",
    "    \"\"\"\n",
    "    Cette fonction prend en entrée un nom de produit et renvoie une liste\n",
    "    contenant les noms des images correspondantes.\n",
    "\n",
    "    Paramètres :\n",
    "    name (str) : Le nom du produit pour lequel nous voulons obtenir les images.\n",
    "    df_image (dataframe) : Le dataframe contenant les noms des images et les\n",
    "    noms des produits.\n",
    "\n",
    "    Retourne :\n",
    "    list_image_name (list) : Une liste contenant les noms des images\n",
    "    correspondant au produit donné.\n",
    "    \"\"\"\n",
    "    list_image_name = [\n",
    "        df_image[\"image\"][i] for i in range(len(df_image))\n",
    "        if df_image[\"product_name\"][i] == name]\n",
    "    return list_image_name"
   ]
  },
  {
   "cell_type": "code",
   "execution_count": 4,
   "metadata": {},
   "outputs": [],
   "source": [
    "def afficher_tsne(feat_tsne_df, titre):\n",
    "    \"\"\"\n",
    "    Affiche un scatterplot des résultats t-SNE.\n",
    "\n",
    "    Paramètres\n",
    "    ----------\n",
    "    feat_tsne_df : DataFrame\n",
    "        Un DataFrame contenant les résultats t-SNE et les classes\n",
    "        correspondantes.\n",
    "        Il doit contenir les colonnes 'tsne1', 'tsne2' et 'class'.\n",
    "    titre : str\n",
    "        Le titre du graphique.\n",
    "\n",
    "    Retourne\n",
    "    -------\n",
    "    None\n",
    "    \"\"\"\n",
    "    # Création de la figure\n",
    "    plt.figure(figsize=(12, 8))\n",
    "\n",
    "    # Affichage des points\n",
    "    sns.scatterplot(\n",
    "        x=\"tsne1\",\n",
    "        y=\"tsne2\",\n",
    "        hue=\"class\",\n",
    "        palette=sns.color_palette('tab10', n_colors=7), s=50, alpha=0.6,\n",
    "        data=feat_tsne_df,\n",
    "        legend=\"brief\")\n",
    "\n",
    "    # titre et axes\n",
    "    plt.title(titre, fontsize=30, pad=35, fontweight='bold')\n",
    "    plt.xlabel('tsne1', fontsize=26, fontweight='bold')\n",
    "    plt.ylabel('tsne2', fontsize=26, fontweight='bold')\n",
    "\n",
    "    plt.show()"
   ]
  },
  {
   "cell_type": "markdown",
   "metadata": {},
   "source": [
    "# <span style='background:grey'>Importation des donnees</span>\n",
    "\n",
    "Importation des fichiers CSV avec Pandas"
   ]
  },
  {
   "cell_type": "code",
   "execution_count": 5,
   "metadata": {},
   "outputs": [
    {
     "data": {
      "text/plain": [
       "'===> Liste des fichiers importes: <====\\n'"
      ]
     },
     "metadata": {},
     "output_type": "display_data"
    },
    {
     "data": {
      "text/plain": [
       "'flipkart_com-ecommerce_sample_1050.csv'"
      ]
     },
     "metadata": {},
     "output_type": "display_data"
    }
   ],
   "source": [
    "# Definir le chemin\n",
    "chemin = \"./data/source/\"\n",
    "\n",
    "# Obtenir une liste de tous les fichiers dans le repertoire\n",
    "fichiers = os.listdir(chemin)\n",
    "\n",
    "# Initialiser un dictionnaire vide et display de la liste des fichiers importe\n",
    "data_brut = {}\n",
    "display(\"===> Liste des fichiers importes: <====\\n\")\n",
    "\n",
    "# POUR chaque fichier\n",
    "for fichier in fichiers:\n",
    "\n",
    "    # Traiter uniquement les fichiers .csv\n",
    "    if fichier.endswith(\".csv\"):\n",
    "        display(fichier)\n",
    "\n",
    "        # Lire le fichier csv et le stocker dans le dictionnaire\n",
    "        data_brut[fichier] = pd.read_csv(\n",
    "            chemin + fichier,\n",
    "            sep=\",\",\n",
    "            encoding=\"utf-8\"\n",
    "        )"
   ]
  },
  {
   "cell_type": "markdown",
   "metadata": {},
   "source": [
    "# <span style='background:blue'>Etape 1 : Présentation du dataset</span>\n",
    "\n",
    "## <span style='background:green'>1/ Aperçu tableau</span>"
   ]
  },
  {
   "cell_type": "markdown",
   "metadata": {},
   "source": [
    "Nous affichons le début, la fin et des échnatillons au hasard du tableau."
   ]
  },
  {
   "cell_type": "code",
   "execution_count": 6,
   "metadata": {},
   "outputs": [
    {
     "data": {
      "text/html": [
       "<div>\n",
       "<style scoped>\n",
       "    .dataframe tbody tr th:only-of-type {\n",
       "        vertical-align: middle;\n",
       "    }\n",
       "\n",
       "    .dataframe tbody tr th {\n",
       "        vertical-align: top;\n",
       "    }\n",
       "\n",
       "    .dataframe thead th {\n",
       "        text-align: right;\n",
       "    }\n",
       "</style>\n",
       "<table border=\"1\" class=\"dataframe\">\n",
       "  <thead>\n",
       "    <tr style=\"text-align: right;\">\n",
       "      <th></th>\n",
       "      <th>uniq_id</th>\n",
       "      <th>crawl_timestamp</th>\n",
       "      <th>product_url</th>\n",
       "      <th>product_name</th>\n",
       "      <th>product_category_tree</th>\n",
       "      <th>pid</th>\n",
       "      <th>retail_price</th>\n",
       "      <th>discounted_price</th>\n",
       "      <th>image</th>\n",
       "      <th>is_FK_Advantage_product</th>\n",
       "      <th>description</th>\n",
       "      <th>product_rating</th>\n",
       "      <th>overall_rating</th>\n",
       "      <th>brand</th>\n",
       "      <th>product_specifications</th>\n",
       "    </tr>\n",
       "  </thead>\n",
       "  <tbody>\n",
       "    <tr>\n",
       "      <th>0</th>\n",
       "      <td>55b85ea15a1536d46b7190ad6fff8ce7</td>\n",
       "      <td>2016-04-30 03:22:56 +0000</td>\n",
       "      <td>http://www.flipkart.com/elegance-polyester-mul...</td>\n",
       "      <td>Elegance Polyester Multicolor Abstract Eyelet ...</td>\n",
       "      <td>[\"Home Furnishing &gt;&gt; Curtains &amp; Accessories &gt;&gt;...</td>\n",
       "      <td>CRNEG7BKMFFYHQ8Z</td>\n",
       "      <td>1899.0</td>\n",
       "      <td>899.0</td>\n",
       "      <td>55b85ea15a1536d46b7190ad6fff8ce7.jpg</td>\n",
       "      <td>False</td>\n",
       "      <td>Key Features of Elegance Polyester Multicolor ...</td>\n",
       "      <td>No rating available</td>\n",
       "      <td>No rating available</td>\n",
       "      <td>Elegance</td>\n",
       "      <td>{\"product_specification\"=&gt;[{\"key\"=&gt;\"Brand\", \"v...</td>\n",
       "    </tr>\n",
       "    <tr>\n",
       "      <th>1</th>\n",
       "      <td>7b72c92c2f6c40268628ec5f14c6d590</td>\n",
       "      <td>2016-04-30 03:22:56 +0000</td>\n",
       "      <td>http://www.flipkart.com/sathiyas-cotton-bath-t...</td>\n",
       "      <td>Sathiyas Cotton Bath Towel</td>\n",
       "      <td>[\"Baby Care &gt;&gt; Baby Bath &amp; Skin &gt;&gt; Baby Bath T...</td>\n",
       "      <td>BTWEGFZHGBXPHZUH</td>\n",
       "      <td>600.0</td>\n",
       "      <td>449.0</td>\n",
       "      <td>7b72c92c2f6c40268628ec5f14c6d590.jpg</td>\n",
       "      <td>False</td>\n",
       "      <td>Specifications of Sathiyas Cotton Bath Towel (...</td>\n",
       "      <td>No rating available</td>\n",
       "      <td>No rating available</td>\n",
       "      <td>Sathiyas</td>\n",
       "      <td>{\"product_specification\"=&gt;[{\"key\"=&gt;\"Machine Wa...</td>\n",
       "    </tr>\n",
       "    <tr>\n",
       "      <th>2</th>\n",
       "      <td>64d5d4a258243731dc7bbb1eef49ad74</td>\n",
       "      <td>2016-04-30 03:22:56 +0000</td>\n",
       "      <td>http://www.flipkart.com/eurospa-cotton-terry-f...</td>\n",
       "      <td>Eurospa Cotton Terry Face Towel Set</td>\n",
       "      <td>[\"Baby Care &gt;&gt; Baby Bath &amp; Skin &gt;&gt; Baby Bath T...</td>\n",
       "      <td>BTWEG6SHXTDB2A2Y</td>\n",
       "      <td>NaN</td>\n",
       "      <td>NaN</td>\n",
       "      <td>64d5d4a258243731dc7bbb1eef49ad74.jpg</td>\n",
       "      <td>False</td>\n",
       "      <td>Key Features of Eurospa Cotton Terry Face Towe...</td>\n",
       "      <td>No rating available</td>\n",
       "      <td>No rating available</td>\n",
       "      <td>Eurospa</td>\n",
       "      <td>{\"product_specification\"=&gt;[{\"key\"=&gt;\"Material\",...</td>\n",
       "    </tr>\n",
       "  </tbody>\n",
       "</table>\n",
       "</div>"
      ],
      "text/plain": [
       "                            uniq_id            crawl_timestamp  \\\n",
       "0  55b85ea15a1536d46b7190ad6fff8ce7  2016-04-30 03:22:56 +0000   \n",
       "1  7b72c92c2f6c40268628ec5f14c6d590  2016-04-30 03:22:56 +0000   \n",
       "2  64d5d4a258243731dc7bbb1eef49ad74  2016-04-30 03:22:56 +0000   \n",
       "\n",
       "                                         product_url  \\\n",
       "0  http://www.flipkart.com/elegance-polyester-mul...   \n",
       "1  http://www.flipkart.com/sathiyas-cotton-bath-t...   \n",
       "2  http://www.flipkart.com/eurospa-cotton-terry-f...   \n",
       "\n",
       "                                        product_name  \\\n",
       "0  Elegance Polyester Multicolor Abstract Eyelet ...   \n",
       "1                         Sathiyas Cotton Bath Towel   \n",
       "2                Eurospa Cotton Terry Face Towel Set   \n",
       "\n",
       "                               product_category_tree               pid  \\\n",
       "0  [\"Home Furnishing >> Curtains & Accessories >>...  CRNEG7BKMFFYHQ8Z   \n",
       "1  [\"Baby Care >> Baby Bath & Skin >> Baby Bath T...  BTWEGFZHGBXPHZUH   \n",
       "2  [\"Baby Care >> Baby Bath & Skin >> Baby Bath T...  BTWEG6SHXTDB2A2Y   \n",
       "\n",
       "   retail_price  discounted_price                                 image  \\\n",
       "0        1899.0             899.0  55b85ea15a1536d46b7190ad6fff8ce7.jpg   \n",
       "1         600.0             449.0  7b72c92c2f6c40268628ec5f14c6d590.jpg   \n",
       "2           NaN               NaN  64d5d4a258243731dc7bbb1eef49ad74.jpg   \n",
       "\n",
       "   is_FK_Advantage_product                                        description  \\\n",
       "0                    False  Key Features of Elegance Polyester Multicolor ...   \n",
       "1                    False  Specifications of Sathiyas Cotton Bath Towel (...   \n",
       "2                    False  Key Features of Eurospa Cotton Terry Face Towe...   \n",
       "\n",
       "        product_rating       overall_rating     brand  \\\n",
       "0  No rating available  No rating available  Elegance   \n",
       "1  No rating available  No rating available  Sathiyas   \n",
       "2  No rating available  No rating available   Eurospa   \n",
       "\n",
       "                              product_specifications  \n",
       "0  {\"product_specification\"=>[{\"key\"=>\"Brand\", \"v...  \n",
       "1  {\"product_specification\"=>[{\"key\"=>\"Machine Wa...  \n",
       "2  {\"product_specification\"=>[{\"key\"=>\"Material\",...  "
      ]
     },
     "execution_count": 6,
     "metadata": {},
     "output_type": "execute_result"
    }
   ],
   "source": [
    "fichier = data_brut[\"flipkart_com-ecommerce_sample_1050.csv\"]\n",
    "fichier.head(3)"
   ]
  },
  {
   "cell_type": "code",
   "execution_count": 7,
   "metadata": {},
   "outputs": [
    {
     "data": {
      "text/html": [
       "<div>\n",
       "<style scoped>\n",
       "    .dataframe tbody tr th:only-of-type {\n",
       "        vertical-align: middle;\n",
       "    }\n",
       "\n",
       "    .dataframe tbody tr th {\n",
       "        vertical-align: top;\n",
       "    }\n",
       "\n",
       "    .dataframe thead th {\n",
       "        text-align: right;\n",
       "    }\n",
       "</style>\n",
       "<table border=\"1\" class=\"dataframe\">\n",
       "  <thead>\n",
       "    <tr style=\"text-align: right;\">\n",
       "      <th></th>\n",
       "      <th>uniq_id</th>\n",
       "      <th>crawl_timestamp</th>\n",
       "      <th>product_url</th>\n",
       "      <th>product_name</th>\n",
       "      <th>product_category_tree</th>\n",
       "      <th>pid</th>\n",
       "      <th>retail_price</th>\n",
       "      <th>discounted_price</th>\n",
       "      <th>image</th>\n",
       "      <th>is_FK_Advantage_product</th>\n",
       "      <th>description</th>\n",
       "      <th>product_rating</th>\n",
       "      <th>overall_rating</th>\n",
       "      <th>brand</th>\n",
       "      <th>product_specifications</th>\n",
       "    </tr>\n",
       "  </thead>\n",
       "  <tbody>\n",
       "    <tr>\n",
       "      <th>1047</th>\n",
       "      <td>5912e037d12774bb73a2048f35a00009</td>\n",
       "      <td>2015-12-01 10:15:43 +0000</td>\n",
       "      <td>http://www.flipkart.com/uberlyfe-extra-large-p...</td>\n",
       "      <td>Uberlyfe Extra Large Pigmented Polyvinyl Films...</td>\n",
       "      <td>[\"Baby Care &gt;&gt; Baby &amp; Kids Gifts &gt;&gt; Stickers &gt;...</td>\n",
       "      <td>STIE5UVGW2JWVWCT</td>\n",
       "      <td>4500.0</td>\n",
       "      <td>1449.0</td>\n",
       "      <td>5912e037d12774bb73a2048f35a00009.jpg</td>\n",
       "      <td>False</td>\n",
       "      <td>Buy Uberlyfe Extra Large Pigmented Polyvinyl F...</td>\n",
       "      <td>No rating available</td>\n",
       "      <td>No rating available</td>\n",
       "      <td>Uberlyfe</td>\n",
       "      <td>{\"product_specification\"=&gt;[{\"key\"=&gt;\"Number of ...</td>\n",
       "    </tr>\n",
       "    <tr>\n",
       "      <th>1048</th>\n",
       "      <td>c3edc504d1b4f0ba6224fa53a43a7ad6</td>\n",
       "      <td>2015-12-01 10:15:43 +0000</td>\n",
       "      <td>http://www.flipkart.com/wallmantra-medium-viny...</td>\n",
       "      <td>Wallmantra Medium Vinyl Sticker Sticker</td>\n",
       "      <td>[\"Baby Care &gt;&gt; Baby &amp; Kids Gifts &gt;&gt; Stickers &gt;...</td>\n",
       "      <td>STIEC889ZGFD3RCE</td>\n",
       "      <td>3465.0</td>\n",
       "      <td>1333.0</td>\n",
       "      <td>c3edc504d1b4f0ba6224fa53a43a7ad6.jpg</td>\n",
       "      <td>False</td>\n",
       "      <td>Buy Wallmantra Medium Vinyl Sticker Sticker fo...</td>\n",
       "      <td>No rating available</td>\n",
       "      <td>No rating available</td>\n",
       "      <td>Wallmantra</td>\n",
       "      <td>{\"product_specification\"=&gt;[{\"key\"=&gt;\"Number of ...</td>\n",
       "    </tr>\n",
       "    <tr>\n",
       "      <th>1049</th>\n",
       "      <td>f2f027ad6a6df617c9f125173da71e44</td>\n",
       "      <td>2015-12-01 10:15:43 +0000</td>\n",
       "      <td>http://www.flipkart.com/uberlyfe-large-vinyl-s...</td>\n",
       "      <td>Uberlyfe Large Vinyl Sticker</td>\n",
       "      <td>[\"Baby Care &gt;&gt; Baby &amp; Kids Gifts &gt;&gt; Stickers &gt;...</td>\n",
       "      <td>STIE2ZEPACRQJKH7</td>\n",
       "      <td>1190.0</td>\n",
       "      <td>595.0</td>\n",
       "      <td>f2f027ad6a6df617c9f125173da71e44.jpg</td>\n",
       "      <td>False</td>\n",
       "      <td>Buy Uberlyfe Large Vinyl Sticker for Rs.595 on...</td>\n",
       "      <td>4</td>\n",
       "      <td>4</td>\n",
       "      <td>Uberlyfe</td>\n",
       "      <td>{\"product_specification\"=&gt;[{\"key\"=&gt;\"Sales Pack...</td>\n",
       "    </tr>\n",
       "  </tbody>\n",
       "</table>\n",
       "</div>"
      ],
      "text/plain": [
       "                               uniq_id            crawl_timestamp  \\\n",
       "1047  5912e037d12774bb73a2048f35a00009  2015-12-01 10:15:43 +0000   \n",
       "1048  c3edc504d1b4f0ba6224fa53a43a7ad6  2015-12-01 10:15:43 +0000   \n",
       "1049  f2f027ad6a6df617c9f125173da71e44  2015-12-01 10:15:43 +0000   \n",
       "\n",
       "                                            product_url  \\\n",
       "1047  http://www.flipkart.com/uberlyfe-extra-large-p...   \n",
       "1048  http://www.flipkart.com/wallmantra-medium-viny...   \n",
       "1049  http://www.flipkart.com/uberlyfe-large-vinyl-s...   \n",
       "\n",
       "                                           product_name  \\\n",
       "1047  Uberlyfe Extra Large Pigmented Polyvinyl Films...   \n",
       "1048            Wallmantra Medium Vinyl Sticker Sticker   \n",
       "1049                       Uberlyfe Large Vinyl Sticker   \n",
       "\n",
       "                                  product_category_tree               pid  \\\n",
       "1047  [\"Baby Care >> Baby & Kids Gifts >> Stickers >...  STIE5UVGW2JWVWCT   \n",
       "1048  [\"Baby Care >> Baby & Kids Gifts >> Stickers >...  STIEC889ZGFD3RCE   \n",
       "1049  [\"Baby Care >> Baby & Kids Gifts >> Stickers >...  STIE2ZEPACRQJKH7   \n",
       "\n",
       "      retail_price  discounted_price                                 image  \\\n",
       "1047        4500.0            1449.0  5912e037d12774bb73a2048f35a00009.jpg   \n",
       "1048        3465.0            1333.0  c3edc504d1b4f0ba6224fa53a43a7ad6.jpg   \n",
       "1049        1190.0             595.0  f2f027ad6a6df617c9f125173da71e44.jpg   \n",
       "\n",
       "      is_FK_Advantage_product  \\\n",
       "1047                    False   \n",
       "1048                    False   \n",
       "1049                    False   \n",
       "\n",
       "                                            description       product_rating  \\\n",
       "1047  Buy Uberlyfe Extra Large Pigmented Polyvinyl F...  No rating available   \n",
       "1048  Buy Wallmantra Medium Vinyl Sticker Sticker fo...  No rating available   \n",
       "1049  Buy Uberlyfe Large Vinyl Sticker for Rs.595 on...                    4   \n",
       "\n",
       "           overall_rating       brand  \\\n",
       "1047  No rating available    Uberlyfe   \n",
       "1048  No rating available  Wallmantra   \n",
       "1049                    4    Uberlyfe   \n",
       "\n",
       "                                 product_specifications  \n",
       "1047  {\"product_specification\"=>[{\"key\"=>\"Number of ...  \n",
       "1048  {\"product_specification\"=>[{\"key\"=>\"Number of ...  \n",
       "1049  {\"product_specification\"=>[{\"key\"=>\"Sales Pack...  "
      ]
     },
     "execution_count": 7,
     "metadata": {},
     "output_type": "execute_result"
    }
   ],
   "source": [
    "fichier.tail(3)"
   ]
  },
  {
   "cell_type": "code",
   "execution_count": 8,
   "metadata": {},
   "outputs": [
    {
     "data": {
      "text/html": [
       "<div>\n",
       "<style scoped>\n",
       "    .dataframe tbody tr th:only-of-type {\n",
       "        vertical-align: middle;\n",
       "    }\n",
       "\n",
       "    .dataframe tbody tr th {\n",
       "        vertical-align: top;\n",
       "    }\n",
       "\n",
       "    .dataframe thead th {\n",
       "        text-align: right;\n",
       "    }\n",
       "</style>\n",
       "<table border=\"1\" class=\"dataframe\">\n",
       "  <thead>\n",
       "    <tr style=\"text-align: right;\">\n",
       "      <th></th>\n",
       "      <th>uniq_id</th>\n",
       "      <th>crawl_timestamp</th>\n",
       "      <th>product_url</th>\n",
       "      <th>product_name</th>\n",
       "      <th>product_category_tree</th>\n",
       "      <th>pid</th>\n",
       "      <th>retail_price</th>\n",
       "      <th>discounted_price</th>\n",
       "      <th>image</th>\n",
       "      <th>is_FK_Advantage_product</th>\n",
       "      <th>description</th>\n",
       "      <th>product_rating</th>\n",
       "      <th>overall_rating</th>\n",
       "      <th>brand</th>\n",
       "      <th>product_specifications</th>\n",
       "    </tr>\n",
       "  </thead>\n",
       "  <tbody>\n",
       "    <tr>\n",
       "      <th>1029</th>\n",
       "      <td>90906358dac904c4f05c12c798ac5221</td>\n",
       "      <td>2016-03-03 06:06:42 +0000</td>\n",
       "      <td>http://www.flipkart.com/aroma-comfort-polyeste...</td>\n",
       "      <td>Aroma Comfort Polyester Brown Printed Eyelet W...</td>\n",
       "      <td>[\"Home Furnishing &gt;&gt; Curtains &amp; Accessories &gt;&gt;...</td>\n",
       "      <td>CRNEG8D73GZNM2ZX</td>\n",
       "      <td>699.0</td>\n",
       "      <td>599.0</td>\n",
       "      <td>90906358dac904c4f05c12c798ac5221.jpg</td>\n",
       "      <td>False</td>\n",
       "      <td>Key Features of Aroma Comfort Polyester Brown ...</td>\n",
       "      <td>No rating available</td>\n",
       "      <td>No rating available</td>\n",
       "      <td>Aroma Comfort</td>\n",
       "      <td>{\"product_specification\"=&gt;[{\"key\"=&gt;\"Brand\", \"v...</td>\n",
       "    </tr>\n",
       "    <tr>\n",
       "      <th>399</th>\n",
       "      <td>8720a25546a572b0217817a82bfd00a5</td>\n",
       "      <td>2015-12-01 06:13:00 +0000</td>\n",
       "      <td>http://www.flipkart.com/d-link-dsl-2520u/p/itm...</td>\n",
       "      <td>D-Link DSL-2520U</td>\n",
       "      <td>[\"Computers &gt;&gt; Network Components &gt;&gt; Routers &gt;...</td>\n",
       "      <td>RTRE2XBZFFEZRCFZ</td>\n",
       "      <td>1449.0</td>\n",
       "      <td>800.0</td>\n",
       "      <td>8720a25546a572b0217817a82bfd00a5.jpg</td>\n",
       "      <td>False</td>\n",
       "      <td>Buy D-Link DSL-2520U only for Rs. 1449 from Fl...</td>\n",
       "      <td>4.1</td>\n",
       "      <td>4.1</td>\n",
       "      <td>D-Link</td>\n",
       "      <td>{\"product_specification\"=&gt;[{\"key\"=&gt;\"Wireless S...</td>\n",
       "    </tr>\n",
       "    <tr>\n",
       "      <th>849</th>\n",
       "      <td>c612bdfa459e1e2f20d57348336c24be</td>\n",
       "      <td>2015-12-29 05:07:38 +0000</td>\n",
       "      <td>http://www.flipkart.com/qp360-kid-fan-01-mly20...</td>\n",
       "      <td>QP360 Kid Fan 01 MLY2015 USB USB Fan</td>\n",
       "      <td>[\"Computers &gt;&gt; Laptop Accessories &gt;&gt; USB Gadge...</td>\n",
       "      <td>USGEE4CAYEJWVAF5</td>\n",
       "      <td>799.0</td>\n",
       "      <td>489.0</td>\n",
       "      <td>c612bdfa459e1e2f20d57348336c24be.jpg</td>\n",
       "      <td>False</td>\n",
       "      <td>Buy QP360 Kid Fan 01 MLY2015 USB USB Fan for R...</td>\n",
       "      <td>No rating available</td>\n",
       "      <td>No rating available</td>\n",
       "      <td>QP360</td>\n",
       "      <td>{\"product_specification\"=&gt;[{\"key\"=&gt;\"Brand\", \"v...</td>\n",
       "    </tr>\n",
       "  </tbody>\n",
       "</table>\n",
       "</div>"
      ],
      "text/plain": [
       "                               uniq_id            crawl_timestamp  \\\n",
       "1029  90906358dac904c4f05c12c798ac5221  2016-03-03 06:06:42 +0000   \n",
       "399   8720a25546a572b0217817a82bfd00a5  2015-12-01 06:13:00 +0000   \n",
       "849   c612bdfa459e1e2f20d57348336c24be  2015-12-29 05:07:38 +0000   \n",
       "\n",
       "                                            product_url  \\\n",
       "1029  http://www.flipkart.com/aroma-comfort-polyeste...   \n",
       "399   http://www.flipkart.com/d-link-dsl-2520u/p/itm...   \n",
       "849   http://www.flipkart.com/qp360-kid-fan-01-mly20...   \n",
       "\n",
       "                                           product_name  \\\n",
       "1029  Aroma Comfort Polyester Brown Printed Eyelet W...   \n",
       "399                                    D-Link DSL-2520U   \n",
       "849                QP360 Kid Fan 01 MLY2015 USB USB Fan   \n",
       "\n",
       "                                  product_category_tree               pid  \\\n",
       "1029  [\"Home Furnishing >> Curtains & Accessories >>...  CRNEG8D73GZNM2ZX   \n",
       "399   [\"Computers >> Network Components >> Routers >...  RTRE2XBZFFEZRCFZ   \n",
       "849   [\"Computers >> Laptop Accessories >> USB Gadge...  USGEE4CAYEJWVAF5   \n",
       "\n",
       "      retail_price  discounted_price                                 image  \\\n",
       "1029         699.0             599.0  90906358dac904c4f05c12c798ac5221.jpg   \n",
       "399         1449.0             800.0  8720a25546a572b0217817a82bfd00a5.jpg   \n",
       "849          799.0             489.0  c612bdfa459e1e2f20d57348336c24be.jpg   \n",
       "\n",
       "      is_FK_Advantage_product  \\\n",
       "1029                    False   \n",
       "399                     False   \n",
       "849                     False   \n",
       "\n",
       "                                            description       product_rating  \\\n",
       "1029  Key Features of Aroma Comfort Polyester Brown ...  No rating available   \n",
       "399   Buy D-Link DSL-2520U only for Rs. 1449 from Fl...                  4.1   \n",
       "849   Buy QP360 Kid Fan 01 MLY2015 USB USB Fan for R...  No rating available   \n",
       "\n",
       "           overall_rating          brand  \\\n",
       "1029  No rating available  Aroma Comfort   \n",
       "399                   4.1         D-Link   \n",
       "849   No rating available          QP360   \n",
       "\n",
       "                                 product_specifications  \n",
       "1029  {\"product_specification\"=>[{\"key\"=>\"Brand\", \"v...  \n",
       "399   {\"product_specification\"=>[{\"key\"=>\"Wireless S...  \n",
       "849   {\"product_specification\"=>[{\"key\"=>\"Brand\", \"v...  "
      ]
     },
     "execution_count": 8,
     "metadata": {},
     "output_type": "execute_result"
    }
   ],
   "source": [
    "fichier.sample(3)"
   ]
  },
  {
   "cell_type": "markdown",
   "metadata": {},
   "source": [
    "Informations sur les features :\n",
    "- **uniq_id** : identifiant unique du produit\n",
    "- **crawl_timestamp** :  date de récupération des données\n",
    "- **product_url** : url du produit \n",
    "- **product_name** : nom du produit\n",
    "- **product_category_tree** : Arborescence pour\n",
    "    atteindre la catégorie du produit\n",
    "- **pid** : identifiant de processus ou identifiant perenne\n",
    "- **retail_price** : prix de vente (monnaie inconnue)\n",
    "- **discounted_price** : prix de vente avec remise\n",
    "    (monnaie inconnue)\n",
    "- **image** : nom du fichier JPEG de l'image du produit\n",
    "- **is_FK_Advantage_product** : produit avantageux Flipkart (Oui/Non)\n",
    "- **description** : description du produit\n",
    "- **product_rating** : note du produit\n",
    "- **overall_rating** : note globale\n",
    "- **brand** : marque du produit\n",
    "- **product_specifications** : spécifications du produit"
   ]
  },
  {
   "cell_type": "markdown",
   "metadata": {},
   "source": [
    "## <span style='background:green'>2/ Structure</span>\n",
    "\n",
    "Nous affichons la structure du tableau. Nous comptons également le nombre de\n",
    "features par type et le nombre de valeurs uniques par feature. "
   ]
  },
  {
   "cell_type": "code",
   "execution_count": 9,
   "metadata": {},
   "outputs": [
    {
     "name": "stdout",
     "output_type": "stream",
     "text": [
      "<class 'pandas.core.frame.DataFrame'>\n",
      "RangeIndex: 1050 entries, 0 to 1049\n",
      "Data columns (total 15 columns):\n",
      " #   Column                   Non-Null Count  Dtype  \n",
      "---  ------                   --------------  -----  \n",
      " 0   uniq_id                  1050 non-null   object \n",
      " 1   crawl_timestamp          1050 non-null   object \n",
      " 2   product_url              1050 non-null   object \n",
      " 3   product_name             1050 non-null   object \n",
      " 4   product_category_tree    1050 non-null   object \n",
      " 5   pid                      1050 non-null   object \n",
      " 6   retail_price             1049 non-null   float64\n",
      " 7   discounted_price         1049 non-null   float64\n",
      " 8   image                    1050 non-null   object \n",
      " 9   is_FK_Advantage_product  1050 non-null   bool   \n",
      " 10  description              1050 non-null   object \n",
      " 11  product_rating           1050 non-null   object \n",
      " 12  overall_rating           1050 non-null   object \n",
      " 13  brand                    712 non-null    object \n",
      " 14  product_specifications   1049 non-null   object \n",
      "dtypes: bool(1), float64(2), object(12)\n",
      "memory usage: 116.0+ KB\n"
     ]
    }
   ],
   "source": [
    "fichier.info()"
   ]
  },
  {
   "cell_type": "code",
   "execution_count": 10,
   "metadata": {},
   "outputs": [
    {
     "data": {
      "text/plain": [
       "object     12\n",
       "float64     2\n",
       "bool        1\n",
       "Name: count, dtype: int64"
      ]
     },
     "execution_count": 10,
     "metadata": {},
     "output_type": "execute_result"
    }
   ],
   "source": [
    "fichier.dtypes.value_counts()"
   ]
  },
  {
   "cell_type": "code",
   "execution_count": 11,
   "metadata": {},
   "outputs": [
    {
     "data": {
      "text/plain": [
       "uniq_id                    1050\n",
       "crawl_timestamp             149\n",
       "product_url                1050\n",
       "product_name               1050\n",
       "product_category_tree       642\n",
       "pid                        1050\n",
       "retail_price                354\n",
       "discounted_price            424\n",
       "image                      1050\n",
       "is_FK_Advantage_product       2\n",
       "description                1050\n",
       "product_rating               27\n",
       "overall_rating               27\n",
       "brand                       490\n",
       "product_specifications      984\n",
       "dtype: int64"
      ]
     },
     "execution_count": 11,
     "metadata": {},
     "output_type": "execute_result"
    }
   ],
   "source": [
    "tmp = fichier.nunique()\n",
    "tmp"
   ]
  },
  {
   "cell_type": "markdown",
   "metadata": {},
   "source": [
    "Le fichier contient 1_050 lignes et 15 colonnes. Il y a une majorité de données de type object (12/15). Pour autant, il y a 3 features qui ne sont pas dans le format attendu :\n",
    "- **crawl_timestamp** : format object au lieu de datetime\n",
    "- **product_rating** : format object au lieu de int/float\n",
    "- **overall_rating** : format object au lieu de int/float"
   ]
  },
  {
   "cell_type": "markdown",
   "metadata": {},
   "source": [
    "## <span style='background:green'>3/ Valeurs manquantes</span>"
   ]
  },
  {
   "cell_type": "code",
   "execution_count": 12,
   "metadata": {},
   "outputs": [
    {
     "data": {
      "text/plain": [
       "brand                      338\n",
       "retail_price                 1\n",
       "discounted_price             1\n",
       "product_specifications       1\n",
       "uniq_id                      0\n",
       "crawl_timestamp              0\n",
       "product_url                  0\n",
       "product_name                 0\n",
       "product_category_tree        0\n",
       "pid                          0\n",
       "image                        0\n",
       "is_FK_Advantage_product      0\n",
       "description                  0\n",
       "product_rating               0\n",
       "overall_rating               0\n",
       "dtype: int64"
      ]
     },
     "execution_count": 12,
     "metadata": {},
     "output_type": "execute_result"
    }
   ],
   "source": [
    "fichier.isna().sum().sort_values(ascending=False)"
   ]
  },
  {
   "cell_type": "code",
   "execution_count": 13,
   "metadata": {},
   "outputs": [
    {
     "data": {
      "text/plain": [
       "brand                     3.22e-01\n",
       "retail_price              9.52e-04\n",
       "discounted_price          9.52e-04\n",
       "product_specifications    9.52e-04\n",
       "dtype: float64"
      ]
     },
     "metadata": {},
     "output_type": "display_data"
    }
   ],
   "source": [
    "missing_values = fichier.isna().mean()\n",
    "columns_with_na = missing_values[missing_values > 0].sort_values(\n",
    "    ascending=False)\n",
    "display(columns_with_na)"
   ]
  },
  {
   "cell_type": "markdown",
   "metadata": {},
   "source": [
    "Il y a 1 valeur manquante dans les features \"retail_price\", \n",
    "\"discounted_price\", \"product_specifications\".\n",
    "\n",
    "Il y a 338 valeurs (1/3) manquantes dans les features \"brand\"."
   ]
  },
  {
   "cell_type": "markdown",
   "metadata": {},
   "source": [
    "## <span style='background:green'>4/ Doublons</span>\n",
    "\n",
    "Nous vérifions tout d'abord qu'il n'y a pas 2 lignes doublons. Puis nous observons les valeurs doublons par feature. "
   ]
  },
  {
   "cell_type": "code",
   "execution_count": 14,
   "metadata": {},
   "outputs": [
    {
     "data": {
      "text/plain": [
       "0"
      ]
     },
     "execution_count": 14,
     "metadata": {},
     "output_type": "execute_result"
    }
   ],
   "source": [
    "fichier.duplicated().sum()"
   ]
  },
  {
   "cell_type": "code",
   "execution_count": 15,
   "metadata": {},
   "outputs": [
    {
     "data": {
      "text/plain": [
       "'col : uniq_id -> duplicated : 0'"
      ]
     },
     "metadata": {},
     "output_type": "display_data"
    },
    {
     "data": {
      "text/plain": [
       "'col : crawl_timestamp -> duplicated : 901'"
      ]
     },
     "metadata": {},
     "output_type": "display_data"
    },
    {
     "data": {
      "text/plain": [
       "'col : product_url -> duplicated : 0'"
      ]
     },
     "metadata": {},
     "output_type": "display_data"
    },
    {
     "data": {
      "text/plain": [
       "'col : product_name -> duplicated : 0'"
      ]
     },
     "metadata": {},
     "output_type": "display_data"
    },
    {
     "data": {
      "text/plain": [
       "'col : product_category_tree -> duplicated : 408'"
      ]
     },
     "metadata": {},
     "output_type": "display_data"
    },
    {
     "data": {
      "text/plain": [
       "'col : pid -> duplicated : 0'"
      ]
     },
     "metadata": {},
     "output_type": "display_data"
    },
    {
     "data": {
      "text/plain": [
       "'col : retail_price -> duplicated : 695'"
      ]
     },
     "metadata": {},
     "output_type": "display_data"
    },
    {
     "data": {
      "text/plain": [
       "'col : discounted_price -> duplicated : 625'"
      ]
     },
     "metadata": {},
     "output_type": "display_data"
    },
    {
     "data": {
      "text/plain": [
       "'col : image -> duplicated : 0'"
      ]
     },
     "metadata": {},
     "output_type": "display_data"
    },
    {
     "data": {
      "text/plain": [
       "'col : is_FK_Advantage_product -> duplicated : 1048'"
      ]
     },
     "metadata": {},
     "output_type": "display_data"
    },
    {
     "data": {
      "text/plain": [
       "'col : description -> duplicated : 0'"
      ]
     },
     "metadata": {},
     "output_type": "display_data"
    },
    {
     "data": {
      "text/plain": [
       "'col : product_rating -> duplicated : 1023'"
      ]
     },
     "metadata": {},
     "output_type": "display_data"
    },
    {
     "data": {
      "text/plain": [
       "'col : overall_rating -> duplicated : 1023'"
      ]
     },
     "metadata": {},
     "output_type": "display_data"
    },
    {
     "data": {
      "text/plain": [
       "'col : brand -> duplicated : 559'"
      ]
     },
     "metadata": {},
     "output_type": "display_data"
    },
    {
     "data": {
      "text/plain": [
       "'col : product_specifications -> duplicated : 65'"
      ]
     },
     "metadata": {},
     "output_type": "display_data"
    }
   ],
   "source": [
    "for col in fichier.columns:\n",
    "    n = fichier.duplicated(subset=[col]).sum()\n",
    "    display(f\"col : {col} -> duplicated : {n}\")"
   ]
  },
  {
   "cell_type": "markdown",
   "metadata": {},
   "source": [
    "Il n'y a pas de ligne doublons. En revanche, il y a des valeurs doublons dans plusieurs features. "
   ]
  },
  {
   "cell_type": "markdown",
   "metadata": {},
   "source": [
    "## <span style='background:green'>5/ Inspection des données</span>\n",
    "\n",
    "Resume des features **quantitatives** :"
   ]
  },
  {
   "cell_type": "code",
   "execution_count": 16,
   "metadata": {},
   "outputs": [
    {
     "data": {
      "text/html": [
       "<div>\n",
       "<style scoped>\n",
       "    .dataframe tbody tr th:only-of-type {\n",
       "        vertical-align: middle;\n",
       "    }\n",
       "\n",
       "    .dataframe tbody tr th {\n",
       "        vertical-align: top;\n",
       "    }\n",
       "\n",
       "    .dataframe thead th {\n",
       "        text-align: right;\n",
       "    }\n",
       "</style>\n",
       "<table border=\"1\" class=\"dataframe\">\n",
       "  <thead>\n",
       "    <tr style=\"text-align: right;\">\n",
       "      <th></th>\n",
       "      <th>retail_price</th>\n",
       "      <th>discounted_price</th>\n",
       "    </tr>\n",
       "  </thead>\n",
       "  <tbody>\n",
       "    <tr>\n",
       "      <th>count</th>\n",
       "      <td>1049.00</td>\n",
       "      <td>1049.00</td>\n",
       "    </tr>\n",
       "    <tr>\n",
       "      <th>mean</th>\n",
       "      <td>2186.20</td>\n",
       "      <td>1584.53</td>\n",
       "    </tr>\n",
       "    <tr>\n",
       "      <th>std</th>\n",
       "      <td>7639.23</td>\n",
       "      <td>7475.10</td>\n",
       "    </tr>\n",
       "    <tr>\n",
       "      <th>min</th>\n",
       "      <td>35.00</td>\n",
       "      <td>35.00</td>\n",
       "    </tr>\n",
       "    <tr>\n",
       "      <th>25%</th>\n",
       "      <td>555.00</td>\n",
       "      <td>340.00</td>\n",
       "    </tr>\n",
       "    <tr>\n",
       "      <th>50%</th>\n",
       "      <td>999.00</td>\n",
       "      <td>600.00</td>\n",
       "    </tr>\n",
       "    <tr>\n",
       "      <th>75%</th>\n",
       "      <td>1999.00</td>\n",
       "      <td>1199.00</td>\n",
       "    </tr>\n",
       "    <tr>\n",
       "      <th>max</th>\n",
       "      <td>201000.00</td>\n",
       "      <td>201000.00</td>\n",
       "    </tr>\n",
       "  </tbody>\n",
       "</table>\n",
       "</div>"
      ],
      "text/plain": [
       "       retail_price  discounted_price\n",
       "count       1049.00           1049.00\n",
       "mean        2186.20           1584.53\n",
       "std         7639.23           7475.10\n",
       "min           35.00             35.00\n",
       "25%          555.00            340.00\n",
       "50%          999.00            600.00\n",
       "75%         1999.00           1199.00\n",
       "max       201000.00         201000.00"
      ]
     },
     "execution_count": 16,
     "metadata": {},
     "output_type": "execute_result"
    }
   ],
   "source": [
    "fichier.describe().round(2)"
   ]
  },
  {
   "cell_type": "markdown",
   "metadata": {},
   "source": [
    "Resume des features **qualitatives** : "
   ]
  },
  {
   "cell_type": "code",
   "execution_count": 17,
   "metadata": {},
   "outputs": [
    {
     "data": {
      "text/html": [
       "<div>\n",
       "<style scoped>\n",
       "    .dataframe tbody tr th:only-of-type {\n",
       "        vertical-align: middle;\n",
       "    }\n",
       "\n",
       "    .dataframe tbody tr th {\n",
       "        vertical-align: top;\n",
       "    }\n",
       "\n",
       "    .dataframe thead th {\n",
       "        text-align: right;\n",
       "    }\n",
       "</style>\n",
       "<table border=\"1\" class=\"dataframe\">\n",
       "  <thead>\n",
       "    <tr style=\"text-align: right;\">\n",
       "      <th></th>\n",
       "      <th>uniq_id</th>\n",
       "      <th>crawl_timestamp</th>\n",
       "      <th>product_url</th>\n",
       "      <th>product_name</th>\n",
       "      <th>product_category_tree</th>\n",
       "      <th>pid</th>\n",
       "      <th>image</th>\n",
       "      <th>is_FK_Advantage_product</th>\n",
       "      <th>description</th>\n",
       "      <th>product_rating</th>\n",
       "      <th>overall_rating</th>\n",
       "      <th>brand</th>\n",
       "      <th>product_specifications</th>\n",
       "    </tr>\n",
       "  </thead>\n",
       "  <tbody>\n",
       "    <tr>\n",
       "      <th>count</th>\n",
       "      <td>1050</td>\n",
       "      <td>1050</td>\n",
       "      <td>1050</td>\n",
       "      <td>1050</td>\n",
       "      <td>1050</td>\n",
       "      <td>1050</td>\n",
       "      <td>1050</td>\n",
       "      <td>1050</td>\n",
       "      <td>1050</td>\n",
       "      <td>1050</td>\n",
       "      <td>1050</td>\n",
       "      <td>712</td>\n",
       "      <td>1049</td>\n",
       "    </tr>\n",
       "    <tr>\n",
       "      <th>unique</th>\n",
       "      <td>1050</td>\n",
       "      <td>149</td>\n",
       "      <td>1050</td>\n",
       "      <td>1050</td>\n",
       "      <td>642</td>\n",
       "      <td>1050</td>\n",
       "      <td>1050</td>\n",
       "      <td>2</td>\n",
       "      <td>1050</td>\n",
       "      <td>27</td>\n",
       "      <td>27</td>\n",
       "      <td>490</td>\n",
       "      <td>984</td>\n",
       "    </tr>\n",
       "    <tr>\n",
       "      <th>top</th>\n",
       "      <td>55b85ea15a1536d46b7190ad6fff8ce7</td>\n",
       "      <td>2015-12-01 12:40:44 +0000</td>\n",
       "      <td>http://www.flipkart.com/elegance-polyester-mul...</td>\n",
       "      <td>Elegance Polyester Multicolor Abstract Eyelet ...</td>\n",
       "      <td>[\"Home Furnishing &gt;&gt; Bed Linen &gt;&gt; Blankets, Qu...</td>\n",
       "      <td>CRNEG7BKMFFYHQ8Z</td>\n",
       "      <td>55b85ea15a1536d46b7190ad6fff8ce7.jpg</td>\n",
       "      <td>False</td>\n",
       "      <td>Key Features of Elegance Polyester Multicolor ...</td>\n",
       "      <td>No rating available</td>\n",
       "      <td>No rating available</td>\n",
       "      <td>PRINT SHAPES</td>\n",
       "      <td>{\"product_specification\"=&gt;[{\"key\"=&gt;\"Type\", \"va...</td>\n",
       "    </tr>\n",
       "    <tr>\n",
       "      <th>freq</th>\n",
       "      <td>1</td>\n",
       "      <td>150</td>\n",
       "      <td>1</td>\n",
       "      <td>1</td>\n",
       "      <td>56</td>\n",
       "      <td>1</td>\n",
       "      <td>1</td>\n",
       "      <td>993</td>\n",
       "      <td>1</td>\n",
       "      <td>889</td>\n",
       "      <td>889</td>\n",
       "      <td>11</td>\n",
       "      <td>22</td>\n",
       "    </tr>\n",
       "  </tbody>\n",
       "</table>\n",
       "</div>"
      ],
      "text/plain": [
       "                                 uniq_id            crawl_timestamp  \\\n",
       "count                               1050                       1050   \n",
       "unique                              1050                        149   \n",
       "top     55b85ea15a1536d46b7190ad6fff8ce7  2015-12-01 12:40:44 +0000   \n",
       "freq                                   1                        150   \n",
       "\n",
       "                                              product_url  \\\n",
       "count                                                1050   \n",
       "unique                                               1050   \n",
       "top     http://www.flipkart.com/elegance-polyester-mul...   \n",
       "freq                                                    1   \n",
       "\n",
       "                                             product_name  \\\n",
       "count                                                1050   \n",
       "unique                                               1050   \n",
       "top     Elegance Polyester Multicolor Abstract Eyelet ...   \n",
       "freq                                                    1   \n",
       "\n",
       "                                    product_category_tree               pid  \\\n",
       "count                                                1050              1050   \n",
       "unique                                                642              1050   \n",
       "top     [\"Home Furnishing >> Bed Linen >> Blankets, Qu...  CRNEG7BKMFFYHQ8Z   \n",
       "freq                                                   56                 1   \n",
       "\n",
       "                                       image is_FK_Advantage_product  \\\n",
       "count                                   1050                    1050   \n",
       "unique                                  1050                       2   \n",
       "top     55b85ea15a1536d46b7190ad6fff8ce7.jpg                   False   \n",
       "freq                                       1                     993   \n",
       "\n",
       "                                              description  \\\n",
       "count                                                1050   \n",
       "unique                                               1050   \n",
       "top     Key Features of Elegance Polyester Multicolor ...   \n",
       "freq                                                    1   \n",
       "\n",
       "             product_rating       overall_rating         brand  \\\n",
       "count                  1050                 1050           712   \n",
       "unique                   27                   27           490   \n",
       "top     No rating available  No rating available  PRINT SHAPES   \n",
       "freq                    889                  889            11   \n",
       "\n",
       "                                   product_specifications  \n",
       "count                                                1049  \n",
       "unique                                                984  \n",
       "top     {\"product_specification\"=>[{\"key\"=>\"Type\", \"va...  \n",
       "freq                                                   22  "
      ]
     },
     "execution_count": 17,
     "metadata": {},
     "output_type": "execute_result"
    }
   ],
   "source": [
    "fichier.describe(exclude=[np.number, \"datetime64[ns]\"])"
   ]
  },
  {
   "cell_type": "markdown",
   "metadata": {},
   "source": [
    "## <span style='background:green'>6/ Autorisation d'utilisation</span>\n",
    "\n",
    "Notre client nous a confirmé que les textes et les images sont libres de droit.\n",
    "Ils peuvent être utilisés et modifiés pour sans aucune contrainte de proriété\n",
    "intellectuelle."
   ]
  },
  {
   "cell_type": "markdown",
   "metadata": {},
   "source": [
    "<div class=\"alert alert-block alert-success\"><b>Bilan: </b>\n",
    "\n",
    "Le fichier **'flipkart_com-ecommerce_sample_1050'** contient 15 features \n",
    "concernant 1_050 produits vendus sur le site de e-commerce Flipkart.com.\n",
    "Les textes et images sont libres de droit.\n",
    "\n",
    "Les données timestamp ne sont pas dans un format de datetime standard.<br>\n",
    "Les données de score ne sont pas dans un format de nombre (str ou float).<br>\n",
    "Il manque le prix d'1 produit et le nom de la marque de 338 produits.<br>"
   ]
  },
  {
   "cell_type": "markdown",
   "metadata": {},
   "source": [
    "# <span style='background:blue'>Etape 2 : Extraction des features image</span>\n",
    "\n",
    "## <span style='background:green'>1/ Nettoyage</span>\n",
    "\n",
    "### <span style='background:black'>a/ Sélection des features</span>\n",
    "\n",
    "Voici la feature qui contient le nom du fichier image du produit."
   ]
  },
  {
   "cell_type": "code",
   "execution_count": 18,
   "metadata": {},
   "outputs": [
    {
     "data": {
      "text/plain": [
       "0       55b85ea15a1536d46b7190ad6fff8ce7.jpg\n",
       "1       7b72c92c2f6c40268628ec5f14c6d590.jpg\n",
       "2       64d5d4a258243731dc7bbb1eef49ad74.jpg\n",
       "3       d4684dcdc759dd9cdf41504698d737d8.jpg\n",
       "4       6325b6870c54cd47be6ebfbffa620ec7.jpg\n",
       "                        ...                 \n",
       "1045    958f54f4c46b53c8a0a9b8167d9140bc.jpg\n",
       "1046    fd6cbcc22efb6b761bd564c28928483c.jpg\n",
       "1047    5912e037d12774bb73a2048f35a00009.jpg\n",
       "1048    c3edc504d1b4f0ba6224fa53a43a7ad6.jpg\n",
       "1049    f2f027ad6a6df617c9f125173da71e44.jpg\n",
       "Name: image, Length: 1050, dtype: object"
      ]
     },
     "execution_count": 18,
     "metadata": {},
     "output_type": "execute_result"
    }
   ],
   "source": [
    "fichier[\"image\"]"
   ]
  },
  {
   "cell_type": "markdown",
   "metadata": {},
   "source": [
    "Voici la feature qui contient la catégorie du produit."
   ]
  },
  {
   "cell_type": "code",
   "execution_count": 19,
   "metadata": {},
   "outputs": [
    {
     "data": {
      "text/plain": [
       "0       [\"Home Furnishing >> Curtains & Accessories >>...\n",
       "1       [\"Baby Care >> Baby Bath & Skin >> Baby Bath T...\n",
       "2       [\"Baby Care >> Baby Bath & Skin >> Baby Bath T...\n",
       "3       [\"Home Furnishing >> Bed Linen >> Bedsheets >>...\n",
       "4       [\"Home Furnishing >> Bed Linen >> Bedsheets >>...\n",
       "                              ...                        \n",
       "1045    [\"Baby Care >> Baby & Kids Gifts >> Stickers >...\n",
       "1046    [\"Baby Care >> Baby & Kids Gifts >> Stickers >...\n",
       "1047    [\"Baby Care >> Baby & Kids Gifts >> Stickers >...\n",
       "1048    [\"Baby Care >> Baby & Kids Gifts >> Stickers >...\n",
       "1049    [\"Baby Care >> Baby & Kids Gifts >> Stickers >...\n",
       "Name: product_category_tree, Length: 1050, dtype: object"
      ]
     },
     "execution_count": 19,
     "metadata": {},
     "output_type": "execute_result"
    }
   ],
   "source": [
    "fichier[\"product_category_tree\"]"
   ]
  },
  {
   "cell_type": "markdown",
   "metadata": {},
   "source": [
    "Nous créons un nouveau dataframe avec ces 2 features précédentes."
   ]
  },
  {
   "cell_type": "code",
   "execution_count": 20,
   "metadata": {},
   "outputs": [
    {
     "data": {
      "text/html": [
       "<div>\n",
       "<style scoped>\n",
       "    .dataframe tbody tr th:only-of-type {\n",
       "        vertical-align: middle;\n",
       "    }\n",
       "\n",
       "    .dataframe tbody tr th {\n",
       "        vertical-align: top;\n",
       "    }\n",
       "\n",
       "    .dataframe thead th {\n",
       "        text-align: right;\n",
       "    }\n",
       "</style>\n",
       "<table border=\"1\" class=\"dataframe\">\n",
       "  <thead>\n",
       "    <tr style=\"text-align: right;\">\n",
       "      <th></th>\n",
       "      <th>image</th>\n",
       "      <th>product_category_tree</th>\n",
       "    </tr>\n",
       "  </thead>\n",
       "  <tbody>\n",
       "    <tr>\n",
       "      <th>0</th>\n",
       "      <td>55b85ea15a1536d46b7190ad6fff8ce7.jpg</td>\n",
       "      <td>[\"Home Furnishing &gt;&gt; Curtains &amp; Accessories &gt;&gt;...</td>\n",
       "    </tr>\n",
       "    <tr>\n",
       "      <th>1</th>\n",
       "      <td>7b72c92c2f6c40268628ec5f14c6d590.jpg</td>\n",
       "      <td>[\"Baby Care &gt;&gt; Baby Bath &amp; Skin &gt;&gt; Baby Bath T...</td>\n",
       "    </tr>\n",
       "    <tr>\n",
       "      <th>2</th>\n",
       "      <td>64d5d4a258243731dc7bbb1eef49ad74.jpg</td>\n",
       "      <td>[\"Baby Care &gt;&gt; Baby Bath &amp; Skin &gt;&gt; Baby Bath T...</td>\n",
       "    </tr>\n",
       "    <tr>\n",
       "      <th>3</th>\n",
       "      <td>d4684dcdc759dd9cdf41504698d737d8.jpg</td>\n",
       "      <td>[\"Home Furnishing &gt;&gt; Bed Linen &gt;&gt; Bedsheets &gt;&gt;...</td>\n",
       "    </tr>\n",
       "    <tr>\n",
       "      <th>4</th>\n",
       "      <td>6325b6870c54cd47be6ebfbffa620ec7.jpg</td>\n",
       "      <td>[\"Home Furnishing &gt;&gt; Bed Linen &gt;&gt; Bedsheets &gt;&gt;...</td>\n",
       "    </tr>\n",
       "  </tbody>\n",
       "</table>\n",
       "</div>"
      ],
      "text/plain": [
       "                                  image  \\\n",
       "0  55b85ea15a1536d46b7190ad6fff8ce7.jpg   \n",
       "1  7b72c92c2f6c40268628ec5f14c6d590.jpg   \n",
       "2  64d5d4a258243731dc7bbb1eef49ad74.jpg   \n",
       "3  d4684dcdc759dd9cdf41504698d737d8.jpg   \n",
       "4  6325b6870c54cd47be6ebfbffa620ec7.jpg   \n",
       "\n",
       "                               product_category_tree  \n",
       "0  [\"Home Furnishing >> Curtains & Accessories >>...  \n",
       "1  [\"Baby Care >> Baby Bath & Skin >> Baby Bath T...  \n",
       "2  [\"Baby Care >> Baby Bath & Skin >> Baby Bath T...  \n",
       "3  [\"Home Furnishing >> Bed Linen >> Bedsheets >>...  \n",
       "4  [\"Home Furnishing >> Bed Linen >> Bedsheets >>...  "
      ]
     },
     "execution_count": 20,
     "metadata": {},
     "output_type": "execute_result"
    }
   ],
   "source": [
    "cols = [\"image\", \"product_category_tree\"]\n",
    "data_raw = fichier[cols]\n",
    "data_raw.head()"
   ]
  },
  {
   "cell_type": "markdown",
   "metadata": {},
   "source": [
    "### <span style='background:black'>b/ Détermination de la catégorie du produit</span>\n",
    "\n",
    "Nous splittons la feature \"product_category_tree\" pour obtenir uniquement la catégorie principale du produit dans la feature \"target\"."
   ]
  },
  {
   "cell_type": "code",
   "execution_count": 21,
   "metadata": {},
   "outputs": [
    {
     "name": "stderr",
     "output_type": "stream",
     "text": [
      "C:\\Users\\pierr\\AppData\\Local\\Temp\\ipykernel_9728\\2766752290.py:1: SettingWithCopyWarning: \n",
      "A value is trying to be set on a copy of a slice from a DataFrame.\n",
      "Try using .loc[row_indexer,col_indexer] = value instead\n",
      "\n",
      "See the caveats in the documentation: https://pandas.pydata.org/pandas-docs/stable/user_guide/indexing.html#returning-a-view-versus-a-copy\n",
      "  data_raw.loc[:, 'product_name'] = \\\n"
     ]
    },
    {
     "data": {
      "text/html": [
       "<div>\n",
       "<style scoped>\n",
       "    .dataframe tbody tr th:only-of-type {\n",
       "        vertical-align: middle;\n",
       "    }\n",
       "\n",
       "    .dataframe tbody tr th {\n",
       "        vertical-align: top;\n",
       "    }\n",
       "\n",
       "    .dataframe thead th {\n",
       "        text-align: right;\n",
       "    }\n",
       "</style>\n",
       "<table border=\"1\" class=\"dataframe\">\n",
       "  <thead>\n",
       "    <tr style=\"text-align: right;\">\n",
       "      <th></th>\n",
       "      <th>image</th>\n",
       "      <th>product_category_tree</th>\n",
       "      <th>product_name</th>\n",
       "    </tr>\n",
       "  </thead>\n",
       "  <tbody>\n",
       "    <tr>\n",
       "      <th>0</th>\n",
       "      <td>55b85ea15a1536d46b7190ad6fff8ce7.jpg</td>\n",
       "      <td>[\"Home Furnishing &gt;&gt; Curtains &amp; Accessories &gt;&gt;...</td>\n",
       "      <td>Home Furnishing</td>\n",
       "    </tr>\n",
       "    <tr>\n",
       "      <th>1</th>\n",
       "      <td>7b72c92c2f6c40268628ec5f14c6d590.jpg</td>\n",
       "      <td>[\"Baby Care &gt;&gt; Baby Bath &amp; Skin &gt;&gt; Baby Bath T...</td>\n",
       "      <td>Baby Care</td>\n",
       "    </tr>\n",
       "    <tr>\n",
       "      <th>2</th>\n",
       "      <td>64d5d4a258243731dc7bbb1eef49ad74.jpg</td>\n",
       "      <td>[\"Baby Care &gt;&gt; Baby Bath &amp; Skin &gt;&gt; Baby Bath T...</td>\n",
       "      <td>Baby Care</td>\n",
       "    </tr>\n",
       "  </tbody>\n",
       "</table>\n",
       "</div>"
      ],
      "text/plain": [
       "                                  image  \\\n",
       "0  55b85ea15a1536d46b7190ad6fff8ce7.jpg   \n",
       "1  7b72c92c2f6c40268628ec5f14c6d590.jpg   \n",
       "2  64d5d4a258243731dc7bbb1eef49ad74.jpg   \n",
       "\n",
       "                               product_category_tree      product_name  \n",
       "0  [\"Home Furnishing >> Curtains & Accessories >>...  Home Furnishing   \n",
       "1  [\"Baby Care >> Baby Bath & Skin >> Baby Bath T...        Baby Care   \n",
       "2  [\"Baby Care >> Baby Bath & Skin >> Baby Bath T...        Baby Care   "
      ]
     },
     "execution_count": 21,
     "metadata": {},
     "output_type": "execute_result"
    }
   ],
   "source": [
    "data_raw.loc[:, 'product_name'] = \\\n",
    "    data_raw.loc[:, 'product_category_tree'].str.split(\n",
    "        '>>').str[0].str.lstrip('[\"')\n",
    "data_raw.head(3)"
   ]
  },
  {
   "cell_type": "markdown",
   "metadata": {},
   "source": [
    "Nous supprimons la feature \"product_category_tree\" qui ne nous sert plus. "
   ]
  },
  {
   "cell_type": "code",
   "execution_count": 22,
   "metadata": {},
   "outputs": [
    {
     "data": {
      "text/html": [
       "<div>\n",
       "<style scoped>\n",
       "    .dataframe tbody tr th:only-of-type {\n",
       "        vertical-align: middle;\n",
       "    }\n",
       "\n",
       "    .dataframe tbody tr th {\n",
       "        vertical-align: top;\n",
       "    }\n",
       "\n",
       "    .dataframe thead th {\n",
       "        text-align: right;\n",
       "    }\n",
       "</style>\n",
       "<table border=\"1\" class=\"dataframe\">\n",
       "  <thead>\n",
       "    <tr style=\"text-align: right;\">\n",
       "      <th></th>\n",
       "      <th>image</th>\n",
       "      <th>product_name</th>\n",
       "    </tr>\n",
       "  </thead>\n",
       "  <tbody>\n",
       "    <tr>\n",
       "      <th>0</th>\n",
       "      <td>55b85ea15a1536d46b7190ad6fff8ce7.jpg</td>\n",
       "      <td>Home Furnishing</td>\n",
       "    </tr>\n",
       "    <tr>\n",
       "      <th>1</th>\n",
       "      <td>7b72c92c2f6c40268628ec5f14c6d590.jpg</td>\n",
       "      <td>Baby Care</td>\n",
       "    </tr>\n",
       "    <tr>\n",
       "      <th>2</th>\n",
       "      <td>64d5d4a258243731dc7bbb1eef49ad74.jpg</td>\n",
       "      <td>Baby Care</td>\n",
       "    </tr>\n",
       "  </tbody>\n",
       "</table>\n",
       "</div>"
      ],
      "text/plain": [
       "                                  image      product_name\n",
       "0  55b85ea15a1536d46b7190ad6fff8ce7.jpg  Home Furnishing \n",
       "1  7b72c92c2f6c40268628ec5f14c6d590.jpg        Baby Care \n",
       "2  64d5d4a258243731dc7bbb1eef49ad74.jpg        Baby Care "
      ]
     },
     "execution_count": 22,
     "metadata": {},
     "output_type": "execute_result"
    }
   ],
   "source": [
    "df_image = data_raw.copy()\n",
    "df_image.drop(\"product_category_tree\", axis=1, inplace=True)\n",
    "df_image.head(3)"
   ]
  },
  {
   "cell_type": "markdown",
   "metadata": {},
   "source": [
    "### <span style='background:black'>c/ Détermination du chemin exact des images</span>\n"
   ]
  },
  {
   "cell_type": "code",
   "execution_count": 23,
   "metadata": {},
   "outputs": [
    {
     "data": {
      "text/html": [
       "<div>\n",
       "<style scoped>\n",
       "    .dataframe tbody tr th:only-of-type {\n",
       "        vertical-align: middle;\n",
       "    }\n",
       "\n",
       "    .dataframe tbody tr th {\n",
       "        vertical-align: top;\n",
       "    }\n",
       "\n",
       "    .dataframe thead th {\n",
       "        text-align: right;\n",
       "    }\n",
       "</style>\n",
       "<table border=\"1\" class=\"dataframe\">\n",
       "  <thead>\n",
       "    <tr style=\"text-align: right;\">\n",
       "      <th></th>\n",
       "      <th>image</th>\n",
       "      <th>product_name</th>\n",
       "    </tr>\n",
       "  </thead>\n",
       "  <tbody>\n",
       "    <tr>\n",
       "      <th>0</th>\n",
       "      <td>./data/source/Images/55b85ea15a1536d46b7190ad6...</td>\n",
       "      <td>Home Furnishing</td>\n",
       "    </tr>\n",
       "    <tr>\n",
       "      <th>1</th>\n",
       "      <td>./data/source/Images/7b72c92c2f6c40268628ec5f1...</td>\n",
       "      <td>Baby Care</td>\n",
       "    </tr>\n",
       "    <tr>\n",
       "      <th>2</th>\n",
       "      <td>./data/source/Images/64d5d4a258243731dc7bbb1ee...</td>\n",
       "      <td>Baby Care</td>\n",
       "    </tr>\n",
       "  </tbody>\n",
       "</table>\n",
       "</div>"
      ],
      "text/plain": [
       "                                               image      product_name\n",
       "0  ./data/source/Images/55b85ea15a1536d46b7190ad6...  Home Furnishing \n",
       "1  ./data/source/Images/7b72c92c2f6c40268628ec5f1...        Baby Care \n",
       "2  ./data/source/Images/64d5d4a258243731dc7bbb1ee...        Baby Care "
      ]
     },
     "execution_count": 23,
     "metadata": {},
     "output_type": "execute_result"
    }
   ],
   "source": [
    "path_image = \"./data/source/Images/\"\n",
    "df_image['image'] = df_image['image'].apply(lambda x: path_image + x)\n",
    "df_image.head(3)"
   ]
  },
  {
   "cell_type": "markdown",
   "metadata": {},
   "source": [
    "### <span style='background:black'>d/ Vérification Nan</span>\n",
    "\n",
    "Nous vérifions qu'il n'y a aucun Nan dans le dataframe."
   ]
  },
  {
   "cell_type": "code",
   "execution_count": 24,
   "metadata": {},
   "outputs": [
    {
     "data": {
      "text/plain": [
       "image           0\n",
       "product_name    0\n",
       "dtype: int64"
      ]
     },
     "execution_count": 24,
     "metadata": {},
     "output_type": "execute_result"
    }
   ],
   "source": [
    "df_image.isna().sum()"
   ]
  },
  {
   "cell_type": "markdown",
   "metadata": {},
   "source": [
    "### <span style='background:black'>e/ Vérification doublons</span>\n",
    "\n",
    "Nous vérifions qu'il n'y a aucun doublon dans le dataframe."
   ]
  },
  {
   "cell_type": "code",
   "execution_count": 25,
   "metadata": {},
   "outputs": [
    {
     "data": {
      "text/plain": [
       "0"
      ]
     },
     "execution_count": 25,
     "metadata": {},
     "output_type": "execute_result"
    }
   ],
   "source": [
    "idx = df_image.duplicated(subset=\"image\", keep=\"first\")\n",
    "idx.sum()"
   ]
  },
  {
   "cell_type": "markdown",
   "metadata": {},
   "source": [
    "## <span style='background:green'>2/ EDA</span>\n",
    "\n",
    "### <span style='background:black'>a/ Product_name</span>"
   ]
  },
  {
   "cell_type": "code",
   "execution_count": 26,
   "metadata": {},
   "outputs": [
    {
     "data": {
      "text/plain": [
       "product_name\n",
       "Home Furnishing                150\n",
       "Baby Care                      150\n",
       "Watches                        150\n",
       "Home Decor & Festive Needs     150\n",
       "Kitchen & Dining               150\n",
       "Beauty and Personal Care       150\n",
       "Computers                      150\n",
       "Name: count, dtype: int64"
      ]
     },
     "execution_count": 26,
     "metadata": {},
     "output_type": "execute_result"
    }
   ],
   "source": [
    "df_image.product_name.value_counts(normalize=False)"
   ]
  },
  {
   "cell_type": "code",
   "execution_count": 27,
   "metadata": {},
   "outputs": [
    {
     "data": {
      "text/plain": [
       "<Axes: ylabel='count'>"
      ]
     },
     "execution_count": 27,
     "metadata": {},
     "output_type": "execute_result"
    },
    {
     "data": {
      "image/png": "[encoded data removed]",
      "text/plain": [
       "<Figure size 640x480 with 1 Axes>"
      ]
     },
     "metadata": {},
     "output_type": "display_data"
    }
   ],
   "source": [
    "df_image.product_name.value_counts().plot(kind=\"pie\", autopct='%1.1f%%')"
   ]
  },
  {
   "cell_type": "markdown",
   "metadata": {},
   "source": [
    "La feature \"product_name\" comprend 7 catégories de produits qui sont toutes réparties équitablement dans le dataframe avec 150 produits par catégorie."
   ]
  },
  {
   "cell_type": "markdown",
   "metadata": {},
   "source": [
    "### <span style='background:black'>b/image</span>"
   ]
  },
  {
   "cell_type": "code",
   "execution_count": 28,
   "metadata": {},
   "outputs": [
    {
     "data": {
      "text/html": [
       "<div>\n",
       "<style scoped>\n",
       "    .dataframe tbody tr th:only-of-type {\n",
       "        vertical-align: middle;\n",
       "    }\n",
       "\n",
       "    .dataframe tbody tr th {\n",
       "        vertical-align: top;\n",
       "    }\n",
       "\n",
       "    .dataframe thead th {\n",
       "        text-align: right;\n",
       "    }\n",
       "</style>\n",
       "<table border=\"1\" class=\"dataframe\">\n",
       "  <thead>\n",
       "    <tr style=\"text-align: right;\">\n",
       "      <th></th>\n",
       "      <th>image</th>\n",
       "      <th>product_name</th>\n",
       "      <th>label</th>\n",
       "    </tr>\n",
       "  </thead>\n",
       "  <tbody>\n",
       "    <tr>\n",
       "      <th>0</th>\n",
       "      <td>./data/source/Images/55b85ea15a1536d46b7190ad6...</td>\n",
       "      <td>Home Furnishing</td>\n",
       "      <td>4</td>\n",
       "    </tr>\n",
       "    <tr>\n",
       "      <th>1</th>\n",
       "      <td>./data/source/Images/7b72c92c2f6c40268628ec5f1...</td>\n",
       "      <td>Baby Care</td>\n",
       "      <td>0</td>\n",
       "    </tr>\n",
       "    <tr>\n",
       "      <th>2</th>\n",
       "      <td>./data/source/Images/64d5d4a258243731dc7bbb1ee...</td>\n",
       "      <td>Baby Care</td>\n",
       "      <td>0</td>\n",
       "    </tr>\n",
       "    <tr>\n",
       "      <th>3</th>\n",
       "      <td>./data/source/Images/d4684dcdc759dd9cdf4150469...</td>\n",
       "      <td>Home Furnishing</td>\n",
       "      <td>4</td>\n",
       "    </tr>\n",
       "    <tr>\n",
       "      <th>4</th>\n",
       "      <td>./data/source/Images/6325b6870c54cd47be6ebfbff...</td>\n",
       "      <td>Home Furnishing</td>\n",
       "      <td>4</td>\n",
       "    </tr>\n",
       "  </tbody>\n",
       "</table>\n",
       "</div>"
      ],
      "text/plain": [
       "                                               image      product_name  label\n",
       "0  ./data/source/Images/55b85ea15a1536d46b7190ad6...  Home Furnishing       4\n",
       "1  ./data/source/Images/7b72c92c2f6c40268628ec5f1...        Baby Care       0\n",
       "2  ./data/source/Images/64d5d4a258243731dc7bbb1ee...        Baby Care       0\n",
       "3  ./data/source/Images/d4684dcdc759dd9cdf4150469...  Home Furnishing       4\n",
       "4  ./data/source/Images/6325b6870c54cd47be6ebfbff...  Home Furnishing       4"
      ]
     },
     "execution_count": 28,
     "metadata": {},
     "output_type": "execute_result"
    }
   ],
   "source": [
    "le = preprocessing.LabelEncoder()\n",
    "le.fit(df_image[\"product_name\"])\n",
    "df_image[\"label\"] = le.transform(df_image[\"product_name\"])\n",
    "df_image.head(5)"
   ]
  },
  {
   "cell_type": "code",
   "execution_count": 30,
   "metadata": {},
   "outputs": [
    {
     "ename": "ValueError",
     "evalue": "Function <bound method VarWatcher.auto_run_pycodestyle of <pycodestyle_magic.VarWatcher object at 0x0000018F2D234990>> is not registered as a post_run_cell callback",
     "output_type": "error",
     "traceback": [
      "\u001b[1;31m---------------------------------------------------------------------------\u001b[0m",
      "\u001b[1;31mValueError\u001b[0m                                Traceback (most recent call last)",
      "Cell \u001b[1;32mIn[30], line 1\u001b[0m\n\u001b[1;32m----> 1\u001b[0m \u001b[43mget_ipython\u001b[49m\u001b[43m(\u001b[49m\u001b[43m)\u001b[49m\u001b[38;5;241;43m.\u001b[39;49m\u001b[43mrun_line_magic\u001b[49m\u001b[43m(\u001b[49m\u001b[38;5;124;43m'\u001b[39;49m\u001b[38;5;124;43mpycodestyle_off\u001b[39;49m\u001b[38;5;124;43m'\u001b[39;49m\u001b[43m,\u001b[49m\u001b[43m \u001b[49m\u001b[38;5;124;43m'\u001b[39;49m\u001b[38;5;124;43m'\u001b[39;49m\u001b[43m)\u001b[49m\n\u001b[0;32m      3\u001b[0m \u001b[38;5;66;03m# Obtenez les noms uniques des catégories\u001b[39;00m\n\u001b[0;32m      4\u001b[0m categories \u001b[38;5;241m=\u001b[39m df_image[\u001b[38;5;124m'\u001b[39m\u001b[38;5;124mproduct_name\u001b[39m\u001b[38;5;124m'\u001b[39m]\u001b[38;5;241m.\u001b[39munique()\n",
      "File \u001b[1;32mc:\\Users\\pierr\\VSC_Projects\\Projet6_OCR_DataScientist-\\env\\Lib\\site-packages\\IPython\\core\\interactiveshell.py:2456\u001b[0m, in \u001b[0;36mInteractiveShell.run_line_magic\u001b[1;34m(self, magic_name, line, _stack_depth)\u001b[0m\n\u001b[0;32m   2454\u001b[0m     kwargs[\u001b[38;5;124m'\u001b[39m\u001b[38;5;124mlocal_ns\u001b[39m\u001b[38;5;124m'\u001b[39m] \u001b[38;5;241m=\u001b[39m \u001b[38;5;28mself\u001b[39m\u001b[38;5;241m.\u001b[39mget_local_scope(stack_depth)\n\u001b[0;32m   2455\u001b[0m \u001b[38;5;28;01mwith\u001b[39;00m \u001b[38;5;28mself\u001b[39m\u001b[38;5;241m.\u001b[39mbuiltin_trap:\n\u001b[1;32m-> 2456\u001b[0m     result \u001b[38;5;241m=\u001b[39m \u001b[43mfn\u001b[49m\u001b[43m(\u001b[49m\u001b[38;5;241;43m*\u001b[39;49m\u001b[43margs\u001b[49m\u001b[43m,\u001b[49m\u001b[43m \u001b[49m\u001b[38;5;241;43m*\u001b[39;49m\u001b[38;5;241;43m*\u001b[39;49m\u001b[43mkwargs\u001b[49m\u001b[43m)\u001b[49m\n\u001b[0;32m   2458\u001b[0m \u001b[38;5;66;03m# The code below prevents the output from being displayed\u001b[39;00m\n\u001b[0;32m   2459\u001b[0m \u001b[38;5;66;03m# when using magics with decorator @output_can_be_silenced\u001b[39;00m\n\u001b[0;32m   2460\u001b[0m \u001b[38;5;66;03m# when the last Python token in the expression is a ';'.\u001b[39;00m\n\u001b[0;32m   2461\u001b[0m \u001b[38;5;28;01mif\u001b[39;00m \u001b[38;5;28mgetattr\u001b[39m(fn, magic\u001b[38;5;241m.\u001b[39mMAGIC_OUTPUT_CAN_BE_SILENCED, \u001b[38;5;28;01mFalse\u001b[39;00m):\n",
      "File \u001b[1;32mc:\\Users\\pierr\\VSC_Projects\\Projet6_OCR_DataScientist-\\env\\Lib\\site-packages\\pycodestyle_magic.py:138\u001b[0m, in \u001b[0;36mpycodestyle_off\u001b[1;34m(line)\u001b[0m\n\u001b[0;32m    136\u001b[0m \u001b[38;5;129m@register_line_magic\u001b[39m\n\u001b[0;32m    137\u001b[0m \u001b[38;5;28;01mdef\u001b[39;00m \u001b[38;5;21mpycodestyle_off\u001b[39m(line):\n\u001b[1;32m--> 138\u001b[0m     \u001b[43munload_ipython_extension\u001b[49m\u001b[43m(\u001b[49m\u001b[43mvw\u001b[49m\u001b[38;5;241;43m.\u001b[39;49m\u001b[43mshell\u001b[49m\u001b[43m,\u001b[49m\u001b[43m \u001b[49m\u001b[43mpck\u001b[49m\u001b[38;5;241;43m=\u001b[39;49m\u001b[38;5;124;43m'\u001b[39;49m\u001b[38;5;124;43mpycodestyle\u001b[39;49m\u001b[38;5;124;43m'\u001b[39;49m\u001b[43m)\u001b[49m\n",
      "File \u001b[1;32mc:\\Users\\pierr\\VSC_Projects\\Projet6_OCR_DataScientist-\\env\\Lib\\site-packages\\pycodestyle_magic.py:80\u001b[0m, in \u001b[0;36munload_ipython_extension\u001b[1;34m(ip, pck)\u001b[0m\n\u001b[0;32m     78\u001b[0m     init_flake8 \u001b[38;5;241m=\u001b[39m \u001b[38;5;28;01mFalse\u001b[39;00m\n\u001b[0;32m     79\u001b[0m \u001b[38;5;28;01mif\u001b[39;00m pck \u001b[38;5;241m==\u001b[39m \u001b[38;5;124m'\u001b[39m\u001b[38;5;124mpycodestyle\u001b[39m\u001b[38;5;124m'\u001b[39m:\n\u001b[1;32m---> 80\u001b[0m     \u001b[43mip\u001b[49m\u001b[38;5;241;43m.\u001b[39;49m\u001b[43mevents\u001b[49m\u001b[38;5;241;43m.\u001b[39;49m\u001b[43munregister\u001b[49m\u001b[43m(\u001b[49m\u001b[38;5;124;43m'\u001b[39;49m\u001b[38;5;124;43mpost_run_cell\u001b[39;49m\u001b[38;5;124;43m'\u001b[39;49m\u001b[43m,\u001b[49m\u001b[43m \u001b[49m\u001b[43mvw\u001b[49m\u001b[38;5;241;43m.\u001b[39;49m\u001b[43mauto_run_pycodestyle\u001b[49m\u001b[43m)\u001b[49m\n\u001b[0;32m     81\u001b[0m     \u001b[38;5;28;01mglobal\u001b[39;00m init_pycodestyle\n\u001b[0;32m     82\u001b[0m     init_pycodestyle \u001b[38;5;241m=\u001b[39m \u001b[38;5;28;01mFalse\u001b[39;00m\n",
      "File \u001b[1;32mc:\\Users\\pierr\\VSC_Projects\\Projet6_OCR_DataScientist-\\env\\Lib\\site-packages\\IPython\\core\\events.py:72\u001b[0m, in \u001b[0;36mEventManager.unregister\u001b[1;34m(self, event, function)\u001b[0m\n\u001b[0;32m     69\u001b[0m \u001b[38;5;28;01mif\u001b[39;00m function \u001b[38;5;129;01min\u001b[39;00m \u001b[38;5;28mself\u001b[39m\u001b[38;5;241m.\u001b[39mcallbacks[event]:\n\u001b[0;32m     70\u001b[0m     \u001b[38;5;28;01mreturn\u001b[39;00m \u001b[38;5;28mself\u001b[39m\u001b[38;5;241m.\u001b[39mcallbacks[event]\u001b[38;5;241m.\u001b[39mremove(function)\n\u001b[1;32m---> 72\u001b[0m \u001b[38;5;28;01mraise\u001b[39;00m \u001b[38;5;167;01mValueError\u001b[39;00m(\u001b[38;5;124m'\u001b[39m\u001b[38;5;124mFunction \u001b[39m\u001b[38;5;132;01m{!r}\u001b[39;00m\u001b[38;5;124m is not registered as a \u001b[39m\u001b[38;5;132;01m{}\u001b[39;00m\u001b[38;5;124m callback\u001b[39m\u001b[38;5;124m'\u001b[39m\u001b[38;5;241m.\u001b[39mformat(function, event))\n",
      "\u001b[1;31mValueError\u001b[0m: Function <bound method VarWatcher.auto_run_pycodestyle of <pycodestyle_magic.VarWatcher object at 0x0000018F2D234990>> is not registered as a post_run_cell callback"
     ]
    }
   ],
   "source": [
    "%pycodestyle_off\n",
    "\n",
    "# Obtenez les noms uniques des catégories\n",
    "categories = df_image['product_name'].unique()\n",
    "\n",
    "# Afficher les images de 3 produits de chaque catégorie\n",
    "for nom in categories :\n",
    "    print(nom)\n",
    "    print(\"-------\")\n",
    "    for i in range(3):\n",
    "        plt.subplot(130 + 1 + i)\n",
    "        filename = list_fct(nom)[i + 10]\n",
    "        image = imread(filename)\n",
    "        plt.imshow(image)\n",
    "    plt.show()\n",
    "\n",
    "%pycodestyle_on"
   ]
  },
  {
   "cell_type": "markdown",
   "metadata": {},
   "source": [
    "## <span style='background:green'>3/ Prétraitement</span>"
   ]
  },
  {
   "cell_type": "code",
   "execution_count": null,
   "metadata": {},
   "outputs": [],
   "source": []
  },
  {
   "cell_type": "markdown",
   "metadata": {},
   "source": [
    "## <span style='background:green'>4/ Modèle Computer vision</span>\n",
    "\n",
    "### <span style='background:black'>a/ SIFT</span>"
   ]
  },
  {
   "cell_type": "code",
   "execution_count": null,
   "metadata": {},
   "outputs": [],
   "source": []
  },
  {
   "cell_type": "markdown",
   "metadata": {},
   "source": [
    "### <span style='background:black'>b/ CNN Transfer learning</span>"
   ]
  },
  {
   "cell_type": "code",
   "execution_count": null,
   "metadata": {},
   "outputs": [],
   "source": []
  },
  {
   "cell_type": "markdown",
   "metadata": {},
   "source": [
    "Compétence OCR:\n",
    "\n",
    "Prétraiter des données non structurées de type image en veillant au respect du droit à l’image et réaliser un feature engineering adapté aux modèles d'apprentissage afin d’obtenir un jeu de données exploitables.\n",
    "\n",
    "CE1 Le candidat a utilisé des librairies spécialisées pour un premier traitement du contraste (ex. : openCV). \n",
    "\n",
    "CE2 Le candidat a présenté des opérations de retraitement d'images (par exemple passage en gris, filtrage du bruit, égalisation, floutage) sur un ou plusieurs exemples. \n",
    "\n",
    "CE3 Le candidat a élaboré une fonction permettant d'extraire des features (\"feature engineering\") de type \"bag-of-images\" via la génération de descripteurs (algorithmes ORB, ou SIFT, ou SURF). \n",
    "\n",
    "CE4 Le candidat a élaboré et exécuté une fonction permettant d'extraire des features (\"feature engineering\") via un algorithme de Transfer Learning basé sur des réseaux de neurones, comme par exemple CNN. \n",
    "\n",
    "CE5 Le candidat s’assure que les images utilisées ne relèvent pas d’une propriété intellectuelle."
   ]
  },
  {
   "cell_type": "markdown",
   "metadata": {},
   "source": [
    "Réduire la dimension de données de grande dimension, afin d'optimiser les temps d’entraînement des modèles.\n",
    "\n",
    "CE1 Le candidat a justifié la nécessité de la réduction de dimension. \n",
    "\n",
    "CE2 Le candidat a appliqué une méthode de réduction de dimension adaptée à la problématique (ex. : ACP). \n",
    "\n",
    "CE3 Le candidat a justifié le choix des valeurs des paramètres dans la méthode de réduction de dimension retenue (ex. : le nombre de dimensions conservées pour l'ACP). "
   ]
  }
 ],
 "metadata": {
  "kernelspec": {
   "display_name": "env",
   "language": "python",
   "name": "python3"
  },
  "language_info": {
   "codemirror_mode": {
    "name": "ipython",
    "version": 3
   },
   "file_extension": ".py",
   "mimetype": "text/x-python",
   "name": "python",
   "nbconvert_exporter": "python",
   "pygments_lexer": "ipython3",
   "version": "3.11.7"
  }
 },
 "nbformat": 4,
 "nbformat_minor": 2
}
