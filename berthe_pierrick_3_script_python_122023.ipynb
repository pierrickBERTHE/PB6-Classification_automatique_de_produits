{
 "cells": [
  {
   "cell_type": "markdown",
   "metadata": {},
   "source": [
    "# <span style='color:SteelBlue'>P6 - Classifiez automatiquement des biens de consommation (part 1)</span>"
   ]
  },
  {
   "cell_type": "markdown",
   "metadata": {},
   "source": [
    "<img src=\"https://user.oc-static.com/upload/2019/02/24/15510259240381_Projet%20textimage%20logo.png\" width=\"600\" height=\"400\">"
   ]
  },
  {
   "cell_type": "markdown",
   "metadata": {},
   "source": [
    "# <span style='background:red; color:black'>a MAJ</span>\n",
    "\n",
    "# <span style='background:white; color:black'>Sommaire</span>\n",
    "\n",
    "Importations des librairies utilisees dans ce notebook <br>\n",
    "\n",
    "Paramètres d'affichage du notebook <br>\n",
    "\n",
    "Fonctions utilisees dans ce notebook <br>\n",
    "\n",
    "Importation des données <br>\n",
    "\n",
    "**Etape 1 : Description des donnees**\n",
    "- _1/ etc...\n",
    "\n",
    "\n",
    "Conclusion"
   ]
  },
  {
   "cell_type": "markdown",
   "metadata": {},
   "source": [
    "# <span style='background:blue'>Introduction</span>\n",
    "\n",
    "Olist \n",
    "___\n",
    "\n",
    "**Mission**\n",
    "\n",
    "**Realiser**\n",
    "1. etc\n",
    "\n",
    "Ce notebook presente la 1ère partie. Nous allons donc ...\n",
    "___\n",
    "\n",
    "**Source des datasets**<br>\n",
    "Ol\n",
    "\n",
    "___"
   ]
  },
  {
   "cell_type": "markdown",
   "metadata": {},
   "source": [
    "<div class=\"alert alert-block alert-warning\">\n",
    "<b>Formattage du notebook au PEP8 => lancer cette ligne de code dans le\n",
    "terminal VSC : </b><br>\n",
    "nbqa black Berthe_Pierrick_1_notebook_exploration_112023.ipynb</div>"
   ]
  },
  {
   "cell_type": "markdown",
   "metadata": {},
   "source": [
    "# <span style='background:grey'>Importations des librairies utilisees dans ce notebook</span>"
   ]
  },
  {
   "cell_type": "code",
   "execution_count": null,
   "metadata": {
    "vscode": {
     "languageId": "plaintext"
    }
   },
   "outputs": [],
   "source": []
  }
 ],
 "metadata": {
  "language_info": {
   "name": "python"
  }
 },
 "nbformat": 4,
 "nbformat_minor": 2
}
