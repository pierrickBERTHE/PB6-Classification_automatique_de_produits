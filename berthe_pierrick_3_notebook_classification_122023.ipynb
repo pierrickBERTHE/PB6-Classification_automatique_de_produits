{
  "cells": [
    {
      "cell_type": "markdown",
      "metadata": {
        "colab_type": "text",
        "id": "view-in-github"
      },
      "source": [
        "<a href=\"https://colab.research.google.com/github/pierrickBERTHE/Projet6_OCR_DataScientist-/blob/main/berthe_pierrick_3_notebook_classification_122023.ipynb\" target=\"_parent\"><img src=\"https://colab.research.google.com/assets/colab-badge.svg\" alt=\"Open In Colab\"/></a>"
      ]
    },
    {
      "cell_type": "markdown",
      "metadata": {
        "id": "UPpgnGKh07Fv"
      },
      "source": [
        "# <span style='color:SteelBlue'>P6 - Classifiez automatiquement des biens de consommation (part 3)</span>"
      ]
    },
    {
      "cell_type": "markdown",
      "metadata": {
        "id": "ck3z0ZFR07Fw"
      },
      "source": [
        "<img src=\"https://logo-marque.com/wp-content/uploads/2020/11/Flipkart-Logo.png\" width=\"300\" height=\"200\">"
      ]
    },
    {
      "cell_type": "markdown",
      "metadata": {
        "id": "15C8ftJT07Fw"
      },
      "source": [
        "# <span style='background:red; color:black'>a MAJ</span>\n",
        "\n",
        "# <span style='background:white; color:black'>Sommaire</span>\n",
        "\n",
        "Importations des librairies utilisees dans ce notebook <br>\n",
        "\n",
        "Paramètres d'affichage du notebook <br>\n",
        "\n",
        "Fonctions utilisees dans ce notebook <br>\n",
        "\n",
        "Importation des données <br>\n",
        "\n",
        "**Etape 1 : Description des donnees**\n",
        "- _1/ etc...\n",
        "\n",
        "\n",
        "Conclusion"
      ]
    },
    {
      "cell_type": "markdown",
      "metadata": {
        "id": "0VhX5SlE07Fx"
      },
      "source": [
        "# <span style='background:blue'>Introduction</span>\n",
        "\n",
        "L'entreprise **\"Flipkart\"** est une entreprise indienne qui souhaite lancer une\n",
        "marketplace e-commerce. Sur cette place de marché anglophone, des vendeurs\n",
        "proposent des articles à des acheteurs en postant une photo et une description.\n",
        "Pour rendre l’expérience utilisateur des vendeurs (faciliter la mise en ligne\n",
        "de nouveaux articles) et des acheteurs (faciliter la recherche de produits)\n",
        "la plus fluide possible, et dans l'optique d'un passage à l'échelle,\n",
        "il devient nécessaire **d'automatiser l'attribution de la catégorie** d'un\n",
        "article (actuellement effectuée manuellement par les vendeurs, donc peu\n",
        "fiable).\n",
        "___\n",
        "**Missions**<br>\n",
        "1/ Faire une **étude de la faisabilité d’un moteur de classification**\n",
        "d’article basé sur une **description** pour automatiser l’attribution\n",
        "de catégorie de l’article.\n",
        "\n",
        "2/ Faire une **étude de la faisabilité d’un moteur de classification**\n",
        "d’article basé sur une **image** pour automatiser l’attribution\n",
        "de catégorie de l’article.\n",
        "\n",
        "3/ **Réaliser une classification supervisée** à partir des images par la mise\n",
        "en place d’une data augmentation afin d’optimiser le modèle.\n",
        "\n",
        "4/ **Extraire les 10 premiers produits à base de « champagne »** issus de\n",
        "l’API fournie dans un fichier “.csv”, contenant pour chaque produit les\n",
        "données suivantes : foodId, label, category, foodContentsLabel, image.\n",
        "___\n",
        "Ce notebook presente la 3ème partie concernant la réalisation de la\n",
        "classification supervisée à partir des images par la mise en place d’une\n",
        "data augmentation afin d’optimiser le modèle.\n",
        "\n",
        "# <span style='background:red'>a terminer</span>\n",
        "\n",
        "___\n",
        "**Source des datasets**<br>\n",
        "Source : Non précisé<br>\n",
        "___"
      ]
    },
    {
      "cell_type": "markdown",
      "metadata": {
        "id": "lPVi22rt07Fx"
      },
      "source": [
        "<div class=\"alert alert-block alert-warning\">\n",
        "<b>Formattage du notebook au PEP8 => lancer cette ligne de code dans le\n",
        "terminal VSC : </b><br>\n",
        "nbqa black Berthe_Pierrick_1_notebook_exploration_112023.ipynb</div>"
      ]
    },
    {
      "cell_type": "markdown",
      "metadata": {
        "id": "5_c-_Zoy07Fx"
      },
      "source": [
        "# <span style='background:grey'>Importations des librairies utilisees dans ce notebook</span>"
      ]
    },
    {
      "cell_type": "code",
      "execution_count": 42,
      "metadata": {
        "colab": {
          "base_uri": "https://localhost:8080/"
        },
        "id": "C29DafT_07Fy",
        "outputId": "7e12c681-8450-4534-bc5b-4379478b67b6"
      },
      "outputs": [
        {
          "name": "stdout",
          "output_type": "stream",
          "text": [
            "Version des librairies utilisees :\n",
            "Python        : 3.11.7 (tags/v3.11.7:fa7a6f2, Dec  4 2023, 19:24:49) [MSC v.1937 64 bit (AMD64)]\n",
            "Matplotlib    : 3.8.2\n",
            "NumPy         : 1.26.2\n",
            "Pandas        : 2.1.4\n",
            "Seaborn       : 0.13.0\n",
            "Tensorflow    : 2.15.0\n",
            "\n",
            "Nombre de coeur disponible(s) sur ce PC: 12 coeur(s)\n",
            "\n",
            "Code lance le : 2024-02-01T00:12:18.845226\n",
            "\n",
            "The pycodestyle_magic extension is already loaded. To reload it, use:\n",
            "  %reload_ext pycodestyle_magic\n"
          ]
        }
      ],
      "source": [
        "# # pip install pour Google Colab\n",
        "# !pip install pyopencl\n",
        "# !pip install plot-keras-history\n",
        "# !pip install flake8 pycodestyle_magic\n",
        "# !pip install tensorflow\n",
        "\n",
        "# Librairies generales\n",
        "import os.path\n",
        "import sys\n",
        "from IPython.display import display\n",
        "import time\n",
        "from datetime import datetime\n",
        "import pyopencl as cl\n",
        "import pickle\n",
        "\n",
        "# Librairies data science\n",
        "import matplotlib as mpl\n",
        "import matplotlib.pyplot as plt\n",
        "import numpy as np\n",
        "import pandas as pd\n",
        "import seaborn as sns\n",
        "from PIL import Image\n",
        "import random\n",
        "\n",
        "# Machine learning\n",
        "from sklearn.model_selection import train_test_split\n",
        "from sklearn import metrics\n",
        "from sklearn.dummy import DummyClassifier\n",
        "\n",
        "# deep learning\n",
        "import tensorflow as tf\n",
        "from keras import Input\n",
        "from tensorflow.keras.preprocessing.image import load_img, img_to_array\n",
        "from keras.applications.vgg16 import preprocess_input\n",
        "from keras.utils import to_categorical\n",
        "from keras.applications.vgg16 import VGG16\n",
        "from keras.layers import GlobalAveragePooling2D, Dense, Dropout, Flatten\n",
        "from keras.layers import Conv2D, MaxPooling2D\n",
        "from keras.models import Model, Sequential, load_model\n",
        "from keras.callbacks import EarlyStopping, ModelCheckpoint\n",
        "from plot_keras_history import show_history, plot_history\n",
        "from keras.preprocessing.image import ImageDataGenerator\n",
        "\n",
        "# # Pour Google Colab\n",
        "# from google.colab import drive\n",
        "# drive.mount('/content/drive')\n",
        "# print(\"\\nConnecté à Google Drive\\n\")\n",
        "\n",
        "# Affichage plot dans le notebook\n",
        "%matplotlib inline\n",
        "\n",
        "# Versions\n",
        "print(\"Version des librairies utilisees :\")\n",
        "print(\"Python        : \" + sys.version)\n",
        "print(\"Matplotlib    : \" + mpl.__version__)\n",
        "print(\"NumPy         : \" + np.version.full_version)\n",
        "print(\"Pandas        : \" + pd.__version__)\n",
        "print(\"Seaborn       : \" + sns.__version__)\n",
        "print(\"Tensorflow    : \" + tf.__version__)\n",
        "\n",
        "# Nombre de coeurs\n",
        "nbr_coeur = os.cpu_count()\n",
        "print(f\"\\nNombre de coeur disponible(s) sur ce PC: {nbr_coeur} coeur(s)\")\n",
        "\n",
        "# Afficher heure lancement\n",
        "maintenant = datetime.now().isoformat()\n",
        "print(\"\\nCode lance le : \" + maintenant)\n",
        "\n",
        "# Enregistrer l'heure de debut\n",
        "start_time = time.time()\n",
        "\n",
        "# Activer la verification PEP8\n",
        "print(\"\")\n",
        "%load_ext pycodestyle_magic\n",
        "%pycodestyle_on"
      ]
    },
    {
      "cell_type": "markdown",
      "metadata": {
        "id": "bZGN1VuQVDZE"
      },
      "source": [
        "<div class=\"alert alert-block alert-info\"><b>Bilan: </b> <br>\n",
        "Je dois faire tourner ce notebook sur Google Colab pour obtenir les modèles de deep learning car lorsque je le fais tourner en local sur mon CPU, j'obtiens ce message d'erreur après le batch_size=64 du modèle CNN :<br>\n",
        "\n",
        "*The Kernel crashed while executing code in the the current cell or a previous cell. Please review the code in the cell(s) to identify a possible cause of the failure. Click here for more info. View Jupyter log for further details.* <div>"
      ]
    },
    {
      "cell_type": "markdown",
      "metadata": {
        "id": "nPeaMQAe07Fz"
      },
      "source": [
        "<div class=\"alert alert-block alert-warning\">\n",
        "<b>Formattage du notebook au PEP8 => lancer cette ligne de code dans le\n",
        "terminal VSC : </b> <br>\n",
        "nbqa black nom_fichier.ipynb</div>"
      ]
    },
    {
      "cell_type": "markdown",
      "metadata": {
        "id": "0yYdIMbO07Fz"
      },
      "source": [
        "# <span style='background:grey'>Paramètres d'affichage</span>"
      ]
    },
    {
      "cell_type": "code",
      "execution_count": 43,
      "metadata": {
        "id": "H-48WpYH07Fz"
      },
      "outputs": [],
      "source": [
        "# parametrage des paramètres d'affichage dans le notebook\n",
        "pd.set_option(\"display.max_row\", 50)\n",
        "pd.set_option(\"display.max_column\", 50)\n",
        "pd.set_option(\"display.precision\", 2)\n",
        "\n",
        "# Ignorer les messages d'avertissement de tensorflow\n",
        "tf.get_logger().setLevel('ERROR')\n",
        "\n",
        "# Desactiver la limite de taille des images\n",
        "Image.MAX_IMAGE_PIXELS = None"
      ]
    },
    {
      "cell_type": "markdown",
      "metadata": {
        "id": "rh2KYSIH07Fz"
      },
      "source": [
        "# <span style='background:grey'>Fonctions</span>"
      ]
    },
    {
      "cell_type": "code",
      "execution_count": 44,
      "metadata": {
        "id": "Tb3gN-ap07F0"
      },
      "outputs": [],
      "source": [
        "def calculer_duree_notebook(start_time):\n",
        "    \"\"\"\n",
        "    Cette procédure calcule et affiche la durée totale depuis un temps de\n",
        "    début donné.\n",
        "\n",
        "    Args:\n",
        "        start_time (float): Le temps de début en secondes depuis l'époque.\n",
        "\n",
        "    Returns:\n",
        "        None\n",
        "    \"\"\"\n",
        "\n",
        "    # Calculer la durée totale\n",
        "    total_time = time.time() - start_time\n",
        "\n",
        "    # Convertir en minutes et secondes\n",
        "    minutes, seconds = divmod(total_time, 60)\n",
        "\n",
        "    # Afficher la durée totale\n",
        "    message = (\n",
        "        \"Durée totale pour faire tourner le notebook : \"\n",
        "        \"{0} minute(s) {1} seconde(s)\"\n",
        "    )\n",
        "    print(message.format(int(minutes), int(seconds)))"
      ]
    },
    {
      "cell_type": "code",
      "execution_count": 45,
      "metadata": {
        "id": "LUWeOXBH07F0"
      },
      "outputs": [],
      "source": [
        "def affiche_heatmap(y, nom_y):\n",
        "    \"\"\"\n",
        "    Crée un heatmap des labels y.\n",
        "\n",
        "    Parameters:\n",
        "    y (numpy.array): Un array numpy contenant les labels à visualiser.\n",
        "    nom_y (str): Le nom de la variable y.\n",
        "\n",
        "    Returns:\n",
        "    None\n",
        "    \"\"\"\n",
        "    sns.heatmap(y)\n",
        "    plt.title(f'Heatmap \"{nom_y}\"')\n",
        "    plt.xlabel('Catégories')\n",
        "    plt.ylabel('Image')\n",
        "    plt.show()"
      ]
    },
    {
      "cell_type": "code",
      "execution_count": 46,
      "metadata": {
        "id": "hoZepxGp07F0"
      },
      "outputs": [],
      "source": [
        "def pretraitement_image(data, model_type):\n",
        "    \"\"\"\n",
        "    Cette fonction prépare les images pour l'entraînement d'un modèle de\n",
        "    machine learning. Si le modèle est de type VGG-16, un prétraitement\n",
        "    spécifique est appliqué.\n",
        "\n",
        "    Paramètres :\n",
        "    data (DataFrame) : DataFrame contenant les chemins d'accès aux images\n",
        "    model_type (str) : Le type de modèle pour lequel les images sont préparées.\n",
        "        Si 'vgg16', le prétraitement spécifique à VGG-16 est appliqué.\n",
        "\n",
        "    Retourne :\n",
        "    prepared_images_np (ndarray) : Tableau NumPy des images préparées.\n",
        "    \"\"\"\n",
        "\n",
        "    # Initialisation de la liste pour stocker les images préparées\n",
        "    prepared_images = []\n",
        "\n",
        "    # Parcours de chaque chemin d'image dans data\n",
        "    for image_num in range(len(data)):\n",
        "\n",
        "        # Chargement et redimensionnement de l'image en 224 x 224 pixels\n",
        "        img = (load_img(data[image_num], target_size=(224, 224)))\n",
        "\n",
        "        # Conversion de l'image en tableau NumPy\n",
        "        img = img_to_array(img)\n",
        "\n",
        "        # Redimensionnement tableau de l'image pour certifier les 3 dimensions\n",
        "        img = img.reshape((img.shape[0], img.shape[1], img.shape[2]))\n",
        "\n",
        "        # Pré-traitement specifique à VGG-16\n",
        "        if model_type == 'vgg16':\n",
        "            img = preprocess_input(img)\n",
        "        else:\n",
        "            pass\n",
        "\n",
        "        # Ajout de l'image préparée à la liste\n",
        "        prepared_images.append(img)\n",
        "\n",
        "    # Conversion de la liste en tableau NumPy\n",
        "    prepared_images_np = np.array(prepared_images)\n",
        "\n",
        "    return prepared_images_np"
      ]
    },
    {
      "cell_type": "code",
      "execution_count": 47,
      "metadata": {
        "id": "GOSie4K607F0"
      },
      "outputs": [],
      "source": [
        "def creation_modele_mlp(fonction_perte, optimiseur, metric_eval, verbose=0):\n",
        "    \"\"\"\n",
        "    Cette fonction crée et compile un modèle de réseau de neurones à\n",
        "    plusieurs couches () avec Keras. Le modèle est conçu pour des données\n",
        "    d'entrée de forme (224, 224, 3).\n",
        "\n",
        "    Le modèle a la structure suivante :\n",
        "    - 1 couche d'entrée de forme (224, 224, 3)\n",
        "    - 1 couche Flatten pour aplatir les données d'entrée\n",
        "    - 2 couches Dense avec 10 neurones chacune et 1 fonction d'activation ReLU\n",
        "    - 1 couche Dense avec 7 neurones et une fonction d'activation sigmoid\n",
        "\n",
        "    Le modèle est compilé avec la fonction de perte 'categorical_crossentropy',\n",
        "    l'optimiseur 'rmsprop' et la métrique 'accuracy'.\n",
        "\n",
        "    Paramètres :\n",
        "    fonction_perte (str) : La fonction de perte à utiliser pour la compilation\n",
        "    du modèle.\n",
        "    optimiseur (str) : L'optimiseur à utiliser pour la compilation du modèle.\n",
        "    metric_eval (str) : La métrique à utiliser pour la compilation du modèle.\n",
        "    verbose (int) : Le niveau de détail à afficher pour le modèle. 0 pour\n",
        "    aucune information, 1 pour un résumé du modèle. Par défaut, 0.\n",
        "\n",
        "    Retourne :\n",
        "    Le modèle  compilé.\n",
        "    \"\"\"\n",
        "    # Créer le modèle\n",
        "    model_mlp = Sequential()\n",
        "    model_mlp.add(Input(shape=(224, 224, 3)))\n",
        "    model_mlp.add(Flatten())\n",
        "    model_mlp.add(Dense(10, activation='relu'))\n",
        "    model_mlp.add(Dense(10, activation='relu'))\n",
        "    model_mlp.add(Dense(7, activation='sigmoid'))\n",
        "\n",
        "    # Compiler le modèle\n",
        "    model_mlp.compile(\n",
        "        loss=fonction_perte,\n",
        "        optimizer=optimiseur,\n",
        "        metrics=[metric_eval]\n",
        "    )\n",
        "\n",
        "    # Afficher un résumé du modèle si besoin\n",
        "    if verbose == 1:\n",
        "        print(model_mlp.summary())\n",
        "    else:\n",
        "        pass\n",
        "\n",
        "    return model_mlp"
      ]
    },
    {
      "cell_type": "code",
      "execution_count": 48,
      "metadata": {
        "id": "kuh6Txmv07F1"
      },
      "outputs": [],
      "source": [
        "def creation_modele_cnn(fonction_perte, optimiseur, metric_eval, verbose=0):\n",
        "    \"\"\"\n",
        "    Crée un modèle de réseau de neurones convolutif (CNN) pour la\n",
        "    classification d'images.\n",
        "\n",
        "    Le modèle est composé de la manière suivante :\n",
        "    - Une couche de convolution avec 64 filtres de taille (3,3) et une fonction\n",
        "    d'activation ReLU\n",
        "    - Une couche de pooling max avec une taille de pool de (2,2)\n",
        "    - Une couche de flatten pour aplatir les sorties des couches précédentes en\n",
        "    un seul vecteur\n",
        "    - Une couche dense (fully connected) avec 112 neurones et une fonction\n",
        "    d'activation ReLU\n",
        "    - Une couche de sortie avec 7 neurones et une fonction d'activation\n",
        "    sigmoïde\n",
        "\n",
        "    Le modèle est compilé avec la fonction de perte, l'optimiseur et la\n",
        "    métrique spécifiés par les paramètres de la fonction.\n",
        "\n",
        "    Paramètres :\n",
        "    fonction_perte (str) : La fonction de perte à utiliser pour la compilation\n",
        "    du modèle.\n",
        "    optimiseur (str) : L'optimiseur à utiliser pour la compilation du modèle.\n",
        "    metric_eval (str) : La métrique à utiliser pour la compilation du modèle.\n",
        "    verbose (int) : Le niveau de détail à afficher pour le modèle. 0 pour\n",
        "    aucune information, 1 pour un résumé du modèle. Par défaut, 0.\n",
        "\n",
        "    Retourne :\n",
        "    Le modèle CNN créé et compilé.\n",
        "    \"\"\"\n",
        "    # Créer le modèle\n",
        "    model_cnn = Sequential()\n",
        "    model_cnn.add(\n",
        "        Conv2D(64, (3, 3), activation='relu', input_shape=(224, 224, 3)))\n",
        "    model_cnn.add(MaxPooling2D(pool_size=(2, 2)))\n",
        "    model_cnn.add(Flatten())\n",
        "    model_cnn.add(Dense(112, activation='relu'))\n",
        "    model_cnn.add(Dense(7, activation='sigmoid'))\n",
        "\n",
        "    # Compiler le modèle\n",
        "    model_cnn.compile(\n",
        "        loss=fonction_perte,\n",
        "        optimizer=optimiseur,\n",
        "        metrics=[metric_eval]\n",
        "    )\n",
        "\n",
        "    # Afficher un résumé du modèle si besoin\n",
        "    if verbose == 1:\n",
        "        print(model_cnn.summary())\n",
        "    else:\n",
        "        pass\n",
        "\n",
        "    return model_cnn"
      ]
    },
    {
      "cell_type": "code",
      "execution_count": 49,
      "metadata": {
        "id": "h7fBWNoL07F1"
      },
      "outputs": [],
      "source": [
        "def creation_modele_transfer_vgg16(\n",
        "        fonction_perte,\n",
        "        optimiseur,\n",
        "        metric_eval,\n",
        "        verbose=0\n",
        "        ):\n",
        "    \"\"\"\n",
        "    Crée un modèle de classification d'images basé sur le modèle pré-entraîné\n",
        "    VGG16. Le modèle VGG16 est utilisé comme extracteur de caractéristiques,\n",
        "    et de nouvelles couches sont ajoutées pour la classification.\n",
        "\n",
        "    Les poids du modèle VGG16 sont initialisés avec les poids appris sur\n",
        "    ImageNet et ne sont pas mis à jour pendant l'entraînement.\n",
        "\n",
        "    Le nouveau modèle est compilé avec la perte de cross-entropie catégorielle,\n",
        "    l'optimiseur RMSprop et la précision comme métrique.\n",
        "\n",
        "    Retourne:\n",
        "        model: Le modèle créé.\n",
        "    \"\"\"\n",
        "    # Récupération du modèle pré-entraîné VGG16 sans les couches supérieures\n",
        "    model0 = VGG16(\n",
        "        include_top=False,\n",
        "        weights=\"imagenet\",\n",
        "        input_shape=(224, 224, 3)\n",
        "    )\n",
        "\n",
        "    # Rendre les couches du modèle VGG16 non entraînables\n",
        "    for layer in model0.layers:\n",
        "        layer.trainable = False\n",
        "\n",
        "    # Récupérer la sortie du modèle VGG16\n",
        "    x = model0.output\n",
        "\n",
        "    # Completer model : vecteur 1D / ReLU / desactive moitié / softmax 7 cate\n",
        "    x = GlobalAveragePooling2D()(x)\n",
        "    x = Dense(256, activation='relu')(x)\n",
        "    x = Dropout(0.5)(x)\n",
        "    predictions = Dense(7, activation='softmax')(x)\n",
        "\n",
        "    # Créer le nouveau modèle\n",
        "    model = Model(inputs=model0.input, outputs=predictions)\n",
        "\n",
        "    # Compiler le modèle : perte a minimiser / optimiseur / métrique evaluation\n",
        "    model.compile(\n",
        "        loss=fonction_perte,\n",
        "        optimizer=optimiseur,\n",
        "        metrics=[metric_eval]\n",
        "        )\n",
        "\n",
        "    # Afficher un résumé du modèle si besoin\n",
        "    if verbose == 1:\n",
        "        print(model_cnn.summary())\n",
        "    else:\n",
        "        pass\n",
        "\n",
        "    return model"
      ]
    },
    {
      "cell_type": "code",
      "execution_count": 50,
      "metadata": {
        "id": "JpHb5MiE07F1"
      },
      "outputs": [],
      "source": [
        "def creer_callbacks(nom_modele, patience, batch_size=None, verbose=1):\n",
        "    \"\"\"\n",
        "    Cette fonction crée une liste de callbacks pour l'entraînement d'un modèle\n",
        "    Keras. Les callbacks incluent un checkpoint pour enregistrer les meilleurs\n",
        "    poids du modèle (lorsque val_loss est minimale) et un EarlyStopping pour\n",
        "    arrêter l'entraînement si val_loss ne diminue plus après un certain nombre\n",
        "    d'epochs.\n",
        "\n",
        "    Paramètres :\n",
        "    nom_modele (str) : Le nom du modèle. Utilisé pour nommer le fichier de\n",
        "    poids exporté.\n",
        "    patience (int) : Le nombre d'epochs à attendre avant d'arrêter\n",
        "    batch_size (int) : La taille des batchs à utiliser pour l'entraînement\n",
        "    (initialisé à None)\n",
        "    verbose (int) : Le niveau de verbosité pour les callbacks (initialisé à 1)\n",
        "\n",
        "    Retourne :\n",
        "    callbacks_list (list) : Liste des callbacks à utiliser lors de\n",
        "    l'entraînement du modèle.\n",
        "    chemin_modele_export (str) : Chemin d'exportation du modèle.\n",
        "    \"\"\"\n",
        "    # Définir le chemin d'exportation du modèle\n",
        "    if batch_size is None:\n",
        "        chemin_modele_export = (f\"./modele_ML/{nom_modele}_best_weights.h5\")\n",
        "    else:\n",
        "        chemin_modele_export = (\n",
        "            f\"./modele_ML/{nom_modele}_batch{batch_size}_best_weights.h5\"\n",
        "        )\n",
        "\n",
        "    # Callback 1 : Enregistrer le meilleur modèle (poids quand val_loss min)\n",
        "    checkpoint = ModelCheckpoint(\n",
        "        chemin_modele_export,\n",
        "        monitor='val_loss',\n",
        "        verbose=verbose,\n",
        "        save_best_only=True,\n",
        "        mode='min'\n",
        "    )\n",
        "\n",
        "    # Callback 2 : stop entrainement si val_loss ne diminue plus apres 3 epochs\n",
        "    es = EarlyStopping(\n",
        "        monitor='val_loss',\n",
        "        mode='min',\n",
        "        verbose=verbose,\n",
        "        patience=patience)\n",
        "\n",
        "    # Assigner les callbacks à une liste\n",
        "    callbacks_list = [checkpoint, es]\n",
        "\n",
        "    return callbacks_list, chemin_modele_export"
      ]
    },
    {
      "cell_type": "code",
      "execution_count": 51,
      "metadata": {
        "id": "sIjpTIaB07F2"
      },
      "outputs": [],
      "source": [
        "def conf_mat_transform_argmax(y_true, y_pred):\n",
        "    \"\"\"\n",
        "    Transforme les labels prédits en utilisant la valeur maximale de chaque\n",
        "    colonne.\n",
        "\n",
        "    Paramètres:\n",
        "    y_true (array-like): Les vrais labels.\n",
        "    y_pred (array-like): Les labels prédits.\n",
        "\n",
        "    Retourne:\n",
        "    y_pred_transform (Series): Les labels prédits transformés.\n",
        "    \"\"\"\n",
        "\n",
        "    # Calculer la matrice de confusion\n",
        "    conf_mat = metrics.confusion_matrix(y_true, y_pred)\n",
        "\n",
        "    # Calcule les correspondances (valeurs max de chaque colonne)\n",
        "    corresp = np.argmax(conf_mat, axis=0)\n",
        "    print(\"\\nCorrespondance des clusters : \", corresp)\n",
        "\n",
        "    # Créer un DataFrame avec les vrais labels et les labels prédits\n",
        "    labels = pd.Series(y_true, name=\"y_true\").to_frame()\n",
        "    labels['y_pred'] = y_pred\n",
        "\n",
        "    # Transformer les labels prédits en utilisant la correspondance\n",
        "    labels['y_pred_transform'] = labels['y_pred'].apply(\n",
        "        lambda x: corresp[x] if x < len(corresp) else x)\n",
        "\n",
        "    # Retourner les labels prédits transformés\n",
        "    return labels['y_pred_transform']"
      ]
    },
    {
      "cell_type": "code",
      "execution_count": 52,
      "metadata": {
        "id": "Zr2Wu3mz07F3"
      },
      "outputs": [],
      "source": [
        "def get_available_amd_gpus():\n",
        "    \"\"\"\n",
        "    Cette fonction renvoie une liste des GPU AMD disponibles sur la machine.\n",
        "\n",
        "    Elle utilise la bibliothèque pyopencl pour obtenir une liste des\n",
        "    plateformes disponibles,\n",
        "    puis vérifie chaque plateforme pour voir si elle est fournie par AMD.\n",
        "    Si c'est le cas, elle vérifie chaque device sur la plateforme pour voir\n",
        "    s'il s'agit d'un GPU,\n",
        "    et si c'est le cas, elle l'ajoute à la liste des GPU.\n",
        "\n",
        "    Retourne :\n",
        "        Une liste des objets pyopencl.Device pour les GPU AMD disponibles.\n",
        "    \"\"\"\n",
        "    # Obtenir une liste de toutes les plateformes disponibles\n",
        "    platforms = cl.get_platforms()\n",
        "\n",
        "    # Initialiser une liste vide pour stocker les GPU AMD\n",
        "    gpu_devices = []\n",
        "\n",
        "    # Parcourir chaque plateforme\n",
        "    for platform in platforms:\n",
        "\n",
        "        # Vérifier si la plateforme est fournie par AMD\n",
        "        amd_vendor = 'Advanced Micro Devices, Inc.'\n",
        "        if platform.get_info(cl.platform_info.VENDOR) == amd_vendor:\n",
        "\n",
        "            # Parcourir chaque device sur la plateforme\n",
        "            for device in platform.get_devices():\n",
        "\n",
        "                # Vérifier si le device est un GPU\n",
        "                if device.type == cl.device_type.GPU:\n",
        "\n",
        "                    # Si c'est un GPU, l'ajouter à la liste des GPU\n",
        "                    gpu_devices.append(device)\n",
        "\n",
        "    # Retourner la liste des GPU AMD\n",
        "    return gpu_devices"
      ]
    },
    {
      "cell_type": "code",
      "execution_count": 53,
      "metadata": {
        "id": "q6-W1BV407F3"
      },
      "outputs": [],
      "source": [
        "def matrice_conf_et_rapport(y_val_num, y_val_pred_transform, categories):\n",
        "    \"\"\"\n",
        "    Affiche la matrice de confusion et le rapport de classification pour les\n",
        "    valeurs prédites et réelles.\n",
        "\n",
        "    Paramètres:\n",
        "    y_val_num (array): Les valeurs réelles.\n",
        "    y_val_pred_transform (array): Les valeurs prédites.\n",
        "    categories (list): Les catégories pour les axes de la matrice de confusion.\n",
        "\n",
        "    Retourne:\n",
        "    conf_mat_trans_df (DataFrame): La matrice de confusion.\n",
        "    \"\"\"\n",
        "    # Creer la matrice de confusion\n",
        "    conf_mat = metrics.confusion_matrix(y_val_num, y_val_pred_transform)\n",
        "\n",
        "    # Transformation en dataFrame\n",
        "    conf_mat_trans_df = pd.DataFrame(\n",
        "        conf_mat,\n",
        "        index=[label for label in sorted(categories)],\n",
        "        columns=[label for label in sorted(categories)]\n",
        "        )\n",
        "\n",
        "    # Afficher la matrice de confusion\n",
        "    plt.figure(figsize=(6, 4))\n",
        "    sns.heatmap(conf_mat_trans_df, annot=True, cmap=\"Blues\")\n",
        "    plt.title('Matrice de confusion')\n",
        "    plt.xlabel('Catégories réelles')\n",
        "    plt.ylabel('Catégories prédites')\n",
        "    plt.xticks(rotation=45, ha='right')\n",
        "    plt.show()\n",
        "\n",
        "    # Afficher le rapport de classification\n",
        "    print(metrics.classification_report(\n",
        "        y_val_num,\n",
        "        y_val_pred_transform,\n",
        "        zero_division=1\n",
        "        )\n",
        "        )\n",
        "\n",
        "    return conf_mat_trans_df"
      ]
    },
    {
      "cell_type": "code",
      "execution_count": 54,
      "metadata": {
        "id": "1H4wmGfd07F3"
      },
      "outputs": [],
      "source": [
        "def surligne_meilleur(s):\n",
        "    \"\"\"\n",
        "    Cette fonction met en évidence la valeur maximale pour 'Validation\n",
        "    Accuracy' et la valeur minimale pour 'Temps (sec)' dans une série pandas.\n",
        "\n",
        "    Paramètres :\n",
        "    s (pd.Series) : Une série pandas contenant les données à mettre en avant.\n",
        "\n",
        "    Retourne :\n",
        "    list : Une liste de chaînes de caractères représentant les styles CSS pour\n",
        "    chaque élément de la série. Les valeurs maximales/minimales sont mises en\n",
        "    évidence avec un fond vert.\n",
        "\n",
        "    \"\"\"\n",
        "    # Initialiser is_best avec une série de False\n",
        "    is_best = pd.Series([False] * len(s), index=s.index)\n",
        "\n",
        "    # SI c'est la valeur mon/max, mettre en évidence avec un fond vert\n",
        "    if s.name == 'Validation Accuracy':\n",
        "        is_best = s == s.max()\n",
        "\n",
        "    elif s.name == 'Temps (sec)':\n",
        "        is_best = s == s.min()\n",
        "\n",
        "    else:\n",
        "        pass\n",
        "\n",
        "    return ['background-color: green' if v else '' for v in is_best]"
      ]
    },
    {
      "cell_type": "code",
      "execution_count": 55,
      "metadata": {},
      "outputs": [],
      "source": [
        "def reformatte_resultat(resultat, batch_sizes, batch_meilleur, modele):\n",
        "    \"\"\"\n",
        "    Crée un DataFrame optimal à partir d'un DataFrame de résultats, d'une\n",
        "    liste de tailles de batch, d'un index de taille de batch optimal et d'un\n",
        "    nom de modèle.\n",
        "\n",
        "    Paramètres :\n",
        "    resultat (pd.DataFrame) : DataFrame contenant les résultats des modèles.\n",
        "    batch_sizes (list) : Liste des tailles de batch utilisées.\n",
        "    batch_meilleur (int) : Index de la taille de batch qui a donné le meilleur\n",
        "    résultat.\n",
        "    modele (str) : Nom du modèle à utiliser comme index du DataFrame optimal.\n",
        "\n",
        "    Retourne :\n",
        "    resultat_optimal (pd.DataFrame) : DataFrame contenant le résultat optimal.\n",
        "    \"\"\"\n",
        "    # Création colonne 'batch_sizes'\n",
        "    resultat['batch_sizes'] = batch_sizes\n",
        "\n",
        "    # Extraire la ligne où batch_sizes est égal à l'optimal\n",
        "    resultat_optimal = resultat.loc[\n",
        "        resultat['batch_sizes'] == batch_sizes[batch_meilleur]]\n",
        "\n",
        "    # Définir le nom du modèle comme index\n",
        "    resultat_optimal.index = [modele]\n",
        "\n",
        "    return resultat_optimal"
      ]
    },
    {
      "cell_type": "code",
      "execution_count": 56,
      "metadata": {},
      "outputs": [
        {
          "name": "stderr",
          "output_type": "stream",
          "text": [
            "9:80: E501 line too long (81 > 79 characters)\n"
          ]
        }
      ],
      "source": [
        "# def reformatte_resultat(resultat, batch_meilleur, nom_modele):\n",
        "#     \"\"\"\n",
        "#     Cette fonction obtient la ligne des meilleurs résultats à partir d'un\n",
        "#     DataFrame, ajoute une nouvelle colonne 'Batch_size' avec le nom de la*\n",
        "#     série comme valeur, puis change le nom de la série en 'mlp'.\n",
        "\n",
        "#     Paramètres:\n",
        "#     resultat (pd.DataFrame): Le DataFrame contenant les résultats.\n",
        "#     batch_meilleur (int): L'index de la ligne contenant les meilleurs résultats\n",
        "#     nom_modele (str): Le nouveau nom pour la série.\n",
        "\n",
        "#     Retourne:\n",
        "#     resultat_optimal (pd.Series): La série contenant les meilleurs résultats\n",
        "#     avec la nouvelle colonne 'Batch_size'.\n",
        "#     \"\"\"\n",
        "\n",
        "#     # Obtenir la ligne des meilleurs resultats\n",
        "#     resultat_optimal = resultat[\"batch_sizes\"].loc[batch_meilleur]\n",
        "\n",
        "#     # Créer une nouvelle série avec la valeur à ajouter\n",
        "#     nouvelle_serie = pd.Series({'Batch_size': resultat_optimal.name})\n",
        "\n",
        "#     # Concaténer les deux séries\n",
        "#     resultat_optimal = pd.concat([resultat_optimal, nouvelle_serie])\n",
        "\n",
        "#     # Changer le nom de la série\n",
        "#     resultat_optimal.name = nom_modele\n",
        "\n",
        "#     return resultat_optimal"
      ]
    },
    {
      "cell_type": "markdown",
      "metadata": {
        "id": "x_ETjCI107F4"
      },
      "source": [
        "# <span style='background:grey'>Importation des donnees</span>\n",
        "\n",
        "Importation du fichier CSV d'extraction image avec Pandas"
      ]
    },
    {
      "cell_type": "code",
      "execution_count": 57,
      "metadata": {
        "colab": {
          "base_uri": "https://localhost:8080/",
          "height": 531
        },
        "id": "pTtfaMZG07F4",
        "outputId": "9d55be6a-d6ce-4459-8cf1-9359361aecdf"
      },
      "outputs": [
        {
          "name": "stdout",
          "output_type": "stream",
          "text": [
            "Execution in Google Colab :  False \n",
            "\n",
            "./data/cleaned/extraction_feature_image.csv\n",
            "===> fichier 'extraction_feature_image.csv' importé: <====\n",
            "\n"
          ]
        },
        {
          "data": {
            "text/html": [
              "<div>\n",
              "<style scoped>\n",
              "    .dataframe tbody tr th:only-of-type {\n",
              "        vertical-align: middle;\n",
              "    }\n",
              "\n",
              "    .dataframe tbody tr th {\n",
              "        vertical-align: top;\n",
              "    }\n",
              "\n",
              "    .dataframe thead th {\n",
              "        text-align: right;\n",
              "    }\n",
              "</style>\n",
              "<table border=\"1\" class=\"dataframe\">\n",
              "  <thead>\n",
              "    <tr style=\"text-align: right;\">\n",
              "      <th></th>\n",
              "      <th>image</th>\n",
              "      <th>product_name</th>\n",
              "      <th>label</th>\n",
              "    </tr>\n",
              "  </thead>\n",
              "  <tbody>\n",
              "    <tr>\n",
              "      <th>0</th>\n",
              "      <td>./data/source/Images/55b85ea15a1536d46b7190ad6...</td>\n",
              "      <td>Home Furnishing</td>\n",
              "      <td>4</td>\n",
              "    </tr>\n",
              "    <tr>\n",
              "      <th>1</th>\n",
              "      <td>./data/source/Images/7b72c92c2f6c40268628ec5f1...</td>\n",
              "      <td>Baby Care</td>\n",
              "      <td>0</td>\n",
              "    </tr>\n",
              "    <tr>\n",
              "      <th>2</th>\n",
              "      <td>./data/source/Images/64d5d4a258243731dc7bbb1ee...</td>\n",
              "      <td>Baby Care</td>\n",
              "      <td>0</td>\n",
              "    </tr>\n",
              "    <tr>\n",
              "      <th>3</th>\n",
              "      <td>./data/source/Images/d4684dcdc759dd9cdf4150469...</td>\n",
              "      <td>Home Furnishing</td>\n",
              "      <td>4</td>\n",
              "    </tr>\n",
              "    <tr>\n",
              "      <th>4</th>\n",
              "      <td>./data/source/Images/6325b6870c54cd47be6ebfbff...</td>\n",
              "      <td>Home Furnishing</td>\n",
              "      <td>4</td>\n",
              "    </tr>\n",
              "    <tr>\n",
              "      <th>...</th>\n",
              "      <td>...</td>\n",
              "      <td>...</td>\n",
              "      <td>...</td>\n",
              "    </tr>\n",
              "    <tr>\n",
              "      <th>1045</th>\n",
              "      <td>./data/source/Images/958f54f4c46b53c8a0a9b8167...</td>\n",
              "      <td>Baby Care</td>\n",
              "      <td>0</td>\n",
              "    </tr>\n",
              "    <tr>\n",
              "      <th>1046</th>\n",
              "      <td>./data/source/Images/fd6cbcc22efb6b761bd564c28...</td>\n",
              "      <td>Baby Care</td>\n",
              "      <td>0</td>\n",
              "    </tr>\n",
              "    <tr>\n",
              "      <th>1047</th>\n",
              "      <td>./data/source/Images/5912e037d12774bb73a2048f3...</td>\n",
              "      <td>Baby Care</td>\n",
              "      <td>0</td>\n",
              "    </tr>\n",
              "    <tr>\n",
              "      <th>1048</th>\n",
              "      <td>./data/source/Images/c3edc504d1b4f0ba6224fa53a...</td>\n",
              "      <td>Baby Care</td>\n",
              "      <td>0</td>\n",
              "    </tr>\n",
              "    <tr>\n",
              "      <th>1049</th>\n",
              "      <td>./data/source/Images/f2f027ad6a6df617c9f125173...</td>\n",
              "      <td>Baby Care</td>\n",
              "      <td>0</td>\n",
              "    </tr>\n",
              "  </tbody>\n",
              "</table>\n",
              "<p>1050 rows × 3 columns</p>\n",
              "</div>"
            ],
            "text/plain": [
              "                                                  image      product_name  \\\n",
              "0     ./data/source/Images/55b85ea15a1536d46b7190ad6...  Home Furnishing    \n",
              "1     ./data/source/Images/7b72c92c2f6c40268628ec5f1...        Baby Care    \n",
              "2     ./data/source/Images/64d5d4a258243731dc7bbb1ee...        Baby Care    \n",
              "3     ./data/source/Images/d4684dcdc759dd9cdf4150469...  Home Furnishing    \n",
              "4     ./data/source/Images/6325b6870c54cd47be6ebfbff...  Home Furnishing    \n",
              "...                                                 ...               ...   \n",
              "1045  ./data/source/Images/958f54f4c46b53c8a0a9b8167...        Baby Care    \n",
              "1046  ./data/source/Images/fd6cbcc22efb6b761bd564c28...        Baby Care    \n",
              "1047  ./data/source/Images/5912e037d12774bb73a2048f3...        Baby Care    \n",
              "1048  ./data/source/Images/c3edc504d1b4f0ba6224fa53a...        Baby Care    \n",
              "1049  ./data/source/Images/f2f027ad6a6df617c9f125173...        Baby Care    \n",
              "\n",
              "      label  \n",
              "0         4  \n",
              "1         0  \n",
              "2         0  \n",
              "3         4  \n",
              "4         4  \n",
              "...     ...  \n",
              "1045      0  \n",
              "1046      0  \n",
              "1047      0  \n",
              "1048      0  \n",
              "1049      0  \n",
              "\n",
              "[1050 rows x 3 columns]"
            ]
          },
          "metadata": {},
          "output_type": "display_data"
        },
        {
          "name": "stderr",
          "output_type": "stream",
          "text": [
            "8:80: E501 line too long (80 > 79 characters)\n"
          ]
        }
      ],
      "source": [
        "# Vérifier si le code est exécuté dans Google Colab\n",
        "is_google_colab = 'COLAB_GPU' in os.environ\n",
        "print(\"Execution in Google Colab : \", is_google_colab, \"\\n\")\n",
        "\n",
        "# Definir le chemin d'import des fichiers sur Google Colab ou PC local\n",
        "if is_google_colab:\n",
        "    dossier_import = \"/content/drive/MyDrive/Colab Notebooks/data/cleaned\"\n",
        "    dossier_image = \"/content/drive/MyDrive/Colab Notebooks/data/source/Images/\"\n",
        "\n",
        "else:\n",
        "    dossier_import = \"./data/cleaned/\"\n",
        "\n",
        "# Nom et chemin du fichier\n",
        "nom_fichier = \"extraction_feature_image.csv\"\n",
        "chemin_fichier_import = os.path.join(dossier_import, nom_fichier)\n",
        "print(chemin_fichier_import)\n",
        "\n",
        "# Initialiser un dictionnaire vide et display de la liste des fichiers importe\n",
        "df_image = pd.read_csv(chemin_fichier_import, sep=\"\\t\", encoding=\"utf-8\")\n",
        "print(f\"===> fichier '{nom_fichier}' importé: <====\\n\")\n",
        "\n",
        "# Aperçu du dataframe\n",
        "display(df_image)"
      ]
    },
    {
      "cell_type": "markdown",
      "metadata": {
        "id": "Uoh1cGhC07F4"
      },
      "source": [
        "Nous récupérons bien le fichier CSV d'extraction image contenant les informations sur les 1_050 images du dataset :\n",
        "- le chemin de l'image (nom du fichier inclus)\n",
        "- le texte de la catégorie de l'image\n",
        "- le label numérique de la catégorie de l'image"
      ]
    },
    {
      "cell_type": "markdown",
      "metadata": {
        "id": "rm4Aqj2XfLq8"
      },
      "source": [
        "Si le notebook est exécuté sur Google Colab, modifier le chemin des images"
      ]
    },
    {
      "cell_type": "code",
      "execution_count": 58,
      "metadata": {
        "colab": {
          "base_uri": "https://localhost:8080/",
          "height": 424
        },
        "id": "rYWU3uZcfET3",
        "outputId": "0ead3171-3b11-4cc5-f4ea-9c9d5596846a"
      },
      "outputs": [
        {
          "name": "stdout",
          "output_type": "stream",
          "text": [
            "Pas de lodification car execution en local sur PC\n"
          ]
        }
      ],
      "source": [
        "if is_google_colab:\n",
        "\n",
        "    # Remplacer le chemin d'accès dans la colonne 'image'\n",
        "    df_image['image'] = df_image['image'].str.replace(\n",
        "        r'^./data/source/Images/',\n",
        "        '/content/drive/MyDrive/Colab Notebooks/data/source/Images/',\n",
        "        regex=True\n",
        "    )\n",
        "\n",
        "    # Aperçu du dataframe\n",
        "    display(df_image)\n",
        "\n",
        "else:\n",
        "    print(\"Pas de lodification car execution en local sur PC\")"
      ]
    },
    {
      "cell_type": "markdown",
      "metadata": {
        "id": "M4xFuxgQ07F4"
      },
      "source": [
        "# <span style='background:blue'>Etape 1 : Structuration du travail</span>\n",
        "\n",
        "## <span style='background:green'>1/ Elaboration de modèle</span>\n",
        "\n",
        "Pour répondre au besoin métier de l'entreprise **\"Flipkart\"** qui souhaite\n",
        "lancer une marketplace e-commerce, nous avons décidé de mettre en place une\n",
        "**classification supervisée** à partir des images du dataset qu'ils nous ont\n",
        "fourni.\n",
        "Nous avons donc un dataset d'images avec des labels connus. Nous allons donc\n",
        "pouvoir entraîner un modèle de machine learning à partir de ce dataset d'images\n",
        "labellisées.\n",
        "\n",
        "Dans un premier temps, nous utiliserons un modèle de perceptron multicouche\n",
        "(**MLP**) comme <u>modèle de référence</u>.\n",
        "\n",
        "Dans un second temps, nous utiliserons un modèle de réseau de neurones\n",
        "convolutif (**CNN**) pour comparer ses performances.\n",
        "\n",
        "Dans un troisième temps, nous utiliserons la technique du Transfer Learning.\n",
        "Pour cela, nous utiliserons le modèle pré-entraîné **VGG16**.\n",
        "\n",
        "Enfin, nous utiliserons des techniques de **data augmentation** pour optimiser\n",
        "les performances du modèle qui aura présenté les meilleurs performances pour\n",
        "étudier si ces performances peuvent être encore améliorées.\n",
        "\n",
        "## <span style='background:green'>2/ Eviter le data leakage</span>\n",
        "\n",
        "Nous mettons en place plusieurs directives pour éviter le **data leakage** qui serait préjudiciable à la qualité de notre modèle de machine learning :\n",
        "- **Séparation** du dataset en 3 jeux de données : entrainement, validation et test\n",
        "- **Pas de prétraitement** des données avant la séparation du dataset\n",
        "- **Parallélisation** des prétraitements pour chacun des 3 jeux de données (entrainement, validation et test)\n",
        "- **Ajustement des hyperparamètres** sur le jeu de données d'entrainement et de validation uniquement\n",
        "- **Pas d'entrainement** sur le jeu de données de validation et de test après évaluation des performances du modèle\n",
        "\n",
        "Ces directives nous permettront de garantir que les jeux de données seront utilisés uniquement pour les étapes pour lesquelles ils sont prévus, c'est-à-dire :\n",
        "- le jeu d'entrainement pour l'entrainement\n",
        "- le jeu de validation pour l'ajustement des hyperparamètres\n",
        "- le jeu de test pour l'évaluation des performances du modèle.\n",
        "\n",
        "## <span style='background:green'>3/ informations pour le travail</span>\n",
        "\n",
        "### <span style='background:black'>a/ Nom des catégories</span>\n",
        "\n",
        "Nous isolons le nom des catégories dans une variable \"categories\" pour\n",
        "la suite du notebook."
      ]
    },
    {
      "cell_type": "code",
      "execution_count": 59,
      "metadata": {
        "colab": {
          "base_uri": "https://localhost:8080/"
        },
        "id": "EiVOh4e807F4",
        "outputId": "4d55ba4b-1380-463f-e195-5ce3757b72ff"
      },
      "outputs": [
        {
          "name": "stdout",
          "output_type": "stream",
          "text": [
            "['Home Furnishing ' 'Baby Care ' 'Watches ' 'Home Decor & Festive Needs '\n",
            " 'Kitchen & Dining ' 'Beauty and Personal Care ' 'Computers ']\n"
          ]
        }
      ],
      "source": [
        "categories = df_image['product_name'].unique()\n",
        "print(categories)"
      ]
    },
    {
      "cell_type": "markdown",
      "metadata": {
        "id": "kGouHaPZ07F5"
      },
      "source": [
        "### <span style='background:black'>b/ disponibilité TPU/GPU</span>\n",
        "\n",
        "Nous affichons le nombre de GPU disponibles sur notre machine pour entrainer\n",
        "le modèle."
      ]
    },
    {
      "cell_type": "code",
      "execution_count": 60,
      "metadata": {
        "colab": {
          "base_uri": "https://localhost:8080/"
        },
        "id": "nv0nFb_207F5",
        "outputId": "acfa2e2a-5a74-471b-e26a-f122e6cb4275"
      },
      "outputs": [
        {
          "name": "stdout",
          "output_type": "stream",
          "text": [
            "Nombre de GPU disponible(s) :  1 \n",
            "\n"
          ]
        }
      ],
      "source": [
        "# SI Google Colab ALORS Afficher le TPU\n",
        "if is_google_colab:\n",
        "\n",
        "    # Afficher TPU connecté\n",
        "    try:\n",
        "        tpu = tf.distribute.cluster_resolver.TPUClusterResolver()\n",
        "        print('Running on TPU ', tpu.cluster_spec().as_dict()['worker'])\n",
        "    except ValueError:\n",
        "        raise BaseException('ERROR: Not connected to a TPU runtime')\n",
        "\n",
        "    # Verification TPU\n",
        "    if tpu:\n",
        "        tf.config.experimental_connect_to_cluster(tpu)\n",
        "        tf.tpu.experimental.initialize_tpu_system(tpu)\n",
        "        tpu_strategy = tf.distribute.TPUStrategy(tpu)\n",
        "        print('Connected to TPU')\n",
        "    else:\n",
        "        print('Not connected to a TPU')\n",
        "\n",
        "# Afficher les GPU sur le PC en local\n",
        "else:\n",
        "    amd_gpus = get_available_amd_gpus()\n",
        "    print(\"Nombre de GPU disponible(s) : \", len(amd_gpus), \"\\n\")"
      ]
    },
    {
      "cell_type": "markdown",
      "metadata": {
        "id": "scsqVvt0s2Kr"
      },
      "source": [
        "Nous effectuons une itération de 1 million de calcul pour avoir conscience de la rapidité de calcul"
      ]
    },
    {
      "cell_type": "code",
      "execution_count": 61,
      "metadata": {
        "colab": {
          "base_uri": "https://localhost:8080/"
        },
        "id": "lXvZHe6BqeiL",
        "outputId": "fee9fd88-9a4a-4049-f1b8-541037ecf5a4"
      },
      "outputs": [
        {
          "name": "stdout",
          "output_type": "stream",
          "text": [
            "Temps pour itération 1 million est 0.02 sec.\n"
          ]
        }
      ],
      "source": [
        "# Calculer temps pour 1 million d'itération\n",
        "start_time = time.time()\n",
        "for i in range(1_000_000):\n",
        "    pass\n",
        "end_time = time.time()\n",
        "\n",
        "# Calculez et affichez le temps d'exécution\n",
        "execution_time = end_time - start_time\n",
        "print(f\"Temps pour itération 1 million est {round(execution_time, 3)} sec.\")"
      ]
    },
    {
      "cell_type": "markdown",
      "metadata": {
        "id": "s2MbYzrX07F5"
      },
      "source": [
        "### <span style='background:black'>c/ Reproductibilité des modèles</span>\n",
        " Pour fixer la reproductibilité des modèles, nous fixons les valeurs des graines aléatoires pour :\n",
        "- python\n",
        "- numpy\n",
        "- tensorflow\n",
        "\n",
        "Cela permet de garantir que les résultats obtenus seront reproductibles à chaque fois que ce code sera exécuté."
      ]
    },
    {
      "cell_type": "code",
      "execution_count": 62,
      "metadata": {
        "id": "uEOMVaHI07F5"
      },
      "outputs": [],
      "source": [
        "# Fixer la graine pour Python Numpy et Tensorflow\n",
        "random.seed(42)\n",
        "np.random.seed(42)\n",
        "tf.random.set_seed(42)"
      ]
    },
    {
      "cell_type": "markdown",
      "metadata": {
        "id": "WpQCjPLrCGmR"
      },
      "source": [
        "### <span style='background:black'>d/ Modele ML deja calculé</span>\n",
        "\n",
        "Nous vérifions si les modèles de ML ont déjà été calculés, auquel cas, il n'est pas nécessaire de les calculer à nouveau."
      ]
    },
    {
      "cell_type": "code",
      "execution_count": 63,
      "metadata": {
        "id": "WyZZ4TevCYC4"
      },
      "outputs": [
        {
          "name": "stdout",
          "output_type": "stream",
          "text": [
            "Chargement des fichiers mlp.\n",
            "Chargement des fichiers CNN.\n",
            "Chargement des fichiers CNN TF.\n"
          ]
        }
      ],
      "source": [
        "# SI fichier des resultats MLP existe ALORS on charge les fichiers\n",
        "if os.path.exists('./modele_ML/history_optimal_mlp.pickle'):\n",
        "    is_modele_mlp_calculed = True\n",
        "    resultat_mlp = pd.read_csv(\"./modele_ML/resultat_mlp.csv\")\n",
        "    model_optimal_mlp = load_model(\n",
        "        './modele_ML/model_optimal_mlp_best_weights.h5')\n",
        "    with open(\"./modele_ML/history_optimal_mlp.pickle\", 'rb') as f:\n",
        "        history_optimal_mlp = pickle.load(f)\n",
        "    print(\"Chargement des fichiers MLP.\")\n",
        "else:\n",
        "    is_modele_cnn_calculed = False\n",
        "\n",
        "# SI fichier des resultats CNN existe ALORS on charge les fichiers\n",
        "if os.path.exists('./modele_ML/history_optimal_cnn.pickle'):\n",
        "    is_modele_cnn_calculed = True\n",
        "    resultat_cnn = pd.read_csv(\"./modele_ML/resultat_cnn.csv\")\n",
        "    model_optimal_cnn = load_model(\n",
        "        './modele_ML/model_optimal_cnn_best_weights.h5')\n",
        "    with open(\"./modele_ML/history_optimal_cnn.pickle\", 'rb') as f:\n",
        "        history_optimal_cnn = pickle.load(f)\n",
        "    print(\"Chargement des fichiers CNN.\")\n",
        "else:\n",
        "    is_modele_cnn_calculed = False\n",
        "\n",
        "# SI fichier des resultats CNN TL existe ALORS on charge les fichiers\n",
        "if os.path.exists('./modele_ML/history_optimal_tf_vgg16_noDA.pickle'):\n",
        "    is_modele_tf_vgg16_noDA_calculed = True\n",
        "    resultat_tf_vgg16_noDA = pd.read_csv(\n",
        "        \"./modele_ML/resultat_tf_vgg16_noDA.csv\")\n",
        "    model_optimal_tf_vgg16_noDA = load_model(\n",
        "        './modele_ML/model_optimal_tf_vgg16_noDA_best_weights.h5')\n",
        "    with open(\"./modele_ML/history_optimal_tf_vgg16_noDA.pickle\", 'rb') as f:\n",
        "        history_optimal_tf_vgg16_noDA = pickle.load(f)\n",
        "    print(\"Chargement des fichiers CNN TF.\")\n",
        "else:\n",
        "    is_modele_tf_vgg16_noDA_calculed = False"
      ]
    },
    {
      "cell_type": "markdown",
      "metadata": {
        "id": "Ww5REsZU07F5"
      },
      "source": [
        "# <span style='background:blue'>Etape 2 : Séparation des données</span>\n",
        "\n",
        "## <span style='background:green'>1/ Détermination target et features</span>\n",
        "\n",
        "Nous allons réaliser un apprentissage supervisé pour la classification des images.\n",
        "Pour cela, nous devons déterminer la target (valeur à prédire) et les features (paramètres explicatifs de la pédiction) :\n",
        "- Les **features** (X) sont les chemins des images (nom du fichier inclus) puisque ce sont les données contenues dans les images (pixels) qui vont permettre de prédire la catégorie de l'image\n",
        "\n",
        "- La **target** (Y) est la colonne \"label\" puisque c'est la catégorie des images que nous souhaitons prédire"
      ]
    },
    {
      "cell_type": "code",
      "execution_count": 64,
      "metadata": {
        "id": "Cw1HfM9707F5"
      },
      "outputs": [],
      "source": [
        "X = df_image['image'].values\n",
        "y = df_image['label'].values"
      ]
    },
    {
      "cell_type": "markdown",
      "metadata": {
        "id": "zCReuN6o07F6"
      },
      "source": [
        "Nous les affichons pour vérifier leur contenu."
      ]
    },
    {
      "cell_type": "code",
      "execution_count": 65,
      "metadata": {
        "colab": {
          "base_uri": "https://localhost:8080/"
        },
        "id": "RgFnfWQZ07F6",
        "outputId": "76c0ce69-d118-4695-9f5e-0c04b2e13649"
      },
      "outputs": [
        {
          "name": "stdout",
          "output_type": "stream",
          "text": [
            "['./data/source/Images/55b85ea15a1536d46b7190ad6fff8ce7.jpg'\n",
            " './data/source/Images/7b72c92c2f6c40268628ec5f14c6d590.jpg'\n",
            " './data/source/Images/64d5d4a258243731dc7bbb1eef49ad74.jpg' ...\n",
            " './data/source/Images/5912e037d12774bb73a2048f35a00009.jpg'\n",
            " './data/source/Images/c3edc504d1b4f0ba6224fa53a43a7ad6.jpg'\n",
            " './data/source/Images/f2f027ad6a6df617c9f125173da71e44.jpg']\n"
          ]
        }
      ],
      "source": [
        "print(X)"
      ]
    },
    {
      "cell_type": "code",
      "execution_count": 66,
      "metadata": {
        "colab": {
          "base_uri": "https://localhost:8080/"
        },
        "id": "alYX73SU07F6",
        "outputId": "bfc9fbfe-a798-4d00-ae50-7ca7f421f750"
      },
      "outputs": [
        {
          "name": "stdout",
          "output_type": "stream",
          "text": [
            "[4 0 0 ... 0 0 0]\n"
          ]
        }
      ],
      "source": [
        "print(y)"
      ]
    },
    {
      "cell_type": "markdown",
      "metadata": {
        "id": "uxPaZqYa07F6"
      },
      "source": [
        "## <span style='background:green'>2/ train_test_split</span>\n",
        "\n",
        "Nous divisons les données en 3 jeux de données :\n",
        "- 75% des données pour le **train**\n",
        "- 15% des données pour la **validation**\n",
        "- 15% des données pour le **test**"
      ]
    },
    {
      "cell_type": "code",
      "execution_count": 67,
      "metadata": {
        "colab": {
          "base_uri": "https://localhost:8080/"
        },
        "id": "uUAihUUH07F6",
        "outputId": "6b06d6e3-987d-4e8f-ab9d-860eae1eda50"
      },
      "outputs": [
        {
          "name": "stdout",
          "output_type": "stream",
          "text": [
            "X_train shape: (735,)  / y_train shape: (735,)\n",
            "X_val shape: (157,)  / y_val shape: (157,)\n",
            "X_test shape: (158,)  / y_test shape: (158,)\n"
          ]
        }
      ],
      "source": [
        "# Séparation des données (entraînement + validation) / test\n",
        "X_temp, X_test, y_temp, y_test = train_test_split(\n",
        "    X,\n",
        "    y,\n",
        "    test_size=0.15,\n",
        "    random_state=42,\n",
        "    stratify=y\n",
        "    )\n",
        "\n",
        "# Séparation des données entraînement / validation\n",
        "X_train, X_val, y_train, y_val = train_test_split(\n",
        "    X_temp,\n",
        "    y_temp,\n",
        "    test_size=0.176,\n",
        "    random_state=42,\n",
        "    stratify=y_temp\n",
        "    )\n",
        "\n",
        "# Affichage des dimensions des données\n",
        "print(\"X_train shape:\", X_train.shape, \" / y_train shape:\", y_train.shape)\n",
        "print(\"X_val shape:\", X_val.shape, \" / y_val shape:\", y_val.shape)\n",
        "print(\"X_test shape:\", X_test.shape, \" / y_test shape:\", y_test.shape)"
      ]
    },
    {
      "cell_type": "markdown",
      "metadata": {
        "id": "SHp48c8l07F7"
      },
      "source": [
        "# <span style='background:blue'>Etape 3 : Classifieur naïf</span>\n",
        "\n",
        "Nous mettons en place un classifieur naïf comme **modèle de référence** pour comparer ses performances avec celles des autres modèles que nous allons mettre en place.\n",
        "\n",
        "Ce modèle de référence est un **DummyClassifier** qui va prédire la catégorie de l'image en fonction de la catégorie la plus représentée dans le jeu de données d'entrainement."
      ]
    },
    {
      "cell_type": "code",
      "execution_count": 68,
      "metadata": {
        "colab": {
          "base_uri": "https://localhost:8080/",
          "height": 81
        },
        "id": "0Mkogb4t07F7",
        "outputId": "0b5c9e39-bd85-46a9-cb78-e5f7bd4df084"
      },
      "outputs": [
        {
          "data": {
            "text/html": [
              "<style type=\"text/css\">\n",
              "</style>\n",
              "<table id=\"T_0620b\">\n",
              "  <thead>\n",
              "    <tr>\n",
              "      <th class=\"blank level0\" >&nbsp;</th>\n",
              "      <th id=\"T_0620b_level0_col0\" class=\"col_heading level0 col0\" >Validation Accuracy</th>\n",
              "      <th id=\"T_0620b_level0_col1\" class=\"col_heading level0 col1\" >Temps (sec)</th>\n",
              "    </tr>\n",
              "  </thead>\n",
              "  <tbody>\n",
              "    <tr>\n",
              "      <th id=\"T_0620b_level0_row0\" class=\"row_heading level0 row0\" >Dummy</th>\n",
              "      <td id=\"T_0620b_row0_col0\" class=\"data row0 col0\" >0.146497</td>\n",
              "      <td id=\"T_0620b_row0_col1\" class=\"data row0 col1\" >0.002000</td>\n",
              "    </tr>\n",
              "  </tbody>\n",
              "</table>\n"
            ],
            "text/plain": [
              "<pandas.io.formats.style.Styler at 0x2e231560450>"
            ]
          },
          "metadata": {},
          "output_type": "display_data"
        }
      ],
      "source": [
        "# Créer un DummyClassifier qui prédit toujours la classe la plus fréquente\n",
        "dummy = DummyClassifier(strategy='most_frequent')\n",
        "\n",
        "# Lancer le chronomètre\n",
        "start_time = time.time()\n",
        "\n",
        "# Entraîner le DummyClassifier\n",
        "dummy.fit(X_train, y_train)\n",
        "\n",
        "# Faire des prédictions sur l'ensemble de validation\n",
        "dummy_predictions = dummy.predict(X_val)\n",
        "\n",
        "# Arrêter le chronomètre et calculer le temps d'exécution\n",
        "end_time = time.time()\n",
        "execution_time = end_time - start_time\n",
        "\n",
        "# Calculer l'exactitude du DummyClassifier\n",
        "dummy_accuracy = metrics.accuracy_score(y_val, dummy_predictions)\n",
        "\n",
        "# Créer dataframe pour stocker les résultats et afficher\n",
        "resultat_naif = pd.DataFrame(\n",
        "    data=[[dummy_accuracy, execution_time]],\n",
        "    columns=['Validation Accuracy', 'Temps (sec)'],\n",
        "    index=['Dummy']\n",
        "    )\n",
        "display(resultat_naif.style.apply(surligne_meilleur, axis=1))"
      ]
    },
    {
      "cell_type": "markdown",
      "metadata": {
        "id": "ufB4B2ty07F7"
      },
      "source": [
        "# <span style='background:blue'>Etape 4 : MLP</span>\n",
        "\n",
        "Pour cette classification d'image automatique, nous allons utiliser un\n",
        "**perceptron multicouche** (*MultiLayer Perceptron*, **MLP**)."
      ]
    },
    {
      "cell_type": "markdown",
      "metadata": {
        "id": "RaDxPw8t07F7"
      },
      "source": [
        "## <span style='background:green'>1/ Prétraitement des données</span>\n",
        "\n",
        "### <span style='background:black'>a/ target</span>\n",
        "\n",
        "Le prétraitement de la target consiste à transformer les catégories avec un **OneHotEncoder** pour pouvoir les utiliser dans le modèle de machine learning."
      ]
    },
    {
      "cell_type": "code",
      "execution_count": 69,
      "metadata": {
        "id": "l24o9fV207F7"
      },
      "outputs": [],
      "source": [
        "# OneHotEncoder des target d'entrainement, validation et test\n",
        "y_train_pretraited = to_categorical(y_train)\n",
        "y_val_pretraited = to_categorical(y_val)\n",
        "y_test_pretraited = to_categorical(y_test)"
      ]
    },
    {
      "cell_type": "markdown",
      "metadata": {
        "id": "sTUCoI4x07F7"
      },
      "source": [
        "Nous visualisons les 3 jeux de données pour vérifier que le prétraitement de la\n",
        "target a bien été réalisé."
      ]
    },
    {
      "cell_type": "code",
      "execution_count": 70,
      "metadata": {
        "colab": {
          "base_uri": "https://localhost:8080/",
          "height": 472
        },
        "id": "VcfdlZ9707F7",
        "outputId": "a224c242-bd24-47a4-dc90-69eebf14c2ce"
      },
      "outputs": [
        {
          "data": {
            "image/png": "[encoded data removed]",
            "text/plain": [
              "<Figure size 640x480 with 2 Axes>"
            ]
          },
          "metadata": {},
          "output_type": "display_data"
        }
      ],
      "source": [
        "affiche_heatmap(y_train_pretraited, \"y_train_pretraited\")"
      ]
    },
    {
      "cell_type": "code",
      "execution_count": 71,
      "metadata": {
        "colab": {
          "base_uri": "https://localhost:8080/",
          "height": 472
        },
        "id": "bJ3L4-1m07F8",
        "outputId": "528c1726-b146-4cba-d73b-f6c8a5c6ad4c"
      },
      "outputs": [
        {
          "data": {
            "image/png": "[encoded data removed]",
            "text/plain": [
              "<Figure size 640x480 with 2 Axes>"
            ]
          },
          "metadata": {},
          "output_type": "display_data"
        }
      ],
      "source": [
        "affiche_heatmap(y_val_pretraited, \"y_val_pretraited\")"
      ]
    },
    {
      "cell_type": "code",
      "execution_count": 72,
      "metadata": {
        "colab": {
          "base_uri": "https://localhost:8080/",
          "height": 472
        },
        "id": "1vq8wJyc07F8",
        "outputId": "8b1ee0fc-01f6-411e-92f8-e32516d2378b"
      },
      "outputs": [
        {
          "data": {
            "image/png": "[encoded data removed]",
            "text/plain": [
              "<Figure size 640x480 with 2 Axes>"
            ]
          },
          "metadata": {},
          "output_type": "display_data"
        }
      ],
      "source": [
        "affiche_heatmap(y_test_pretraited, \"y_test_pretraited\")"
      ]
    },
    {
      "cell_type": "markdown",
      "metadata": {
        "id": "UA9rbenB07F8"
      },
      "source": [
        "### <span style='background:black'>b/ features</span>\n",
        "\n",
        "Le prétraitement des features pour le **MLP** se déroule en plusieurs étapes :\n",
        "- Redimensionnement de l'images en 224 x 224 pixels\n",
        "- Convertion de l'image en tableau NumPy\n",
        "- Certification des dimensions (hauteur, largeur, couleur)"
      ]
    },
    {
      "cell_type": "code",
      "execution_count": 73,
      "metadata": {
        "id": "bhBaSiTr07F8"
      },
      "outputs": [],
      "source": [
        "# Prétraitement jeu entrainement\n",
        "X_train_pretraited = pretraitement_image(X_train, 'mlp')\n",
        "\n",
        "# Prétraitement jeu validation\n",
        "X_val_pretraited = pretraitement_image(X_val, 'mlp')\n",
        "\n",
        "# Prétraitement jeu test\n",
        "X_test_pretraited = pretraitement_image(X_test, 'mlp')"
      ]
    },
    {
      "cell_type": "markdown",
      "metadata": {
        "id": "RU2MHO-Z07F9"
      },
      "source": [
        "Nous vérifions les dimensions des images pour vérifier que le prétraitement des features a bien été réalisé."
      ]
    },
    {
      "cell_type": "code",
      "execution_count": 74,
      "metadata": {
        "colab": {
          "base_uri": "https://localhost:8080/"
        },
        "id": "NT8ZdHP007F9",
        "outputId": "17243496-219b-4834-e9b2-79f77bac2f7f"
      },
      "outputs": [
        {
          "name": "stdout",
          "output_type": "stream",
          "text": [
            "X_train_pretraited :  (735, 224, 224, 3)\n",
            "X_val_pretraited :  (157, 224, 224, 3)\n",
            "X_test_pretraited :  (158, 224, 224, 3)\n"
          ]
        }
      ],
      "source": [
        "print(\"X_train_pretraited : \", X_train_pretraited.shape)\n",
        "print(\"X_val_pretraited : \", X_val_pretraited.shape)\n",
        "print(\"X_test_pretraited : \", X_test_pretraited.shape)"
      ]
    },
    {
      "cell_type": "markdown",
      "metadata": {
        "id": "rcUmGQ2V07F9"
      },
      "source": [
        "## <span style='background:green'>2/ Elaboration du modèle</span>\n",
        "\n",
        "### <span style='background:black'>a/ Architecture</span>\n",
        "\n",
        "Le modèle MLP présente la structure suivante :\n",
        "- 1 couche d'entrée de forme (224, 224, 3)\n",
        "- 1 couche Flatten pour aplatir les données d'entrée\n",
        "- 2 couches Dense avec 10 neurones chacune et 1 fonction d'activation ReLU\n",
        "- 1 couche Dense avec 7 neurones et une fonction d'activation sigmoid\n",
        "\n",
        "### <span style='background:black'>b/ Compilation et métrique d'évaluation</span>\n",
        "\n",
        "Le modèle est compilé avec :\n",
        "- la fonction de perte '**categorical_crossentropy**' qui est adaptée à la classification multiclasse où les étiquettes sont codées en OneHotEncoder.\n",
        "\n",
        "- l'optimiseur '**rmsprop**' qui est un algoritme d'optimisation intéressant pour les réseaux de neurones profonds.\n",
        "\n",
        "- la métrique d'évaluation '**accuracy**' qui est une métrique très utilisée pour les problèmes de classification. Elle mesure le pourcentage de prédictions correctes du modèle. Sa principale limite est de présenter une image  trompeuse de la perfomance du modèle si les classes sont déséquilibrées, ce qui n'est pas le cas ici puisque nos 7 classes sont parfaitement équilibrées (150 images par classe)."
      ]
    },
    {
      "cell_type": "code",
      "execution_count": 75,
      "metadata": {
        "id": "1YnkqRWF07F9"
      },
      "outputs": [],
      "source": [
        "fonction_perte = 'categorical_crossentropy'\n",
        "optimiseur = 'rmsprop'\n",
        "metric_eval = 'accuracy'"
      ]
    },
    {
      "cell_type": "markdown",
      "metadata": {
        "id": "LHzB9NHu07F9"
      },
      "source": [
        "\n",
        "### <span style='background:black'>c/ Callbacks</span>\n",
        "\n",
        "Les callbacks sont des fonctions qui sont appelées à des moments précis de\n",
        "l'entrainement du modèle pour effectuer des actions spécifiques.\n",
        "\n",
        "Nous créons 2 callbacks :\n",
        "- **ModelCheckpoint** pour sauvegarder le meilleur modèle pendant l'entrainement. Cela permet de conserver les poids du modèle qui a présenté les meilleures performances (perte du jeu de validation la plus petite) même si le modèle commence à se détériorer ou à surapprendre par la suite.\n",
        "\n",
        "- **EarlyStopping** pour arrêter l'entrainement si val_loss (la perte du jeu de validation) ne diminue plus après 3 epochs. Cela permet de gagner du temps d'entrainement et d'éviter de surapprendre le modèle pour avoir une meilleure généralisation."
      ]
    },
    {
      "cell_type": "code",
      "execution_count": 76,
      "metadata": {
        "id": "OzqUWfU807F-"
      },
      "outputs": [],
      "source": [
        "# Nombre d'epochs pour la patience\n",
        "patience = 3"
      ]
    },
    {
      "cell_type": "markdown",
      "metadata": {
        "id": "Eb1A-O_907F-"
      },
      "source": [
        "### <span style='background:black'>d/ Indicateur supplémentaire</span>\n",
        "\n",
        "Pour comparer les performances des différents modèles, nous utilisons un indicateur supplémentaire pour améliorer notre prise de décision en mesurant le **temps de calcul nécessaire pour l'entrainement du modèle.** En effet, l'accuracy seule ne suffit pas à déterminer le meilleur modèle, il faut également que celui-ci réalise ses calculs en un minimun de temps.\n",
        "\n",
        "=> Le choix de l'indicateur est donc un compromis entre l'accuracy et le temps de calcul.\n",
        "\n",
        "### <span style='background:black'>e/ Optimisation hyperparamètre</span>\n",
        "\n",
        "Nous déterminons le meilleur modèle en ajustant l'hyperparamètre **batch_size** (nombre d'images utilisées pour chaque mise à jour du modèle) mais on fixant le nombre d'epochs :\n",
        "- epochs = 15\n",
        "- batch_size = 32, 64, 128, 256 et 512"
      ]
    },
    {
      "cell_type": "markdown",
      "metadata": {},
      "source": [
        " <span style='background:red'>A FAIRE</span>\n"
      ]
    },
    {
      "cell_type": "code",
      "execution_count": 77,
      "metadata": {
        "colab": {
          "base_uri": "https://localhost:8080/"
        },
        "id": "rHAfLmg407F-",
        "outputId": "9b4ba083-f7f6-4cd7-f950-ab1ef7651eea"
      },
      "outputs": [
        {
          "name": "stdout",
          "output_type": "stream",
          "text": [
            "Les calculs ont deja tournés sur Google Colab\n"
          ]
        }
      ],
      "source": [
        "# Définir les batch_sizes à tester\n",
        "batch_sizes = [32, 64, 128, 256, 512]\n",
        "\n",
        "# SI fichier des resultats existe ALORS on passe\n",
        "if is_modele_mlp_calculed:\n",
        "    print(\"Les calculs ont deja tournés sur Google Colab\")\n",
        "\n",
        "# SINON il n'existe pas et il faut faire les calculs\n",
        "else:\n",
        "\n",
        "    # Créer des dictionnaires vides pour stocker l'historique, temps, epochs\n",
        "    history_dict, time_dict, epoch_dict = {}, {}, {}\n",
        "\n",
        "    # POUR chaque batch_size\n",
        "    for batch_size in batch_sizes:\n",
        "        print(\"\\n\", \"=\" * 30, \"batch_size :\", batch_size, \"=\" * 30)\n",
        "\n",
        "        # Créer un modèle MLP\n",
        "        model_mlp = creation_modele_mlp(\n",
        "            fonction_perte,\n",
        "            optimiseur,\n",
        "            metric_eval,\n",
        "            )\n",
        "\n",
        "        # Création des callbacks\n",
        "        callbacks_list, chemin_modele_export = creer_callbacks(\n",
        "            \"model_mlp\",\n",
        "            patience,\n",
        "            batch_size\n",
        "            )\n",
        "\n",
        "        # Enregistrer le temps de début\n",
        "        start_time = time.time()\n",
        "\n",
        "        # Entraîner le modèle\n",
        "        history_mlp = model_mlp.fit(\n",
        "            X_train_pretraited,\n",
        "            y_train_pretraited,\n",
        "            epochs=15,\n",
        "            batch_size=batch_size,\n",
        "            callbacks=callbacks_list,\n",
        "            validation_data=(X_val_pretraited, y_val_pretraited),\n",
        "            verbose=0\n",
        "            )\n",
        "\n",
        "        # Enregistrer le temps de fin\n",
        "        end_time = time.time()\n",
        "\n",
        "        # Calculer le temps d'entraînement\n",
        "        training_time = end_time - start_time\n",
        "        print(f\"\\n=> Temps d'entraînement : {round(training_time, 2)} sec <=\")\n",
        "\n",
        "        # Calculer le nombre d'epochs\n",
        "        epochs = len(history_mlp.history['loss'])\n",
        "\n",
        "        # Stocker l'historique, le temps d'entraînement et le nombre d'epochs\n",
        "        history_dict[batch_size] = history_mlp.history\n",
        "        time_dict[batch_size] = training_time\n",
        "        epoch_dict[batch_size] = epochs"
      ]
    },
    {
      "cell_type": "markdown",
      "metadata": {
        "id": "1FLdHgh407F-"
      },
      "source": [
        "Comparons les résultats obtenus pour les différents batch_size :"
      ]
    },
    {
      "cell_type": "code",
      "execution_count": 78,
      "metadata": {
        "colab": {
          "base_uri": "https://localhost:8080/",
          "height": 242
        },
        "id": "KTZySJ8407F_",
        "outputId": "eabb7c2e-daf0-4528-912f-196b9b7782f0"
      },
      "outputs": [
        {
          "name": "stdout",
          "output_type": "stream",
          "text": [
            "Les calculs ont deja tournés sur Google Colab\n",
            "\n",
            "Meilleur batch_size (accuracy): 2\n"
          ]
        },
        {
          "data": {
            "text/html": [
              "<style type=\"text/css\">\n",
              "#T_c0e03_row2_col0, #T_c0e03_row4_col1 {\n",
              "  background-color: green;\n",
              "}\n",
              "</style>\n",
              "<table id=\"T_c0e03\">\n",
              "  <thead>\n",
              "    <tr>\n",
              "      <th class=\"blank level0\" >&nbsp;</th>\n",
              "      <th id=\"T_c0e03_level0_col0\" class=\"col_heading level0 col0\" >Validation Accuracy</th>\n",
              "      <th id=\"T_c0e03_level0_col1\" class=\"col_heading level0 col1\" >Temps (sec)</th>\n",
              "      <th id=\"T_c0e03_level0_col2\" class=\"col_heading level0 col2\" >Epochs</th>\n",
              "    </tr>\n",
              "  </thead>\n",
              "  <tbody>\n",
              "    <tr>\n",
              "      <th id=\"T_c0e03_level0_row0\" class=\"row_heading level0 row0\" >0</th>\n",
              "      <td id=\"T_c0e03_row0_col0\" class=\"data row0 col0\" >0.140127</td>\n",
              "      <td id=\"T_c0e03_row0_col1\" class=\"data row0 col1\" >14.419437</td>\n",
              "      <td id=\"T_c0e03_row0_col2\" class=\"data row0 col2\" >15</td>\n",
              "    </tr>\n",
              "    <tr>\n",
              "      <th id=\"T_c0e03_level0_row1\" class=\"row_heading level0 row1\" >1</th>\n",
              "      <td id=\"T_c0e03_row1_col0\" class=\"data row1 col0\" >0.140127</td>\n",
              "      <td id=\"T_c0e03_row1_col1\" class=\"data row1 col1\" >17.034276</td>\n",
              "      <td id=\"T_c0e03_row1_col2\" class=\"data row1 col2\" >15</td>\n",
              "    </tr>\n",
              "    <tr>\n",
              "      <th id=\"T_c0e03_level0_row2\" class=\"row_heading level0 row2\" >2</th>\n",
              "      <td id=\"T_c0e03_row2_col0\" class=\"data row2 col0\" >0.146497</td>\n",
              "      <td id=\"T_c0e03_row2_col1\" class=\"data row2 col1\" >10.458669</td>\n",
              "      <td id=\"T_c0e03_row2_col2\" class=\"data row2 col2\" >11</td>\n",
              "    </tr>\n",
              "    <tr>\n",
              "      <th id=\"T_c0e03_level0_row3\" class=\"row_heading level0 row3\" >3</th>\n",
              "      <td id=\"T_c0e03_row3_col0\" class=\"data row3 col0\" >0.140127</td>\n",
              "      <td id=\"T_c0e03_row3_col1\" class=\"data row3 col1\" >10.040835</td>\n",
              "      <td id=\"T_c0e03_row3_col2\" class=\"data row3 col2\" >15</td>\n",
              "    </tr>\n",
              "    <tr>\n",
              "      <th id=\"T_c0e03_level0_row4\" class=\"row_heading level0 row4\" >4</th>\n",
              "      <td id=\"T_c0e03_row4_col0\" class=\"data row4 col0\" >0.140127</td>\n",
              "      <td id=\"T_c0e03_row4_col1\" class=\"data row4 col1\" >8.732157</td>\n",
              "      <td id=\"T_c0e03_row4_col2\" class=\"data row4 col2\" >11</td>\n",
              "    </tr>\n",
              "  </tbody>\n",
              "</table>\n"
            ],
            "text/plain": [
              "<pandas.io.formats.style.Styler at 0x2e232de5a10>"
            ]
          },
          "execution_count": 78,
          "metadata": {},
          "output_type": "execute_result"
        }
      ],
      "source": [
        "# SI fichier des resultats existe ALORS on passe\n",
        "if is_modele_mlp_calculed:\n",
        "    print(\"Les calculs ont deja tournés sur Google Colab\")\n",
        "\n",
        "# SINON il n'existe pas et il faut faire les calculs\n",
        "else:\n",
        "\n",
        "    # Créer un DataFrame à partir de l'historique\n",
        "    resultat_mlp = pd.DataFrame(\n",
        "        {k: v['val_accuracy'][-1] for k, v in history_dict.items()},\n",
        "        index=[0]\n",
        "        )\n",
        "\n",
        "    # Transposer le DataFrame (batch_sizes en index)\n",
        "    resultat_mlp = resultat_mlp.transpose()\n",
        "\n",
        "    # Renommer la colonne\n",
        "    resultat_mlp.columns = ['Validation Accuracy']\n",
        "\n",
        "    # Ajouter les temps d'entraînement et nombre d'epoch au DataFrame\n",
        "    resultat_mlp['Temps (sec)'] = pd.Series(time_dict)\n",
        "    resultat_mlp['Epochs'] = pd.Series(epoch_dict)\n",
        "\n",
        "    # Sauvegarder le DataFrame dans un fichier CSV\n",
        "    resultat_mlp.to_csv('resultat_mlp.csv', index=False)\n",
        "\n",
        "# Afficher le batch_size avec la meilleure accuracy de validation\n",
        "batch_meilleur_mlp = resultat_mlp['Validation Accuracy'].idxmax()\n",
        "print(f\"\\nMeilleur batch_size (accuracy): {batch_meilleur_mlp}\")\n",
        "\n",
        "# Surligner les meilleures valeurs\n",
        "resultat_mlp.style.apply(surligne_meilleur)"
      ]
    },
    {
      "cell_type": "markdown",
      "metadata": {
        "id": "QmJ6yoru07F_"
      },
      "source": [
        "Les meilleurs performances sont obtenues pour un batch_size de 128 (accuracy de validation la plus grande et temps de calcul le plus faible).\n",
        "\n",
        "Nous choississons donc le batch_size de 128 pour la suite des analyses avec le **MLP**."
      ]
    },
    {
      "cell_type": "markdown",
      "metadata": {
        "id": "YINBadI607F_"
      },
      "source": [
        "## <span style='background:green'>3/ Modèle optimal</span>\n",
        "\n",
        "### <span style='background:black'>a/Création et entrainement</span>\n",
        "\n",
        "Nous entrainons à nouveau le modèle avec le bon batch_size pour obtenir le modèle optimal."
      ]
    },
    {
      "cell_type": "code",
      "execution_count": 79,
      "metadata": {
        "colab": {
          "base_uri": "https://localhost:8080/"
        },
        "id": "ueM4etSM07F_",
        "outputId": "3c8040d8-807e-4f6f-8fbf-935d3a839b43"
      },
      "outputs": [
        {
          "name": "stdout",
          "output_type": "stream",
          "text": [
            "Les calculs ont deja tournés sur Google Colab\n"
          ]
        }
      ],
      "source": [
        "# SI fichier des resultats existe ALORS on passe\n",
        "if is_modele_mlp_calculed:\n",
        "    print(\"Les calculs ont deja tournés sur Google Colab\")\n",
        "\n",
        "# SINON on realise les calculs\n",
        "else:\n",
        "    print(\"On fait les calculs.\")\n",
        "\n",
        "    # Créer le modèle optimal MLP\n",
        "    model_optimal_mlp = creation_modele_mlp(\n",
        "        fonction_perte,\n",
        "        optimiseur,\n",
        "        metric_eval,\n",
        "    )\n",
        "\n",
        "    # Création des callbacks\n",
        "    callbacks_list, chemin_modele_export = creer_callbacks(\n",
        "        \"model_optimal_mlp\",\n",
        "        patience,\n",
        "    )\n",
        "\n",
        "    # Entraîner le modèle avec batch__meilleur_mlp\n",
        "    history_optimal_mlp = model_optimal_mlp.fit(\n",
        "        X_train_pretraited,\n",
        "        y_train_pretraited,\n",
        "        epochs=15,\n",
        "        batch_size=batch_meilleur_mlp,\n",
        "        callbacks=callbacks_list,\n",
        "        validation_data=(X_val_pretraited, y_val_pretraited),\n",
        "        verbose=0\n",
        "    )\n",
        "\n",
        "    # Sauvegarder l'objet history\n",
        "    with open(\"history_optimal_mlp.pickle\", 'wb') as f:\n",
        "        pickle.dump(history_optimal_mlp.history, f)"
      ]
    },
    {
      "cell_type": "markdown",
      "metadata": {
        "id": "hU9xclvT07F_"
      },
      "source": [
        "### <span style='background:black'>b/ Plot loss et accuracy</span>\n",
        "\n",
        "Nous affichons l'évolution de la perte et de l'accuracy pour le jeu d'entrainement et le jeu de validation au cours des epoch."
      ]
    },
    {
      "cell_type": "code",
      "execution_count": 80,
      "metadata": {
        "colab": {
          "base_uri": "https://localhost:8080/",
          "height": 528
        },
        "id": "6heNZtx507GA",
        "outputId": "ff2cf671-96c9-4284-e79e-8f4e009456de"
      },
      "outputs": [
        {
          "data": {
            "image/png": "[encoded data removed]",
            "text/plain": [
              "<Figure size 1000x500 with 2 Axes>"
            ]
          },
          "metadata": {},
          "output_type": "display_data"
        }
      ],
      "source": [
        "# Afficher l'historique de l'entraînement\n",
        "show_history(history_optimal_mlp)\n",
        "\n",
        "# Definir le chemin d'export de la figure\n",
        "dossier_figure = \"./figure/\"\n",
        "nom_figure = \"history_optimal_mlp.png\"\n",
        "chemin_figure_export = os.path.join(dossier_figure, nom_figure)\n",
        "\n",
        "# Sauvegarder le plot de l'historique de l'entraînement\n",
        "plot_history(history_optimal_mlp, path=chemin_figure_export)\n",
        "plt.close()"
      ]
    },
    {
      "cell_type": "markdown",
      "metadata": {
        "id": "PFgfah4v07GA"
      },
      "source": [
        "Nous remarquons que le modèle présente une perte de validation faible (0,14), ce qui est un bon indicateur de la qualité du modèle. En revanche, nous remarquons que l'accuracy de validation est très faible (< 0,2).\n",
        "\n",
        "Ce modèle présente présente un **surapprentissage** important puisqu'il a appris \"par coeur\" les données d'entrainement mais il n'est pas capable de généraliser sur les données de validation."
      ]
    },
    {
      "cell_type": "markdown",
      "metadata": {
        "id": "SVr0BrAe07GA"
      },
      "source": [
        "### <span style='background:black'>c/ Comparatif des accuracy</span>\n",
        "\n",
        "Nous comparons les accuracy du modèle optimal (MLP) avec les poids du meilleur modèle pour les 3 jeux de données (entrainement, validation et test)."
      ]
    },
    {
      "cell_type": "code",
      "execution_count": 81,
      "metadata": {
        "colab": {
          "base_uri": "https://localhost:8080/"
        },
        "id": "5aM2T6EZ07GA",
        "outputId": "33c01dce-49ea-4c15-f116-582c822ffce6"
      },
      "outputs": [
        {
          "name": "stdout",
          "output_type": "stream",
          "text": [
            "23/23 [==============================] - 1s 4ms/step - loss: 1.9459 - accuracy: 0.1429\n",
            "Training Accuracy   :  0.143\n",
            "5/5 [==============================] - 0s 4ms/step - loss: 1.9459 - accuracy: 0.1401\n",
            "Validation Accuracy :  0.140\n",
            "5/5 [==============================] - 0s 4ms/step - loss: 1.9459 - accuracy: 0.1456\n",
            "Test Accuracy       :  0.146\n"
          ]
        }
      ],
      "source": [
        "# Charger les poids du meilleur modèle\n",
        "model_optimal_mlp.load_weights(\"./modele_ML/model_optimal_mlp_best_weights.h5\")\n",
        "\n",
        "# Evaluation meilleur modèle sur les données d'entraînement\n",
        "loss_mlp_train, accuracy_mlp_train = model_optimal_mlp.evaluate(\n",
        "    X_train_pretraited,\n",
        "    y_train_pretraited\n",
        ")\n",
        "print(\"Training Accuracy   :  {:.3f}\".format(accuracy_mlp_train))\n",
        "\n",
        "# Evaluation meilleur modèle sur les données de validation\n",
        "loss_mlp_val, accuracy_mlp_val = model_optimal_mlp.evaluate(\n",
        "    X_val_pretraited,\n",
        "    y_val_pretraited\n",
        ")\n",
        "print(\"Validation Accuracy :  {:.3f}\".format(accuracy_mlp_val))\n",
        "\n",
        "# Evaluation meilleur modèle sur les données de test\n",
        "loss_mlp_test, accuracy_mlp_test = model_optimal_mlp.evaluate(\n",
        "    X_test_pretraited,\n",
        "    y_test_pretraited\n",
        ")\n",
        "print(\"Test Accuracy       :  {:.3f}\".format(accuracy_mlp_test))"
      ]
    },
    {
      "cell_type": "markdown",
      "metadata": {
        "id": "x7EmTXnB07GA"
      },
      "source": [
        "Les 3 accuracy sont proches mais faibles (< 0,15)."
      ]
    },
    {
      "cell_type": "markdown",
      "metadata": {
        "id": "yqFfMK5407GB"
      },
      "source": [
        "### <span style='background:black'>d/ Matrice de confusion</span>\n",
        "\n",
        "Nous affichons les valeurs réelles et celles prédites par le modèle optimal pour les données de validation."
      ]
    },
    {
      "cell_type": "code",
      "execution_count": 82,
      "metadata": {
        "colab": {
          "base_uri": "https://localhost:8080/"
        },
        "id": "rPAC0usd07GB",
        "outputId": "3e93a530-e019-4e35-fd43-576eb615a785"
      },
      "outputs": [
        {
          "name": "stdout",
          "output_type": "stream",
          "text": [
            "5/5 [==============================] - 0s 3ms/step\n",
            "Categorie reelle :  [1 5 6 2 5 2 2 6 5 6 5 6 6 2 3 0 3 0 1 6 1 0 6 1 1 1 1 2 6 4] \n",
            "\n",
            "Categorie prédite :  [4 4 4 4 4 4 4 4 4 4 4 4 4 4 4 4 4 4 4 4 4 4 4 4 4 4 4 4 4 4]\n"
          ]
        }
      ],
      "source": [
        "# Categorie réelle et prédites des images de validation\n",
        "y_val_num = np.argmax(y_val_pretraited, axis=1)\n",
        "y_val_pred = np.argmax(model_optimal_mlp.predict(X_val_pretraited), axis=1)\n",
        "\n",
        "# Afficher les 30 premières catégories réelles et prédites\n",
        "print(\"Categorie reelle : \", y_val_num[:30], \"\\n\")\n",
        "print(\"Categorie prédite : \", y_val_pred[:30])"
      ]
    },
    {
      "cell_type": "markdown",
      "metadata": {
        "id": "7T_Sn6g207GC"
      },
      "source": [
        "Il semblerait que le modèle optimal MLP n'a fait que prédire une seule catégorie pour toutes les images de validation."
      ]
    },
    {
      "cell_type": "code",
      "execution_count": 83,
      "metadata": {
        "colab": {
          "base_uri": "https://localhost:8080/",
          "height": 99
        },
        "id": "G-vAxqZa07GC",
        "outputId": "a1bc6a15-7908-4b5b-c404-5d781b2fbb2e"
      },
      "outputs": [
        {
          "data": {
            "text/html": [
              "<div>\n",
              "<style scoped>\n",
              "    .dataframe tbody tr th:only-of-type {\n",
              "        vertical-align: middle;\n",
              "    }\n",
              "\n",
              "    .dataframe tbody tr th {\n",
              "        vertical-align: top;\n",
              "    }\n",
              "\n",
              "    .dataframe thead th {\n",
              "        text-align: right;\n",
              "    }\n",
              "</style>\n",
              "<table border=\"1\" class=\"dataframe\">\n",
              "  <thead>\n",
              "    <tr style=\"text-align: right;\">\n",
              "      <th></th>\n",
              "      <th>Nombre</th>\n",
              "      <th>Pourcentage</th>\n",
              "    </tr>\n",
              "    <tr>\n",
              "      <th>categorie_predite</th>\n",
              "      <th></th>\n",
              "      <th></th>\n",
              "    </tr>\n",
              "  </thead>\n",
              "  <tbody>\n",
              "    <tr>\n",
              "      <th>4</th>\n",
              "      <td>157</td>\n",
              "      <td>100.0</td>\n",
              "    </tr>\n",
              "  </tbody>\n",
              "</table>\n",
              "</div>"
            ],
            "text/plain": [
              "                   Nombre  Pourcentage\n",
              "categorie_predite                     \n",
              "4                     157        100.0"
            ]
          },
          "metadata": {},
          "output_type": "display_data"
        },
        {
          "name": "stdout",
          "output_type": "stream",
          "text": [
            "La seul categorie predite est : Kitchen & Dining \n"
          ]
        }
      ],
      "source": [
        "# Créer un DataFrame à partir de y_val_pred\n",
        "y_val_pred_df = pd.DataFrame(y_val_pred, columns=['categorie_predite'])\n",
        "\n",
        "# Obtenir le nombre de chaque valeur unique\n",
        "unique_counts = y_val_pred_df['categorie_predite'].value_counts()\n",
        "\n",
        "# Obtenir le pourcentage de chaque valeur unique\n",
        "unique_percentages = y_val_pred_df['categorie_predite'].value_counts(\n",
        "    normalize=True) * 100\n",
        "\n",
        "# Créer un DataFrame pour afficher les résultats\n",
        "result = pd.DataFrame({\n",
        "    'Nombre': unique_counts,\n",
        "    'Pourcentage': unique_percentages\n",
        "})\n",
        "\n",
        "# Afficher les résultats\n",
        "display(result)\n",
        "print(f\"La seul categorie predite est : {categories[unique_counts.index[0]]}\")"
      ]
    },
    {
      "cell_type": "markdown",
      "metadata": {
        "id": "k02pgvqG07GC"
      },
      "source": [
        "Nous confirmons les résultats en affichant la matrice de confusion et le rapport de classification."
      ]
    },
    {
      "cell_type": "code",
      "execution_count": 84,
      "metadata": {
        "colab": {
          "base_uri": "https://localhost:8080/",
          "height": 839
        },
        "id": "gsEaZdBX07GC",
        "outputId": "f83c802c-fd23-420e-9a45-587c5a9a0eab"
      },
      "outputs": [
        {
          "name": "stdout",
          "output_type": "stream",
          "text": [
            "\n",
            "Correspondance des clusters :  [0 0 0 0 0 0 0]\n"
          ]
        },
        {
          "data": {
            "image/png": "[encoded data removed]",
            "text/plain": [
              "<Figure size 600x400 with 2 Axes>"
            ]
          },
          "metadata": {},
          "output_type": "display_data"
        },
        {
          "name": "stdout",
          "output_type": "stream",
          "text": [
            "              precision    recall  f1-score   support\n",
            "\n",
            "           0       0.15      1.00      0.26        23\n",
            "           1       1.00      0.00      0.00        23\n",
            "           2       1.00      0.00      0.00        22\n",
            "           3       1.00      0.00      0.00        22\n",
            "           4       1.00      0.00      0.00        22\n",
            "           5       1.00      0.00      0.00        23\n",
            "           6       1.00      0.00      0.00        22\n",
            "\n",
            "    accuracy                           0.15       157\n",
            "   macro avg       0.88      0.14      0.04       157\n",
            "weighted avg       0.87      0.15      0.04       157\n",
            "\n"
          ]
        }
      ],
      "source": [
        "# Verifier la correspondance des clusters\n",
        "y_val_pred_transform = conf_mat_transform_argmax(y_val_num, y_val_pred)\n",
        "\n",
        "# Afficher la matrice de confusion et le rapport de classification\n",
        "conf_mat_mlp = matrice_conf_et_rapport(\n",
        "    y_val_num,\n",
        "    y_val_pred_transform,\n",
        "    categories\n",
        "    )"
      ]
    },
    {
      "cell_type": "markdown",
      "metadata": {
        "id": "PJitjad307GC"
      },
      "source": [
        "Le modèle optimal MLP presente un f-score < 0,16."
      ]
    },
    {
      "cell_type": "markdown",
      "metadata": {
        "id": "tnv9iazn07GC"
      },
      "source": [
        "<div class=\"alert alert-block alert-success\"><b>Bilan: </b> <br>\n",
        "Le modèle optimal MLP présente des performances très faibles qui sont équivalentes à un classifieur naïf en ne prédisant qu'une seule catégorie. </div>"
      ]
    },
    {
      "cell_type": "markdown",
      "metadata": {
        "id": "kuMAxrU507GC"
      },
      "source": [
        "# <span style='background:blue'>Etape 5 : CNN</span>\n",
        "\n",
        "Pour cette classification d'image automatique, nous allons utiliser un Convolutionnal Neural Network (**CNN**)."
      ]
    },
    {
      "cell_type": "markdown",
      "metadata": {
        "id": "GTyAIE9j07GC"
      },
      "source": [
        "## <span style='background:green'>1/ Prétraitement des données</span>\n",
        "\n",
        "### <span style='background:black'>a/ target</span>\n",
        "\n",
        "Nous utilisons le même prétraitement de la target que précedemment. Pour rappel, il consiste à transformer les catégories avec un **OneHotEncoder** pour pouvoir les utiliser dans le modèle de machine learning."
      ]
    },
    {
      "cell_type": "markdown",
      "metadata": {
        "id": "dusFP2bd07GD"
      },
      "source": [
        "### <span style='background:black'>b/ features</span>\n",
        "\n",
        "Nous utilisons le même prétraitement des features que précedemment. Pour rappel, il se déroule en plusieurs étapes :\n",
        "- Redimensionnement de l'images en 224 x 224 pixels\n",
        "- Convertion de l'image en tableau NumPy\n",
        "- Certification des dimensions (hauteur, largeur, couleur)"
      ]
    },
    {
      "cell_type": "markdown",
      "metadata": {
        "id": "8cFmyg-207GD"
      },
      "source": [
        "## <span style='background:green'>2/ Elaboration du modèle</span>\n",
        "\n",
        "### <span style='background:black'>a/ Architecture</span>\n",
        "\n",
        "Le modèle CNN présente la structure suivante :\n",
        "- 1 couche de convolution avec 64 filtres de taille 3 x 3 et une fonction d'activation ReLU\n",
        "- 1 couche de pooling avec un filtre de taille 2 x 2\n",
        "- 1 couche de flatten pour applatir les sorties des couches précédentes en un vecteur\n",
        "- 1 couche dense avec 112 neurones et une fonction d'activation ReLU\n",
        "- 1 couche de sortie avec 7 neurones et une fonction d'activation softmax\n",
        "\n",
        "### <span style='background:black'>b/ Compilation et métrique d'évaluation</span>\n",
        "\n",
        "Le modèle est compilé avec les mêmes paramètres que précedemment, à savoir :\n",
        "- la fonction de perte '**categorical_crossentropy**'\n",
        "\n",
        "- l'optimiseur '**rmsprop**'\n",
        "\n",
        "- la métrique d'évaluation '**accuracy**'"
      ]
    },
    {
      "cell_type": "markdown",
      "metadata": {
        "id": "4yktAKro07GD"
      },
      "source": [
        "### <span style='background:black'>c/ Callbacks</span>\n",
        "\n",
        "Nous utilisons les mêmes callbacks que précedemment, à savoir :\n",
        "\n",
        "- **ModelCheckpoint** pour sauvegarder le meilleur modèle pendant l'entrainement.\n",
        "\n",
        "- **EarlyStopping** pour arrêter l'entrainement si val_loss (la perte du jeu de validation) ne diminue plus après 3 epochs."
      ]
    },
    {
      "cell_type": "markdown",
      "metadata": {
        "id": "a7ceHsMv07GD"
      },
      "source": [
        "### <span style='background:black'>d/ Indicateur supplémentaire</span>\n",
        "\n",
        "Nous utilisons le même indicateur supplémentaire que précedemment, à savoir le **temps de calcul**.\n",
        "\n",
        "### <span style='background:black'>e/ Optimisation hyperparamètre</span>\n",
        "\n",
        "Nous utilisont les mêmes paramètres que précedemment, à savoir :\n",
        "- epochs = 15\n",
        "- batch_size = 32, 64, 128, 256 et 512"
      ]
    },
    {
      "cell_type": "code",
      "execution_count": 85,
      "metadata": {
        "colab": {
          "base_uri": "https://localhost:8080/"
        },
        "id": "XKtJfIjd07GD",
        "outputId": "6eb894bd-6071-40bc-b5ae-110ac4a0a1de"
      },
      "outputs": [
        {
          "name": "stdout",
          "output_type": "stream",
          "text": [
            "Les calculs ont deja tournés sur Google Colab\n"
          ]
        }
      ],
      "source": [
        "# SI fichier des resultats existe ALORS on passe\n",
        "if is_modele_cnn_calculed:\n",
        "    print(\"Les calculs ont deja tournés sur Google Colab\")\n",
        "\n",
        "# SINON il n'existe pas et il faut faire les calculs\n",
        "else:\n",
        "    # Créer des dictionnaires vides pour stocker l'historique, temps, epochs\n",
        "    history_dict, time_dict, epoch_dict = {}, {}, {}\n",
        "\n",
        "    # POUR chaque batch_size\n",
        "    for batch_size in batch_sizes:\n",
        "        print(\"\\n\", \"=\" * 30, \"batch_size :\", batch_size, \"=\" * 30)\n",
        "\n",
        "        # Créer un modèle CNN\n",
        "        model_cnn = creation_modele_cnn(\n",
        "            fonction_perte,\n",
        "            optimiseur,\n",
        "            metric_eval,\n",
        "            )\n",
        "\n",
        "        # Création des callbacks\n",
        "        callbacks_list, chemin_modele_export = creer_callbacks(\n",
        "            \"model_cnn\",\n",
        "            patience,\n",
        "            batch_size\n",
        "            )\n",
        "\n",
        "        # Enregistrer le temps de début\n",
        "        start_time = time.time()\n",
        "\n",
        "        # Entraîner le modèle\n",
        "        history_cnn = model_cnn.fit(\n",
        "            X_train_pretraited,\n",
        "            y_train_pretraited,\n",
        "            epochs=15,\n",
        "            batch_size=batch_size,\n",
        "            callbacks=callbacks_list,\n",
        "            validation_data=(X_val_pretraited, y_val_pretraited),\n",
        "            verbose=1\n",
        "            )\n",
        "\n",
        "        # Enregistrer le temps de fin\n",
        "        end_time = time.time()\n",
        "\n",
        "        # Calculer le temps d'entraînement\n",
        "        training_time = end_time - start_time\n",
        "        print(f\"\\n=> Temps d'entraînement : {round(training_time, 2)} sec <=\")\n",
        "\n",
        "        # Calculer le nombre d'epochs\n",
        "        epochs = len(history_cnn.history['loss'])\n",
        "\n",
        "        # Stocker l'historique, le temps d'entraînement et le nombre d'epochs\n",
        "        history_dict[batch_size] = history_cnn.history\n",
        "        time_dict[batch_size] = training_time\n",
        "        epoch_dict[batch_size] = epochs"
      ]
    },
    {
      "cell_type": "markdown",
      "metadata": {
        "id": "L-eLF6ao07GE"
      },
      "source": [
        "Comparons les résultats obtenus pour les différents batch_size :"
      ]
    },
    {
      "cell_type": "code",
      "execution_count": 86,
      "metadata": {
        "colab": {
          "base_uri": "https://localhost:8080/",
          "height": 242
        },
        "id": "2pu5HyDN07GE",
        "outputId": "cd83b65f-c73d-43bb-ab89-a3c54e05cff0"
      },
      "outputs": [
        {
          "name": "stdout",
          "output_type": "stream",
          "text": [
            "Les calculs ont deja tournés sur Google Colab\n",
            "\n",
            "Meilleur batch_size (accuracy): 3\n"
          ]
        },
        {
          "data": {
            "text/html": [
              "<style type=\"text/css\">\n",
              "#T_fee1b_row0_col1, #T_fee1b_row3_col0 {\n",
              "  background-color: green;\n",
              "}\n",
              "</style>\n",
              "<table id=\"T_fee1b\">\n",
              "  <thead>\n",
              "    <tr>\n",
              "      <th class=\"blank level0\" >&nbsp;</th>\n",
              "      <th id=\"T_fee1b_level0_col0\" class=\"col_heading level0 col0\" >Validation Accuracy</th>\n",
              "      <th id=\"T_fee1b_level0_col1\" class=\"col_heading level0 col1\" >Temps (sec)</th>\n",
              "      <th id=\"T_fee1b_level0_col2\" class=\"col_heading level0 col2\" >Epochs</th>\n",
              "    </tr>\n",
              "  </thead>\n",
              "  <tbody>\n",
              "    <tr>\n",
              "      <th id=\"T_fee1b_level0_row0\" class=\"row_heading level0 row0\" >0</th>\n",
              "      <td id=\"T_fee1b_row0_col0\" class=\"data row0 col0\" >0.375796</td>\n",
              "      <td id=\"T_fee1b_row0_col1\" class=\"data row0 col1\" >95.175338</td>\n",
              "      <td id=\"T_fee1b_row0_col2\" class=\"data row0 col2\" >9</td>\n",
              "    </tr>\n",
              "    <tr>\n",
              "      <th id=\"T_fee1b_level0_row1\" class=\"row_heading level0 row1\" >1</th>\n",
              "      <td id=\"T_fee1b_row1_col0\" class=\"data row1 col0\" >0.382166</td>\n",
              "      <td id=\"T_fee1b_row1_col1\" class=\"data row1 col1\" >135.972286</td>\n",
              "      <td id=\"T_fee1b_row1_col2\" class=\"data row1 col2\" >15</td>\n",
              "    </tr>\n",
              "    <tr>\n",
              "      <th id=\"T_fee1b_level0_row2\" class=\"row_heading level0 row2\" >2</th>\n",
              "      <td id=\"T_fee1b_row2_col0\" class=\"data row2 col0\" >0.165605</td>\n",
              "      <td id=\"T_fee1b_row2_col1\" class=\"data row2 col1\" >156.654354</td>\n",
              "      <td id=\"T_fee1b_row2_col2\" class=\"data row2 col2\" >15</td>\n",
              "    </tr>\n",
              "    <tr>\n",
              "      <th id=\"T_fee1b_level0_row3\" class=\"row_heading level0 row3\" >3</th>\n",
              "      <td id=\"T_fee1b_row3_col0\" class=\"data row3 col0\" >0.439490</td>\n",
              "      <td id=\"T_fee1b_row3_col1\" class=\"data row3 col1\" >143.962187</td>\n",
              "      <td id=\"T_fee1b_row3_col2\" class=\"data row3 col2\" >15</td>\n",
              "    </tr>\n",
              "    <tr>\n",
              "      <th id=\"T_fee1b_level0_row4\" class=\"row_heading level0 row4\" >4</th>\n",
              "      <td id=\"T_fee1b_row4_col0\" class=\"data row4 col0\" >0.407643</td>\n",
              "      <td id=\"T_fee1b_row4_col1\" class=\"data row4 col1\" >177.023511</td>\n",
              "      <td id=\"T_fee1b_row4_col2\" class=\"data row4 col2\" >15</td>\n",
              "    </tr>\n",
              "  </tbody>\n",
              "</table>\n"
            ],
            "text/plain": [
              "<pandas.io.formats.style.Styler at 0x2e258680dd0>"
            ]
          },
          "execution_count": 86,
          "metadata": {},
          "output_type": "execute_result"
        }
      ],
      "source": [
        "# SI fichier des resultats existe ALORS on passe\n",
        "if is_modele_cnn_calculed:\n",
        "    print(\"Les calculs ont deja tournés sur Google Colab\")\n",
        "\n",
        "# SINON il n'existe pas et il faut faire les calculs\n",
        "else:\n",
        "    # Créer un DataFrame à partir de l'historique\n",
        "    resultat_cnn = pd.DataFrame(\n",
        "        {k: v['val_accuracy'][-1] for k, v in history_dict.items()},\n",
        "        index=[0]\n",
        "        )\n",
        "\n",
        "    # Transposer le DataFrame (batch_sizes en index)\n",
        "    resultat_cnn = resultat_cnn.transpose()\n",
        "\n",
        "    # Renommer la colonne\n",
        "    resultat_cnn.columns = ['Validation Accuracy']\n",
        "\n",
        "    # Ajouter les temps d'entraînement et nombre d'epoch au DataFrame\n",
        "    resultat_cnn['Temps (sec)'] = pd.Series(time_dict)\n",
        "    resultat_cnn['Epochs'] = pd.Series(epoch_dict)\n",
        "\n",
        "    # Sauvegarder le DataFrame dans un fichier CSV\n",
        "    resultat_cnn.to_csv('resultat_cnn.csv', index=False)\n",
        "\n",
        "# Afficher le batch_size avec la meilleure accuracy de validation\n",
        "batch_meilleur_cnn = resultat_cnn['Validation Accuracy'].idxmax()\n",
        "print(f\"\\nMeilleur batch_size (accuracy): {batch_meilleur_cnn}\")\n",
        "\n",
        "# Surligner les meilleures valeurs\n",
        "resultat_cnn.style.apply(surligne_meilleur)"
      ]
    },
    {
      "cell_type": "markdown",
      "metadata": {
        "id": "NO74ZYVM07GL"
      },
      "source": [
        "### <span style='background:red'>bilan a faire</span>"
      ]
    },
    {
      "cell_type": "markdown",
      "metadata": {
        "id": "V8oJGJaa07GL"
      },
      "source": [
        "## <span style='background:green'>3/ Modèle optimal</span>\n",
        "\n",
        "### <span style='background:black'>a/Création et entrainement</span>\n",
        "\n",
        "Nous entrainons à nouveau le modèle avec le bon batch_size pour obtenir le modèle optimal."
      ]
    },
    {
      "cell_type": "code",
      "execution_count": 87,
      "metadata": {
        "colab": {
          "base_uri": "https://localhost:8080/"
        },
        "id": "cpR7ghKS07GL",
        "outputId": "e8ef8713-bbdb-4fc8-d581-414d0fb673ed"
      },
      "outputs": [
        {
          "name": "stdout",
          "output_type": "stream",
          "text": [
            "Les calculs ont deja tournés sur Google Colab\n"
          ]
        }
      ],
      "source": [
        "# SI fichier des resultats existe ALORS on passe\n",
        "if is_modele_cnn_calculed:\n",
        "    print(\"Les calculs ont deja tournés sur Google Colab\")\n",
        "\n",
        "# SINON on realise les calculs\n",
        "else:\n",
        "    print(\"On fait les calculs.\")\n",
        "\n",
        "    # # Utiliser le GPU\n",
        "    # with tf.device('/gpu:0'):\n",
        "\n",
        "    # Créer le modèle optimal CNN\n",
        "    model_optimal_cnn = creation_modele_cnn(\n",
        "        fonction_perte,\n",
        "        optimiseur,\n",
        "        metric_eval,\n",
        "    )\n",
        "\n",
        "    # Création des callbacks\n",
        "    callbacks_list, chemin_modele_export = creer_callbacks(\n",
        "        \"model_optimal_cnn\",\n",
        "        patience,\n",
        "    )\n",
        "\n",
        "    # Entraîner le modèle avec batch_meilleur_cnn\n",
        "    history_optimal_cnn = model_optimal_cnn.fit(\n",
        "        X_train_pretraited,\n",
        "        y_train_pretraited,\n",
        "        epochs=15,\n",
        "        batch_size=batch_meilleur_cnn,\n",
        "        callbacks=callbacks_list,\n",
        "        validation_data=(X_val_pretraited, y_val_pretraited),\n",
        "        verbose=1\n",
        "    )\n",
        "\n",
        "    # Sauvegarder l'objet history\n",
        "    with open(\"history_optimal_cnn.pickle\", 'wb') as f:\n",
        "        pickle.dump(history_optimal_cnn.history, f)"
      ]
    },
    {
      "cell_type": "markdown",
      "metadata": {
        "id": "fQTVLs3W07GL"
      },
      "source": [
        "### <span style='background:black'>b/ Plot loss et accuracy</span>\n",
        "\n",
        "Nous affichons l'évolution de la perte et de l'accuracy pour le jeu d'entrainement et le jeu de validation au cours des epoch."
      ]
    },
    {
      "cell_type": "code",
      "execution_count": 88,
      "metadata": {
        "colab": {
          "base_uri": "https://localhost:8080/",
          "height": 528
        },
        "id": "8Ax3vHK707GL",
        "outputId": "e5fd9929-c543-42e5-9f07-909daf9fcdcc"
      },
      "outputs": [
        {
          "data": {
            "image/png": "[encoded data removed]",
            "text/plain": [
              "<Figure size 1000x500 with 2 Axes>"
            ]
          },
          "metadata": {},
          "output_type": "display_data"
        }
      ],
      "source": [
        "# Afficher l'historique de l'entraînement\n",
        "show_history(history_optimal_cnn)\n",
        "\n",
        "# Definir le chemin d'export de la figure\n",
        "dossier_figure = \"./figure/\"\n",
        "nom_figure = f\"history_optimal_cnn_batch{batch_meilleur_cnn}.png\"\n",
        "chemin_figure_export = os.path.join(dossier_figure, nom_figure)\n",
        "\n",
        "# Sauvegarder l'historique de l'entraînement\n",
        "plot_history(history_optimal_cnn, path=chemin_figure_export)\n",
        "plt.close()"
      ]
    },
    {
      "cell_type": "markdown",
      "metadata": {
        "id": "qX59lDyU07GM"
      },
      "source": [
        "### <span style='background:red'>bilan a faire</span>"
      ]
    },
    {
      "cell_type": "markdown",
      "metadata": {
        "id": "kHMpKrrm07GM"
      },
      "source": [
        "### <span style='background:black'>c/ Comparatif des accuracy</span>\n",
        "\n",
        "Nous comparons les accuracy du modèle optimal (CNN) avec les poids du meilleur modèle pour les 3 jeux de données (entrainement, validation et test)."
      ]
    },
    {
      "cell_type": "code",
      "execution_count": 89,
      "metadata": {
        "colab": {
          "base_uri": "https://localhost:8080/"
        },
        "id": "BnWztT7P07GM",
        "outputId": "c7b6604c-b911-4af4-d434-4a5fe382bf4f"
      },
      "outputs": [
        {
          "name": "stdout",
          "output_type": "stream",
          "text": [
            "23/23 [==============================] - 5s 154ms/step - loss: 22.3777 - accuracy: 0.7986\n",
            "Training Accuracy   :  0.799\n",
            "5/5 [==============================] - 1s 142ms/step - loss: 127.1562 - accuracy: 0.3376\n",
            "Validation Accuracy :  0.338\n",
            "5/5 [==============================] - 1s 150ms/step - loss: 132.1139 - accuracy: 0.3481\n",
            "Test Accuracy       :  0.348\n"
          ]
        }
      ],
      "source": [
        "# Charger les poids du meilleur modèle\n",
        "model_optimal_cnn.load_weights(\"./modele_ML/model_optimal_cnn_best_weights.h5\")\n",
        "\n",
        "# Evaluation meilleur modèle sur les données d'entraînement\n",
        "loss_cnn_train, accuracy_cnn_train = model_optimal_cnn.evaluate(\n",
        "    X_train_pretraited,\n",
        "    y_train_pretraited\n",
        ")\n",
        "print(\"Training Accuracy   :  {:.3f}\".format(accuracy_cnn_train))\n",
        "\n",
        "# Evaluation meilleur modèle sur les données de validation\n",
        "loss_cnn_val, accuracy_cnn_val = model_optimal_cnn.evaluate(\n",
        "    X_val_pretraited,\n",
        "    y_val_pretraited\n",
        ")\n",
        "print(\"Validation Accuracy :  {:.3f}\".format(accuracy_cnn_val))\n",
        "\n",
        "# Evaluation meilleur modèle sur les données de test\n",
        "loss_cnn_test, accuracy_cnn_test = model_optimal_cnn.evaluate(\n",
        "    X_test_pretraited,\n",
        "    y_test_pretraited\n",
        ")\n",
        "print(\"Test Accuracy       :  {:.3f}\".format(accuracy_cnn_test))"
      ]
    },
    {
      "cell_type": "markdown",
      "metadata": {
        "id": "syf2nC5x07GM"
      },
      "source": [
        "### <span style='background:red'>bilan a faire</span>"
      ]
    },
    {
      "cell_type": "markdown",
      "metadata": {
        "id": "ndYxgZua07GM"
      },
      "source": [
        "### <span style='background:black'>d/ Matrice de confusion</span>\n",
        "\n",
        "Nous affichons les valeurs réelles et celles prédites par le modèle optimal pour les données de validation."
      ]
    },
    {
      "cell_type": "code",
      "execution_count": 90,
      "metadata": {
        "colab": {
          "base_uri": "https://localhost:8080/"
        },
        "id": "RtEvC8B_07GM",
        "outputId": "d2694296-ee33-4de9-c913-68fb9f471046"
      },
      "outputs": [
        {
          "name": "stdout",
          "output_type": "stream",
          "text": [
            "2/5 [===========>..................] - ETA: 0s"
          ]
        },
        {
          "name": "stdout",
          "output_type": "stream",
          "text": [
            "5/5 [==============================] - 1s 165ms/step\n",
            "Categorie reelle :  [1 5 6 2 5 2 2 6 5 6 5 6 6 2 3 0 3 0 1 6 1 0 6 1 1 1 1 2 6 4] \n",
            "\n",
            "Categorie prédite :  [0 0 0 1 0 2 3 0 0 2 0 0 2 2 0 0 0 0 0 1 3 0 1 0 0 1 0 0 0 0]\n"
          ]
        }
      ],
      "source": [
        "# Categories prédites des images de validation\n",
        "y_val_pred = np.argmax(model_optimal_cnn.predict(X_val_pretraited), axis=1)\n",
        "\n",
        "# Afficher les 30 premières catégories réelles et prédites\n",
        "print(\"Categorie reelle : \", y_val_num[:30], \"\\n\")\n",
        "print(\"Categorie prédite : \", y_val_pred[:30])"
      ]
    },
    {
      "cell_type": "markdown",
      "metadata": {
        "id": "Ov7riQZq07GN"
      },
      "source": [
        "Nous confirmons les résultats en affichant la matrice de confusion et le rapport de classification."
      ]
    },
    {
      "cell_type": "code",
      "execution_count": 91,
      "metadata": {
        "colab": {
          "base_uri": "https://localhost:8080/",
          "height": 839
        },
        "id": "aynIiA2507GN",
        "outputId": "a3c85484-c562-4718-dd3a-409636fe27f6"
      },
      "outputs": [
        {
          "name": "stdout",
          "output_type": "stream",
          "text": [
            "\n",
            "Correspondance des clusters :  [0 6 2 3 4 5 6]\n"
          ]
        },
        {
          "data": {
            "image/png": "[encoded data removed]",
            "text/plain": [
              "<Figure size 600x400 with 2 Axes>"
            ]
          },
          "metadata": {},
          "output_type": "display_data"
        },
        {
          "name": "stdout",
          "output_type": "stream",
          "text": [
            "              precision    recall  f1-score   support\n",
            "\n",
            "           0       0.20      0.87      0.33        23\n",
            "           1       1.00      0.00      0.00        23\n",
            "           2       0.46      0.27      0.34        22\n",
            "           3       0.50      0.18      0.27        22\n",
            "           4       1.00      0.05      0.09        22\n",
            "           5       1.00      0.26      0.41        23\n",
            "           6       0.30      0.41      0.35        22\n",
            "\n",
            "    accuracy                           0.29       157\n",
            "   macro avg       0.64      0.29      0.25       157\n",
            "weighted avg       0.64      0.29      0.25       157\n",
            "\n"
          ]
        }
      ],
      "source": [
        "# Verifier la correspondance des clusters\n",
        "y_val_pred_transform = conf_mat_transform_argmax(y_val_num, y_val_pred)\n",
        "\n",
        "# Afficher la matrice de confusion et le rapport de classification\n",
        "conf_mat_cnn = matrice_conf_et_rapport(\n",
        "    y_val_num,\n",
        "    y_val_pred_transform,\n",
        "    categories\n",
        "    )"
      ]
    },
    {
      "cell_type": "markdown",
      "metadata": {
        "id": "LToKt6ZE07GO"
      },
      "source": [
        "### <span style='background:red'>bilan a faire</span>"
      ]
    },
    {
      "cell_type": "markdown",
      "metadata": {
        "id": "LMPgFUyX07GO"
      },
      "source": [
        "<div class=\"alert alert-block alert-success\"><b>Bilan: </b> <br>\n",
        "Le modèle optimal CNN présente des performances ... </div>"
      ]
    },
    {
      "cell_type": "markdown",
      "metadata": {
        "id": "--Vw2uOs07GO"
      },
      "source": [
        "# <span style='background:blue'>Etape 6 : CNN + Transfer learning VGG-16</span>\n",
        "\n",
        "Pour cette classification d'image automatique, nous allons utiliser un **réseau de neurones convolutionnels** (*Convolutional Neural Network*, **CNN**). Nous le couplons avec la technique du **transfer learning** pour utiliser le modèle pré-entrainé **VGG-16**.\n",
        "\n",
        "Le modèle VGG-16 a été entrainé sur un jeu de données ImageNet de plus d'1 million d'images."
      ]
    },
    {
      "cell_type": "markdown",
      "metadata": {
        "id": "e-7X4mG507GO"
      },
      "source": [
        "## <span style='background:green'>1/ Prétraitement des données</span>\n",
        "\n",
        "### <span style='background:black'>a/ target</span>\n",
        "\n",
        "Nous utilisons le même prétraitement de la target que précedemment. Pour rappel, il consiste à transformer les catégories avec un **OneHotEncoder** pour pouvoir les utiliser dans le modèle de machine learning."
      ]
    },
    {
      "cell_type": "markdown",
      "metadata": {
        "id": "PhK_iMgM07GP"
      },
      "source": [
        "### <span style='background:black'>b/ features</span>\n",
        "\n",
        "Le prétraitement des features pour le **VGG16** se déroule en plusieurs étapes :\n",
        "- Redimensionnement de l'images en 224 x 224 pixels\n",
        "- Convertion de l'image en tableau NumPy\n",
        "- Certification des dimensions (hauteur, largeur, couleur)\n",
        "- Normaliser les pixels de l'image pour VGG16 :\n",
        "  - Mettre à l'echelle entre -1 et 1 (soustraire valeur moyenne des\n",
        "    des pixels sur le canaux RGB du jeu de données ImageNet)\n",
        "  - inverser les canaux RGB en BGR"
      ]
    },
    {
      "cell_type": "code",
      "execution_count": 92,
      "metadata": {
        "id": "e3T-TSvQ07GP"
      },
      "outputs": [],
      "source": [
        "# Prétraitement jeu entrainement\n",
        "X_train_pretraited = pretraitement_image(X_train, 'vgg16')\n",
        "\n",
        "# Prétraitement jeu validation\n",
        "X_val_pretraited = pretraitement_image(X_val, 'vgg16')\n",
        "\n",
        "# Prétraitement jeu test\n",
        "X_test_pretraited = pretraitement_image(X_test, 'vgg16')"
      ]
    },
    {
      "cell_type": "markdown",
      "metadata": {
        "id": "NXGfutzH07GP"
      },
      "source": [
        "Nous vérifions les dimensions des images pour vérifier que le prétraitement des features a bien été réalisé."
      ]
    },
    {
      "cell_type": "code",
      "execution_count": 93,
      "metadata": {
        "colab": {
          "base_uri": "https://localhost:8080/"
        },
        "id": "CruxqxeX07GP",
        "outputId": "cddd84e6-4878-4880-a20e-79d0a5c60f6b"
      },
      "outputs": [
        {
          "name": "stdout",
          "output_type": "stream",
          "text": [
            "X_train_pretraited :  (735, 224, 224, 3)\n",
            "X_val_pretraited :  (157, 224, 224, 3)\n",
            "X_test_pretraited :  (158, 224, 224, 3)\n"
          ]
        }
      ],
      "source": [
        "print(\"X_train_pretraited : \", X_train_pretraited.shape)\n",
        "print(\"X_val_pretraited : \", X_val_pretraited.shape)\n",
        "print(\"X_test_pretraited : \", X_test_pretraited.shape)"
      ]
    },
    {
      "cell_type": "markdown",
      "metadata": {
        "id": "hk3WMpXt07GP"
      },
      "source": [
        "## <span style='background:green'>2/ Elaboration du modèle</span>\n",
        "\n",
        "### <span style='background:black'>a/ Architecture</span>\n",
        "\n",
        "Le modèle VGG16 est composé de 16 couches de convolution et de 3 couches fully connected. Il classe les images (224 x 224 pixels) en 1000 catégories différentes.\n",
        "\n",
        "Nous créons un modèle de classification d'images CNN en réalisant un **transfer learning** à partir du modèle VGG16. Ce dernier est importé **sans** les 3 couches fully connected. Les **poids** du modèle sont initialisés\n",
        "avec les poids du modèle entrainé sur ImageNet.\n",
        "\n",
        "Le modèle de transfer learning VGG16 est utilisé comme extracteur de caractéristiques, et 4 nouvelles couches sont ajoutées à sa sortie :\n",
        "- 1 couche de **GlobalAveragePooling2D** pour convertir les features en un vecteur 1D\n",
        "- 1 couche **Dense** de 256 neurones et une fonction d'activation **relu**\n",
        "- 1 couche **Dropout** pour désactiver 50% des neurones\n",
        "- 1 couche **Dense** de 7 neurones et une fonction d'activation **softmax** pour la classification\n",
        "\n",
        "### <span style='background:black'>b/ Compilation et métrique d'évaluation</span>\n",
        "\n",
        "Le modèle est compilé avec les mêmes paramètres que précedemment, à savoir :\n",
        "- la fonction de perte '**categorical_crossentropy**'\n",
        "\n",
        "- l'optimiseur '**rmsprop**'\n",
        "\n",
        "- la métrique d'évaluation '**accuracy**'"
      ]
    },
    {
      "cell_type": "markdown",
      "metadata": {
        "id": "z0ageM8907GP"
      },
      "source": [
        "### <span style='background:black'>c/ Callbacks</span>\n",
        "\n",
        "Nous utilisons les mêmes callbacks que précedemment, à savoir :\n",
        "\n",
        "- **ModelCheckpoint** pour sauvegarder le meilleur modèle pendant l'entrainement.\n",
        "\n",
        "- **EarlyStopping** pour arrêter l'entrainement si val_loss (la perte du jeu de validation) ne diminue plus après 3 epochs."
      ]
    },
    {
      "cell_type": "markdown",
      "metadata": {
        "id": "Gmtg7GMN07GP"
      },
      "source": [
        "### <span style='background:black'>d/ Indicateur supplémentaire</span>\n",
        "\n",
        "Nous utilisons le même indicateur supplémentaire que précedemment, à savoir le **temps de calcul**.\n",
        "\n",
        "### <span style='background:black'>e/ Optimisation hyperparamètre</span>\n",
        "\n",
        "Nous utilisont les mêmes paramètres que précedemment, à savoir :\n",
        "- epochs = 15\n",
        "- batch_size = 32, 64, 128, 256 et 512"
      ]
    },
    {
      "cell_type": "code",
      "execution_count": 94,
      "metadata": {
        "colab": {
          "base_uri": "https://localhost:8080/"
        },
        "id": "M5vCNgxN07GQ",
        "outputId": "dec726a2-2727-4c2f-93f8-69d829b8b927"
      },
      "outputs": [
        {
          "name": "stdout",
          "output_type": "stream",
          "text": [
            "Les calculs ont deja tournés sur Google Colab\n"
          ]
        }
      ],
      "source": [
        "# SI fichier des resultats existe ALORS on passe\n",
        "if is_modele_tf_vgg16_noDA_calculed:\n",
        "    print(\"Les calculs ont deja tournés sur Google Colab\")\n",
        "\n",
        "# SINON il n'existe pas et il faut faire les calculs\n",
        "else:\n",
        "\n",
        "    # Créer des dictionnaires vides pour stocker l'historique, temps, epochs\n",
        "    history_dict, time_dict, epoch_dict = {}, {}, {}\n",
        "\n",
        "    # POUR chaque batch_size\n",
        "    for batch_size in batch_sizes:\n",
        "        print(\"\\n\", \"=\" * 30, \"batch_size :\", batch_size, \"=\" * 30)\n",
        "\n",
        "        # # Utiliser le GPU\n",
        "        # with tf.device('/gpu:0'):\n",
        "\n",
        "        # Créer un modèle CNN\n",
        "        model_tf_vgg16_noDA = creation_modele_transfer_vgg16(\n",
        "            fonction_perte,\n",
        "            optimiseur,\n",
        "            metric_eval,\n",
        "            verbose=1\n",
        "        )\n",
        "\n",
        "        # Création des callbacks\n",
        "        callbacks_list, chemin_modele_export = creer_callbacks(\n",
        "            \"model_tf_vgg16_noDA\",\n",
        "            patience,\n",
        "            batch_size\n",
        "            )\n",
        "\n",
        "        # Enregistrer le temps de début\n",
        "        start_time = time.time()\n",
        "\n",
        "        # Entraîner le modèle\n",
        "        history_tf_vgg16_noDA = model_tf_vgg16_noDA.fit(\n",
        "            X_train_pretraited,\n",
        "            y_train_pretraited,\n",
        "            epochs=15,\n",
        "            batch_size=batch_size,\n",
        "            callbacks=callbacks_list,\n",
        "            validation_data=(X_val_pretraited, y_val_pretraited),\n",
        "            verbose=1\n",
        "            )\n",
        "\n",
        "        # Enregistrer le temps de fin\n",
        "        end_time = time.time()\n",
        "\n",
        "        # Calculer le temps d'entraînement\n",
        "        training_time = end_time - start_time\n",
        "        print(f\"\\n=> Temps d'entraînement : {round(training_time, 2)} sec <=\")\n",
        "\n",
        "        # Calculer le nombre d'epochs\n",
        "        epochs = len(history_tf_vgg16_noDA.history['loss'])\n",
        "\n",
        "        # Stocker l'historique, le temps d'entraînement et le nombre d'epochs\n",
        "        history_dict[batch_size] = history_tf_vgg16_noDA.history\n",
        "        time_dict[batch_size] = training_time\n",
        "        epoch_dict[batch_size] = epochs"
      ]
    },
    {
      "cell_type": "markdown",
      "metadata": {
        "id": "-MSl069B07GQ"
      },
      "source": [
        "Comparons les résultats obtenus pour les différents batch_size :"
      ]
    },
    {
      "cell_type": "code",
      "execution_count": 95,
      "metadata": {
        "colab": {
          "base_uri": "https://localhost:8080/",
          "height": 242
        },
        "id": "GbOAVyy207GQ",
        "outputId": "99805a65-7b4b-4bd8-f57e-5018cc438e92"
      },
      "outputs": [
        {
          "name": "stdout",
          "output_type": "stream",
          "text": [
            "Les calculs ont deja tournés sur Google Colab\n",
            "\n",
            "Meilleur batch_size (accuracy): 4\n"
          ]
        },
        {
          "data": {
            "text/html": [
              "<style type=\"text/css\">\n",
              "#T_cd833_row0_col1, #T_cd833_row4_col0 {\n",
              "  background-color: green;\n",
              "}\n",
              "</style>\n",
              "<table id=\"T_cd833\">\n",
              "  <thead>\n",
              "    <tr>\n",
              "      <th class=\"blank level0\" >&nbsp;</th>\n",
              "      <th id=\"T_cd833_level0_col0\" class=\"col_heading level0 col0\" >Validation Accuracy</th>\n",
              "      <th id=\"T_cd833_level0_col1\" class=\"col_heading level0 col1\" >Temps (sec)</th>\n",
              "      <th id=\"T_cd833_level0_col2\" class=\"col_heading level0 col2\" >Epochs</th>\n",
              "    </tr>\n",
              "  </thead>\n",
              "  <tbody>\n",
              "    <tr>\n",
              "      <th id=\"T_cd833_level0_row0\" class=\"row_heading level0 row0\" >0</th>\n",
              "      <td id=\"T_cd833_row0_col0\" class=\"data row0 col0\" >0.808917</td>\n",
              "      <td id=\"T_cd833_row0_col1\" class=\"data row0 col1\" >72.717282</td>\n",
              "      <td id=\"T_cd833_row0_col2\" class=\"data row0 col2\" >7</td>\n",
              "    </tr>\n",
              "    <tr>\n",
              "      <th id=\"T_cd833_level0_row1\" class=\"row_heading level0 row1\" >1</th>\n",
              "      <td id=\"T_cd833_row1_col0\" class=\"data row1 col0\" >0.789809</td>\n",
              "      <td id=\"T_cd833_row1_col1\" class=\"data row1 col1\" >111.846090</td>\n",
              "      <td id=\"T_cd833_row1_col2\" class=\"data row1 col2\" >12</td>\n",
              "    </tr>\n",
              "    <tr>\n",
              "      <th id=\"T_cd833_level0_row2\" class=\"row_heading level0 row2\" >2</th>\n",
              "      <td id=\"T_cd833_row2_col0\" class=\"data row2 col0\" >0.802548</td>\n",
              "      <td id=\"T_cd833_row2_col1\" class=\"data row2 col1\" >100.995913</td>\n",
              "      <td id=\"T_cd833_row2_col2\" class=\"data row2 col2\" >11</td>\n",
              "    </tr>\n",
              "    <tr>\n",
              "      <th id=\"T_cd833_level0_row3\" class=\"row_heading level0 row3\" >3</th>\n",
              "      <td id=\"T_cd833_row3_col0\" class=\"data row3 col0\" >0.802548</td>\n",
              "      <td id=\"T_cd833_row3_col1\" class=\"data row3 col1\" >134.182790</td>\n",
              "      <td id=\"T_cd833_row3_col2\" class=\"data row3 col2\" >15</td>\n",
              "    </tr>\n",
              "    <tr>\n",
              "      <th id=\"T_cd833_level0_row4\" class=\"row_heading level0 row4\" >4</th>\n",
              "      <td id=\"T_cd833_row4_col0\" class=\"data row4 col0\" >0.815287</td>\n",
              "      <td id=\"T_cd833_row4_col1\" class=\"data row4 col1\" >133.760264</td>\n",
              "      <td id=\"T_cd833_row4_col2\" class=\"data row4 col2\" >15</td>\n",
              "    </tr>\n",
              "  </tbody>\n",
              "</table>\n"
            ],
            "text/plain": [
              "<pandas.io.formats.style.Styler at 0x2e258a82a10>"
            ]
          },
          "execution_count": 95,
          "metadata": {},
          "output_type": "execute_result"
        }
      ],
      "source": [
        "# SI fichier des resultats existe ALORS on passe\n",
        "if is_modele_tf_vgg16_noDA_calculed:\n",
        "    print(\"Les calculs ont deja tournés sur Google Colab\")\n",
        "\n",
        "# SINON il n'existe pas et il faut faire les calculs\n",
        "else:\n",
        "    # Créer un DataFrame à partir de l'historique\n",
        "    resultat_tf_vgg16_noDA = pd.DataFrame(\n",
        "        {k: v['val_accuracy'][-1] for k, v in history_dict.items()},\n",
        "        index=[0]\n",
        "        )\n",
        "\n",
        "    # Transposer le DataFrame (batch_sizes en index)\n",
        "    resultat_tf_vgg16_noDA = resultat_tf_vgg16_noDA.transpose()\n",
        "\n",
        "    # Renommer la colonne\n",
        "    resultat_tf_vgg16_noDA.columns = ['Validation Accuracy']\n",
        "\n",
        "    # Ajouter les temps d'entraînement et nombre d'epoch au DataFrame\n",
        "    resultat_tf_vgg16_noDA['Temps (sec)'] = pd.Series(time_dict)\n",
        "    resultat_tf_vgg16_noDA['Epochs'] = pd.Series(epoch_dict)\n",
        "\n",
        "    # Sauvegarder le DataFrame dans un fichier CSV\n",
        "    resultat_tf_vgg16_noDA.to_csv('resultat_tf_vgg16_noDA.csv', index=False)\n",
        "\n",
        "# Afficher le batch_size avec la meilleure accuracy de validation\n",
        "batch_meilleur_tf_vgg16_noDA = resultat_tf_vgg16_noDA[\n",
        "    'Validation Accuracy'].idxmax()\n",
        "print(f\"\\nMeilleur batch_size (accuracy): {batch_meilleur_tf_vgg16_noDA}\")\n",
        "\n",
        "# Surligner les meilleures valeurs\n",
        "resultat_tf_vgg16_noDA.style.apply(surligne_meilleur)"
      ]
    },
    {
      "cell_type": "markdown",
      "metadata": {
        "id": "rVjeLL-407GQ"
      },
      "source": [
        "### <span style='background:red'>bilan a faire</span>"
      ]
    },
    {
      "cell_type": "markdown",
      "metadata": {
        "id": "LQYqx2WP07GR"
      },
      "source": [
        "## <span style='background:green'>3/ Modèle optimal</span>\n",
        "\n",
        "### <span style='background:black'>a/Création et entrainement</span>\n",
        "\n",
        "Nous entrainons à nouveau le modèle avec le bon batch_size pour obtenir le modèle optimal."
      ]
    },
    {
      "cell_type": "code",
      "execution_count": 96,
      "metadata": {
        "colab": {
          "base_uri": "https://localhost:8080/"
        },
        "id": "qFp-tXkY07GR",
        "outputId": "f9d5b5ec-1778-455b-fe79-a5270e09dbd4"
      },
      "outputs": [
        {
          "name": "stdout",
          "output_type": "stream",
          "text": [
            "Les calculs ont deja tournés sur Google Colab\n"
          ]
        }
      ],
      "source": [
        "# SI fichier des resultats existe ALORS on passe\n",
        "if is_modele_tf_vgg16_noDA_calculed:\n",
        "    print(\"Les calculs ont deja tournés sur Google Colab\")\n",
        "\n",
        "# SINON on realise les calculs\n",
        "else:\n",
        "    print(\"On fait les calculs.\")\n",
        "\n",
        "    # # Utiliser le GPU\n",
        "    # with tf.device('/gpu:0'):\n",
        "\n",
        "    # Créer le modèle optimal de tranfer learning VGG16\n",
        "    model_optimal_tf_vgg16_noDA = creation_modele_transfer_vgg16(\n",
        "        fonction_perte,\n",
        "        optimiseur,\n",
        "        metric_eval,\n",
        "        verbose=1\n",
        "    )\n",
        "\n",
        "    # Création des callbacks\n",
        "    callbacks_list, chemin_modele_export = creer_callbacks(\n",
        "        \"model_optimal_tf_vgg16_noDA\",\n",
        "        patience,\n",
        "    )\n",
        "\n",
        "    # Entraîner le modèle avec batch_meilleur_tf_vgg16_noDA\n",
        "    history_optimal_tf_vgg16_noDA = model_optimal_tf_vgg16_noDA.fit(\n",
        "        X_train_pretraited,\n",
        "        y_train_pretraited,\n",
        "        epochs=15,\n",
        "        batch_size=batch_meilleur_tf_vgg16_noDA,\n",
        "        callbacks=callbacks_list,\n",
        "        validation_data=(X_val_pretraited, y_val_pretraited),\n",
        "        verbose=1\n",
        "    )\n",
        "\n",
        "    # Sauvegarder l'objet history\n",
        "    with open(\"history_optimal_tf_vgg16_noDA.pickle\", 'wb') as f:\n",
        "        pickle.dump(history_optimal_tf_vgg16_noDA.history, f)"
      ]
    },
    {
      "cell_type": "markdown",
      "metadata": {
        "id": "PvdnKYQe07GR"
      },
      "source": [
        "### <span style='background:black'>b/ Plot loss et accuracy</span>\n",
        "\n",
        "Nous affichons l'évolution de la perte et de l'accuracy pour le jeu d'entrainement et le jeu de validation au cours des epoch."
      ]
    },
    {
      "cell_type": "code",
      "execution_count": 97,
      "metadata": {
        "colab": {
          "base_uri": "https://localhost:8080/",
          "height": 546
        },
        "id": "AprtMg3l07GR",
        "outputId": "9d42ddaa-bd54-4071-bf6e-fec4c45f6ac1"
      },
      "outputs": [
        {
          "data": {
            "image/png": "[encoded data removed]",
            "text/plain": [
              "<Figure size 1000x500 with 2 Axes>"
            ]
          },
          "metadata": {},
          "output_type": "display_data"
        },
        {
          "name": "stderr",
          "output_type": "stream",
          "text": [
            "6:80: E501 line too long (90 > 79 characters)\n"
          ]
        }
      ],
      "source": [
        "# Afficher l'historique de l'entraînement\n",
        "show_history(history_optimal_tf_vgg16_noDA)\n",
        "\n",
        "# Définir le chemin d'export de la figure\n",
        "dossier_figure = \"./figure/\"\n",
        "nom_figure = f\"history_optimal_tf_vgg16_noDA_batch{str(batch_meilleur_tf_vgg16_noDA)}.png\"\n",
        "chemin_figure_export = os.path.join(dossier_figure, nom_figure)\n",
        "\n",
        "# Sauvegarder l'historique de l'entraînement\n",
        "plot_history(history_optimal_tf_vgg16_noDA, path=chemin_figure_export)\n",
        "plt.close()"
      ]
    },
    {
      "cell_type": "markdown",
      "metadata": {
        "id": "z4MUotD607GR"
      },
      "source": [
        "### <span style='background:red'>bilan a faire</span>"
      ]
    },
    {
      "cell_type": "markdown",
      "metadata": {
        "id": "ZIT1mRHh07GR"
      },
      "source": [
        "### <span style='background:black'>c/ Comparatif des accuracy</span>\n",
        "\n",
        "Nous comparons les accuracy du modèle optimal (Transfer learning avec VGG16) avec les poids du meilleur modèle pour les 3 jeux de données (entrainement, validation et test)."
      ]
    },
    {
      "cell_type": "code",
      "execution_count": 98,
      "metadata": {
        "colab": {
          "base_uri": "https://localhost:8080/"
        },
        "id": "RboUw_wI07GR",
        "outputId": "316a5e70-832e-487b-fe02-72647fc58353"
      },
      "outputs": [
        {
          "name": "stdout",
          "output_type": "stream",
          "text": [
            "23/23 [==============================] - 49s 2s/step - loss: 0.0768 - accuracy: 0.9782\n",
            "Training Accuracy   :  0.978\n",
            "5/5 [==============================] - 10s 2s/step - loss: 0.8010 - accuracy: 0.8089\n",
            "Validation Accuracy :  0.809\n",
            "5/5 [==============================] - 10s 2s/step - loss: 0.9863 - accuracy: 0.7911\n",
            "Test Accuracy       :  0.791\n"
          ]
        }
      ],
      "source": [
        "# Charger les poids du meilleur modèle\n",
        "model_optimal_tf_vgg16_noDA.load_weights(\n",
        "    \"./modele_ML/model_optimal_tf_vgg16_noDA_best_weights.h5\")\n",
        "\n",
        "# Evaluation meilleur modèle sur les données d'entraînement\n",
        "loss_tf_vgg16_noDA_train, accuracy_tf_vgg16_noDA_train = \\\n",
        "    model_optimal_tf_vgg16_noDA.evaluate(\n",
        "        X_train_pretraited,\n",
        "        y_train_pretraited\n",
        "    )\n",
        "print(\"Training Accuracy   :  {:.3f}\".format(accuracy_tf_vgg16_noDA_train))\n",
        "\n",
        "# Evaluation meilleur modèle sur les données de validation\n",
        "loss_tf_vgg16_noDA_val, accuracy_tf_vgg16_noDA_val = \\\n",
        "    model_optimal_tf_vgg16_noDA.evaluate(\n",
        "        X_val_pretraited,\n",
        "        y_val_pretraited\n",
        "    )\n",
        "print(\"Validation Accuracy :  {:.3f}\".format(accuracy_tf_vgg16_noDA_val))\n",
        "\n",
        "# Evaluation meilleur modèle sur les données de test\n",
        "loss_tf_vgg16_noDA_test, accuracy_tf_vgg16_noDA_test = \\\n",
        "    model_optimal_tf_vgg16_noDA.evaluate(\n",
        "        X_test_pretraited,\n",
        "        y_test_pretraited\n",
        "    )\n",
        "print(\"Test Accuracy       :  {:.3f}\".format(accuracy_tf_vgg16_noDA_test))"
      ]
    },
    {
      "cell_type": "markdown",
      "metadata": {
        "id": "S3g3SaWk07GR"
      },
      "source": [
        "### <span style='background:red'>bilan a faire</span>"
      ]
    },
    {
      "cell_type": "markdown",
      "metadata": {
        "id": "O5iwoUQE07GR"
      },
      "source": [
        "### <span style='background:black'>d/ Matrice de confusion</span>\n",
        "\n",
        "Nous affichons les valeurs réelles et celles prédites par le modèle optimal pour les données de validation."
      ]
    },
    {
      "cell_type": "code",
      "execution_count": 99,
      "metadata": {
        "colab": {
          "base_uri": "https://localhost:8080/"
        },
        "id": "i7hHEN4U07GS",
        "outputId": "afbad362-c5c5-41c5-fba7-7fcadde0d448"
      },
      "outputs": [
        {
          "name": "stdout",
          "output_type": "stream",
          "text": [
            "5/5 [==============================] - 11s 2s/step\n",
            "Categorie reelle :  [1 5 6 2 5 2 2 6 5 6 5 6 6 2 3 0 3 0 1 6 1 0 6 1 1 1 1 2 6 4] \n",
            "\n",
            "Categorie prédite :  [1 5 6 2 5 2 2 6 5 6 5 6 6 2 0 3 3 0 1 6 1 0 6 2 3 1 1 2 6 4]\n"
          ]
        }
      ],
      "source": [
        "# Categorie réelle et prédites des images de validation\n",
        "y_val_num = np.argmax(y_val_pretraited, axis=1)\n",
        "y_val_pred = np.argmax(\n",
        "    model_optimal_tf_vgg16_noDA.predict(X_val_pretraited),\n",
        "    axis=1\n",
        ")\n",
        "\n",
        "# Afficher les 30 premières catégories réelles et prédites\n",
        "print(\"Categorie reelle : \", y_val_num[:30], \"\\n\")\n",
        "print(\"Categorie prédite : \", y_val_pred[:30])"
      ]
    },
    {
      "cell_type": "markdown",
      "metadata": {
        "id": "C6mbu8sp07GS"
      },
      "source": [
        "Nous confirmons les résultats en affichant la matrice de confusion et le rapport de classification."
      ]
    },
    {
      "cell_type": "code",
      "execution_count": 100,
      "metadata": {
        "colab": {
          "base_uri": "https://localhost:8080/",
          "height": 839
        },
        "id": "q0ibbMHA07GS",
        "outputId": "ac25574a-9d8e-44c8-81ba-dec1934a6c8a"
      },
      "outputs": [
        {
          "name": "stdout",
          "output_type": "stream",
          "text": [
            "\n",
            "Correspondance des clusters :  [0 1 2 3 4 5 6]\n"
          ]
        },
        {
          "data": {
            "image/png": "[encoded data removed]",
            "text/plain": [
              "<Figure size 600x400 with 2 Axes>"
            ]
          },
          "metadata": {},
          "output_type": "display_data"
        },
        {
          "name": "stdout",
          "output_type": "stream",
          "text": [
            "              precision    recall  f1-score   support\n",
            "\n",
            "           0       0.79      0.65      0.71        23\n",
            "           1       0.75      0.78      0.77        23\n",
            "           2       0.80      0.91      0.85        22\n",
            "           3       0.65      0.59      0.62        22\n",
            "           4       0.76      0.86      0.81        22\n",
            "           5       0.95      0.87      0.91        23\n",
            "           6       0.96      1.00      0.98        22\n",
            "\n",
            "    accuracy                           0.81       157\n",
            "   macro avg       0.81      0.81      0.81       157\n",
            "weighted avg       0.81      0.81      0.81       157\n",
            "\n"
          ]
        }
      ],
      "source": [
        "# Verifier la correspondance des clusters\n",
        "y_val_pred_transform = conf_mat_transform_argmax(y_val_num, y_val_pred)\n",
        "\n",
        "# Afficher la matrice de confusion et le rapport de classification\n",
        "conf_mat_tf_vgg16_noDA = matrice_conf_et_rapport(\n",
        "    y_val_num,\n",
        "    y_val_pred_transform,\n",
        "    categories\n",
        "    )"
      ]
    },
    {
      "cell_type": "markdown",
      "metadata": {
        "id": "t8Nhu8lj07GT"
      },
      "source": [
        "### <span style='background:red'>bilan a faire</span>"
      ]
    },
    {
      "cell_type": "markdown",
      "metadata": {
        "id": "rPUy9PkT07GT"
      },
      "source": [
        "<div class=\"alert alert-block alert-success\"><b>Bilan: </b> <br>\n",
        "Le modèle optimal CNN avec transfer learning du VGG16 présente des performances ... </div>"
      ]
    },
    {
      "cell_type": "markdown",
      "metadata": {
        "id": "bvDpD60WVDZh"
      },
      "source": [
        "# <span style='background:blue'>Etape 7 : Comparaison des résultats</span>"
      ]
    },
    {
      "cell_type": "code",
      "execution_count": 101,
      "metadata": {
        "colab": {
          "base_uri": "https://localhost:8080/",
          "height": 81
        },
        "id": "HIZ1_UXMcv8g",
        "outputId": "7653e2e7-813e-49f7-e416-ee80db4b4326"
      },
      "outputs": [
        {
          "data": {
            "text/html": [
              "<div>\n",
              "<style scoped>\n",
              "    .dataframe tbody tr th:only-of-type {\n",
              "        vertical-align: middle;\n",
              "    }\n",
              "\n",
              "    .dataframe tbody tr th {\n",
              "        vertical-align: top;\n",
              "    }\n",
              "\n",
              "    .dataframe thead th {\n",
              "        text-align: right;\n",
              "    }\n",
              "</style>\n",
              "<table border=\"1\" class=\"dataframe\">\n",
              "  <thead>\n",
              "    <tr style=\"text-align: right;\">\n",
              "      <th></th>\n",
              "      <th>Validation Accuracy</th>\n",
              "      <th>Temps (sec)</th>\n",
              "    </tr>\n",
              "  </thead>\n",
              "  <tbody>\n",
              "    <tr>\n",
              "      <th>Dummy</th>\n",
              "      <td>0.15</td>\n",
              "      <td>2.00e-03</td>\n",
              "    </tr>\n",
              "  </tbody>\n",
              "</table>\n",
              "</div>"
            ],
            "text/plain": [
              "       Validation Accuracy  Temps (sec)\n",
              "Dummy                 0.15     2.00e-03"
            ]
          },
          "execution_count": 101,
          "metadata": {},
          "output_type": "execute_result"
        }
      ],
      "source": [
        "resultat_naif"
      ]
    },
    {
      "cell_type": "code",
      "execution_count": 102,
      "metadata": {},
      "outputs": [
        {
          "data": {
            "text/html": [
              "<div>\n",
              "<style scoped>\n",
              "    .dataframe tbody tr th:only-of-type {\n",
              "        vertical-align: middle;\n",
              "    }\n",
              "\n",
              "    .dataframe tbody tr th {\n",
              "        vertical-align: top;\n",
              "    }\n",
              "\n",
              "    .dataframe thead th {\n",
              "        text-align: right;\n",
              "    }\n",
              "</style>\n",
              "<table border=\"1\" class=\"dataframe\">\n",
              "  <thead>\n",
              "    <tr style=\"text-align: right;\">\n",
              "      <th></th>\n",
              "      <th>Validation Accuracy</th>\n",
              "      <th>Temps (sec)</th>\n",
              "      <th>Epochs</th>\n",
              "      <th>batch_sizes</th>\n",
              "    </tr>\n",
              "  </thead>\n",
              "  <tbody>\n",
              "    <tr>\n",
              "      <th>mlp</th>\n",
              "      <td>0.15</td>\n",
              "      <td>10.46</td>\n",
              "      <td>11</td>\n",
              "      <td>128</td>\n",
              "    </tr>\n",
              "  </tbody>\n",
              "</table>\n",
              "</div>"
            ],
            "text/plain": [
              "     Validation Accuracy  Temps (sec)  Epochs  batch_sizes\n",
              "mlp                 0.15        10.46      11          128"
            ]
          },
          "metadata": {},
          "output_type": "display_data"
        }
      ],
      "source": [
        "# Reformater le dataframe\n",
        "resultat_optimal_mlp = reformatte_resultat(\n",
        "    resultat_mlp, batch_sizes, batch_meilleur_mlp, 'mlp')\n",
        "\n",
        "display(resultat_optimal_mlp)"
      ]
    },
    {
      "cell_type": "code",
      "execution_count": 103,
      "metadata": {},
      "outputs": [
        {
          "data": {
            "text/html": [
              "<div>\n",
              "<style scoped>\n",
              "    .dataframe tbody tr th:only-of-type {\n",
              "        vertical-align: middle;\n",
              "    }\n",
              "\n",
              "    .dataframe tbody tr th {\n",
              "        vertical-align: top;\n",
              "    }\n",
              "\n",
              "    .dataframe thead th {\n",
              "        text-align: right;\n",
              "    }\n",
              "</style>\n",
              "<table border=\"1\" class=\"dataframe\">\n",
              "  <thead>\n",
              "    <tr style=\"text-align: right;\">\n",
              "      <th></th>\n",
              "      <th>Validation Accuracy</th>\n",
              "      <th>Temps (sec)</th>\n",
              "      <th>Epochs</th>\n",
              "      <th>batch_sizes</th>\n",
              "    </tr>\n",
              "  </thead>\n",
              "  <tbody>\n",
              "    <tr>\n",
              "      <th>cnn</th>\n",
              "      <td>0.44</td>\n",
              "      <td>143.96</td>\n",
              "      <td>15</td>\n",
              "      <td>256</td>\n",
              "    </tr>\n",
              "  </tbody>\n",
              "</table>\n",
              "</div>"
            ],
            "text/plain": [
              "     Validation Accuracy  Temps (sec)  Epochs  batch_sizes\n",
              "cnn                 0.44       143.96      15          256"
            ]
          },
          "metadata": {},
          "output_type": "display_data"
        }
      ],
      "source": [
        "# Reformater le dataframe\n",
        "resultat_optimal_cnn = reformatte_resultat(\n",
        "    resultat_cnn, batch_sizes, batch_meilleur_cnn, 'cnn')\n",
        "\n",
        "display(resultat_optimal_cnn)"
      ]
    },
    {
      "cell_type": "code",
      "execution_count": 104,
      "metadata": {},
      "outputs": [
        {
          "data": {
            "text/html": [
              "<div>\n",
              "<style scoped>\n",
              "    .dataframe tbody tr th:only-of-type {\n",
              "        vertical-align: middle;\n",
              "    }\n",
              "\n",
              "    .dataframe tbody tr th {\n",
              "        vertical-align: top;\n",
              "    }\n",
              "\n",
              "    .dataframe thead th {\n",
              "        text-align: right;\n",
              "    }\n",
              "</style>\n",
              "<table border=\"1\" class=\"dataframe\">\n",
              "  <thead>\n",
              "    <tr style=\"text-align: right;\">\n",
              "      <th></th>\n",
              "      <th>Validation Accuracy</th>\n",
              "      <th>Temps (sec)</th>\n",
              "      <th>Epochs</th>\n",
              "      <th>batch_sizes</th>\n",
              "    </tr>\n",
              "  </thead>\n",
              "  <tbody>\n",
              "    <tr>\n",
              "      <th>tf_vgg16_noDA</th>\n",
              "      <td>0.82</td>\n",
              "      <td>133.76</td>\n",
              "      <td>15</td>\n",
              "      <td>512</td>\n",
              "    </tr>\n",
              "  </tbody>\n",
              "</table>\n",
              "</div>"
            ],
            "text/plain": [
              "               Validation Accuracy  Temps (sec)  Epochs  batch_sizes\n",
              "tf_vgg16_noDA                 0.82       133.76      15          512"
            ]
          },
          "metadata": {},
          "output_type": "display_data"
        }
      ],
      "source": [
        "# Reformater le dataframe\n",
        "resultat_optimal_tf_vgg16_noDA = reformatte_resultat(\n",
        "    resultat_tf_vgg16_noDA,\n",
        "    batch_sizes,\n",
        "    batch_meilleur_tf_vgg16_noDA,\n",
        "    'tf_vgg16_noDA'\n",
        ")\n",
        "\n",
        "display(resultat_optimal_tf_vgg16_noDA)"
      ]
    },
    {
      "cell_type": "code",
      "execution_count": 105,
      "metadata": {},
      "outputs": [
        {
          "data": {
            "text/html": [
              "<div>\n",
              "<style scoped>\n",
              "    .dataframe tbody tr th:only-of-type {\n",
              "        vertical-align: middle;\n",
              "    }\n",
              "\n",
              "    .dataframe tbody tr th {\n",
              "        vertical-align: top;\n",
              "    }\n",
              "\n",
              "    .dataframe thead th {\n",
              "        text-align: right;\n",
              "    }\n",
              "</style>\n",
              "<table border=\"1\" class=\"dataframe\">\n",
              "  <thead>\n",
              "    <tr style=\"text-align: right;\">\n",
              "      <th></th>\n",
              "      <th>Validation Accuracy</th>\n",
              "      <th>Temps (sec)</th>\n",
              "      <th>Epochs</th>\n",
              "      <th>batch_sizes</th>\n",
              "    </tr>\n",
              "  </thead>\n",
              "  <tbody>\n",
              "    <tr>\n",
              "      <th>mlp</th>\n",
              "      <td>0.15</td>\n",
              "      <td>10.46</td>\n",
              "      <td>11</td>\n",
              "      <td>128</td>\n",
              "    </tr>\n",
              "    <tr>\n",
              "      <th>cnn</th>\n",
              "      <td>0.44</td>\n",
              "      <td>143.96</td>\n",
              "      <td>15</td>\n",
              "      <td>256</td>\n",
              "    </tr>\n",
              "    <tr>\n",
              "      <th>tf_vgg16_noDA</th>\n",
              "      <td>0.82</td>\n",
              "      <td>133.76</td>\n",
              "      <td>15</td>\n",
              "      <td>512</td>\n",
              "    </tr>\n",
              "  </tbody>\n",
              "</table>\n",
              "</div>"
            ],
            "text/plain": [
              "               Validation Accuracy  Temps (sec)  Epochs  batch_sizes\n",
              "mlp                           0.15        10.46      11          128\n",
              "cnn                           0.44       143.96      15          256\n",
              "tf_vgg16_noDA                 0.82       133.76      15          512"
            ]
          },
          "metadata": {},
          "output_type": "display_data"
        }
      ],
      "source": [
        "# Concaténer les trois DataFrames\n",
        "resultat_optimal_tous = pd.concat([\n",
        "    resultat_optimal_mlp,\n",
        "    resultat_optimal_cnn,\n",
        "    resultat_optimal_tf_vgg16_noDA\n",
        "], ignore_index=False)\n",
        "\n",
        "display(resultat_optimal_tous)"
      ]
    },
    {
      "cell_type": "code",
      "execution_count": 106,
      "metadata": {
        "colab": {
          "base_uri": "https://localhost:8080/",
          "height": 143
        },
        "id": "2SeocO4an-WE",
        "outputId": "f779cb77-4752-4f05-f3d1-c072de8c1dfb"
      },
      "outputs": [
        {
          "data": {
            "text/html": [
              "<style type=\"text/css\">\n",
              "#T_2fc4a_row0_col1, #T_2fc4a_row2_col0 {\n",
              "  background-color: green;\n",
              "}\n",
              "</style>\n",
              "<table id=\"T_2fc4a\">\n",
              "  <thead>\n",
              "    <tr>\n",
              "      <th class=\"blank level0\" >&nbsp;</th>\n",
              "      <th id=\"T_2fc4a_level0_col0\" class=\"col_heading level0 col0\" >Validation Accuracy</th>\n",
              "      <th id=\"T_2fc4a_level0_col1\" class=\"col_heading level0 col1\" >Temps (sec)</th>\n",
              "      <th id=\"T_2fc4a_level0_col2\" class=\"col_heading level0 col2\" >Epochs</th>\n",
              "      <th id=\"T_2fc4a_level0_col3\" class=\"col_heading level0 col3\" >batch_sizes</th>\n",
              "    </tr>\n",
              "  </thead>\n",
              "  <tbody>\n",
              "    <tr>\n",
              "      <th id=\"T_2fc4a_level0_row0\" class=\"row_heading level0 row0\" >mlp</th>\n",
              "      <td id=\"T_2fc4a_row0_col0\" class=\"data row0 col0\" >0.146497</td>\n",
              "      <td id=\"T_2fc4a_row0_col1\" class=\"data row0 col1\" >10.458669</td>\n",
              "      <td id=\"T_2fc4a_row0_col2\" class=\"data row0 col2\" >11</td>\n",
              "      <td id=\"T_2fc4a_row0_col3\" class=\"data row0 col3\" >128</td>\n",
              "    </tr>\n",
              "    <tr>\n",
              "      <th id=\"T_2fc4a_level0_row1\" class=\"row_heading level0 row1\" >cnn</th>\n",
              "      <td id=\"T_2fc4a_row1_col0\" class=\"data row1 col0\" >0.439490</td>\n",
              "      <td id=\"T_2fc4a_row1_col1\" class=\"data row1 col1\" >143.962187</td>\n",
              "      <td id=\"T_2fc4a_row1_col2\" class=\"data row1 col2\" >15</td>\n",
              "      <td id=\"T_2fc4a_row1_col3\" class=\"data row1 col3\" >256</td>\n",
              "    </tr>\n",
              "    <tr>\n",
              "      <th id=\"T_2fc4a_level0_row2\" class=\"row_heading level0 row2\" >tf_vgg16_noDA</th>\n",
              "      <td id=\"T_2fc4a_row2_col0\" class=\"data row2 col0\" >0.815287</td>\n",
              "      <td id=\"T_2fc4a_row2_col1\" class=\"data row2 col1\" >133.760264</td>\n",
              "      <td id=\"T_2fc4a_row2_col2\" class=\"data row2 col2\" >15</td>\n",
              "      <td id=\"T_2fc4a_row2_col3\" class=\"data row2 col3\" >512</td>\n",
              "    </tr>\n",
              "  </tbody>\n",
              "</table>\n"
            ],
            "text/plain": [
              "<pandas.io.formats.style.Styler at 0x2e2577ef450>"
            ]
          },
          "execution_count": 106,
          "metadata": {},
          "output_type": "execute_result"
        }
      ],
      "source": [
        "# Surligner les meilleures valeurs\n",
        "resultat_optimal_tous.style.apply(surligne_meilleur)"
      ]
    },
    {
      "cell_type": "markdown",
      "metadata": {
        "id": "Dy0a9O3007GT"
      },
      "source": [
        "# <span style='background:blue'>Etape 8 : CNN + Transfer learning VGG-16 avec Data Augmentation</span>\n",
        "\n",
        "Pour cette classification d'image automatique, nous allons utiliser un **réseau de neurones convolutionnels** (*Convolutional Neural Network*, **CNN**). Nous le couplons avec la technique du **transfer learning** pour utiliser le modèle pré-entrainé **VGG-16**. Nous optimisons les performances du modèle en utilisant la technique de **data augmentation**."
      ]
    },
    {
      "cell_type": "markdown",
      "metadata": {
        "id": "jVoFFGUX07GT"
      },
      "source": [
        "## <span style='background:green'>1/ Prétraitement des données</span>"
      ]
    },
    {
      "cell_type": "markdown",
      "metadata": {
        "id": "A3Y-8d6o07GT"
      },
      "source": [
        "### <span style='background:red'>data augmentation?</span>"
      ]
    },
    {
      "cell_type": "markdown",
      "metadata": {
        "id": "CAxJ3o6907GT"
      },
      "source": [
        "La cellule ci-dessous est à activer si les images sont classées par catégories et qu'il faut les mélanger."
      ]
    },
    {
      "cell_type": "code",
      "execution_count": 107,
      "metadata": {
        "id": "SblcswUE07GT"
      },
      "outputs": [],
      "source": [
        "# # Pour mélanger les images, classées initalement par classe\n",
        "# data = data.sample(frac=1, random_state=42).reset_index(drop=True)"
      ]
    },
    {
      "cell_type": "code",
      "execution_count": 108,
      "metadata": {
        "id": "o1FVoTi707GT"
      },
      "outputs": [],
      "source": [
        "def data_flow_fct(data, datagen, batch_size):\n",
        "    \"\"\"\n",
        "    Crée un générateur de données à partir d'un DataFrame :\n",
        "    - data : DataFrame contenant les chemins des images et les labels\n",
        "    correspondants.\n",
        "    - directory : str, facultatif. Chemin du répertoire contenant les images.\n",
        "    Si vide, les chemins des images doivent être absolus.\n",
        "    - x_col : str, nom de la colonne contenant les chemins des images.\n",
        "    - y_col : str, nom de la colonne contenant les labels.\n",
        "    - weight_col : str, facultatif. Nom de la colonne contenant les poids. Si\n",
        "    None, tous les poids sont égaux.\n",
        "    - target_size : tuple, taille des images issues de la data augmentation.\n",
        "    - classes : list, facultatif. Liste des classes à utiliser. Si None, toutes\n",
        "    les classes seront automatiquement inférées à partir des labels.\n",
        "    - class_mode : str, type de label à generer. Si categorical alors les\n",
        "    labels seront des vecteurs one-hot 2D.\n",
        "    - batch_size : int, taille des batchs.\n",
        "    - shuffle : bool, mélanger les données à chaque époch.\n",
        "    - seed : int, graine pour le mélange des données.\n",
        "\n",
        "    Paramètres :\n",
        "    - data : DataFrame contenant les chemins des images et les labels\n",
        "    correspondants.\n",
        "    - datagen : instance de ImageDataGenerator pour effectuer la data\n",
        "    augmentation.\n",
        "    - batch_size : int, taille des batchs.\n",
        "    - data_type : str, facultatif. Si 'training' ou 'validation', détermine le\n",
        "    sous-ensemble de données à utiliser.\n",
        "\n",
        "    Retourne :\n",
        "    - data_flow : générateur de données.\n",
        "    \"\"\"\n",
        "    data_flow = datagen.flow_from_dataframe(\n",
        "        data,\n",
        "        directory='',\n",
        "        x_col='image',\n",
        "        y_col='label',\n",
        "        weight_col=None,\n",
        "        target_size=(224, 224),\n",
        "        classes=None,\n",
        "        class_mode='categorical',\n",
        "        batch_size=batch_size,\n",
        "        shuffle=True,\n",
        "        seed=42,\n",
        "    )\n",
        "\n",
        "    return data_flow"
      ]
    },
    {
      "cell_type": "code",
      "execution_count": 109,
      "metadata": {
        "id": "w-twVPm207GT"
      },
      "outputs": [],
      "source": [
        "# Agglomeration des images et labels\n",
        "df_train_combined = pd.DataFrame({\"image\": X_train, \"label\": y_train})\n",
        "df_val_combined = pd.DataFrame({\"image\": X_val, \"label\": y_val})\n",
        "df_test_combined = pd.DataFrame({\"image\": X_test, \"label\": y_test})\n",
        "\n",
        "# Convertir les labels en chaînes de caractères\n",
        "df_train_combined['label'] = df_train_combined['label'].astype(str)\n",
        "df_val_combined['label'] = df_val_combined['label'].astype(str)\n",
        "df_test_combined['label'] = df_test_combined['label'].astype(str)\n",
        "\n",
        "# Création d'un générateur de données pour les images d'entraînement\n",
        "datagen_train = ImageDataGenerator(\n",
        "    rotation_range=20,\n",
        "    width_shift_range=0.2,\n",
        "    height_shift_range=0.2,\n",
        "    horizontal_flip=True,\n",
        "    preprocessing_function=preprocess_input\n",
        ")\n",
        "\n",
        "# Création générateur de données pour images validation et test (pas de DA)\n",
        "datagen_test = ImageDataGenerator(preprocessing_function=preprocess_input)\n",
        "\n",
        "\n",
        "\n",
        "\n",
        "\n",
        "# Initialiser une liste vide pour stocker les données d'image\n",
        "data = []\n",
        "\n",
        "# Parcourir chaque chemin d'image dans X_train\n",
        "for img_path in X_train:\n",
        "\n",
        "    # Charger l'image\n",
        "    img = Image.open(img_path)\n",
        "\n",
        "    # Convertir l'image en un tableau NumPy et normaliser les valeurs des pixels\n",
        "    img_array = np.array(img) / 255.0\n",
        "\n",
        "    # Ajouter les données d'image à la liste\n",
        "    data.append(img_array)\n",
        "\n",
        "# Convertir la liste en un tableau NumPy\n",
        "X_train = np.array(data)\n",
        "\n",
        "\n",
        "\n",
        "\n",
        "\n",
        "\n",
        "# Entrainement des generateur de donnees\n",
        "datagen_train.fit(X_train)\n",
        "datagen_test.fit(X_test)\n",
        "\n",
        "# Application du generateur de donnees sur le jeu d'entrainement\n",
        "train_flow = data_flow_fct(\n",
        "    df_train_combined,\n",
        "    datagen_train,\n",
        "    batch_size=batch_meilleur_tf_vgg16_noDA,\n",
        ")\n",
        "\n",
        "# Application du generateur de donnees sur le jeu de validation\n",
        "val_flow = data_flow_fct(\n",
        "    df_val_combined,\n",
        "    datagen_test,\n",
        "    batch_size=batch_meilleur_tf_vgg16_noDA,\n",
        ")\n",
        "\n",
        "# Application du generateur de donnees sur le jeu de test\n",
        "test_flow = data_flow_fct(\n",
        "    df_test_combined,\n",
        "    datagen_test,\n",
        "    batch_size=batch_meilleur_tf_vgg16_noDA,\n",
        ")\n",
        "\n",
        "# compute quantities required for featurewise normalization\n",
        "# (std, mean, and principal components if ZCA whitening is applied)\n",
        "# datagen.fit(X_train)\n",
        "# fits the model on batches with real-time data augmentation:"
      ]
    },
    {
      "cell_type": "markdown",
      "metadata": {
        "id": "AFk-CPDQ07GT"
      },
      "source": [
        "## <span style='background:green'>2/ Elaboration du modèle</span>\n",
        "\n",
        "### <span style='background:black'>a/ Architecture</span>\n",
        "\n",
        "Nous créons un modèle de classification d'images CNN en réalisant un **transfer learning** à partir du modèle VGG16 identique à celui de l'étape précédente.\n",
        "\n",
        "### <span style='background:black'>b/ Compilation et métrique d'évaluation</span>\n",
        "\n",
        "Le modèle est compilé avec les mêmes paramètres que précedemment, à savoir :\n",
        "- la fonction de perte '**categorical_crossentropy**'\n",
        "\n",
        "- l'optimiseur '**rmsprop**'\n",
        "\n",
        "- la métrique d'évaluation '**accuracy**'"
      ]
    },
    {
      "cell_type": "markdown",
      "metadata": {
        "id": "2MwdZqCc07GT"
      },
      "source": [
        "### <span style='background:black'>c/ Callbacks</span>\n",
        "\n",
        "Nous utilisons les mêmes callbacks que précedemment, à savoir :\n",
        "\n",
        "- **ModelCheckpoint** pour sauvegarder le meilleur modèle pendant l'entrainement.\n",
        "\n",
        "- **EarlyStopping** pour arrêter l'entrainement si val_loss (la perte du jeu de validation) ne diminue plus après 3 epochs."
      ]
    },
    {
      "cell_type": "markdown",
      "metadata": {
        "id": "7yK2vnJB07GT"
      },
      "source": [
        "### <span style='background:black'>d/ Indicateur supplémentaire</span>\n",
        "\n",
        "Nous utilisons le même indicateur supplémentaire que précedemment, à savoir le **temps de calcul**.\n",
        "\n",
        "### <span style='background:black'>e/ Optimisation hyperparamètre</span>\n",
        "\n",
        "Nous utilisont les mêmes paramètres que précedemment, à savoir :\n",
        "- epochs = 15\n",
        "- batch_size = 32, 64, 128, 256 et 512"
      ]
    },
    {
      "cell_type": "code",
      "execution_count": null,
      "metadata": {
        "id": "zacsAGuF07GT"
      },
      "outputs": [],
      "source": [
        "# # Créer des dictionnaires vides pour stocker l'historique, temps, epochs\n",
        "# history_dict, time_dict, epoch_dict = {}, {}, {}\n",
        "\n",
        "# # POUR chaque batch_size\n",
        "# for batch_size in batch_sizes:\n",
        "#     print(\"\\n\", \"=\" * 30, \"batch_size :\", batch_size, \"=\" * 30)\n",
        "\n",
        "#     # # Utiliser le GPU\n",
        "#     # with tf.device('/gpu:0'):\n",
        "\n",
        "#     # Créer un modèle CNN\n",
        "#     model_tf_vgg16_DA = creation_modele_transfer_vgg16(\n",
        "#         fonction_perte,\n",
        "#         optimiseur,\n",
        "#         metric_eval,\n",
        "#     )\n",
        "\n",
        "#     # Création des callbacks\n",
        "#     callbacks_list, chemin_modele_export = creer_callbacks(\n",
        "#         \"model_tf_vgg16_DA\",\n",
        "#         patience,\n",
        "#         batch_size\n",
        "#     )\n",
        "\n",
        "#     # Enregistrer le temps de début\n",
        "#     start_time = time.time()\n",
        "\n",
        "#     # Entraîner le modèle\n",
        "#     history_tf_vgg16_DA = model_tf_vgg16_DA.fit(\n",
        "#         train_flow,\n",
        "#         steps_per_epoch=len(X_train) // batch_size,\n",
        "#         epochs=15,\n",
        "#         callbacks=callbacks_list,\n",
        "#         validation_data=val_flow,\n",
        "#         validation_steps=len(X_val) // batch_size,\n",
        "#         verbose=1\n",
        "#     )\n",
        "\n",
        "#     # Enregistrer le temps de fin\n",
        "#     end_time = time.time()\n",
        "\n",
        "#     # Calculer le temps d'entraînement\n",
        "#     training_time = end_time - start_time\n",
        "#     print(f\"\\n=> Temps d'entraînement : {round(training_time, 2)} sec <=\")\n",
        "\n",
        "#     # Calculer le nombre d'epochs\n",
        "#     epochs = len(history_tf_vgg16_DA.history['loss'])\n",
        "\n",
        "#     # Stocker l'historique, le temps d'entraînement et le nombre d'epochs\n",
        "#     history_dict[batch_size] = history_tf_vgg16_DA.history\n",
        "#     time_dict[batch_size] = training_time\n",
        "#     epoch_dict[batch_size] = epochs"
      ]
    },
    {
      "cell_type": "code",
      "execution_count": null,
      "metadata": {
        "id": "VA9sT-qF6BkM"
      },
      "outputs": [],
      "source": [
        "# Afficher TPU connecté\n",
        "try:\n",
        "    tpu = tf.distribute.cluster_resolver.TPUClusterResolver()\n",
        "    print('Running on TPU ', tpu.cluster_spec().as_dict()['worker'])\n",
        "except ValueError:\n",
        "    raise BaseException('ERROR: Not connected to a TPU runtime')\n",
        "\n",
        "# Verification TPU\n",
        "if tpu:\n",
        "    tf.config.experimental_connect_to_cluster(tpu)\n",
        "    tf.tpu.experimental.initialize_tpu_system(tpu)\n",
        "    tpu_strategy = tf.distribute.TPUStrategy(tpu)\n",
        "    print('Connected to TPU')\n",
        "else:\n",
        "    print('Not connected to a TPU')"
      ]
    },
    {
      "cell_type": "code",
      "execution_count": null,
      "metadata": {
        "id": "CmQRLyD26nhm"
      },
      "outputs": [],
      "source": [
        "batch_size"
      ]
    },
    {
      "cell_type": "code",
      "execution_count": null,
      "metadata": {
        "id": "wSo4sj1i10TZ"
      },
      "outputs": [],
      "source": [
        "# Créer des dictionnaires vides pour stocker l'historique, temps, epochs\n",
        "history_dict, time_dict, epoch_dict = {}, {}, {}\n",
        "\n",
        "# Créer un modèle de transfer learning VGG16\n",
        "model_tf_vgg16_DA = creation_modele_transfer_vgg16(\n",
        "    fonction_perte,\n",
        "    optimiseur,\n",
        "    metric_eval,\n",
        ")\n",
        "\n",
        "# Création des callbacks\n",
        "callbacks_list, chemin_modele_export = creer_callbacks(\n",
        "    \"model_tf_vgg16_DA\",\n",
        "    patience,\n",
        "    batch_size\n",
        ")\n",
        "\n",
        "# Enregistrer le temps de début\n",
        "start_time = time.time()\n",
        "\n",
        "# Entraîner le modèle\n",
        "history_tf_vgg16_DA = model_tf_vgg16_DA.fit(\n",
        "    train_flow,\n",
        "    validation_data=val_flow,\n",
        "    batch_size=batch_size,\n",
        "    epochs=15,\n",
        "    callbacks=callbacks_list,\n",
        "    verbose=1\n",
        ")\n",
        "\n",
        "# Enregistrer le temps de fin\n",
        "end_time = time.time()\n",
        "\n",
        "# Calculer le temps d'entraînement\n",
        "training_time = end_time - start_time\n",
        "print(f\"\\n=> Temps d'entraînement : {round(training_time, 2)} sec <=\")\n",
        "\n",
        "# Calculer le nombre d'epochs\n",
        "epochs = len(history_tf_vgg16_DA.history['loss'])\n",
        "\n",
        "# Stocker l'historique, le temps d'entraînement et le nombre d'epochs\n",
        "history_dict[batch_size] = history_tf_vgg16_DA.history\n",
        "time_dict[batch_size] = training_time\n",
        "epoch_dict[batch_size] = epochs"
      ]
    },
    {
      "cell_type": "markdown",
      "metadata": {
        "id": "6M8EBdOc07GU"
      },
      "source": [
        "Comparons les résultats obtenus pour les différents batch_size :"
      ]
    },
    {
      "cell_type": "code",
      "execution_count": null,
      "metadata": {
        "id": "g2Mfwj2u07GU"
      },
      "outputs": [],
      "source": [
        "# Créer un DataFrame à partir de l'historique\n",
        "resultat_tf_vgg16_DA = pd.DataFrame(\n",
        "    {k: v['val_accuracy'][-1] for k, v in history_dict.items()},\n",
        "    index=[0]\n",
        "    )\n",
        "\n",
        "# Transposer le DataFrame (batch_sizes en index)\n",
        "resultat_tf_vgg16_DA = resultat_tf_vgg16_DA.transpose()\n",
        "\n",
        "# Renommer la colonne\n",
        "resultat_tf_vgg16_DA.columns = ['Validation Accuracy']\n",
        "\n",
        "# Ajouter les temps d'entraînement et nombre d'epoch au DataFrame\n",
        "resultat_tf_vgg16_DA['Temps (sec)'] = pd.Series(time_dict)\n",
        "resultat_tf_vgg16_DA['Epochs'] = pd.Series(epoch_dict)\n",
        "\n",
        "# Afficher le batch_size avec la meilleure accuracy de validation\n",
        "batch_meilleur_tf_vgg16_DA = resultat_tf_vgg16_DA[\n",
        "    'Validation Accuracy'].idxmax()\n",
        "print(f\"\\nMeilleur batch_size (accuracy): {batch_meilleur_tf_vgg16_DA}\")\n",
        "\n",
        "# Surligner les meilleures valeurs\n",
        "resultat_tf_vgg16_DA.style.apply(surligne_meilleur)"
      ]
    },
    {
      "cell_type": "markdown",
      "metadata": {
        "id": "-UKeUsjb07GU"
      },
      "source": [
        "### <span style='background:red'>bilan a faire</span>"
      ]
    },
    {
      "cell_type": "markdown",
      "metadata": {
        "id": "j957nUdo07GU"
      },
      "source": [
        "## <span style='background:green'>3/ Modèle optimal</span>\n",
        "\n",
        "### <span style='background:black'>a/Création et entrainement</span>\n",
        "\n",
        "Nous entrainons à nouveau le modèle avec le bon batch_size pour obtenir le modèle optimal."
      ]
    },
    {
      "cell_type": "code",
      "execution_count": null,
      "metadata": {
        "id": "7lWEDyO407GU"
      },
      "outputs": [],
      "source": [
        "# Nom du fichier history\n",
        "history_tf_vgg16_DA_file = 'history_optimal_tf_vgg16_DA.pickle'\n",
        "\n",
        "# SI le fichier history existe\n",
        "if os.path.exists(history_tf_vgg16_DA_file):\n",
        "\n",
        "    # ALORS le charger car les calculs sont deja fait\n",
        "    with open(history_tf_vgg16_DA_file, 'rb') as f:\n",
        "        history_optimal_tf_vgg16_DA = pickle.load(f)\n",
        "    print(\"History chargé à partir du fichier.\")\n",
        "\n",
        "# SINON on realise les calculs\n",
        "else:\n",
        "    print(\"On fait les calculs.\")\n",
        "\n",
        "    # # Utiliser le GPU\n",
        "    # with tf.device('/gpu:0'):\n",
        "\n",
        "    # Créer le modèle optimal de tranfer learning VGG16\n",
        "    model_optimal_tf_vgg16_DA = creation_modele_transfer_vgg16(\n",
        "        fonction_perte,\n",
        "        optimiseur,\n",
        "        metric_eval,\n",
        "    )\n",
        "\n",
        "    # Création des callbacks\n",
        "    callbacks_list, chemin_modele_export = creer_callbacks(\n",
        "        \"model_optimal_tf_vgg16_DA\",\n",
        "        patience,\n",
        "    )\n",
        "\n",
        "    # Entraîner le modèle avec batch_meilleur_tf_vgg16_DA\n",
        "    history_optimal_tf_vgg16_DA = model_optimal_tf_vgg16_DA.fit(\n",
        "        train_flow,\n",
        "        steps_per_epoch=len(X_train) // batch_size,\n",
        "        epochs=15,\n",
        "        batch_size=batch_meilleur_tf_vgg16_DA,\n",
        "        callbacks=callbacks_list,\n",
        "        validation_data=val_flow,\n",
        "        validation_steps=len(X_val) // batch_size,\n",
        "        verbose=1\n",
        "        )\n",
        "\n",
        "    # Sauvegarder l'objet history\n",
        "    with open(history_tf_vgg16_DA_file, 'wb') as f:\n",
        "        pickle.dump(history_optimal_tf_vgg16_DA.history, f)"
      ]
    },
    {
      "cell_type": "markdown",
      "metadata": {
        "id": "oG511RV-07GU"
      },
      "source": [
        "### <span style='background:black'>b/ Plot loss et accuracy</span>\n",
        "\n",
        "Nous affichons l'évolution de la perte et de l'accuracy pour le jeu d'entrainement et le jeu de validation au cours des epoch."
      ]
    },
    {
      "cell_type": "code",
      "execution_count": null,
      "metadata": {
        "id": "HPvY9z4E07GV"
      },
      "outputs": [],
      "source": [
        "# Afficher l'historique de l'entraînement\n",
        "show_history(history_optimal_tf_vgg16_DA)\n",
        "\n",
        "# Definir le chemin d'export de la figure\n",
        "dossier_figure = \"./figure/\"\n",
        "nom_figure = f\"history_optimal_tf_vgg16_DA_batch{batch_meilleur_tf_vgg16_DA}.png\"\n",
        "chemin_figure_export = os.path.join(dossier_figure, nom_figure)\n",
        "\n",
        "# Sauvegarder l'historique de l'entraînement\n",
        "plot_history(history_optimal_tf_vgg16_DA, path=chemin_figure_export)\n",
        "plt.close()"
      ]
    },
    {
      "cell_type": "markdown",
      "metadata": {
        "id": "yTqMsubS07GV"
      },
      "source": [
        "### <span style='background:red'>bilan a faire</span>"
      ]
    },
    {
      "cell_type": "markdown",
      "metadata": {
        "id": "Th5r4Lme07GV"
      },
      "source": [
        "### <span style='background:black'>c/ Comparatif des accuracy</span>\n",
        "\n",
        "Nous comparons les accuracy du modèle optimal (Transfer learning avec VGG16) avec les poids du meilleur modèle pour les 3 jeux de données (entrainement, validation et test)."
      ]
    },
    {
      "cell_type": "code",
      "execution_count": null,
      "metadata": {
        "id": "cBJfbmRv07GV"
      },
      "outputs": [],
      "source": [
        "# Charger les poids du meilleur modèle\n",
        "model_optimal_tf_vgg16_DA.load_weights(chemin_modele_export)\n",
        "\n",
        "# Evaluation meilleur modèle sur les données d'entraînement\n",
        "loss_tf_vgg16_DA_train, accuracy_tf_vgg16_DA_train = \\\n",
        "    model_optimal_tf_vgg16_DA.evaluate(\n",
        "        X_train_pretraited,\n",
        "        y_train_pretraited\n",
        ")\n",
        "print(\"Training Accuracy   :  {:.3f}\".format(accuracy_tf_vgg16_DA_train))\n",
        "\n",
        "# Evaluation meilleur modèle sur les données de validation\n",
        "loss_tf_vgg16_DA_val, accuracy_tf_vgg16_DA_val = \\\n",
        "    model_optimal_tf_vgg16_DA.evaluate(\n",
        "        X_val_pretraited,\n",
        "        y_val_pretraited\n",
        ")\n",
        "print(\"Validation Accuracy :  {:.3f}\".format(accuracy_tf_vgg16_DA_val))\n",
        "\n",
        "# Evaluation meilleur modèle sur les données de test\n",
        "loss_tf_vgg16_DA_test, accuracy_tf_vgg16_DA_test = \\\n",
        "    model_optimal_tf_vgg16_DA.evaluate(\n",
        "        X_test_pretraited,\n",
        "        y_test_pretraited\n",
        ")\n",
        "print(\"Test Accuracy       :  {:.3f}\".format(accuracy_tf_vgg16_DA_test))"
      ]
    },
    {
      "cell_type": "markdown",
      "metadata": {
        "id": "CUttQz9T07GV"
      },
      "source": [
        "### <span style='background:red'>bilan a faire</span>"
      ]
    },
    {
      "cell_type": "markdown",
      "metadata": {
        "id": "zAwGnN-J07GV"
      },
      "source": [
        "### <span style='background:black'>d/ Matrice de confusion</span>\n",
        "\n",
        "Nous affichons les valeurs réelles et celles prédites par le modèle optimal pour les données de validation."
      ]
    },
    {
      "cell_type": "code",
      "execution_count": null,
      "metadata": {
        "id": "EIQKCa3l07GV"
      },
      "outputs": [],
      "source": [
        "# Categorie réelle et prédites des images de validation\n",
        "y_val_num = np.argmax(y_val_pretraited, axis=1)\n",
        "y_val_pred = np.argmax(\n",
        "    model_optimal_tf_vgg16_DA.predict(X_val_pretraited),\n",
        "    axis=1\n",
        ")\n",
        "\n",
        "# Afficher les 30 premières catégories réelles et prédites\n",
        "print(\"Categorie reelle : \", y_val_num[:30], \"\\n\")\n",
        "print(\"Categorie prédite : \", y_val_pred[:30])"
      ]
    },
    {
      "cell_type": "markdown",
      "metadata": {
        "id": "aRu9e2ty07GV"
      },
      "source": [
        "Nous confirmons les résultats en affichant la matrice de confusion et le rapport de classification."
      ]
    },
    {
      "cell_type": "code",
      "execution_count": null,
      "metadata": {
        "id": "iN0DWaMn07GW"
      },
      "outputs": [],
      "source": [
        "# Verifier la correspondance des clusters\n",
        "y_val_pred_transform = conf_mat_transform_argmax(y_val_num, y_val_pred)\n",
        "\n",
        "# Afficher la matrice de confusion et le rapport de classification\n",
        "conf_mat_tf_vgg16_DA = matrice_conf_et_rapport(\n",
        "    y_val_num,\n",
        "    y_val_pred_transform,\n",
        "    categories\n",
        "    )"
      ]
    },
    {
      "cell_type": "markdown",
      "metadata": {
        "id": "xjYTLkGN07GW"
      },
      "source": [
        "### <span style='background:red'>bilan a faire</span>"
      ]
    },
    {
      "cell_type": "markdown",
      "metadata": {
        "id": "rud0YPtF07GX"
      },
      "source": [
        "<div class=\"alert alert-block alert-success\"><b>Bilan: </b> <br>\n",
        "Le modèle optimal CNN avec transfer learning du VGG16 et Data Augmentation présente des performances ... </div>"
      ]
    },
    {
      "cell_type": "markdown",
      "metadata": {
        "id": "bg7H94ae07GX"
      },
      "source": [
        "# <span style='background:blue'>Etape 9 : Comparaison des résultats</span>"
      ]
    },
    {
      "cell_type": "code",
      "execution_count": null,
      "metadata": {
        "id": "nktijdlo07GX"
      },
      "outputs": [],
      "source": []
    },
    {
      "cell_type": "markdown",
      "metadata": {
        "id": "Er6_FtpZ07GX"
      },
      "source": [
        "# <span style='background:blue'>Conclusion</span>"
      ]
    },
    {
      "cell_type": "markdown",
      "metadata": {
        "id": "WBDzoo1007GX"
      },
      "source": [
        "ici"
      ]
    },
    {
      "cell_type": "code",
      "execution_count": null,
      "metadata": {
        "id": "vP2qpqu507GX"
      },
      "outputs": [],
      "source": [
        "# Afficher temps d'exécution du notebook\n",
        "calculer_duree_notebook(start_time)"
      ]
    },
    {
      "cell_type": "markdown",
      "metadata": {
        "id": "n7j9B_H-07GX"
      },
      "source": [
        "Compétence OCR:\n",
        "\n",
        "**Définir la stratégie d’élaboration d’un modèle d'apprentissage profond, concevoir ou ré-utiliser des modèles pré-entraînés (transfer learning) et entraîner des modèles afin de réaliser une analyse prédictive.**\n",
        "- ~~CE1 Le candidat a défini sa stratégie d’élaboration d’un modèle pour répondre à un besoin métier (par exemple : choix de conception d’un modèle ou ré-utilisation de modèles pré-entraînés).~~\n",
        "- ~~CE2 Le candidat a identifié la ou les cibles.~~\n",
        "- ~~CE3 Le candidat a réalisé la séparation du jeu de données en jeu d’entraînement, jeu de validation et jeu de test.~~\n",
        "- ~~CE4 Le candidat s'est assuré qu'il n’y a pas de fuite d’information entre les jeux de données (entraînement, validation et test).~~\n",
        "- ~~CE5 Le candidat a testé plusieurs modèles d’apprentissage profond (par exemple à l’aide de la librairie Tensorflow / Keras) en partant du plus simple vers les plus complexes.~~\n",
        "- ~~CE6 Le candidat a mis en oeuvre des modèles à partir de modèles pré-entraînés (technique de Transfer Learning)~~"
      ]
    },
    {
      "cell_type": "markdown",
      "metadata": {
        "id": "5j7jRwkM07GX"
      },
      "source": [
        "**Évaluer la performance des modèles d’apprentissage profond selon différents critères (scores, temps d'entraînement, etc.) afin de choisir le modèle le plus performant pour la problématique métier.**\n",
        "- ~~CE1 Le candidat a choisi une métrique adaptée à la problématique métier, et sert à évaluer la performance des modèles~~\n",
        "- ~~CE2 Le candidat a explicité le choix de la métrique d’évaluation~~\n",
        "- CE3 Le candidat a évalué la performance d’un modèle de référence et sert de comparaison pour évaluer la performance des modèles plus complexes\n",
        "- ~~CE4 Le candidat a calculé, hormis la métrique choisie, au moins un autre indicateur pour comparer les modèles (par exemple : le temps nécessaire pour l’entraînement du modèle)~~\n",
        "- ~~CE5 Le candidat a optimisé au moins un des hyperparamètres du modèle choisi (par exemple : le choix de la fonction Loss, le Batch Size, le nombre d'Epochs)~~"
      ]
    },
    {
      "cell_type": "markdown",
      "metadata": {
        "id": "LqxWWeeU07GY"
      },
      "source": [
        "**Utiliser des techniques d’augmentation des données afin d'améliorer la performance des modèles.**\n",
        "- CE1 Le candidat a utilisé plusieurs techniques d’augmentation des données (ex. pour des images : rotation, changement d’échelle, ajout de bruit…).\n",
        "- CE2 Le candidat a présenté une synthèse comparative des améliorations de performance grâce aux différentes techniques d'augmentation de données utilisées (maîtrise de l’overfitting, meilleur score)."
      ]
    }
  ],
  "metadata": {
    "accelerator": "TPU",
    "colab": {
      "include_colab_link": true,
      "provenance": []
    },
    "kernelspec": {
      "display_name": "Python 3",
      "name": "python3"
    },
    "language_info": {
      "codemirror_mode": {
        "name": "ipython",
        "version": 3
      },
      "file_extension": ".py",
      "mimetype": "text/x-python",
      "name": "python",
      "nbconvert_exporter": "python",
      "pygments_lexer": "ipython3",
      "version": "3.11.7"
    }
  },
  "nbformat": 4,
  "nbformat_minor": 0
}
