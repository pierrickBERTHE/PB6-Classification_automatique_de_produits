{
 "cells": [
  {
   "cell_type": "markdown",
   "metadata": {},
   "source": [
    "# <span style='color:SteelBlue'>P6 - Classifiez automatiquement des biens de consommation (part 3)</span>"
   ]
  },
  {
   "cell_type": "markdown",
   "metadata": {},
   "source": [
    "<img src=\"https://logo-marque.com/wp-content/uploads/2020/11/Flipkart-Logo.png\" width=\"300\" height=\"200\">"
   ]
  },
  {
   "cell_type": "markdown",
   "metadata": {},
   "source": [
    "# <span style='background:red; color:black'>a MAJ</span>\n",
    "\n",
    "# <span style='background:white; color:black'>Sommaire</span>\n",
    "\n",
    "Importations des librairies utilisees dans ce notebook <br>\n",
    "\n",
    "Paramètres d'affichage du notebook <br>\n",
    "\n",
    "Fonctions utilisees dans ce notebook <br>\n",
    "\n",
    "Importation des données <br>\n",
    "\n",
    "**Etape 1 : Description des donnees**\n",
    "- _1/ etc...\n",
    "\n",
    "\n",
    "Conclusion"
   ]
  },
  {
   "cell_type": "markdown",
   "metadata": {},
   "source": [
    "# <span style='background:blue'>Introduction</span>\n",
    "\n",
    "L'entreprise **\"Flipkart\"** est une entreprise indienne qui souhaite lancer une\n",
    "marketplace e-commerce. Sur cette place de marché anglophone, des vendeurs\n",
    "proposent des articles à des acheteurs en postant une photo et une description.\n",
    "Pour rendre l’expérience utilisateur des vendeurs (faciliter la mise en ligne\n",
    "de nouveaux articles) et des acheteurs (faciliter la recherche de produits) \n",
    "la plus fluide possible, et dans l'optique d'un passage à l'échelle, \n",
    "il devient nécessaire **d'automatiser l'attribution de la catégorie** d'un \n",
    "article (actuellement effectuée manuellement par les vendeurs, donc peu \n",
    "fiable).\n",
    "___\n",
    "**Missions**<br>\n",
    "1/ Faire une **étude de la faisabilité d’un moteur de classification**\n",
    "d’article basé sur une **description** pour automatiser l’attribution\n",
    "de catégorie de l’article. \n",
    "\n",
    "2/ Faire une **étude de la faisabilité d’un moteur de classification**\n",
    "d’article basé sur une **image** pour automatiser l’attribution\n",
    "de catégorie de l’article. \n",
    "\n",
    "3/ **Réaliser une classification supervisée** à partir des images par la mise\n",
    "en place d’une data augmentation afin d’optimiser le modèle. \n",
    "\n",
    "4/ **Extraire les 10 premiers produits à base de « champagne »** issus de\n",
    "l’API fournie dans un fichier “.csv”, contenant pour chaque produit les\n",
    "données suivantes : foodId, label, category, foodContentsLabel, image.\n",
    "___\n",
    "Ce notebook presente la 3ème partie concernant la réalisation de la\n",
    "classification supervisée à partir des images par la mise en place d’une\n",
    "data augmentation afin d’optimiser le modèle.\n",
    "\n",
    "# <span style='background:red'>a terminer</span>\n",
    "\n",
    "___\n",
    "**Source des datasets**<br>\n",
    "Source : Non précisé<br>\n",
    "___"
   ]
  },
  {
   "cell_type": "markdown",
   "metadata": {},
   "source": [
    "<div class=\"alert alert-block alert-warning\">\n",
    "<b>Formattage du notebook au PEP8 => lancer cette ligne de code dans le\n",
    "terminal VSC : </b><br>\n",
    "nbqa black Berthe_Pierrick_1_notebook_exploration_112023.ipynb</div>"
   ]
  },
  {
   "cell_type": "markdown",
   "metadata": {},
   "source": [
    "# <span style='background:grey'>Importations des librairies utilisees dans ce notebook</span>"
   ]
  },
  {
   "cell_type": "code",
   "execution_count": 81,
   "metadata": {},
   "outputs": [
    {
     "name": "stdout",
     "output_type": "stream",
     "text": [
      "Version des librairies utilisees :\n",
      "Python        : 3.11.7 (tags/v3.11.7:fa7a6f2, Dec  4 2023, 19:24:49) [MSC v.1937 64 bit (AMD64)]\n",
      "Matplotlib    : 3.8.2\n",
      "NumPy         : 1.26.2\n",
      "Pandas        : 2.1.4\n",
      "Seaborn       : 0.13.0\n",
      "Tensorflow    : 2.15.0\n",
      "\n",
      "Nombre de coeur disponible(s) sur ce PC: 12 coeur(s)\n",
      "\n",
      "Code lance le : 2024-01-25T16:53:38.241787\n",
      "\n",
      "The pycodestyle_magic extension is already loaded. To reload it, use:\n",
      "  %reload_ext pycodestyle_magic\n"
     ]
    }
   ],
   "source": [
    "# Librairies generales\n",
    "import os.path\n",
    "import sys\n",
    "from IPython.display import display\n",
    "import time\n",
    "from datetime import datetime\n",
    "import pyopencl as cl\n",
    "\n",
    "# Librairies data science\n",
    "import matplotlib as mpl\n",
    "import matplotlib.pyplot as plt\n",
    "import numpy as np\n",
    "import pandas as pd\n",
    "import seaborn as sns\n",
    "from PIL import Image\n",
    "\n",
    "# deep learning\n",
    "import tensorflow as tf\n",
    "from sklearn.model_selection import train_test_split\n",
    "from sklearn import metrics\n",
    "from keras import Input\n",
    "from keras.preprocessing.image import load_img, img_to_array\n",
    "from keras.applications.vgg16 import preprocess_input\n",
    "from keras.utils import to_categorical\n",
    "from keras.applications.vgg16 import VGG16\n",
    "from keras.layers import GlobalAveragePooling2D, Dense, Dropout, Flatten\n",
    "from keras.models import Model, Sequential\n",
    "from keras.callbacks import EarlyStopping, ModelCheckpoint\n",
    "from plot_keras_history import show_history, plot_history\n",
    "\n",
    "# Affichage plot dans le notebook\n",
    "%matplotlib inline\n",
    "\n",
    "# Versions\n",
    "print(\"Version des librairies utilisees :\")\n",
    "print(\"Python        : \" + sys.version)\n",
    "print(\"Matplotlib    : \" + mpl.__version__)\n",
    "print(\"NumPy         : \" + np.version.full_version)\n",
    "print(\"Pandas        : \" + pd.__version__)\n",
    "print(\"Seaborn       : \" + sns.__version__)\n",
    "print(\"Tensorflow    : \" + tf.__version__)\n",
    "\n",
    "# Nombre de coeurs\n",
    "nbr_coeur = os.cpu_count()\n",
    "print(f\"\\nNombre de coeur disponible(s) sur ce PC: {nbr_coeur} coeur(s)\")\n",
    "\n",
    "# Afficher heure lancement\n",
    "maintenant = datetime.now().isoformat()\n",
    "print(\"\\nCode lance le : \" + maintenant)\n",
    "\n",
    "# Enregistrer l'heure de debut\n",
    "start_time = time.time()\n",
    "\n",
    "# Activer la verification PEP8\n",
    "print(\"\")\n",
    "%load_ext pycodestyle_magic\n",
    "%pycodestyle_on"
   ]
  },
  {
   "cell_type": "markdown",
   "metadata": {},
   "source": [
    "<div class=\"alert alert-block alert-warning\">\n",
    "<b>Formattage du notebook au PEP8 => lancer cette ligne de code dans le \n",
    "terminal VSC : </b> <br>\n",
    "nbqa black nom_fichier.ipynb</div>"
   ]
  },
  {
   "cell_type": "markdown",
   "metadata": {},
   "source": [
    "# <span style='background:grey'>Paramètres d'affichage</span>"
   ]
  },
  {
   "cell_type": "code",
   "execution_count": 2,
   "metadata": {},
   "outputs": [],
   "source": [
    "# parametrage des paramètres d'affichage dans le notebook\n",
    "pd.set_option(\"display.max_row\", 50)\n",
    "pd.set_option(\"display.max_column\", 50)\n",
    "pd.set_option(\"display.precision\", 2)\n",
    "\n",
    "# Ignorer les messages d'avertissement de tensorflow\n",
    "tf.get_logger().setLevel('ERROR')\n",
    "\n",
    "# Desactiver la limite de taille des images\n",
    "Image.MAX_IMAGE_PIXELS = None"
   ]
  },
  {
   "cell_type": "markdown",
   "metadata": {},
   "source": [
    "# <span style='background:grey'>Fonctions</span>"
   ]
  },
  {
   "cell_type": "code",
   "execution_count": 3,
   "metadata": {},
   "outputs": [],
   "source": [
    "def calculer_duree_notebook(start_time):\n",
    "    \"\"\"\n",
    "    Cette procédure calcule et affiche la durée totale depuis un temps de\n",
    "    début donné.\n",
    "\n",
    "    Args:\n",
    "        start_time (float): Le temps de début en secondes depuis l'époque.\n",
    "\n",
    "    Returns:\n",
    "        None\n",
    "    \"\"\"\n",
    "\n",
    "    # Calculer la durée totale\n",
    "    total_time = time.time() - start_time\n",
    "\n",
    "    # Convertir en minutes et secondes\n",
    "    minutes, seconds = divmod(total_time, 60)\n",
    "\n",
    "    # Afficher la durée totale\n",
    "    message = (\n",
    "        \"Durée totale pour faire tourner le notebook : \"\n",
    "        \"{0} minute(s) {1} seconde(s)\"\n",
    "    )\n",
    "    print(message.format(int(minutes), int(seconds)))"
   ]
  },
  {
   "cell_type": "code",
   "execution_count": 122,
   "metadata": {},
   "outputs": [],
   "source": [
    "def image_prep_fct(data, model_type):\n",
    "    \"\"\"\n",
    "    Cette fonction prépare les images pour l'entraînement d'un modèle de\n",
    "    machine learning. Si le modèle est de type VGG-16, un prétraitement\n",
    "    spécifique est appliqué.\n",
    "\n",
    "    Paramètres :\n",
    "    data (DataFrame) : DataFrame contenant les chemins d'accès aux images\n",
    "    dans la colonne 'image'.\n",
    "    model_type (str) : Le type de modèle pour lequel les images sont préparées.\n",
    "        Si 'vgg16', le prétraitement spécifique à VGG-16 est appliqué.\n",
    "\n",
    "    Retourne :\n",
    "    prepared_images_np (ndarray) : Tableau NumPy des images préparées.\n",
    "    \"\"\"\n",
    "\n",
    "    # Initialisation de la liste pour stocker les images préparées\n",
    "    prepared_images = []\n",
    "\n",
    "    # Parcours de chaque chemin d'image dans data['image']\n",
    "    for image_num in range(len(data)):\n",
    "\n",
    "        # Chargement et redimensionnement de l'image en 224 x 224 pixels\n",
    "        img = (load_img(data[image_num], target_size=(224, 224)))\n",
    "\n",
    "        # Conversion de l'image en tableau NumPy\n",
    "        img = img_to_array(img)\n",
    "\n",
    "        # Redimensionnement tableau de l'image pour certifier les 3 dimensions\n",
    "        img = img.reshape((img.shape[0], img.shape[1], img.shape[2]))\n",
    "\n",
    "        # Pré-traitement de l'image pour VGG-16 (si applicable)\n",
    "        if model_type == 'vgg16':\n",
    "            img = preprocess_input(img)\n",
    "\n",
    "        # Ajout de l'image préparée à la liste\n",
    "        prepared_images.append(img)\n",
    "\n",
    "    # Conversion de la liste en tableau NumPy\n",
    "    prepared_images_np = np.array(prepared_images)\n",
    "\n",
    "    return prepared_images_np"
   ]
  },
  {
   "cell_type": "code",
   "execution_count": 86,
   "metadata": {},
   "outputs": [],
   "source": [
    "def creation_modele_mlp():\n",
    "    \"\"\"\n",
    "    Cette fonction crée et compile un modèle de réseau de neurones à\n",
    "    plusieurs couches (MLP) avec Keras. Le modèle est conçu pour des données\n",
    "    d'entrée de forme (224, 224, 3).\n",
    "\n",
    "    Le modèle a la structure suivante :\n",
    "    - 1 couche d'entrée de forme (224, 224, 3)\n",
    "    - 1 couche Flatten pour aplatir les données d'entrée\n",
    "    - 2 couches Dense avec 10 neurones chacune et 1 fonction d'activation ReLU\n",
    "    - 1 couche Dense avec 7 neurones et une fonction d'activation sigmoid\n",
    "\n",
    "    Le modèle est compilé avec la fonction de perte 'categorical_crossentropy',\n",
    "    l'optimiseur 'rmsprop' et la métrique 'accuracy'.\n",
    "\n",
    "    Retourne :\n",
    "    Le modèle MLP compilé.\n",
    "    \"\"\"\n",
    "    # Créer le modèle\n",
    "    model_mlp = Sequential()\n",
    "    model_mlp.add(Input(shape=(224, 224, 3)))\n",
    "    model_mlp.add(Flatten())\n",
    "    model_mlp.add(Dense(10, activation='relu'))\n",
    "    model_mlp.add(Dense(10, activation='relu'))\n",
    "    model_mlp.add(Dense(7, activation='sigmoid'))\n",
    "\n",
    "    # Compiler le modèle\n",
    "    model_mlp.compile(\n",
    "        loss='categorical_crossentropy',\n",
    "        optimizer='rmsprop',\n",
    "        metrics=['accuracy']\n",
    "        )\n",
    "\n",
    "    # Afficher un résumé du modèle\n",
    "    print(model_mlp.summary())\n",
    "\n",
    "    return model_mlp"
   ]
  },
  {
   "cell_type": "code",
   "execution_count": 5,
   "metadata": {},
   "outputs": [],
   "source": [
    "def creation_modele_transfer_vgg16():\n",
    "    \"\"\"\n",
    "    Crée un modèle de classification d'images basé sur le modèle pré-entraîné\n",
    "    VGG16. Le modèle VGG16 est utilisé comme extracteur de caractéristiques,\n",
    "    et de nouvelles couches sont ajoutées pour la classification.\n",
    "\n",
    "    Les poids du modèle VGG16 sont initialisés avec les poids appris sur\n",
    "    ImageNet et ne sont pas mis à jour pendant l'entraînement.\n",
    "\n",
    "    Le nouveau modèle est compilé avec la perte de cross-entropie catégorielle,\n",
    "    l'optimiseur RMSprop et la précision comme métrique.\n",
    "\n",
    "    Retourne:\n",
    "        model: Le modèle créé.\n",
    "    \"\"\"\n",
    "    # Récupération du modèle pré-entraîné VGG16 sans les couches supérieures\n",
    "    model0 = VGG16(\n",
    "        include_top=False,\n",
    "        weights=\"imagenet\",\n",
    "        input_shape=(224, 224, 3)\n",
    "        )\n",
    "\n",
    "    # Rendre les couches du modèle VGG16 non entraînables\n",
    "    for layer in model0.layers:\n",
    "        layer.trainable = False\n",
    "\n",
    "    # Récupérer la sortie du modèle VGG16\n",
    "    x = model0.output\n",
    "\n",
    "    # Completer model : vecteur 1D / ReLU / desactive moitié / softmax 7 cate\n",
    "    x = GlobalAveragePooling2D()(x)\n",
    "    x = Dense(256, activation='relu')(x)\n",
    "    x = Dropout(0.5)(x)\n",
    "    predictions = Dense(7, activation='softmax')(x)\n",
    "\n",
    "    # Créer le nouveau modèle\n",
    "    model = Model(inputs=model0.input, outputs=predictions)\n",
    "\n",
    "    # Compiler le modèle : perte a minimiser / optimiseur / métrique evaluation\n",
    "    model.compile(\n",
    "        loss=\"categorical_crossentropy\",\n",
    "        optimizer='rmsprop',\n",
    "        metrics=[\"accuracy\"]\n",
    "        )\n",
    "\n",
    "    # Afficher un résumé du modèle\n",
    "    print(model.summary())\n",
    "\n",
    "    return model"
   ]
  },
  {
   "cell_type": "code",
   "execution_count": 95,
   "metadata": {},
   "outputs": [],
   "source": [
    "def creer_callbacks(nom_modele):\n",
    "    \"\"\"\n",
    "    Cette fonction crée une liste de callbacks pour l'entraînement d'un modèle\n",
    "    Keras. Les callbacks incluent un checkpoint pour enregistrer les meilleurs\n",
    "    poids du modèle (lorsque val_loss est minimale) et un EarlyStopping pour\n",
    "    arrêter l'entraînement si val_loss ne diminue plus après 3 epochs.\n",
    "\n",
    "    Paramètres :\n",
    "    nom_modele (str) : Le nom du modèle. Utilisé pour nommer le fichier de\n",
    "    poids exporté.\n",
    "\n",
    "    Retourne :\n",
    "    callbacks_list (list) : Liste des callbacks à utiliser lors de\n",
    "    l'entraînement du modèle.\n",
    "    chemin_modele_export (str) : Chemin d'exportation du modèle.\n",
    "    \"\"\"\n",
    "    # Définir le chemin d'exportation du modèle\n",
    "    chemin_modele_export = f\"./modele_ML/{nom_modele}_best_weights.h5\"\n",
    "\n",
    "    # Callback 1 : Enregistrer le meilleur modèle (poids quand val_loss min)\n",
    "    checkpoint = ModelCheckpoint(\n",
    "        chemin_modele_export,\n",
    "        monitor='val_loss',\n",
    "        verbose=1,\n",
    "        save_best_only=True,\n",
    "        mode='min'\n",
    "    )\n",
    "\n",
    "    # Callback 2 : stop entrainement si val_loss ne diminue plus apres 3 epochs\n",
    "    es = EarlyStopping(monitor='val_loss', mode='min', verbose=1, patience=3)\n",
    "\n",
    "    # Assigner les callbacks à une liste\n",
    "    callbacks_list = [checkpoint, es]\n",
    "\n",
    "    return callbacks_list, chemin_modele_export"
   ]
  },
  {
   "cell_type": "code",
   "execution_count": 6,
   "metadata": {},
   "outputs": [],
   "source": [
    "def conf_mat_transform_argmax(y_true, y_pred):\n",
    "    \"\"\"\n",
    "    Transforme les labels prédits en utilisant la valeur maximale de chaque\n",
    "    colonne.\n",
    "\n",
    "    Paramètres:\n",
    "    y_true (array-like): Les vrais labels.\n",
    "    y_pred (array-like): Les labels prédits.\n",
    "\n",
    "    Retourne:\n",
    "    y_pred_transform (Series): Les labels prédits transformés.\n",
    "    \"\"\"\n",
    "\n",
    "    # Calculer la matrice de confusion\n",
    "    conf_mat = metrics.confusion_matrix(y_true, y_pred)\n",
    "\n",
    "    # Calcule les correspondances (valeurs max de chaque colonne)\n",
    "    corresp = np.argmax(conf_mat, axis=0)\n",
    "    print(\"\\nCorrespondance des clusters : \", corresp)\n",
    "\n",
    "    # Créer un DataFrame avec les vrais labels et les labels prédits\n",
    "    labels = pd.Series(y_true, name=\"y_true\").to_frame()\n",
    "    labels['y_pred'] = y_pred\n",
    "\n",
    "    # Transformer les labels prédits en utilisant la correspondance\n",
    "    labels['y_pred_transform'] = labels['y_pred'].apply(\n",
    "        lambda x: corresp[x] if x < len(corresp) else x)\n",
    "\n",
    "    # Retourner les labels prédits transformés\n",
    "    return labels['y_pred_transform']"
   ]
  },
  {
   "cell_type": "code",
   "execution_count": 7,
   "metadata": {},
   "outputs": [],
   "source": [
    "# class TrainingPlot(Callback):\n",
    "#     \"\"\"\n",
    "#     Cette classe hérite de la classe Callback de Keras et permet de tracer\n",
    "#     l'évolution de la perte et de l'exactitude\n",
    "#     pendant l'entraînement d'un modèle de deep learning.\n",
    "#     \"\"\"\n",
    "\n",
    "#     def on_train_begin(self, logs={}):\n",
    "#         \"\"\"\n",
    "#         Cette fonction est appelée quand l'entraînement commence.\n",
    "#         Elle initialise les listes pour stocker les valeurs de perte et\n",
    "#         d'exactitude, et crée une figure pour le tracé.\n",
    "#         \"\"\"\n",
    "#         self.losses = []\n",
    "#         self.acc = []\n",
    "#         self.val_losses = []\n",
    "#         self.val_acc = []\n",
    "#         self.fig = plt.figure()\n",
    "#         self.logs = []\n",
    "\n",
    "#     def on_epoch_end(self, epoch, logs={}):\n",
    "#         \"\"\"\n",
    "#         Cette fonction est appelée à la fin de chaque époque.\n",
    "#         Elle enregistre les valeurs de perte et d'exactitude de l'époque, et\n",
    "#         met à jour le tracé.\n",
    "#         \"\"\"\n",
    "#         self.logs.append(logs)\n",
    "#         self.losses.append(logs.get('loss'))\n",
    "#         self.acc.append(logs.get('accuracy'))\n",
    "#         self.val_losses.append(logs.get('val_loss'))\n",
    "#         self.val_acc.append(logs.get('val_accuracy'))\n",
    "\n",
    "#         self.fig.clf()\n",
    "#         ax1 = self.fig.add_subplot(121)\n",
    "#         ax2 = self.fig.add_subplot(122)\n",
    "\n",
    "#         # Plot 1 : Loss\n",
    "#         ax1.plot(\n",
    "#             range(1, len(self.losses) + 1),\n",
    "#             self.losses,\n",
    "#             label='Training Loss'\n",
    "#             )\n",
    "#         ax1.plot(\n",
    "#             range(1, len(self.val_losses) + 1),\n",
    "#             self.val_losses,\n",
    "#             label='Validation Loss'\n",
    "#             )\n",
    "#         ax1.set_title('Loss')\n",
    "#         ax1.set_xlabel('Epochs')\n",
    "#         ax1.legend()\n",
    "\n",
    "#         # Plot 2 : Accuracy\n",
    "#         ax2.plot(\n",
    "#             range(1, len(self.acc) + 1),\n",
    "#             self.acc,\n",
    "#             label='Training Accuracy'\n",
    "#             )\n",
    "#         ax2.plot(\n",
    "#             range(1, len(self.val_acc) + 1),\n",
    "#             self.val_acc,\n",
    "#             label='Validation Accuracy'\n",
    "#             )\n",
    "#         ax2.set_title('Accuracy')\n",
    "#         ax2.set_xlabel('Epochs')\n",
    "#         ax2.legend()\n",
    "\n",
    "#         # Forcer l'affichage du graphique\n",
    "#         plt.draw()\n",
    "#         plt.pause(0.01)\n",
    "\n",
    "#         # Afficher le graphique\n",
    "#         plt.show()"
   ]
  },
  {
   "cell_type": "code",
   "execution_count": 8,
   "metadata": {},
   "outputs": [],
   "source": [
    "def get_available_amd_gpus():\n",
    "    \"\"\"\n",
    "    Cette fonction renvoie une liste des GPU AMD disponibles sur la machine.\n",
    "\n",
    "    Elle utilise la bibliothèque pyopencl pour obtenir une liste des\n",
    "    plateformes disponibles,\n",
    "    puis vérifie chaque plateforme pour voir si elle est fournie par AMD.\n",
    "    Si c'est le cas, elle vérifie chaque device sur la plateforme pour voir\n",
    "    s'il s'agit d'un GPU,\n",
    "    et si c'est le cas, elle l'ajoute à la liste des GPU.\n",
    "\n",
    "    Retourne :\n",
    "        Une liste des objets pyopencl.Device pour les GPU AMD disponibles.\n",
    "    \"\"\"\n",
    "    # Obtenir une liste de toutes les plateformes disponibles\n",
    "    platforms = cl.get_platforms()\n",
    "\n",
    "    # Initialiser une liste vide pour stocker les GPU AMD\n",
    "    gpu_devices = []\n",
    "\n",
    "    # Parcourir chaque plateforme\n",
    "    for platform in platforms:\n",
    "\n",
    "        # Vérifier si la plateforme est fournie par AMD\n",
    "        amd_vendor = 'Advanced Micro Devices, Inc.'\n",
    "        if platform.get_info(cl.platform_info.VENDOR) == amd_vendor:\n",
    "\n",
    "            # Parcourir chaque device sur la plateforme\n",
    "            for device in platform.get_devices():\n",
    "\n",
    "                # Vérifier si le device est un GPU\n",
    "                if device.type == cl.device_type.GPU:\n",
    "\n",
    "                    # Si c'est un GPU, l'ajouter à la liste des GPU\n",
    "                    gpu_devices.append(device)\n",
    "\n",
    "    # Retourner la liste des GPU AMD\n",
    "    return gpu_devices"
   ]
  },
  {
   "cell_type": "code",
   "execution_count": 61,
   "metadata": {},
   "outputs": [],
   "source": [
    "def matrice_conf_et_rapport(y_val_num, y_val_pred_transform, categories):\n",
    "    \"\"\"\n",
    "    Affiche la matrice de confusion et le rapport de classification pour les\n",
    "    valeurs prédites et réelles.\n",
    "\n",
    "    Paramètres:\n",
    "    y_val_num (array): Les valeurs réelles.\n",
    "    y_val_pred_transform (array): Les valeurs prédites.\n",
    "    categories (list): Les catégories pour les axes de la matrice de confusion.\n",
    "\n",
    "    Retourne:\n",
    "    conf_mat_trans_df (DataFrame): La matrice de confusion.\n",
    "    \"\"\"\n",
    "    # Creer la matrice de confusion\n",
    "    conf_mat = metrics.confusion_matrix(y_val_num, y_val_pred_transform)\n",
    "\n",
    "    # Transformation en dataFrame\n",
    "    conf_mat_trans_df = pd.DataFrame(\n",
    "        conf_mat,\n",
    "        index=[label for label in sorted(categories)],\n",
    "        columns=[label for label in sorted(categories)]\n",
    "        )\n",
    "\n",
    "    # Afficher la matrice de confusion\n",
    "    plt.figure(figsize=(6, 4))\n",
    "    sns.heatmap(conf_mat_trans_df, annot=True, cmap=\"Blues\")\n",
    "    plt.title('Matrice de confusion')\n",
    "    plt.xlabel('Catégories réelles')\n",
    "    plt.ylabel('Catégories prédites')\n",
    "    plt.xticks(rotation=45, ha='right')\n",
    "    plt.show()\n",
    "\n",
    "    # Afficher le rapport de classification\n",
    "    print(metrics.classification_report(\n",
    "        y_val_num,\n",
    "        y_val_pred_transform,\n",
    "        zero_division=1\n",
    "        )\n",
    "        )\n",
    "\n",
    "    return conf_mat_trans_df"
   ]
  },
  {
   "cell_type": "markdown",
   "metadata": {},
   "source": [
    "# <span style='background:grey'>Importation des donnees</span>\n",
    "\n",
    "Importation du fichier CSV d'extraction image avec Pandas"
   ]
  },
  {
   "cell_type": "code",
   "execution_count": 9,
   "metadata": {},
   "outputs": [
    {
     "name": "stdout",
     "output_type": "stream",
     "text": [
      "===> fichier 'extraction_feature_image.csv' importé: <====\n",
      "\n"
     ]
    },
    {
     "data": {
      "text/html": [
       "<div>\n",
       "<style scoped>\n",
       "    .dataframe tbody tr th:only-of-type {\n",
       "        vertical-align: middle;\n",
       "    }\n",
       "\n",
       "    .dataframe tbody tr th {\n",
       "        vertical-align: top;\n",
       "    }\n",
       "\n",
       "    .dataframe thead th {\n",
       "        text-align: right;\n",
       "    }\n",
       "</style>\n",
       "<table border=\"1\" class=\"dataframe\">\n",
       "  <thead>\n",
       "    <tr style=\"text-align: right;\">\n",
       "      <th></th>\n",
       "      <th>image</th>\n",
       "      <th>product_name</th>\n",
       "      <th>label</th>\n",
       "    </tr>\n",
       "  </thead>\n",
       "  <tbody>\n",
       "    <tr>\n",
       "      <th>0</th>\n",
       "      <td>./data/source/Images/55b85ea15a1536d46b7190ad6...</td>\n",
       "      <td>Home Furnishing</td>\n",
       "      <td>4</td>\n",
       "    </tr>\n",
       "    <tr>\n",
       "      <th>1</th>\n",
       "      <td>./data/source/Images/7b72c92c2f6c40268628ec5f1...</td>\n",
       "      <td>Baby Care</td>\n",
       "      <td>0</td>\n",
       "    </tr>\n",
       "    <tr>\n",
       "      <th>2</th>\n",
       "      <td>./data/source/Images/64d5d4a258243731dc7bbb1ee...</td>\n",
       "      <td>Baby Care</td>\n",
       "      <td>0</td>\n",
       "    </tr>\n",
       "    <tr>\n",
       "      <th>3</th>\n",
       "      <td>./data/source/Images/d4684dcdc759dd9cdf4150469...</td>\n",
       "      <td>Home Furnishing</td>\n",
       "      <td>4</td>\n",
       "    </tr>\n",
       "    <tr>\n",
       "      <th>4</th>\n",
       "      <td>./data/source/Images/6325b6870c54cd47be6ebfbff...</td>\n",
       "      <td>Home Furnishing</td>\n",
       "      <td>4</td>\n",
       "    </tr>\n",
       "    <tr>\n",
       "      <th>...</th>\n",
       "      <td>...</td>\n",
       "      <td>...</td>\n",
       "      <td>...</td>\n",
       "    </tr>\n",
       "    <tr>\n",
       "      <th>1045</th>\n",
       "      <td>./data/source/Images/958f54f4c46b53c8a0a9b8167...</td>\n",
       "      <td>Baby Care</td>\n",
       "      <td>0</td>\n",
       "    </tr>\n",
       "    <tr>\n",
       "      <th>1046</th>\n",
       "      <td>./data/source/Images/fd6cbcc22efb6b761bd564c28...</td>\n",
       "      <td>Baby Care</td>\n",
       "      <td>0</td>\n",
       "    </tr>\n",
       "    <tr>\n",
       "      <th>1047</th>\n",
       "      <td>./data/source/Images/5912e037d12774bb73a2048f3...</td>\n",
       "      <td>Baby Care</td>\n",
       "      <td>0</td>\n",
       "    </tr>\n",
       "    <tr>\n",
       "      <th>1048</th>\n",
       "      <td>./data/source/Images/c3edc504d1b4f0ba6224fa53a...</td>\n",
       "      <td>Baby Care</td>\n",
       "      <td>0</td>\n",
       "    </tr>\n",
       "    <tr>\n",
       "      <th>1049</th>\n",
       "      <td>./data/source/Images/f2f027ad6a6df617c9f125173...</td>\n",
       "      <td>Baby Care</td>\n",
       "      <td>0</td>\n",
       "    </tr>\n",
       "  </tbody>\n",
       "</table>\n",
       "<p>1050 rows × 3 columns</p>\n",
       "</div>"
      ],
      "text/plain": [
       "                                                  image      product_name  \\\n",
       "0     ./data/source/Images/55b85ea15a1536d46b7190ad6...  Home Furnishing    \n",
       "1     ./data/source/Images/7b72c92c2f6c40268628ec5f1...        Baby Care    \n",
       "2     ./data/source/Images/64d5d4a258243731dc7bbb1ee...        Baby Care    \n",
       "3     ./data/source/Images/d4684dcdc759dd9cdf4150469...  Home Furnishing    \n",
       "4     ./data/source/Images/6325b6870c54cd47be6ebfbff...  Home Furnishing    \n",
       "...                                                 ...               ...   \n",
       "1045  ./data/source/Images/958f54f4c46b53c8a0a9b8167...        Baby Care    \n",
       "1046  ./data/source/Images/fd6cbcc22efb6b761bd564c28...        Baby Care    \n",
       "1047  ./data/source/Images/5912e037d12774bb73a2048f3...        Baby Care    \n",
       "1048  ./data/source/Images/c3edc504d1b4f0ba6224fa53a...        Baby Care    \n",
       "1049  ./data/source/Images/f2f027ad6a6df617c9f125173...        Baby Care    \n",
       "\n",
       "      label  \n",
       "0         4  \n",
       "1         0  \n",
       "2         0  \n",
       "3         4  \n",
       "4         4  \n",
       "...     ...  \n",
       "1045      0  \n",
       "1046      0  \n",
       "1047      0  \n",
       "1048      0  \n",
       "1049      0  \n",
       "\n",
       "[1050 rows x 3 columns]"
      ]
     },
     "metadata": {},
     "output_type": "display_data"
    }
   ],
   "source": [
    "# Definir le chemin d'import des fichiers\n",
    "dossier_import = \"./data/cleaned/\"\n",
    "nom_fichier = \"extraction_feature_image.csv\"\n",
    "chemin_fichier_import = os.path.join(dossier_import, nom_fichier)\n",
    "\n",
    "# Obtenir une liste de tous les fichiers dans le repertoire\n",
    "fichiers = os.listdir(dossier_import)\n",
    "\n",
    "# Initialiser un dictionnaire vide et display de la liste des fichiers importe\n",
    "df_image = pd.read_csv(chemin_fichier_import, sep=\"\\t\", encoding=\"utf-8\")\n",
    "print(f\"===> fichier '{nom_fichier}' importé: <====\\n\")\n",
    "\n",
    "# Aperçu du dataframe\n",
    "display(df_image)"
   ]
  },
  {
   "cell_type": "markdown",
   "metadata": {},
   "source": [
    "# <span style='background:blue'>Etape 1 : Séparation des données</span>\n",
    "\n",
    "Nous divisons les données en 3 jeux de données :\n",
    "- 75% des données pour le **train**\n",
    "- 15% des données pour la **validation**\n",
    "- 15% des données pour le **test**"
   ]
  },
  {
   "cell_type": "markdown",
   "metadata": {},
   "source": [
    "Nous définissons les variables X et y pour l'entrainement du modèle:\n",
    "- Les **features** (X) sont les tableau NumPy des images.\n",
    "- La **target** (Y) est la colonne \"label\" du dataframe."
   ]
  },
  {
   "cell_type": "code",
   "execution_count": 113,
   "metadata": {},
   "outputs": [],
   "source": [
    "X = df_image['image'].values\n",
    "y = to_categorical(df_image['label'])"
   ]
  },
  {
   "cell_type": "code",
   "execution_count": 114,
   "metadata": {},
   "outputs": [
    {
     "data": {
      "text/plain": [
       "array(['./data/source/Images/55b85ea15a1536d46b7190ad6fff8ce7.jpg',\n",
       "       './data/source/Images/7b72c92c2f6c40268628ec5f14c6d590.jpg',\n",
       "       './data/source/Images/64d5d4a258243731dc7bbb1eef49ad74.jpg', ...,\n",
       "       './data/source/Images/5912e037d12774bb73a2048f35a00009.jpg',\n",
       "       './data/source/Images/c3edc504d1b4f0ba6224fa53a43a7ad6.jpg',\n",
       "       './data/source/Images/f2f027ad6a6df617c9f125173da71e44.jpg'],\n",
       "      dtype=object)"
      ]
     },
     "metadata": {},
     "output_type": "display_data"
    }
   ],
   "source": [
    "display(X)"
   ]
  },
  {
   "cell_type": "code",
   "execution_count": 117,
   "metadata": {},
   "outputs": [
    {
     "data": {
      "image/png": "[encoded data removed]",
      "text/plain": [
       "<Figure size 640x480 with 2 Axes>"
      ]
     },
     "metadata": {},
     "output_type": "display_data"
    }
   ],
   "source": [
    "# Créer un heatmap de y\n",
    "sns.heatmap(y)\n",
    "plt.title('Heatmap de y')\n",
    "plt.xlabel('Catégories')\n",
    "plt.ylabel('Image')\n",
    "plt.show()"
   ]
  },
  {
   "cell_type": "code",
   "execution_count": 116,
   "metadata": {},
   "outputs": [
    {
     "name": "stdout",
     "output_type": "stream",
     "text": [
      "X_train shape: (735,)\n",
      "X_val shape: (157,)\n",
      "X_test shape: (158,)\n"
     ]
    }
   ],
   "source": [
    "# Séparation des données entraînement+validation / test\n",
    "X_train_val, X_test, y_train_val, y_test = train_test_split(\n",
    "    X,\n",
    "    y,\n",
    "    test_size=0.15,\n",
    "    random_state=42,\n",
    "    stratify=y\n",
    "    )\n",
    "\n",
    "# Séparation des données entraînement / validation\n",
    "X_train, X_val, y_train, y_val = train_test_split(\n",
    "    X_train_val,\n",
    "    y_train_val,\n",
    "    test_size=0.176,\n",
    "    random_state=42,\n",
    "    stratify=y_train_val\n",
    "    )\n",
    "\n",
    "# Affichage des dimensions des données\n",
    "print(\"X_train shape:\", X_train.shape)\n",
    "print(\"X_val shape:\", X_val.shape)\n",
    "print(\"X_test shape:\", X_test.shape)"
   ]
  },
  {
   "cell_type": "markdown",
   "metadata": {},
   "source": [
    "Nous isolons le nom des catégories dans une variable \"categories\" pour\n",
    "la suite du notebook."
   ]
  },
  {
   "cell_type": "code",
   "execution_count": 118,
   "metadata": {},
   "outputs": [],
   "source": [
    "categories = df_image['product_name'].unique()"
   ]
  },
  {
   "cell_type": "markdown",
   "metadata": {},
   "source": [
    "# <span style='background:blue'>Etape 1 : MLP</span>\n",
    "\n",
    "Pour cette classification d'image automatique, nous allons utiliser un\n",
    "**perceptron multicouche** (*MultiLayer Perceptron*, **MLP**) comme modèle de\n",
    "modèle de référence. "
   ]
  },
  {
   "cell_type": "markdown",
   "metadata": {},
   "source": [
    "## <span style='background:green'>1/ Prétraitement des données</span>\n",
    "\n",
    "Nous appliquons un prétraitement des données pour les mettre dans un format\n",
    "adapté au modèle de classification supervisée avec un VGG16.\n",
    "\n",
    "Le pre-processing des images pour VGG-16 consiste à :\n",
    "- Convertir l'image en tableau NumPy (si necessaire)\n",
    "- Normaliser les pixels de l'image pour VGG-16 :\n",
    "    - Mettre à l'echelle entre -1 et 1 (soustraire valeur moyenne des\n",
    "    des pixels sur le canaux RGB du jeu de données ImageNet)\n",
    "    - inverser les canaux RGB en BGR"
   ]
  },
  {
   "cell_type": "code",
   "execution_count": 125,
   "metadata": {},
   "outputs": [
    {
     "name": "stdout",
     "output_type": "stream",
     "text": [
      "X_train_np :  (735, 224, 224, 3)\n",
      "X_val_np :  (157, 224, 224, 3)\n",
      "X_test_np :  (158, 224, 224, 3)\n"
     ]
    }
   ],
   "source": [
    "# Préparer les données d'entrainement\n",
    "X_train_np = image_prep_fct(X_train, 'mlp_cnn')\n",
    "print(\"X_train_np : \", X_train_np.shape)\n",
    "\n",
    "# Préparer les données de validation\n",
    "X_val_np = image_prep_fct(X_val, 'mlp_cnn')\n",
    "print(\"X_val_np : \", X_val_np.shape)\n",
    "\n",
    "# Préparer les données de test\n",
    "X_test_np = image_prep_fct(X_test, 'mlp_cnn')\n",
    "print(\"X_test_np : \", X_test_np.shape)"
   ]
  },
  {
   "cell_type": "markdown",
   "metadata": {},
   "source": [
    "## <span style='background:green'>1/ création du modèle</span>\n",
    "\n",
    "Le modèle MLP a la structure suivante :\n",
    "- 1 couche d'entrée de forme (224, 224, 3)\n",
    "- 1 couche Flatten pour aplatir les données d'entrée\n",
    "- 2 couches Dense avec 10 neurones chacune et 1 fonction d'activation ReLU\n",
    "- 1 couche Dense avec 7 neurones et une fonction d'activation sigmoid\n",
    "\n",
    "Le modèle est compilé avec :\n",
    "- la fonction de perte '**categorical_crossentropy**'\n",
    "- l'optimiseur '**rmsprop**'\n",
    "- la métrique '**accuracy**'."
   ]
  },
  {
   "cell_type": "code",
   "execution_count": 99,
   "metadata": {},
   "outputs": [
    {
     "name": "stdout",
     "output_type": "stream",
     "text": [
      "Nombre de GPU AMD disponibles :  1 \n",
      "\n",
      "Model: \"sequential_21\"\n",
      "_________________________________________________________________\n",
      " Layer (type)                Output Shape              Param #   \n",
      "=================================================================\n",
      " flatten_4 (Flatten)         (None, 150528)            0         \n",
      "                                                                 \n",
      " dense_64 (Dense)            (None, 10)                1505290   \n",
      "                                                                 \n",
      " dense_65 (Dense)            (None, 10)                110       \n",
      "                                                                 \n",
      " dense_66 (Dense)            (None, 7)                 77        \n",
      "                                                                 \n",
      "=================================================================\n",
      "Total params: 1505477 (5.74 MB)\n",
      "Trainable params: 1505477 (5.74 MB)\n",
      "Non-trainable params: 0 (0.00 Byte)\n",
      "_________________________________________________________________\n",
      "None\n"
     ]
    }
   ],
   "source": [
    "# Afficher les GPU AMD disponibles\n",
    "amd_gpus = get_available_amd_gpus()\n",
    "print(\"Nombre de GPU AMD disponibles : \", len(amd_gpus), \"\\n\")\n",
    "\n",
    "# Créer un modèle MLP\n",
    "model_mlp = creation_modele_mlp()"
   ]
  },
  {
   "cell_type": "markdown",
   "metadata": {},
   "source": [
    "## <span style='background:green'>2/ Création des callbacks</span>\n",
    "\n",
    "Nous créeons 2 callbacks :\n",
    "- **ModelCheckpoint** pour sauvegarder le meilleur modèle pendant\n",
    "l'entrainement\n",
    "- **EarlyStopping** pour arrêter l'entrainement si val_loss ne diminue plus\n",
    "après 3 epochs"
   ]
  },
  {
   "cell_type": "code",
   "execution_count": 98,
   "metadata": {},
   "outputs": [],
   "source": [
    "callbacks_list, chemin_modele_export = creer_callbacks(\"model_mlp\")"
   ]
  },
  {
   "cell_type": "markdown",
   "metadata": {},
   "source": [
    "## <span style='background:green'>3/ entrainement du modèle</span>\n"
   ]
  },
  {
   "cell_type": "code",
   "execution_count": 89,
   "metadata": {},
   "outputs": [
    {
     "name": "stdout",
     "output_type": "stream",
     "text": [
      "Nombre de GPU AMD disponibles :  1 \n",
      "\n",
      "\n",
      " ==================== batch_size : 32 ====================\n",
      "\n",
      "Epoch 1: val_loss improved from inf to 172.27321, saving model to ./modele_ML\\model_mlp_best_weights.h5\n"
     ]
    },
    {
     "name": "stderr",
     "output_type": "stream",
     "text": [
      "c:\\Users\\pierr\\VSC_Projects\\Projet6_OCR_DataScientist-\\env\\Lib\\site-packages\\keras\\src\\engine\\training.py:3103: UserWarning: You are saving your model as an HDF5 file via `model.save()`. This file format is considered legacy. We recommend using instead the native Keras format, e.g. `model.save('my_model.keras')`.\n",
      "  saving_api.save_model(\n"
     ]
    },
    {
     "name": "stdout",
     "output_type": "stream",
     "text": [
      "\n",
      "Epoch 2: val_loss improved from 172.27321 to 70.44561, saving model to ./modele_ML\\model_mlp_best_weights.h5\n",
      "\n",
      "Epoch 3: val_loss improved from 70.44561 to 47.94242, saving model to ./modele_ML\\model_mlp_best_weights.h5\n",
      "\n",
      "Epoch 4: val_loss did not improve from 47.94242\n",
      "\n",
      "Epoch 5: val_loss did not improve from 47.94242\n",
      "\n",
      "Epoch 6: val_loss improved from 47.94242 to 41.66969, saving model to ./modele_ML\\model_mlp_best_weights.h5\n",
      "\n",
      "Epoch 7: val_loss did not improve from 41.66969\n",
      "\n",
      "Epoch 8: val_loss did not improve from 41.66969\n",
      "\n",
      "Epoch 9: val_loss improved from 41.66969 to 38.03848, saving model to ./modele_ML\\model_mlp_best_weights.h5\n",
      "\n",
      "Epoch 10: val_loss improved from 38.03848 to 31.57735, saving model to ./modele_ML\\model_mlp_best_weights.h5\n",
      "\n",
      "Epoch 11: val_loss improved from 31.57735 to 29.11096, saving model to ./modele_ML\\model_mlp_best_weights.h5\n",
      "\n",
      "Epoch 12: val_loss improved from 29.11096 to 21.51445, saving model to ./modele_ML\\model_mlp_best_weights.h5\n",
      "\n",
      "Epoch 13: val_loss improved from 21.51445 to 21.38639, saving model to ./modele_ML\\model_mlp_best_weights.h5\n",
      "\n",
      "Epoch 14: val_loss did not improve from 21.38639\n",
      "\n",
      "Epoch 15: val_loss did not improve from 21.38639\n",
      "\n",
      "=>Temps d'entraînement : 9.78 secondes<=\n",
      "\n",
      " ==================== batch_size : 64 ====================\n",
      "\n",
      "Epoch 1: val_loss did not improve from 21.38639\n",
      "\n",
      "Epoch 2: val_loss did not improve from 21.38639\n",
      "\n",
      "Epoch 3: val_loss did not improve from 21.38639\n",
      "\n",
      "Epoch 4: val_loss did not improve from 21.38639\n",
      "Epoch 4: early stopping\n",
      "\n",
      "=>Temps d'entraînement : 3.66 secondes<=\n",
      "\n",
      " ==================== batch_size : 128 ====================\n",
      "\n",
      "Epoch 1: val_loss did not improve from 21.38639\n",
      "\n",
      "Epoch 2: val_loss did not improve from 21.38639\n",
      "\n",
      "Epoch 3: val_loss did not improve from 21.38639\n",
      "\n",
      "Epoch 4: val_loss did not improve from 21.38639\n",
      "Epoch 4: early stopping\n",
      "\n",
      "=>Temps d'entraînement : 3.21 secondes<=\n",
      "\n",
      " ==================== batch_size : 256 ====================\n",
      "\n",
      "Epoch 1: val_loss did not improve from 21.38639\n",
      "\n",
      "Epoch 2: val_loss did not improve from 21.38639\n",
      "\n",
      "Epoch 3: val_loss did not improve from 21.38639\n",
      "\n",
      "Epoch 4: val_loss did not improve from 21.38639\n",
      "Epoch 4: early stopping\n",
      "\n",
      "=>Temps d'entraînement : 7.98 secondes<=\n",
      "\n",
      " ==================== batch_size : 512 ====================\n",
      "\n",
      "Epoch 1: val_loss did not improve from 21.38639\n",
      "\n",
      "Epoch 2: val_loss did not improve from 21.38639\n",
      "\n",
      "Epoch 3: val_loss did not improve from 21.38639\n",
      "\n",
      "Epoch 4: val_loss did not improve from 21.38639\n",
      "Epoch 4: early stopping\n",
      "\n",
      "=>Temps d'entraînement : 14.63 secondes<=\n"
     ]
    }
   ],
   "source": [
    "# Définir les tailles de lot à tester\n",
    "batch_sizes = [32, 64, 128, 256, 512]\n",
    "\n",
    "# Créer des dictionnaires vides pour stocker l'historique et le temps\n",
    "history_dict, time_dict = {}, {}\n",
    "\n",
    "# POUR chaque batch_size\n",
    "for batch_size in batch_sizes:\n",
    "    print(\"\\n\", \"=\" * 30, \"batch_size :\", batch_size, \"=\" * 30)\n",
    "\n",
    "    # Utiliser le GPU\n",
    "    with tf.device('/gpu:0'):\n",
    "\n",
    "        # Créer un modèle MLP\n",
    "        model_mlp = creation_modele_mlp()\n",
    "\n",
    "        # Enregistrer le temps de début\n",
    "        start_time = time.time()\n",
    "\n",
    "        # Entraîner le modèle\n",
    "        history_mlp = model_mlp.fit(\n",
    "            X_train,\n",
    "            y_train,\n",
    "            epochs=15,\n",
    "            batch_size=batch_size,\n",
    "            callbacks=callbacks_list,\n",
    "            validation_data=(X_val, y_val),\n",
    "            verbose=0\n",
    "            )\n",
    "\n",
    "        # Enregistrer le temps de fin\n",
    "        end_time = time.time()\n",
    "\n",
    "        # Calculer le temps d'entraînement\n",
    "        training_time = end_time - start_time\n",
    "        print(f\"\\n=>Temps d'entraînement : {round(training_time, 2)} sec<=\")\n",
    "\n",
    "    # Stocker l'historique et le temps d'entraînement\n",
    "    history_dict[batch_size] = history_mlp.history\n",
    "    time_dict[batch_size] = training_time"
   ]
  },
  {
   "cell_type": "code",
   "execution_count": 97,
   "metadata": {},
   "outputs": [
    {
     "data": {
      "text/html": [
       "<style type=\"text/css\">\n",
       "#T_18528_row2_col1, #T_18528_row3_col0, #T_18528_row4_col0 {\n",
       "  background-color: green;\n",
       "}\n",
       "</style>\n",
       "<table id=\"T_18528\">\n",
       "  <thead>\n",
       "    <tr>\n",
       "      <th class=\"blank level0\" >&nbsp;</th>\n",
       "      <th id=\"T_18528_level0_col0\" class=\"col_heading level0 col0\" >Validation Accuracy</th>\n",
       "      <th id=\"T_18528_level0_col1\" class=\"col_heading level0 col1\" >Training Time</th>\n",
       "    </tr>\n",
       "  </thead>\n",
       "  <tbody>\n",
       "    <tr>\n",
       "      <th id=\"T_18528_level0_row0\" class=\"row_heading level0 row0\" >32</th>\n",
       "      <td id=\"T_18528_row0_col0\" class=\"data row0 col0\" >0.152866</td>\n",
       "      <td id=\"T_18528_row0_col1\" class=\"data row0 col1\" >9.780034</td>\n",
       "    </tr>\n",
       "    <tr>\n",
       "      <th id=\"T_18528_level0_row1\" class=\"row_heading level0 row1\" >64</th>\n",
       "      <td id=\"T_18528_row1_col0\" class=\"data row1 col0\" >0.152866</td>\n",
       "      <td id=\"T_18528_row1_col1\" class=\"data row1 col1\" >3.660761</td>\n",
       "    </tr>\n",
       "    <tr>\n",
       "      <th id=\"T_18528_level0_row2\" class=\"row_heading level0 row2\" >128</th>\n",
       "      <td id=\"T_18528_row2_col0\" class=\"data row2 col0\" >0.152866</td>\n",
       "      <td id=\"T_18528_row2_col1\" class=\"data row2 col1\" >3.213412</td>\n",
       "    </tr>\n",
       "    <tr>\n",
       "      <th id=\"T_18528_level0_row3\" class=\"row_heading level0 row3\" >256</th>\n",
       "      <td id=\"T_18528_row3_col0\" class=\"data row3 col0\" >0.165605</td>\n",
       "      <td id=\"T_18528_row3_col1\" class=\"data row3 col1\" >7.984221</td>\n",
       "    </tr>\n",
       "    <tr>\n",
       "      <th id=\"T_18528_level0_row4\" class=\"row_heading level0 row4\" >512</th>\n",
       "      <td id=\"T_18528_row4_col0\" class=\"data row4 col0\" >0.165605</td>\n",
       "      <td id=\"T_18528_row4_col1\" class=\"data row4 col1\" >14.625402</td>\n",
       "    </tr>\n",
       "  </tbody>\n",
       "</table>\n"
      ],
      "text/plain": [
       "<pandas.io.formats.style.Styler at 0x12fba010890>"
      ]
     },
     "execution_count": 97,
     "metadata": {},
     "output_type": "execute_result"
    }
   ],
   "source": [
    "# Créer un DataFrame à partir de l'historique\n",
    "df = pd.DataFrame(\n",
    "    {k: v['val_accuracy'][-1] for k, v in history_dict.items()},\n",
    "    index=[0]\n",
    "    )\n",
    "\n",
    "# Transposer le DataFrame pour avoir les tailles de lot comme index\n",
    "df = df.transpose()\n",
    "\n",
    "# Ajouter les temps d'entraînement au DataFrame\n",
    "df['Training Time'] = pd.Series(time_dict)\n",
    "\n",
    "# Renommer les colonnes\n",
    "df.columns = ['Validation Accuracy', 'Training Time']\n",
    "\n",
    "\n",
    "# Surligner la meilleure précision et le temps d'entraînement le plus court\n",
    "def highlight_max(s):\n",
    "    if s.name == 'Validation Accuracy':\n",
    "        is_max = s == s.max()\n",
    "    elif s.name == 'Training Time':\n",
    "        is_max = s == s.min()\n",
    "    return ['background-color: green' if v else '' for v in is_max]\n",
    "\n",
    "\n",
    "# Appliquer le style au DataFrame\n",
    "df.style.apply(highlight_max)"
   ]
  },
  {
   "cell_type": "markdown",
   "metadata": {},
   "source": [
    "## <span style='background:green'>3/ Comparatif des accuracy</span>"
   ]
  },
  {
   "cell_type": "code",
   "execution_count": 51,
   "metadata": {},
   "outputs": [
    {
     "name": "stdout",
     "output_type": "stream",
     "text": [
      "23/23 [==============================] - 0s 5ms/step - loss: 8.3814 - accuracy: 0.1415\n",
      "Training Accuracy: 0.141\n",
      "\n",
      "5/5 [==============================] - 0s 4ms/step - loss: 11.8133 - accuracy: 0.1465\n",
      "Validation Accuracy:  0.146\n"
     ]
    }
   ],
   "source": [
    "# Evaluation du modèle (dernier epoch) sur les données de train\n",
    "loss, accuracy = model_mlp.evaluate(X_train, y_train, verbose=True)\n",
    "print(\"Training Accuracy: {:.3f}\\n\".format(accuracy))\n",
    "\n",
    "# Evaluation du modèle (dernier epoch) sur les données de validation\n",
    "loss, accuracy = model_mlp.evaluate(X_val, y_val, verbose=True)\n",
    "print(\"Validation Accuracy:  {:.3f}\".format(accuracy))"
   ]
  },
  {
   "cell_type": "code",
   "execution_count": 52,
   "metadata": {},
   "outputs": [
    {
     "name": "stdout",
     "output_type": "stream",
     "text": [
      "Validation Accuracy :  0.140\n",
      "Test Accuracy       :  0.146\n"
     ]
    }
   ],
   "source": [
    "# Charger les poids du meilleur modèle\n",
    "model_mlp.load_weights(chemin_modele_export)\n",
    "\n",
    "# Evaluation meilleur modèle sur les données de validation\n",
    "loss, accuracy = model_mlp.evaluate(X_val, y_val, verbose=False)\n",
    "print(\"Validation Accuracy :  {:.3f}\".format(accuracy))\n",
    "\n",
    "# Evaluation meilleur modèle sur les données de test\n",
    "loss, accuracy = model_mlp.evaluate(X_test, y_test, verbose=False)\n",
    "print(\"Test Accuracy       :  {:.3f}\".format(accuracy))"
   ]
  },
  {
   "cell_type": "code",
   "execution_count": 53,
   "metadata": {},
   "outputs": [
    {
     "data": {
      "image/png": "[encoded data removed]",
      "text/plain": [
       "<Figure size 1000x500 with 2 Axes>"
      ]
     },
     "metadata": {},
     "output_type": "display_data"
    }
   ],
   "source": [
    "# Afficher l'historique de l'entraînement\n",
    "show_history(history_mlp)\n",
    "\n",
    "# Definir le chemin d'export de la figure\n",
    "dossier_figure = \"./figure/\"\n",
    "nom_figure = \"history_mlp.png\"\n",
    "chemin_figure_export = os.path.join(dossier_figure, nom_figure)\n",
    "\n",
    "# Sauvegarder l'historique de l'entraînement\n",
    "plot_history(history_mlp, path=chemin_figure_export)\n",
    "plt.close()"
   ]
  },
  {
   "cell_type": "markdown",
   "metadata": {},
   "source": [
    "## <span style='background:green'>5/ Matrice de confusion</span>"
   ]
  },
  {
   "cell_type": "code",
   "execution_count": 59,
   "metadata": {},
   "outputs": [
    {
     "name": "stdout",
     "output_type": "stream",
     "text": [
      "5/5 [==============================] - 0s 4ms/step\n",
      "Categorie reelle :  [5 1 0 4 1 4 4 0 1 0 1 0 0 4 3 6 3 6 5 0 5 6 0 5 5 5 5 4 0 2] \n",
      "\n",
      "Categorie prédite :  [0 0 0 0 0 0 0 0 0 0 0 0 0 0 0 0 0 0 0 0 0 0 0 0 0 0 0 0 0 0]\n"
     ]
    }
   ],
   "source": [
    "# Retrouver la categorie réelle des images de validation\n",
    "y_val_num = np.argmax(y_val, axis=1)\n",
    "\n",
    "# Trouver la categorie prédite des images de validation\n",
    "y_val_pred = np.argmax(model_mlp.predict(X_val), axis=1)\n",
    "\n",
    "# Afficher les 10 premières catégories réelles et prédites\n",
    "print(\"Categorie reelle : \", y_val_num[:30], \"\\n\")\n",
    "print(\"Categorie prédite : \", y_val_pred[:30])"
   ]
  },
  {
   "cell_type": "code",
   "execution_count": 62,
   "metadata": {},
   "outputs": [
    {
     "name": "stdout",
     "output_type": "stream",
     "text": [
      "\n",
      "Correspondance des clusters :  [5 4 0 0 0 0 0]\n"
     ]
    },
    {
     "data": {
      "image/png": "[encoded data removed]",
      "text/plain": [
       "<Figure size 600x400 with 2 Axes>"
      ]
     },
     "metadata": {},
     "output_type": "display_data"
    },
    {
     "name": "stdout",
     "output_type": "stream",
     "text": [
      "              precision    recall  f1-score   support\n",
      "\n",
      "           0       1.00      0.00      0.00        22\n",
      "           1       1.00      0.00      0.00        23\n",
      "           2       1.00      0.00      0.00        22\n",
      "           3       1.00      0.00      0.00        22\n",
      "           4       0.40      0.09      0.15        22\n",
      "           5       0.15      1.00      0.26        23\n",
      "           6       1.00      0.00      0.00        23\n",
      "\n",
      "    accuracy                           0.16       157\n",
      "   macro avg       0.79      0.16      0.06       157\n",
      "weighted avg       0.79      0.16      0.06       157\n",
      "\n"
     ]
    }
   ],
   "source": [
    "# Verifier la correspondance des clusters\n",
    "y_val_pred_transform = conf_mat_transform_argmax(y_val_num, y_val_pred)\n",
    "\n",
    "# Afficher la matrice de confusion et le rapport de classification\n",
    "conf_mat_mlp = matrice_conf_et_rapport(\n",
    "    y_val_num,\n",
    "    y_val_pred_transform,\n",
    "    categories\n",
    "    )"
   ]
  },
  {
   "cell_type": "markdown",
   "metadata": {},
   "source": [
    "# <span style='background:blue'>Etape 4 : CNN</span>"
   ]
  },
  {
   "cell_type": "code",
   "execution_count": 32,
   "metadata": {},
   "outputs": [
    {
     "name": "stdout",
     "output_type": "stream",
     "text": [
      "Model: \"sequential_11\"\n",
      "_________________________________________________________________\n",
      " Layer (type)                Output Shape              Param #   \n",
      "=================================================================\n",
      " conv2d (Conv2D)             (None, 62, 62, 32)        896       \n",
      "                                                                 \n",
      " max_pooling2d (MaxPooling2  (None, 31, 31, 32)        0         \n",
      " D)                                                              \n",
      "                                                                 \n",
      " flatten (Flatten)           (None, 30752)             0         \n",
      "                                                                 \n",
      " dense_35 (Dense)            (None, 128)               3936384   \n",
      "                                                                 \n",
      " dense_36 (Dense)            (None, 1)                 129       \n",
      "                                                                 \n",
      "=================================================================\n",
      "Total params: 3937409 (15.02 MB)\n",
      "Trainable params: 3937409 (15.02 MB)\n",
      "Non-trainable params: 0 (0.00 Byte)\n",
      "_________________________________________________________________\n",
      "None\n"
     ]
    }
   ],
   "source": [
    "from keras.models import Sequential\n",
    "from keras.layers import Conv2D, MaxPooling2D, Flatten, Dense\n",
    "\n",
    "# Créer le modèle\n",
    "model_cnn = Sequential()\n",
    "model_cnn.add(Conv2D(32, (3, 3), activation='relu', input_shape=(64, 64, 3)))\n",
    "model_cnn.add(MaxPooling2D(pool_size=(2, 2)))\n",
    "model_cnn.add(Flatten())\n",
    "model_cnn.add(Dense(128, activation='relu'))\n",
    "model_cnn.add(Dense(1, activation='sigmoid'))\n",
    "\n",
    "# Compiler le modèle\n",
    "model_cnn.compile(\n",
    "    loss='binary_crossentropy',\n",
    "    optimizer='adam',\n",
    "    metrics=['accuracy']\n",
    "    )\n",
    "\n",
    "# Afficher un résumé du modèle\n",
    "print(model_cnn.summary())"
   ]
  },
  {
   "cell_type": "markdown",
   "metadata": {},
   "source": [
    "# <span style='background:blue'>Etape 5 : Transfer learning VGG-16</span>\n",
    "\n",
    "Nous construisons un modèle de classification d'images en réalisant un\n",
    "**transfer learning** à partir du modèle VGG-16 qui a été entrainé sur un\n",
    "jeu de données ImageNet de plus d'1 million d'images.\n",
    "\n",
    "Ce modèle est composé de 16 couches de convolution et de 3 couches\n",
    "fully connected.\n",
    "\n",
    "Il classe les images (224 x 224 pixels) en 1000 catégories différentes.\n"
   ]
  },
  {
   "cell_type": "markdown",
   "metadata": {},
   "source": [
    "## <span style='background:green'>Etape 1 : Prétraitement des données</span>\n",
    "\n",
    "Nous appliquons un prétraitement des données pour les mettre dans un format\n",
    "adapté au modèle de classification supervisée avec un VGG16.\n",
    "\n",
    "Le pre-processing des images pour VGG-16 consiste à :\n",
    "- Convertir l'image en tableau NumPy (si necessaire)\n",
    "- Normaliser les pixels de l'image pour VGG-16 :\n",
    "    - Mettre à l'echelle entre -1 et 1 (soustraire valeur moyenne des\n",
    "    des pixels sur le canaux RGB du jeu de données ImageNet)\n",
    "    - inverser les canaux RGB en BGR"
   ]
  },
  {
   "cell_type": "code",
   "execution_count": null,
   "metadata": {},
   "outputs": [],
   "source": [
    "# Préparer les images pour l'entraînement du VGG-16\n",
    "images_np = image_prep_fct(df_image, 'vgg16')\n",
    "print(images_np.shape)"
   ]
  },
  {
   "cell_type": "markdown",
   "metadata": {},
   "source": [
    "\n",
    "## <span style='background:green'>1/ création du modèle</span>\n",
    "\n",
    "Nous créons un modèle de classification d'images en réalisant un\n",
    "**transfer learning** à partir du modèle VGG-16. Ce dernier est importé\n",
    "**sans** les 3 couches fully connected. Les **poids** du modèle sont initialisés\n",
    "avec les poids du modèle entrainé sur ImageNet.\n",
    "\n",
    "Le modèle VGG16 est utilisé comme extracteur de caractéristiques,\n",
    "et 4 nouvelles couches sont ajoutées à sa sortie :\n",
    "- 1 couche de **GlobalAveragePooling2D** pour convertir les features en un\n",
    "  vecteur 1D\n",
    "- 1 couche **Dense** de 256 neurones et une fonction d'activation **relu**\n",
    "- 1 couche **Dropout** pour désactiver 50% des neurones\n",
    "- 1 couche **Dense** de 7 neurones et une fonction d'activation **softmax**\n",
    "  pour la classification\n",
    "\n",
    "  Nous ajoutons 3 callbacks :\n",
    "  - **ModelCheckpoint** pour sauvegarder le modèle avec la meilleure loss\n",
    "  - **EarlyStopping** pour arrêter l'entrainement si la loss ne diminue plus\n",
    "  - **TrainingPlot** pour afficher les courbes pendant l'entrainement"
   ]
  },
  {
   "cell_type": "code",
   "execution_count": 13,
   "metadata": {},
   "outputs": [
    {
     "name": "stdout",
     "output_type": "stream",
     "text": [
      "Model: \"model\"\n",
      "_________________________________________________________________\n",
      " Layer (type)                Output Shape              Param #   \n",
      "=================================================================\n",
      " input_1 (InputLayer)        [(None, 224, 224, 3)]     0         \n",
      "                                                                 \n",
      " block1_conv1 (Conv2D)       (None, 224, 224, 64)      1792      \n",
      "                                                                 \n",
      " block1_conv2 (Conv2D)       (None, 224, 224, 64)      36928     \n",
      "                                                                 \n",
      " block1_pool (MaxPooling2D)  (None, 112, 112, 64)      0         \n",
      "                                                                 \n",
      " block2_conv1 (Conv2D)       (None, 112, 112, 128)     73856     \n",
      "                                                                 \n",
      " block2_conv2 (Conv2D)       (None, 112, 112, 128)     147584    \n",
      "                                                                 \n",
      " block2_pool (MaxPooling2D)  (None, 56, 56, 128)       0         \n",
      "                                                                 \n",
      " block3_conv1 (Conv2D)       (None, 56, 56, 256)       295168    \n",
      "                                                                 \n",
      " block3_conv2 (Conv2D)       (None, 56, 56, 256)       590080    \n",
      "                                                                 \n",
      " block3_conv3 (Conv2D)       (None, 56, 56, 256)       590080    \n",
      "                                                                 \n",
      " block3_pool (MaxPooling2D)  (None, 28, 28, 256)       0         \n",
      "                                                                 \n",
      " block4_conv1 (Conv2D)       (None, 28, 28, 512)       1180160   \n",
      "                                                                 \n",
      " block4_conv2 (Conv2D)       (None, 28, 28, 512)       2359808   \n",
      "                                                                 \n",
      " block4_conv3 (Conv2D)       (None, 28, 28, 512)       2359808   \n",
      "                                                                 \n",
      " block4_pool (MaxPooling2D)  (None, 14, 14, 512)       0         \n",
      "                                                                 \n",
      " block5_conv1 (Conv2D)       (None, 14, 14, 512)       2359808   \n",
      "                                                                 \n",
      " block5_conv2 (Conv2D)       (None, 14, 14, 512)       2359808   \n",
      "                                                                 \n",
      " block5_conv3 (Conv2D)       (None, 14, 14, 512)       2359808   \n",
      "                                                                 \n",
      " block5_pool (MaxPooling2D)  (None, 7, 7, 512)         0         \n",
      "                                                                 \n",
      " global_average_pooling2d (  (None, 512)               0         \n",
      " GlobalAveragePooling2D)                                         \n",
      "                                                                 \n",
      " dense (Dense)               (None, 256)               131328    \n",
      "                                                                 \n",
      " dropout (Dropout)           (None, 256)               0         \n",
      "                                                                 \n",
      " dense_1 (Dense)             (None, 7)                 1799      \n",
      "                                                                 \n",
      "=================================================================\n",
      "Total params: 14847815 (56.64 MB)\n",
      "Trainable params: 133127 (520.03 KB)\n",
      "Non-trainable params: 14714688 (56.13 MB)\n",
      "_________________________________________________________________\n",
      "None\n"
     ]
    }
   ],
   "source": [
    "# Création du modèle\n",
    "with tf.device('/gpu:0'):\n",
    "    model_tl_vgg16_noDA = creation_modele_transfer_vgg16()\n",
    "\n",
    "# Callback 1 : Enregistrer le meilleur modèle (poids lorsque val_loss minimale)\n",
    "chemin_modele_export = \"./modele_ML/model_tl_vgg16_noDA_best_weights.h5\"\n",
    "checkpoint = ModelCheckpoint(\n",
    "    chemin_modele_export,\n",
    "    monitor='val_loss',\n",
    "    verbose=1,\n",
    "    save_best_only=True,\n",
    "    mode='min'\n",
    "    )\n",
    "\n",
    "# Callback 2 : Arreter entrainement si val_loss ne diminue plus apres 3 epochs\n",
    "es = EarlyStopping(monitor='val_loss', mode='min', verbose=1, patience=3)\n",
    "\n",
    "# Assigner les callbacks à la méthode fit() du modele\n",
    "callbacks_list = [checkpoint, es]"
   ]
  },
  {
   "cell_type": "markdown",
   "metadata": {},
   "source": [
    "## <span style='background:green'>2/ entrainement du modèle</span>\n",
    "\n",
    "Nous entrainons le modèle avec les paramètres suivants :\n",
    "- **epochs** : 15\n",
    "- **batch_size** : 64\n",
    "- **callbacks** : ModelCheckpoint, EarlyStopping, TrainingPlot"
   ]
  },
  {
   "cell_type": "code",
   "execution_count": 14,
   "metadata": {},
   "outputs": [
    {
     "name": "stdout",
     "output_type": "stream",
     "text": [
      "Nombre de GPU AMD disponibles :  1 \n",
      "\n",
      "Epoch 1/15\n",
      "12/12 [==============================] - ETA: 0s - loss: 5.1841 - accuracy: 0.4639\n",
      "Epoch 1: val_loss improved from inf to 1.95878, saving model to ./modele_ML\\model1_best_weights.h5\n"
     ]
    },
    {
     "name": "stderr",
     "output_type": "stream",
     "text": [
      "c:\\Users\\pierr\\VSC_Projects\\Projet6_OCR_DataScientist-\\env\\Lib\\site-packages\\keras\\src\\engine\\training.py:3103: UserWarning: You are saving your model as an HDF5 file via `model.save()`. This file format is considered legacy. We recommend using instead the native Keras format, e.g. `model.save('my_model.keras')`.\n",
      "  saving_api.save_model(\n"
     ]
    },
    {
     "data": {
      "image/png": "[encoded data removed]",
      "text/plain": [
       "<Figure size 640x480 with 2 Axes>"
      ]
     },
     "metadata": {},
     "output_type": "display_data"
    },
    {
     "name": "stdout",
     "output_type": "stream",
     "text": [
      "12/12 [==============================] - 123s 10s/step - loss: 5.1841 - accuracy: 0.4639 - val_loss: 1.9588 - val_accuracy: 0.6879\n",
      "Epoch 2/15\n",
      "12/12 [==============================] - ETA: 0s - loss: 1.7414 - accuracy: 0.7170\n",
      "Epoch 2: val_loss improved from 1.95878 to 1.10596, saving model to ./modele_ML\\model1_best_weights.h5\n"
     ]
    },
    {
     "data": {
      "text/plain": [
       "<Figure size 640x480 with 0 Axes>"
      ]
     },
     "metadata": {},
     "output_type": "display_data"
    },
    {
     "name": "stdout",
     "output_type": "stream",
     "text": [
      "12/12 [==============================] - 118s 10s/step - loss: 1.7414 - accuracy: 0.7170 - val_loss: 1.1060 - val_accuracy: 0.7834\n",
      "Epoch 3/15\n",
      "12/12 [==============================] - ETA: 0s - loss: 1.0739 - accuracy: 0.7633\n",
      "Epoch 3: val_loss improved from 1.10596 to 1.05337, saving model to ./modele_ML\\model1_best_weights.h5\n"
     ]
    },
    {
     "data": {
      "text/plain": [
       "<Figure size 640x480 with 0 Axes>"
      ]
     },
     "metadata": {},
     "output_type": "display_data"
    },
    {
     "name": "stdout",
     "output_type": "stream",
     "text": [
      "12/12 [==============================] - 105s 9s/step - loss: 1.0739 - accuracy: 0.7633 - val_loss: 1.0534 - val_accuracy: 0.7898\n",
      "Epoch 4/15\n",
      "12/12 [==============================] - ETA: 0s - loss: 0.8604 - accuracy: 0.7810\n",
      "Epoch 4: val_loss improved from 1.05337 to 0.93092, saving model to ./modele_ML\\model1_best_weights.h5\n"
     ]
    },
    {
     "data": {
      "text/plain": [
       "<Figure size 640x480 with 0 Axes>"
      ]
     },
     "metadata": {},
     "output_type": "display_data"
    },
    {
     "name": "stdout",
     "output_type": "stream",
     "text": [
      "12/12 [==============================] - 104s 9s/step - loss: 0.8604 - accuracy: 0.7810 - val_loss: 0.9309 - val_accuracy: 0.8025\n",
      "Epoch 5/15\n",
      "12/12 [==============================] - ETA: 0s - loss: 0.6099 - accuracy: 0.8503\n",
      "Epoch 5: val_loss did not improve from 0.93092\n"
     ]
    },
    {
     "data": {
      "text/plain": [
       "<Figure size 640x480 with 0 Axes>"
      ]
     },
     "metadata": {},
     "output_type": "display_data"
    },
    {
     "name": "stdout",
     "output_type": "stream",
     "text": [
      "12/12 [==============================] - 102s 9s/step - loss: 0.6099 - accuracy: 0.8503 - val_loss: 0.9541 - val_accuracy: 0.7771\n",
      "Epoch 6/15\n",
      "12/12 [==============================] - ETA: 0s - loss: 0.4029 - accuracy: 0.8844\n",
      "Epoch 6: val_loss did not improve from 0.93092\n"
     ]
    },
    {
     "data": {
      "text/plain": [
       "<Figure size 640x480 with 0 Axes>"
      ]
     },
     "metadata": {},
     "output_type": "display_data"
    },
    {
     "name": "stdout",
     "output_type": "stream",
     "text": [
      "12/12 [==============================] - 101s 9s/step - loss: 0.4029 - accuracy: 0.8844 - val_loss: 0.9750 - val_accuracy: 0.8153\n",
      "Epoch 7/15\n",
      "12/12 [==============================] - ETA: 0s - loss: 0.3665 - accuracy: 0.8844\n",
      "Epoch 7: val_loss improved from 0.93092 to 0.85272, saving model to ./modele_ML\\model1_best_weights.h5\n"
     ]
    },
    {
     "data": {
      "text/plain": [
       "<Figure size 640x480 with 0 Axes>"
      ]
     },
     "metadata": {},
     "output_type": "display_data"
    },
    {
     "name": "stdout",
     "output_type": "stream",
     "text": [
      "12/12 [==============================] - 100s 8s/step - loss: 0.3665 - accuracy: 0.8844 - val_loss: 0.8527 - val_accuracy: 0.8280\n",
      "Epoch 8/15\n",
      "12/12 [==============================] - ETA: 0s - loss: 0.2700 - accuracy: 0.9170\n",
      "Epoch 8: val_loss did not improve from 0.85272\n"
     ]
    },
    {
     "data": {
      "text/plain": [
       "<Figure size 640x480 with 0 Axes>"
      ]
     },
     "metadata": {},
     "output_type": "display_data"
    },
    {
     "name": "stdout",
     "output_type": "stream",
     "text": [
      "12/12 [==============================] - 100s 8s/step - loss: 0.2700 - accuracy: 0.9170 - val_loss: 0.8675 - val_accuracy: 0.7898\n",
      "Epoch 9/15\n",
      "12/12 [==============================] - ETA: 0s - loss: 0.2819 - accuracy: 0.9211\n",
      "Epoch 9: val_loss did not improve from 0.85272\n"
     ]
    },
    {
     "data": {
      "text/plain": [
       "<Figure size 640x480 with 0 Axes>"
      ]
     },
     "metadata": {},
     "output_type": "display_data"
    },
    {
     "name": "stdout",
     "output_type": "stream",
     "text": [
      "12/12 [==============================] - 100s 8s/step - loss: 0.2819 - accuracy: 0.9211 - val_loss: 0.9356 - val_accuracy: 0.7834\n",
      "Epoch 10/15\n",
      "12/12 [==============================] - ETA: 0s - loss: 0.1866 - accuracy: 0.9388\n",
      "Epoch 10: val_loss did not improve from 0.85272\n"
     ]
    },
    {
     "data": {
      "text/plain": [
       "<Figure size 640x480 with 0 Axes>"
      ]
     },
     "metadata": {},
     "output_type": "display_data"
    },
    {
     "name": "stdout",
     "output_type": "stream",
     "text": [
      "12/12 [==============================] - 102s 9s/step - loss: 0.1866 - accuracy: 0.9388 - val_loss: 0.9140 - val_accuracy: 0.8025\n",
      "Epoch 10: early stopping\n"
     ]
    }
   ],
   "source": [
    "# Afficher les GPU AMD disponibles\n",
    "amd_gpus = get_available_amd_gpus()\n",
    "print(\"Nombre de GPU AMD disponibles : \", len(amd_gpus), \"\\n\")\n",
    "\n",
    "# Entraîner sur les données d'entraînement (X_train, y_train)\n",
    "with tf.device('/gpu:0'):\n",
    "\n",
    "    history_tl_vgg16_noDA = model_tl_vgg16_noDA.fit(\n",
    "        X_train,\n",
    "        y_train,\n",
    "        epochs=15,\n",
    "        batch_size=64,\n",
    "        callbacks=callbacks_list,\n",
    "        validation_data=(X_val, y_val),\n",
    "        verbose=1\n",
    "        )"
   ]
  },
  {
   "cell_type": "markdown",
   "metadata": {},
   "source": [
    "## <span style='background:green'>3/ Comparatif des accuracy</span>"
   ]
  },
  {
   "cell_type": "code",
   "execution_count": 15,
   "metadata": {},
   "outputs": [
    {
     "name": "stdout",
     "output_type": "stream",
     "text": [
      "23/23 [==============================] - 84s 4s/step - loss: 0.0183 - accuracy: 0.9946\n",
      "Training Accuracy: 0.995\n",
      "\n",
      "5/5 [==============================] - 17s 3s/step - loss: 0.9140 - accuracy: 0.8025\n",
      "Validation Accuracy:  0.803\n"
     ]
    }
   ],
   "source": [
    "# Evaluation du modèle (dernier epoch) sur les données de train\n",
    "loss, accuracy = model_tl_vgg16_noDA.evaluate(X_train, y_train, verbose=True)\n",
    "print(\"Training Accuracy: {:.3f}\\n\".format(accuracy))\n",
    "\n",
    "# Evaluation du modèle (dernier epoch) sur les données de validation\n",
    "loss, accuracy = model_tl_vgg16_noDA.evaluate(X_val, y_val, verbose=True)\n",
    "print(\"Validation Accuracy:  {:.3f}\".format(accuracy))"
   ]
  },
  {
   "cell_type": "code",
   "execution_count": 16,
   "metadata": {},
   "outputs": [
    {
     "name": "stdout",
     "output_type": "stream",
     "text": [
      "Validation Accuracy :  0.828\n",
      "Test Accuracy       :  0.835\n"
     ]
    }
   ],
   "source": [
    "# Charger les poids du meilleur modèle\n",
    "model_tl_vgg16_noDA.load_weights(chemin_modele_export)\n",
    "\n",
    "# Evaluation meilleur modèle sur les données de validation\n",
    "loss, accuracy = model_tl_vgg16_noDA.evaluate(X_val, y_val, verbose=False)\n",
    "print(\"Validation Accuracy :  {:.3f}\".format(accuracy))\n",
    "\n",
    "# Evaluation meilleur modèle sur les données de test\n",
    "loss, accuracy = model_tl_vgg16_noDA.evaluate(X_test, y_test, verbose=False)\n",
    "print(\"Test Accuracy       :  {:.3f}\".format(accuracy))"
   ]
  },
  {
   "cell_type": "markdown",
   "metadata": {},
   "source": [
    "## <span style='background:green'>4/ Plot loss et accuracy</span>"
   ]
  },
  {
   "cell_type": "code",
   "execution_count": 17,
   "metadata": {},
   "outputs": [
    {
     "data": {
      "image/png": "[encoded data removed]",
      "text/plain": [
       "<Figure size 1000x500 with 2 Axes>"
      ]
     },
     "metadata": {},
     "output_type": "display_data"
    }
   ],
   "source": [
    "# Afficher l'historique de l'entraînement\n",
    "show_history(history_tl_vgg16_noDA)\n",
    "\n",
    "# Definir le chemin d'export de la figure\n",
    "dossier_figure = \"./figure/\"\n",
    "nom_figure = \"history_tl_vgg16_noDA.png\"\n",
    "chemin_figure_export = os.path.join(dossier_figure, nom_figure)\n",
    "\n",
    "# Sauvegarder l'historique de l'entraînement\n",
    "plot_history(history_tl_vgg16_noDA, path=chemin_figure_export)\n",
    "plt.close()"
   ]
  },
  {
   "cell_type": "markdown",
   "metadata": {},
   "source": [
    "## <span style='background:green'>5/ Matrice de confusion</span>"
   ]
  },
  {
   "cell_type": "code",
   "execution_count": 54,
   "metadata": {},
   "outputs": [
    {
     "ename": "NameError",
     "evalue": "name 'model_tl_vgg16_noDA' is not defined",
     "output_type": "error",
     "traceback": [
      "\u001b[1;31m---------------------------------------------------------------------------\u001b[0m",
      "\u001b[1;31mNameError\u001b[0m                                 Traceback (most recent call last)",
      "Cell \u001b[1;32mIn[54], line 5\u001b[0m\n\u001b[0;32m      2\u001b[0m y_val_num \u001b[38;5;241m=\u001b[39m np\u001b[38;5;241m.\u001b[39margmax(y_val, axis\u001b[38;5;241m=\u001b[39m\u001b[38;5;241m1\u001b[39m)\n\u001b[0;32m      4\u001b[0m \u001b[38;5;66;03m# Trouver la categorie prédite des images de validation\u001b[39;00m\n\u001b[1;32m----> 5\u001b[0m y_val_pred \u001b[38;5;241m=\u001b[39m np\u001b[38;5;241m.\u001b[39margmax(\u001b[43mmodel_tl_vgg16_noDA\u001b[49m\u001b[38;5;241m.\u001b[39mpredict(X_val), axis\u001b[38;5;241m=\u001b[39m\u001b[38;5;241m1\u001b[39m)\n\u001b[0;32m      7\u001b[0m \u001b[38;5;66;03m# Afficher les 10 premières catégories réelles et prédites\u001b[39;00m\n\u001b[0;32m      8\u001b[0m \u001b[38;5;28mprint\u001b[39m(\u001b[38;5;124m\"\u001b[39m\u001b[38;5;124mCategorie reelle : \u001b[39m\u001b[38;5;124m\"\u001b[39m, y_val_num[:\u001b[38;5;241m30\u001b[39m], \u001b[38;5;124m\"\u001b[39m\u001b[38;5;130;01m\\n\u001b[39;00m\u001b[38;5;124m\"\u001b[39m)\n",
      "\u001b[1;31mNameError\u001b[0m: name 'model_tl_vgg16_noDA' is not defined"
     ]
    }
   ],
   "source": [
    "# Retrouver la categorie réelle des images de validation\n",
    "y_val_num = np.argmax(y_val, axis=1)\n",
    "\n",
    "# Trouver la categorie prédite des images de validation\n",
    "y_val_pred = np.argmax(model_tl_vgg16_noDA.predict(X_val), axis=1)\n",
    "\n",
    "# Afficher les 10 premières catégories réelles et prédites\n",
    "print(\"Categorie reelle : \", y_val_num[:30], \"\\n\")\n",
    "print(\"Categorie prédite : \", y_val_pred[:30])"
   ]
  },
  {
   "cell_type": "code",
   "execution_count": 19,
   "metadata": {},
   "outputs": [
    {
     "name": "stdout",
     "output_type": "stream",
     "text": [
      "\n",
      "Correspondance des clusters :  [0 1 2 3 4 5 6]\n"
     ]
    },
    {
     "data": {
      "image/png": "[encoded data removed]",
      "text/plain": [
       "<Figure size 600x400 with 2 Axes>"
      ]
     },
     "metadata": {},
     "output_type": "display_data"
    },
    {
     "name": "stdout",
     "output_type": "stream",
     "text": [
      "              precision    recall  f1-score   support\n",
      "\n",
      "           0       0.93      0.64      0.76        22\n",
      "           1       0.90      0.83      0.86        23\n",
      "           2       0.81      0.77      0.79        22\n",
      "           3       0.70      0.86      0.78        22\n",
      "           4       0.71      0.91      0.80        22\n",
      "           5       0.83      0.83      0.83        23\n",
      "           6       1.00      0.96      0.98        23\n",
      "\n",
      "    accuracy                           0.83       157\n",
      "   macro avg       0.84      0.83      0.83       157\n",
      "weighted avg       0.84      0.83      0.83       157\n",
      "\n"
     ]
    }
   ],
   "source": [
    "# Verifier la correspondance des clusters\n",
    "y_val_pred_transform = conf_mat_transform_argmax(y_val_num, y_val_pred)\n",
    "\n",
    "# Afficher la matrice de confusion et le rapport de classification\n",
    "conf_mat_tl_vgg16_noDA = matrice_conf_et_rapport(\n",
    "    y_val_num,\n",
    "    y_val_pred_transform,\n",
    "    categories\n",
    "    )\n",
    "\n",
    "# # Creer la matrice de confusion\n",
    "# conf_mat = metrics.confusion_matrix(y_val_num, y_val_pred_transform)\n",
    "\n",
    "# # Transformation en dataFrame\n",
    "# conf_mat_trans_df = pd.DataFrame(\n",
    "#     conf_mat,\n",
    "#     index=[label for label in sorted(categories)],\n",
    "#     columns=[label for label in sorted(categories)]\n",
    "#     )\n",
    "\n",
    "# # Afficher la matrice de confusion\n",
    "# plt.figure(figsize=(6, 4))\n",
    "# sns.heatmap(conf_mat_trans_df, annot=True, cmap=\"Blues\")\n",
    "# plt.title('Matrice de confusion')\n",
    "# plt.xlabel('Catégories réelles')\n",
    "# plt.ylabel('Catégories prédites')\n",
    "# plt.xticks(rotation=45, ha='right')\n",
    "# plt.show()\n",
    "\n",
    "# # Afficher le rapport de classification\n",
    "# print(metrics.classification_report(y_val_num, y_val_pred_transform))"
   ]
  },
  {
   "cell_type": "markdown",
   "metadata": {},
   "source": [
    "# <span style='background:blue'>Etape 6 : Data augmentation</span>"
   ]
  },
  {
   "cell_type": "code",
   "execution_count": null,
   "metadata": {},
   "outputs": [],
   "source": []
  },
  {
   "cell_type": "markdown",
   "metadata": {},
   "source": [
    "# <span style='background:blue'>Etape 7 : Transfer learning VGG-16 + Data augmentation</span>\n",
    "\n",
    "## <span style='background:green'>1/ création du modèle</span>\n",
    "\n",
    "Nous construisons un modèle de classification d'images en réalisant un\n",
    "transfer learning à partir du modèle VGG-16 et avec les données augmentées."
   ]
  },
  {
   "cell_type": "code",
   "execution_count": null,
   "metadata": {},
   "outputs": [],
   "source": []
  },
  {
   "cell_type": "markdown",
   "metadata": {},
   "source": [
    "## <span style='background:green'>2/ entrainement du modèle</span>"
   ]
  },
  {
   "cell_type": "code",
   "execution_count": null,
   "metadata": {},
   "outputs": [],
   "source": []
  },
  {
   "cell_type": "markdown",
   "metadata": {},
   "source": [
    "## <span style='background:green'>3/ Comparatif des accuracy</span>"
   ]
  },
  {
   "cell_type": "code",
   "execution_count": null,
   "metadata": {},
   "outputs": [],
   "source": []
  },
  {
   "cell_type": "markdown",
   "metadata": {},
   "source": [
    "## <span style='background:green'>4/ Plot loss et accuracy</span>"
   ]
  },
  {
   "cell_type": "code",
   "execution_count": null,
   "metadata": {},
   "outputs": [],
   "source": []
  },
  {
   "cell_type": "markdown",
   "metadata": {},
   "source": [
    "## <span style='background:green'>5/ Matrice de confusion</span>"
   ]
  },
  {
   "cell_type": "code",
   "execution_count": null,
   "metadata": {},
   "outputs": [],
   "source": []
  },
  {
   "cell_type": "markdown",
   "metadata": {},
   "source": [
    "# <span style='background:blue'>Etape 8 : Comparaison des résultats</span>\n"
   ]
  },
  {
   "cell_type": "code",
   "execution_count": null,
   "metadata": {},
   "outputs": [],
   "source": []
  },
  {
   "cell_type": "markdown",
   "metadata": {},
   "source": [
    "# <span style='background:blue'>Conclusion</span>\n"
   ]
  },
  {
   "cell_type": "code",
   "execution_count": null,
   "metadata": {},
   "outputs": [],
   "source": []
  },
  {
   "cell_type": "markdown",
   "metadata": {},
   "source": [
    "Compétence OCR:\n",
    "\n",
    "**Définir la stratégie d’élaboration d’un modèle d'apprentissage profond, concevoir ou ré-utiliser des\n",
    "modèles pré-entraînés (transfer learning) et entraîner des modèles afin de réaliser une analyse\n",
    "prédictive.**\n",
    "- CE1 Le candidat a défini sa stratégie d’élaboration d’un modèle pour répondre à un besoin métier (par\n",
    "exemple : choix de conception d’un modèle ou ré-utilisation de modèles pré-entraînés).\n",
    "- CE2 Le candidat a identifié la ou les cibles.\n",
    "- CE3 Le candidat a réalisé la séparation du jeu de données en jeu d’entraînement, jeu de validation et\n",
    "jeu de test.\n",
    "- CE4 Le candidat s'est assuré qu'il n’y a pas de fuite d’information entre les jeux de données\n",
    "(entraînement, validation et test).\n",
    "- CE5 Le candidat a testé plusieurs modèles d’apprentissage profond (par exemple à l’aide de la librairie\n",
    "Tensorflow / Keras) en partant du plus simple vers les plus complexes.\n",
    "- CE6 Le candidat a mis en oeuvre des modèles à partir de modèles pré-entraînés (technique de\n",
    "Transfer Learning)"
   ]
  },
  {
   "cell_type": "markdown",
   "metadata": {},
   "source": [
    "**Évaluer la performance des modèles d’apprentissage profond selon différents critères (scores,\n",
    "temps d'entraînement, etc.) afin de choisir le modèle le plus performant pour la problématique\n",
    "métier.**\n",
    "- CE1 Le candidat a choisi une métrique adaptée à la problématique métier, et sert à évaluer la\n",
    "performance des modèles\n",
    "- CE2 Le candidat a explicité le choix de la métrique d’évaluation\n",
    "- CE3 Le candidat a évalué la performance d’un modèle de référence et sert de comparaison pour\n",
    "évaluer la performance des modèles plus complexes\n",
    "- CE4 Le candidat a calculé, hormis la métrique choisie, au moins un autre indicateur pour comparer les\n",
    "modèles (par exemple : le temps nécessaire pour l’entraînement du modèle)\n",
    "- CE5 Le candidat a optimisé au moins un des hyperparamètres du modèle choisi (par exemple : le choix\n",
    "de la fonction Loss, le Batch Size, le nombre d'Epochs)"
   ]
  },
  {
   "cell_type": "markdown",
   "metadata": {},
   "source": [
    "**Utiliser des techniques d’augmentation des données afin d'améliorer la performance des modèles.**\n",
    "- CE1 Le candidat a utilisé plusieurs techniques d’augmentation des données (ex. pour des images :\n",
    "rotation, changement d’échelle, ajout de bruit…).\n",
    "- CE2 Le candidat a présenté une synthèse comparative des améliorations de performance grâce aux\n",
    "différentes techniques d'augmentation de données utilisées (maîtrise de l’overfitting, meilleur score)."
   ]
  },
  {
   "cell_type": "code",
   "execution_count": 20,
   "metadata": {},
   "outputs": [
    {
     "name": "stdout",
     "output_type": "stream",
     "text": [
      "Durée totale pour faire tourner le notebook : 20 minute(s) 35 seconde(s)\n"
     ]
    }
   ],
   "source": [
    "# Afficher temps d'exécution du notebook\n",
    "calculer_duree_notebook(start_time)"
   ]
  }
 ],
 "metadata": {
  "kernelspec": {
   "display_name": "env",
   "language": "python",
   "name": "python3"
  },
  "language_info": {
   "codemirror_mode": {
    "name": "ipython",
    "version": 3
   },
   "file_extension": ".py",
   "mimetype": "text/x-python",
   "name": "python",
   "nbconvert_exporter": "python",
   "pygments_lexer": "ipython3",
   "version": "3.11.7"
  }
 },
 "nbformat": 4,
 "nbformat_minor": 2
}
