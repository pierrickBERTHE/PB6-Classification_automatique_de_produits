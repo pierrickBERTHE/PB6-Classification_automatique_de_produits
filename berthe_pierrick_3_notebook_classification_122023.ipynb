{
  "cells": [
    {
      "cell_type": "markdown",
      "metadata": {
        "id": "view-in-github",
        "colab_type": "text"
      },
      "source": [
        "<a href=\"https://colab.research.google.com/github/pierrickBERTHE/Projet6_OCR_DataScientist-/blob/main/berthe_pierrick_3_notebook_classification_122023.ipynb\" target=\"_parent\"><img src=\"https://colab.research.google.com/assets/colab-badge.svg\" alt=\"Open In Colab\"/></a>"
      ]
    },
    {
      "cell_type": "markdown",
      "metadata": {
        "id": "UPpgnGKh07Fv"
      },
      "source": [
        "# <span style='color:SteelBlue'>P6 - Classifiez automatiquement des biens de consommation (part 3)</span>"
      ]
    },
    {
      "cell_type": "markdown",
      "metadata": {
        "id": "ck3z0ZFR07Fw"
      },
      "source": [
        "<img src=\"https://logo-marque.com/wp-content/uploads/2020/11/Flipkart-Logo.png\" width=\"300\" height=\"200\">"
      ]
    },
    {
      "cell_type": "markdown",
      "metadata": {
        "id": "15C8ftJT07Fw"
      },
      "source": [
        "# <span style='background:red; color:black'>a MAJ</span>\n",
        "\n",
        "# <span style='background:white; color:black'>Sommaire</span>\n",
        "\n",
        "Importations des librairies utilisees dans ce notebook <br>\n",
        "\n",
        "Paramètres d'affichage du notebook <br>\n",
        "\n",
        "Fonctions utilisees dans ce notebook <br>\n",
        "\n",
        "Importation des données <br>\n",
        "\n",
        "**Etape 1 : Description des donnees**\n",
        "- _1/ etc...\n",
        "\n",
        "\n",
        "Conclusion"
      ]
    },
    {
      "cell_type": "markdown",
      "metadata": {
        "id": "0VhX5SlE07Fx"
      },
      "source": [
        "# <span style='background:blue'>Introduction</span>\n",
        "\n",
        "L'entreprise **\"Flipkart\"** est une entreprise indienne qui souhaite lancer une\n",
        "marketplace e-commerce. Sur cette place de marché anglophone, des vendeurs\n",
        "proposent des articles à des acheteurs en postant une photo et une description.\n",
        "Pour rendre l’expérience utilisateur des vendeurs (faciliter la mise en ligne\n",
        "de nouveaux articles) et des acheteurs (faciliter la recherche de produits)\n",
        "la plus fluide possible, et dans l'optique d'un passage à l'échelle,\n",
        "il devient nécessaire **d'automatiser l'attribution de la catégorie** d'un\n",
        "article (actuellement effectuée manuellement par les vendeurs, donc peu\n",
        "fiable).\n",
        "___\n",
        "**Missions**<br>\n",
        "1/ Faire une **étude de la faisabilité d’un moteur de classification**\n",
        "d’article basé sur une **description** pour automatiser l’attribution\n",
        "de catégorie de l’article.\n",
        "\n",
        "2/ Faire une **étude de la faisabilité d’un moteur de classification**\n",
        "d’article basé sur une **image** pour automatiser l’attribution\n",
        "de catégorie de l’article.\n",
        "\n",
        "3/ **Réaliser une classification supervisée** à partir des images par la mise\n",
        "en place d’une data augmentation afin d’optimiser le modèle.\n",
        "\n",
        "4/ **Extraire les 10 premiers produits à base de « champagne »** issus de\n",
        "l’API fournie dans un fichier “.csv”, contenant pour chaque produit les\n",
        "données suivantes : foodId, label, category, foodContentsLabel, image.\n",
        "___\n",
        "Ce notebook presente la 3ème partie concernant la réalisation de la\n",
        "classification supervisée à partir des images par la mise en place d’une\n",
        "data augmentation afin d’optimiser le modèle.\n",
        "\n",
        "# <span style='background:red'>a terminer</span>\n",
        "\n",
        "___\n",
        "**Source des datasets**<br>\n",
        "Source : Non précisé<br>\n",
        "___"
      ]
    },
    {
      "cell_type": "markdown",
      "metadata": {
        "id": "lPVi22rt07Fx"
      },
      "source": [
        "<div class=\"alert alert-block alert-warning\">\n",
        "<b>Formattage du notebook au PEP8 => lancer cette ligne de code dans le\n",
        "terminal VSC : </b><br>\n",
        "nbqa black Berthe_Pierrick_1_notebook_exploration_112023.ipynb</div>"
      ]
    },
    {
      "cell_type": "markdown",
      "metadata": {
        "id": "5_c-_Zoy07Fx"
      },
      "source": [
        "# <span style='background:grey'>Importations des librairies utilisees dans ce notebook</span>"
      ]
    },
    {
      "cell_type": "code",
      "execution_count": 91,
      "metadata": {
        "id": "C29DafT_07Fy"
      },
      "outputs": [],
      "source": [
        "# # pip install pour Google Colab\n",
        "# !pip install pyopencl\n",
        "# !pip install plot-keras-history\n",
        "# !pip install flake8 pycodestyle_magic\n",
        "# !pip install tensorflow\n",
        "\n",
        "# Librairies generales\n",
        "import os.path\n",
        "import sys\n",
        "from IPython.display import display\n",
        "import time\n",
        "from datetime import datetime\n",
        "import pyopencl as cl\n",
        "\n",
        "# Librairies data science\n",
        "import matplotlib as mpl\n",
        "import matplotlib.pyplot as plt\n",
        "import numpy as np\n",
        "import pandas as pd\n",
        "import seaborn as sns\n",
        "from PIL import Image\n",
        "import random\n",
        "\n",
        "# Machine learning\n",
        "from sklearn.model_selection import train_test_split\n",
        "from sklearn import metrics\n",
        "from sklearn.dummy import DummyClassifier\n",
        "\n",
        "# deep learning\n",
        "import tensorflow as tf\n",
        "from keras import Input\n",
        "from tensorflow.keras.preprocessing.image import load_img, img_to_array\n",
        "from keras.applications.vgg16 import preprocess_input\n",
        "from keras.utils import to_categorical\n",
        "from keras.applications.vgg16 import VGG16\n",
        "from keras.layers import GlobalAveragePooling2D, Dense, Dropout, Flatten\n",
        "from keras.layers import Conv2D, MaxPooling2D\n",
        "from keras.models import Model, Sequential\n",
        "from keras.callbacks import EarlyStopping, ModelCheckpoint\n",
        "from plot_keras_history import show_history, plot_history\n",
        "from keras.preprocessing.image import ImageDataGenerator\n",
        "\n",
        "# Pour Google Colab\n",
        "from google.colab import drive\n",
        "drive.mount('/content/drive')\n",
        "print(\"\\nConnecté à Google Drive\\n\")\n",
        "\n",
        "# Affichage plot dans le notebook\n",
        "%matplotlib inline\n",
        "\n",
        "# Versions\n",
        "print(\"Version des librairies utilisees :\")\n",
        "print(\"Python        : \" + sys.version)\n",
        "print(\"Matplotlib    : \" + mpl.__version__)\n",
        "print(\"NumPy         : \" + np.version.full_version)\n",
        "print(\"Pandas        : \" + pd.__version__)\n",
        "print(\"Seaborn       : \" + sns.__version__)\n",
        "print(\"Tensorflow    : \" + tf.__version__)\n",
        "\n",
        "# Nombre de coeurs\n",
        "nbr_coeur = os.cpu_count()\n",
        "print(f\"\\nNombre de coeur disponible(s) sur ce PC: {nbr_coeur} coeur(s)\")\n",
        "\n",
        "# Afficher heure lancement\n",
        "maintenant = datetime.now().isoformat()\n",
        "print(\"\\nCode lance le : \" + maintenant)\n",
        "\n",
        "# Enregistrer l'heure de debut\n",
        "start_time = time.time()\n",
        "\n",
        "# Activer la verification PEP8\n",
        "print(\"\")\n",
        "%load_ext pycodestyle_magic\n",
        "%pycodestyle_on"
      ]
    },
    {
      "cell_type": "markdown",
      "metadata": {
        "id": "nPeaMQAe07Fz"
      },
      "source": [
        "<div class=\"alert alert-block alert-warning\">\n",
        "<b>Formattage du notebook au PEP8 => lancer cette ligne de code dans le\n",
        "terminal VSC : </b> <br>\n",
        "nbqa black nom_fichier.ipynb</div>"
      ]
    },
    {
      "cell_type": "markdown",
      "metadata": {
        "id": "0yYdIMbO07Fz"
      },
      "source": [
        "# <span style='background:grey'>Paramètres d'affichage</span>"
      ]
    },
    {
      "cell_type": "code",
      "execution_count": 92,
      "metadata": {
        "id": "H-48WpYH07Fz"
      },
      "outputs": [],
      "source": [
        "# parametrage des paramètres d'affichage dans le notebook\n",
        "pd.set_option(\"display.max_row\", 50)\n",
        "pd.set_option(\"display.max_column\", 50)\n",
        "pd.set_option(\"display.precision\", 2)\n",
        "\n",
        "# Ignorer les messages d'avertissement de tensorflow\n",
        "tf.get_logger().setLevel('ERROR')\n",
        "\n",
        "# Desactiver la limite de taille des images\n",
        "Image.MAX_IMAGE_PIXELS = None"
      ]
    },
    {
      "cell_type": "markdown",
      "metadata": {
        "id": "rh2KYSIH07Fz"
      },
      "source": [
        "# <span style='background:grey'>Fonctions</span>"
      ]
    },
    {
      "cell_type": "code",
      "execution_count": 93,
      "metadata": {
        "id": "Tb3gN-ap07F0"
      },
      "outputs": [],
      "source": [
        "def calculer_duree_notebook(start_time):\n",
        "    \"\"\"\n",
        "    Cette procédure calcule et affiche la durée totale depuis un temps de\n",
        "    début donné.\n",
        "\n",
        "    Args:\n",
        "        start_time (float): Le temps de début en secondes depuis l'époque.\n",
        "\n",
        "    Returns:\n",
        "        None\n",
        "    \"\"\"\n",
        "\n",
        "    # Calculer la durée totale\n",
        "    total_time = time.time() - start_time\n",
        "\n",
        "    # Convertir en minutes et secondes\n",
        "    minutes, seconds = divmod(total_time, 60)\n",
        "\n",
        "    # Afficher la durée totale\n",
        "    message = (\n",
        "        \"Durée totale pour faire tourner le notebook : \"\n",
        "        \"{0} minute(s) {1} seconde(s)\"\n",
        "    )\n",
        "    print(message.format(int(minutes), int(seconds)))"
      ]
    },
    {
      "cell_type": "code",
      "execution_count": 94,
      "metadata": {
        "id": "LUWeOXBH07F0"
      },
      "outputs": [],
      "source": [
        "def affiche_heatmap(y, nom_y):\n",
        "    \"\"\"\n",
        "    Crée un heatmap des labels y.\n",
        "\n",
        "    Parameters:\n",
        "    y (numpy.array): Un array numpy contenant les labels à visualiser.\n",
        "    nom_y (str): Le nom de la variable y.\n",
        "\n",
        "    Returns:\n",
        "    None\n",
        "    \"\"\"\n",
        "    sns.heatmap(y)\n",
        "    plt.title(f'Heatmap \"{nom_y}\"')\n",
        "    plt.xlabel('Catégories')\n",
        "    plt.ylabel('Image')\n",
        "    plt.show()"
      ]
    },
    {
      "cell_type": "code",
      "execution_count": 95,
      "metadata": {
        "id": "hoZepxGp07F0"
      },
      "outputs": [],
      "source": [
        "def pretraitement_image(data, model_type):\n",
        "    \"\"\"\n",
        "    Cette fonction prépare les images pour l'entraînement d'un modèle de\n",
        "    machine learning. Si le modèle est de type VGG-16, un prétraitement\n",
        "    spécifique est appliqué.\n",
        "\n",
        "    Paramètres :\n",
        "    data (DataFrame) : DataFrame contenant les chemins d'accès aux images\n",
        "    model_type (str) : Le type de modèle pour lequel les images sont préparées.\n",
        "        Si 'vgg16', le prétraitement spécifique à VGG-16 est appliqué.\n",
        "\n",
        "    Retourne :\n",
        "    prepared_images_np (ndarray) : Tableau NumPy des images préparées.\n",
        "    \"\"\"\n",
        "\n",
        "    # Initialisation de la liste pour stocker les images préparées\n",
        "    prepared_images = []\n",
        "\n",
        "    # Parcours de chaque chemin d'image dans data\n",
        "    for image_num in range(len(data)):\n",
        "\n",
        "        # Chargement et redimensionnement de l'image en 224 x 224 pixels\n",
        "        img = (load_img(data[image_num], target_size=(224, 224)))\n",
        "\n",
        "        # Conversion de l'image en tableau NumPy\n",
        "        img = img_to_array(img)\n",
        "\n",
        "        # Redimensionnement tableau de l'image pour certifier les 3 dimensions\n",
        "        img = img.reshape((img.shape[0], img.shape[1], img.shape[2]))\n",
        "\n",
        "        # Pré-traitement specifique à VGG-16\n",
        "        if model_type == 'vgg16':\n",
        "            img = preprocess_input(img)\n",
        "        else:\n",
        "            pass\n",
        "\n",
        "        # Ajout de l'image préparée à la liste\n",
        "        prepared_images.append(img)\n",
        "\n",
        "    # Conversion de la liste en tableau NumPy\n",
        "    prepared_images_np = np.array(prepared_images)\n",
        "\n",
        "    return prepared_images_np"
      ]
    },
    {
      "cell_type": "code",
      "execution_count": 96,
      "metadata": {
        "id": "GOSie4K607F0"
      },
      "outputs": [],
      "source": [
        "def creation_modele_mlp(fonction_perte, optimiseur, metric_eval, verbose=0):\n",
        "    \"\"\"\n",
        "    Cette fonction crée et compile un modèle de réseau de neurones à\n",
        "    plusieurs couches (MLP) avec Keras. Le modèle est conçu pour des données\n",
        "    d'entrée de forme (224, 224, 3).\n",
        "\n",
        "    Le modèle a la structure suivante :\n",
        "    - 1 couche d'entrée de forme (224, 224, 3)\n",
        "    - 1 couche Flatten pour aplatir les données d'entrée\n",
        "    - 2 couches Dense avec 10 neurones chacune et 1 fonction d'activation ReLU\n",
        "    - 1 couche Dense avec 7 neurones et une fonction d'activation sigmoid\n",
        "\n",
        "    Le modèle est compilé avec la fonction de perte 'categorical_crossentropy',\n",
        "    l'optimiseur 'rmsprop' et la métrique 'accuracy'.\n",
        "\n",
        "    Paramètres :\n",
        "    fonction_perte (str) : La fonction de perte à utiliser pour la compilation\n",
        "    du modèle.\n",
        "    optimiseur (str) : L'optimiseur à utiliser pour la compilation du modèle.\n",
        "    metric_eval (str) : La métrique à utiliser pour la compilation du modèle.\n",
        "    verbose (int) : Le niveau de détail à afficher pour le modèle. 0 pour\n",
        "    aucune information, 1 pour un résumé du modèle. Par défaut, 0.\n",
        "\n",
        "    Retourne :\n",
        "    Le modèle MLP compilé.\n",
        "    \"\"\"\n",
        "    # Créer le modèle\n",
        "    model_mlp = Sequential()\n",
        "    model_mlp.add(Input(shape=(224, 224, 3)))\n",
        "    model_mlp.add(Flatten())\n",
        "    model_mlp.add(Dense(10, activation='relu'))\n",
        "    model_mlp.add(Dense(10, activation='relu'))\n",
        "    model_mlp.add(Dense(7, activation='sigmoid'))\n",
        "\n",
        "    # Compiler le modèle\n",
        "    model_mlp.compile(\n",
        "        loss=fonction_perte,\n",
        "        optimizer=optimiseur,\n",
        "        metrics=[metric_eval]\n",
        "        )\n",
        "\n",
        "    # Afficher un résumé du modèle si besoin\n",
        "    if verbose == 1:\n",
        "        print(model_mlp.summary())\n",
        "    else:\n",
        "        pass\n",
        "\n",
        "    return model_mlp"
      ]
    },
    {
      "cell_type": "code",
      "execution_count": 97,
      "metadata": {
        "id": "kuh6Txmv07F1"
      },
      "outputs": [],
      "source": [
        "def creation_modele_cnn(fonction_perte, optimiseur, metric_eval, verbose=0):\n",
        "    \"\"\"\n",
        "    Crée un modèle de réseau de neurones convolutif (CNN) pour la\n",
        "    classification d'images.\n",
        "\n",
        "    Le modèle est composé de la manière suivante :\n",
        "    - Une couche de convolution avec 64 filtres de taille (3,3) et une fonction\n",
        "    d'activation ReLU\n",
        "    - Une couche de pooling max avec une taille de pool de (2,2)\n",
        "    - Une couche de flatten pour aplatir les sorties des couches précédentes en\n",
        "    un seul vecteur\n",
        "    - Une couche dense (fully connected) avec 112 neurones et une fonction\n",
        "    d'activation ReLU\n",
        "    - Une couche de sortie avec 7 neurones et une fonction d'activation\n",
        "    sigmoïde\n",
        "\n",
        "    Le modèle est compilé avec la fonction de perte, l'optimiseur et la\n",
        "    métrique spécifiés par les paramètres de la fonction.\n",
        "\n",
        "    Paramètres :\n",
        "    fonction_perte (str) : La fonction de perte à utiliser pour la compilation\n",
        "    du modèle.\n",
        "    optimiseur (str) : L'optimiseur à utiliser pour la compilation du modèle.\n",
        "    metric_eval (str) : La métrique à utiliser pour la compilation du modèle.\n",
        "    verbose (int) : Le niveau de détail à afficher pour le modèle. 0 pour\n",
        "    aucune information, 1 pour un résumé du modèle. Par défaut, 0.\n",
        "\n",
        "    Retourne :\n",
        "    Le modèle CNN créé et compilé.\n",
        "    \"\"\"\n",
        "    # Créer le modèle\n",
        "    model_cnn = Sequential()\n",
        "    model_cnn.add(\n",
        "        Conv2D(64, (3, 3), activation='relu', input_shape=(224, 224, 3)))\n",
        "    model_cnn.add(MaxPooling2D(pool_size=(2, 2)))\n",
        "    model_cnn.add(Flatten())\n",
        "    model_cnn.add(Dense(112, activation='relu'))\n",
        "    model_cnn.add(Dense(7, activation='sigmoid'))\n",
        "\n",
        "    # Compiler le modèle\n",
        "    model_cnn.compile(\n",
        "        loss=fonction_perte,\n",
        "        optimizer=optimiseur,\n",
        "        metrics=[metric_eval]\n",
        "    )\n",
        "\n",
        "    # Afficher un résumé du modèle si besoin\n",
        "    if verbose == 1:\n",
        "        print(model_cnn.summary())\n",
        "    else:\n",
        "        pass\n",
        "\n",
        "    return model_cnn"
      ]
    },
    {
      "cell_type": "code",
      "execution_count": 98,
      "metadata": {
        "id": "h7fBWNoL07F1"
      },
      "outputs": [],
      "source": [
        "def creation_modele_transfer_vgg16():\n",
        "    \"\"\"\n",
        "    Crée un modèle de classification d'images basé sur le modèle pré-entraîné\n",
        "    VGG16. Le modèle VGG16 est utilisé comme extracteur de caractéristiques,\n",
        "    et de nouvelles couches sont ajoutées pour la classification.\n",
        "\n",
        "    Les poids du modèle VGG16 sont initialisés avec les poids appris sur\n",
        "    ImageNet et ne sont pas mis à jour pendant l'entraînement.\n",
        "\n",
        "    Le nouveau modèle est compilé avec la perte de cross-entropie catégorielle,\n",
        "    l'optimiseur RMSprop et la précision comme métrique.\n",
        "\n",
        "    Retourne:\n",
        "        model: Le modèle créé.\n",
        "    \"\"\"\n",
        "    # Récupération du modèle pré-entraîné VGG16 sans les couches supérieures\n",
        "    model0 = VGG16(\n",
        "        include_top=False,\n",
        "        weights=\"imagenet\",\n",
        "        input_shape=(224, 224, 3)\n",
        "        )\n",
        "\n",
        "    # Rendre les couches du modèle VGG16 non entraînables\n",
        "    for layer in model0.layers:\n",
        "        layer.trainable = False\n",
        "\n",
        "    # Récupérer la sortie du modèle VGG16\n",
        "    x = model0.output\n",
        "\n",
        "    # Completer model : vecteur 1D / ReLU / desactive moitié / softmax 7 cate\n",
        "    x = GlobalAveragePooling2D()(x)\n",
        "    x = Dense(256, activation='relu')(x)\n",
        "    x = Dropout(0.5)(x)\n",
        "    predictions = Dense(7, activation='softmax')(x)\n",
        "\n",
        "    # Créer le nouveau modèle\n",
        "    model = Model(inputs=model0.input, outputs=predictions)\n",
        "\n",
        "    # Compiler le modèle : perte a minimiser / optimiseur / métrique evaluation\n",
        "    model.compile(\n",
        "        loss=\"categorical_crossentropy\",\n",
        "        optimizer='rmsprop',\n",
        "        metrics=[\"accuracy\"]\n",
        "        )\n",
        "\n",
        "    # Afficher un résumé du modèle\n",
        "    print(model.summary())\n",
        "\n",
        "    return model"
      ]
    },
    {
      "cell_type": "code",
      "execution_count": 99,
      "metadata": {
        "id": "JpHb5MiE07F1"
      },
      "outputs": [],
      "source": [
        "def creer_callbacks(nom_modele, patience, batch_size, verbose=1):\n",
        "    \"\"\"\n",
        "    Cette fonction crée une liste de callbacks pour l'entraînement d'un modèle\n",
        "    Keras. Les callbacks incluent un checkpoint pour enregistrer les meilleurs\n",
        "    poids du modèle (lorsque val_loss est minimale) et un EarlyStopping pour\n",
        "    arrêter l'entraînement si val_loss ne diminue plus après un certain nombre\n",
        "    d'epochs.\n",
        "\n",
        "    Paramètres :\n",
        "    nom_modele (str) : Le nom du modèle. Utilisé pour nommer le fichier de\n",
        "    poids exporté.\n",
        "    patience (int) : Le nombre d'epochs à attendre avant d'arrêter\n",
        "    batch_size (int) : La taille des batchs à utiliser pour l'entraînement\n",
        "    verbose (int) : Le niveau de verbosité pour les callbacks (initialisé à 1)\n",
        "\n",
        "    Retourne :\n",
        "    callbacks_list (list) : Liste des callbacks à utiliser lors de\n",
        "    l'entraînement du modèle.\n",
        "    chemin_modele_export (str) : Chemin d'exportation du modèle.\n",
        "    \"\"\"\n",
        "    # Définir le chemin d'exportation du modèle\n",
        "    chemin_modele_export = (\n",
        "        f\"./modele_ML/{nom_modele}_batch{batch_size}_best_weights.h5\"\n",
        "    )\n",
        "\n",
        "    # Callback 1 : Enregistrer le meilleur modèle (poids quand val_loss min)\n",
        "    checkpoint = ModelCheckpoint(\n",
        "        chemin_modele_export,\n",
        "        monitor='val_loss',\n",
        "        verbose=verbose,\n",
        "        save_best_only=True,\n",
        "        mode='min'\n",
        "    )\n",
        "\n",
        "    # Callback 2 : stop entrainement si val_loss ne diminue plus apres 3 epochs\n",
        "    es = EarlyStopping(\n",
        "        monitor='val_loss',\n",
        "        mode='min',\n",
        "        verbose=verbose,\n",
        "        patience=patience)\n",
        "\n",
        "    # Assigner les callbacks à une liste\n",
        "    callbacks_list = [checkpoint, es]\n",
        "\n",
        "    return callbacks_list, chemin_modele_export"
      ]
    },
    {
      "cell_type": "code",
      "execution_count": 100,
      "metadata": {
        "id": "sIjpTIaB07F2"
      },
      "outputs": [],
      "source": [
        "def conf_mat_transform_argmax(y_true, y_pred):\n",
        "    \"\"\"\n",
        "    Transforme les labels prédits en utilisant la valeur maximale de chaque\n",
        "    colonne.\n",
        "\n",
        "    Paramètres:\n",
        "    y_true (array-like): Les vrais labels.\n",
        "    y_pred (array-like): Les labels prédits.\n",
        "\n",
        "    Retourne:\n",
        "    y_pred_transform (Series): Les labels prédits transformés.\n",
        "    \"\"\"\n",
        "\n",
        "    # Calculer la matrice de confusion\n",
        "    conf_mat = metrics.confusion_matrix(y_true, y_pred)\n",
        "\n",
        "    # Calcule les correspondances (valeurs max de chaque colonne)\n",
        "    corresp = np.argmax(conf_mat, axis=0)\n",
        "    print(\"\\nCorrespondance des clusters : \", corresp)\n",
        "\n",
        "    # Créer un DataFrame avec les vrais labels et les labels prédits\n",
        "    labels = pd.Series(y_true, name=\"y_true\").to_frame()\n",
        "    labels['y_pred'] = y_pred\n",
        "\n",
        "    # Transformer les labels prédits en utilisant la correspondance\n",
        "    labels['y_pred_transform'] = labels['y_pred'].apply(\n",
        "        lambda x: corresp[x] if x < len(corresp) else x)\n",
        "\n",
        "    # Retourner les labels prédits transformés\n",
        "    return labels['y_pred_transform']"
      ]
    },
    {
      "cell_type": "code",
      "execution_count": 101,
      "metadata": {
        "id": "HJwn3JPW07F3"
      },
      "outputs": [],
      "source": [
        "# class TrainingPlot(Callback):\n",
        "#     \"\"\"\n",
        "#     Cette classe hérite de la classe Callback de Keras et permet de tracer\n",
        "#     l'évolution de la perte et de l'exactitude\n",
        "#     pendant l'entraînement d'un modèle de deep learning.\n",
        "#     \"\"\"\n",
        "\n",
        "#     def on_train_begin(self, logs={}):\n",
        "#         \"\"\"\n",
        "#         Cette fonction est appelée quand l'entraînement commence.\n",
        "#         Elle initialise les listes pour stocker les valeurs de perte et\n",
        "#         d'exactitude, et crée une figure pour le tracé.\n",
        "#         \"\"\"\n",
        "#         self.losses = []\n",
        "#         self.acc = []\n",
        "#         self.val_losses = []\n",
        "#         self.val_acc = []\n",
        "#         self.fig = plt.figure()\n",
        "#         self.logs = []\n",
        "\n",
        "#     def on_epoch_end(self, epoch, logs={}):\n",
        "#         \"\"\"\n",
        "#         Cette fonction est appelée à la fin de chaque époque.\n",
        "#         Elle enregistre les valeurs de perte et d'exactitude de l'époque, et\n",
        "#         met à jour le tracé.\n",
        "#         \"\"\"\n",
        "#         self.logs.append(logs)\n",
        "#         self.losses.append(logs.get('loss'))\n",
        "#         self.acc.append(logs.get('accuracy'))\n",
        "#         self.val_losses.append(logs.get('val_loss'))\n",
        "#         self.val_acc.append(logs.get('val_accuracy'))\n",
        "\n",
        "#         self.fig.clf()\n",
        "#         ax1 = self.fig.add_subplot(121)\n",
        "#         ax2 = self.fig.add_subplot(122)\n",
        "\n",
        "#         # Plot 1 : Loss\n",
        "#         ax1.plot(\n",
        "#             range(1, len(self.losses) + 1),\n",
        "#             self.losses,\n",
        "#             label='Training Loss'\n",
        "#             )\n",
        "#         ax1.plot(\n",
        "#             range(1, len(self.val_losses) + 1),\n",
        "#             self.val_losses,\n",
        "#             label='Validation Loss'\n",
        "#             )\n",
        "#         ax1.set_title('Loss')\n",
        "#         ax1.set_xlabel('Epochs')\n",
        "#         ax1.legend()\n",
        "\n",
        "#         # Plot 2 : Accuracy\n",
        "#         ax2.plot(\n",
        "#             range(1, len(self.acc) + 1),\n",
        "#             self.acc,\n",
        "#             label='Training Accuracy'\n",
        "#             )\n",
        "#         ax2.plot(\n",
        "#             range(1, len(self.val_acc) + 1),\n",
        "#             self.val_acc,\n",
        "#             label='Validation Accuracy'\n",
        "#             )\n",
        "#         ax2.set_title('Accuracy')\n",
        "#         ax2.set_xlabel('Epochs')\n",
        "#         ax2.legend()\n",
        "\n",
        "#         # Forcer l'affichage du graphique\n",
        "#         plt.draw()\n",
        "#         plt.pause(0.01)\n",
        "\n",
        "#         # Afficher le graphique\n",
        "#         plt.show()"
      ]
    },
    {
      "cell_type": "code",
      "execution_count": 102,
      "metadata": {
        "id": "Zr2Wu3mz07F3"
      },
      "outputs": [],
      "source": [
        "def get_available_amd_gpus():\n",
        "    \"\"\"\n",
        "    Cette fonction renvoie une liste des GPU AMD disponibles sur la machine.\n",
        "\n",
        "    Elle utilise la bibliothèque pyopencl pour obtenir une liste des\n",
        "    plateformes disponibles,\n",
        "    puis vérifie chaque plateforme pour voir si elle est fournie par AMD.\n",
        "    Si c'est le cas, elle vérifie chaque device sur la plateforme pour voir\n",
        "    s'il s'agit d'un GPU,\n",
        "    et si c'est le cas, elle l'ajoute à la liste des GPU.\n",
        "\n",
        "    Retourne :\n",
        "        Une liste des objets pyopencl.Device pour les GPU AMD disponibles.\n",
        "    \"\"\"\n",
        "    # Obtenir une liste de toutes les plateformes disponibles\n",
        "    platforms = cl.get_platforms()\n",
        "\n",
        "    # Initialiser une liste vide pour stocker les GPU AMD\n",
        "    gpu_devices = []\n",
        "\n",
        "    # Parcourir chaque plateforme\n",
        "    for platform in platforms:\n",
        "\n",
        "        # Vérifier si la plateforme est fournie par AMD\n",
        "        amd_vendor = 'Advanced Micro Devices, Inc.'\n",
        "        if platform.get_info(cl.platform_info.VENDOR) == amd_vendor:\n",
        "\n",
        "            # Parcourir chaque device sur la plateforme\n",
        "            for device in platform.get_devices():\n",
        "\n",
        "                # Vérifier si le device est un GPU\n",
        "                if device.type == cl.device_type.GPU:\n",
        "\n",
        "                    # Si c'est un GPU, l'ajouter à la liste des GPU\n",
        "                    gpu_devices.append(device)\n",
        "\n",
        "    # Retourner la liste des GPU AMD\n",
        "    return gpu_devices"
      ]
    },
    {
      "cell_type": "code",
      "execution_count": 103,
      "metadata": {
        "id": "q6-W1BV407F3"
      },
      "outputs": [],
      "source": [
        "def matrice_conf_et_rapport(y_val_num, y_val_pred_transform, categories):\n",
        "    \"\"\"\n",
        "    Affiche la matrice de confusion et le rapport de classification pour les\n",
        "    valeurs prédites et réelles.\n",
        "\n",
        "    Paramètres:\n",
        "    y_val_num (array): Les valeurs réelles.\n",
        "    y_val_pred_transform (array): Les valeurs prédites.\n",
        "    categories (list): Les catégories pour les axes de la matrice de confusion.\n",
        "\n",
        "    Retourne:\n",
        "    conf_mat_trans_df (DataFrame): La matrice de confusion.\n",
        "    \"\"\"\n",
        "    # Creer la matrice de confusion\n",
        "    conf_mat = metrics.confusion_matrix(y_val_num, y_val_pred_transform)\n",
        "\n",
        "    # Transformation en dataFrame\n",
        "    conf_mat_trans_df = pd.DataFrame(\n",
        "        conf_mat,\n",
        "        index=[label for label in sorted(categories)],\n",
        "        columns=[label for label in sorted(categories)]\n",
        "        )\n",
        "\n",
        "    # Afficher la matrice de confusion\n",
        "    plt.figure(figsize=(6, 4))\n",
        "    sns.heatmap(conf_mat_trans_df, annot=True, cmap=\"Blues\")\n",
        "    plt.title('Matrice de confusion')\n",
        "    plt.xlabel('Catégories réelles')\n",
        "    plt.ylabel('Catégories prédites')\n",
        "    plt.xticks(rotation=45, ha='right')\n",
        "    plt.show()\n",
        "\n",
        "    # Afficher le rapport de classification\n",
        "    print(metrics.classification_report(\n",
        "        y_val_num,\n",
        "        y_val_pred_transform,\n",
        "        zero_division=1\n",
        "        )\n",
        "        )\n",
        "\n",
        "    return conf_mat_trans_df"
      ]
    },
    {
      "cell_type": "code",
      "execution_count": 104,
      "metadata": {
        "id": "1H4wmGfd07F3"
      },
      "outputs": [],
      "source": [
        "def surligne_meilleur(s):\n",
        "    \"\"\"\n",
        "    Cette fonction met en évidence la valeur maximale pour 'Validation\n",
        "    Accuracy' et la valeur minimale pour 'Temps (sec)' dans une série pandas.\n",
        "\n",
        "    Paramètres :\n",
        "    s (pd.Series) : Une série pandas contenant les données à mettre en avant.\n",
        "\n",
        "    Retourne :\n",
        "    list : Une liste de chaînes de caractères représentant les styles CSS pour\n",
        "    chaque élément de la série. Les valeurs maximales/minimales sont mises en\n",
        "    évidence avec un fond vert.\n",
        "\n",
        "    \"\"\"\n",
        "    # Initialiser is_best avec une série de False\n",
        "    is_best = pd.Series([False] * len(s), index=s.index)\n",
        "\n",
        "    # SI c'est la valeur mon/max, mettre en évidence avec un fond vert\n",
        "    if s.name == 'Validation Accuracy':\n",
        "        is_best = s == s.max()\n",
        "\n",
        "    elif s.name == 'Temps (sec)':\n",
        "        is_best = s == s.min()\n",
        "\n",
        "    else:\n",
        "        pass\n",
        "\n",
        "    return ['background-color: green' if v else '' for v in is_best]"
      ]
    },
    {
      "cell_type": "markdown",
      "metadata": {
        "id": "x_ETjCI107F4"
      },
      "source": [
        "# <span style='background:grey'>Importation des donnees</span>\n",
        "\n",
        "Importation du fichier CSV d'extraction image avec Pandas"
      ]
    },
    {
      "cell_type": "code",
      "execution_count": 105,
      "metadata": {
        "colab": {
          "base_uri": "https://localhost:8080/",
          "height": 460
        },
        "id": "pTtfaMZG07F4",
        "outputId": "04997261-2cd0-4083-f23e-ea3f9373f780"
      },
      "outputs": [
        {
          "output_type": "display_data",
          "data": {
            "text/plain": [
              "                                                  image      product_name  \\\n",
              "0     ./data/source/Images/55b85ea15a1536d46b7190ad6...  Home Furnishing    \n",
              "1     ./data/source/Images/7b72c92c2f6c40268628ec5f1...        Baby Care    \n",
              "2     ./data/source/Images/64d5d4a258243731dc7bbb1ee...        Baby Care    \n",
              "3     ./data/source/Images/d4684dcdc759dd9cdf4150469...  Home Furnishing    \n",
              "4     ./data/source/Images/6325b6870c54cd47be6ebfbff...  Home Furnishing    \n",
              "...                                                 ...               ...   \n",
              "1045  ./data/source/Images/958f54f4c46b53c8a0a9b8167...        Baby Care    \n",
              "1046  ./data/source/Images/fd6cbcc22efb6b761bd564c28...        Baby Care    \n",
              "1047  ./data/source/Images/5912e037d12774bb73a2048f3...        Baby Care    \n",
              "1048  ./data/source/Images/c3edc504d1b4f0ba6224fa53a...        Baby Care    \n",
              "1049  ./data/source/Images/f2f027ad6a6df617c9f125173...        Baby Care    \n",
              "\n",
              "      label  \n",
              "0         4  \n",
              "1         0  \n",
              "2         0  \n",
              "3         4  \n",
              "4         4  \n",
              "...     ...  \n",
              "1045      0  \n",
              "1046      0  \n",
              "1047      0  \n",
              "1048      0  \n",
              "1049      0  \n",
              "\n",
              "[1050 rows x 3 columns]"
            ],
            "text/html": [
              "\n",
              "  <div id=\"df-d5d4b27b-d77b-4341-bf42-d357aab399dc\" class=\"colab-df-container\">\n",
              "    <div>\n",
              "<style scoped>\n",
              "    .dataframe tbody tr th:only-of-type {\n",
              "        vertical-align: middle;\n",
              "    }\n",
              "\n",
              "    .dataframe tbody tr th {\n",
              "        vertical-align: top;\n",
              "    }\n",
              "\n",
              "    .dataframe thead th {\n",
              "        text-align: right;\n",
              "    }\n",
              "</style>\n",
              "<table border=\"1\" class=\"dataframe\">\n",
              "  <thead>\n",
              "    <tr style=\"text-align: right;\">\n",
              "      <th></th>\n",
              "      <th>image</th>\n",
              "      <th>product_name</th>\n",
              "      <th>label</th>\n",
              "    </tr>\n",
              "  </thead>\n",
              "  <tbody>\n",
              "    <tr>\n",
              "      <th>0</th>\n",
              "      <td>./data/source/Images/55b85ea15a1536d46b7190ad6...</td>\n",
              "      <td>Home Furnishing</td>\n",
              "      <td>4</td>\n",
              "    </tr>\n",
              "    <tr>\n",
              "      <th>1</th>\n",
              "      <td>./data/source/Images/7b72c92c2f6c40268628ec5f1...</td>\n",
              "      <td>Baby Care</td>\n",
              "      <td>0</td>\n",
              "    </tr>\n",
              "    <tr>\n",
              "      <th>2</th>\n",
              "      <td>./data/source/Images/64d5d4a258243731dc7bbb1ee...</td>\n",
              "      <td>Baby Care</td>\n",
              "      <td>0</td>\n",
              "    </tr>\n",
              "    <tr>\n",
              "      <th>3</th>\n",
              "      <td>./data/source/Images/d4684dcdc759dd9cdf4150469...</td>\n",
              "      <td>Home Furnishing</td>\n",
              "      <td>4</td>\n",
              "    </tr>\n",
              "    <tr>\n",
              "      <th>4</th>\n",
              "      <td>./data/source/Images/6325b6870c54cd47be6ebfbff...</td>\n",
              "      <td>Home Furnishing</td>\n",
              "      <td>4</td>\n",
              "    </tr>\n",
              "    <tr>\n",
              "      <th>...</th>\n",
              "      <td>...</td>\n",
              "      <td>...</td>\n",
              "      <td>...</td>\n",
              "    </tr>\n",
              "    <tr>\n",
              "      <th>1045</th>\n",
              "      <td>./data/source/Images/958f54f4c46b53c8a0a9b8167...</td>\n",
              "      <td>Baby Care</td>\n",
              "      <td>0</td>\n",
              "    </tr>\n",
              "    <tr>\n",
              "      <th>1046</th>\n",
              "      <td>./data/source/Images/fd6cbcc22efb6b761bd564c28...</td>\n",
              "      <td>Baby Care</td>\n",
              "      <td>0</td>\n",
              "    </tr>\n",
              "    <tr>\n",
              "      <th>1047</th>\n",
              "      <td>./data/source/Images/5912e037d12774bb73a2048f3...</td>\n",
              "      <td>Baby Care</td>\n",
              "      <td>0</td>\n",
              "    </tr>\n",
              "    <tr>\n",
              "      <th>1048</th>\n",
              "      <td>./data/source/Images/c3edc504d1b4f0ba6224fa53a...</td>\n",
              "      <td>Baby Care</td>\n",
              "      <td>0</td>\n",
              "    </tr>\n",
              "    <tr>\n",
              "      <th>1049</th>\n",
              "      <td>./data/source/Images/f2f027ad6a6df617c9f125173...</td>\n",
              "      <td>Baby Care</td>\n",
              "      <td>0</td>\n",
              "    </tr>\n",
              "  </tbody>\n",
              "</table>\n",
              "<p>1050 rows × 3 columns</p>\n",
              "</div>\n",
              "    <div class=\"colab-df-buttons\">\n",
              "\n",
              "  <div class=\"colab-df-container\">\n",
              "    <button class=\"colab-df-convert\" onclick=\"convertToInteractive('df-d5d4b27b-d77b-4341-bf42-d357aab399dc')\"\n",
              "            title=\"Convert this dataframe to an interactive table.\"\n",
              "            style=\"display:none;\">\n",
              "\n",
              "  <svg xmlns=\"http://www.w3.org/2000/svg\" height=\"24px\" viewBox=\"0 -960 960 960\">\n",
              "    <path d=\"M120-120v-720h720v720H120Zm60-500h600v-160H180v160Zm220 220h160v-160H400v160Zm0 220h160v-160H400v160ZM180-400h160v-160H180v160Zm440 0h160v-160H620v160ZM180-180h160v-160H180v160Zm440 0h160v-160H620v160Z\"/>\n",
              "  </svg>\n",
              "    </button>\n",
              "\n",
              "  <style>\n",
              "    .colab-df-container {\n",
              "      display:flex;\n",
              "      gap: 12px;\n",
              "    }\n",
              "\n",
              "    .colab-df-convert {\n",
              "      background-color: #E8F0FE;\n",
              "      border: none;\n",
              "      border-radius: 50%;\n",
              "      cursor: pointer;\n",
              "      display: none;\n",
              "      fill: #1967D2;\n",
              "      height: 32px;\n",
              "      padding: 0 0 0 0;\n",
              "      width: 32px;\n",
              "    }\n",
              "\n",
              "    .colab-df-convert:hover {\n",
              "      background-color: #E2EBFA;\n",
              "      box-shadow: 0px 1px 2px rgba(60, 64, 67, 0.3), 0px 1px 3px 1px rgba(60, 64, 67, 0.15);\n",
              "      fill: #174EA6;\n",
              "    }\n",
              "\n",
              "    .colab-df-buttons div {\n",
              "      margin-bottom: 4px;\n",
              "    }\n",
              "\n",
              "    [theme=dark] .colab-df-convert {\n",
              "      background-color: #3B4455;\n",
              "      fill: #D2E3FC;\n",
              "    }\n",
              "\n",
              "    [theme=dark] .colab-df-convert:hover {\n",
              "      background-color: #434B5C;\n",
              "      box-shadow: 0px 1px 3px 1px rgba(0, 0, 0, 0.15);\n",
              "      filter: drop-shadow(0px 1px 2px rgba(0, 0, 0, 0.3));\n",
              "      fill: #FFFFFF;\n",
              "    }\n",
              "  </style>\n",
              "\n",
              "    <script>\n",
              "      const buttonEl =\n",
              "        document.querySelector('#df-d5d4b27b-d77b-4341-bf42-d357aab399dc button.colab-df-convert');\n",
              "      buttonEl.style.display =\n",
              "        google.colab.kernel.accessAllowed ? 'block' : 'none';\n",
              "\n",
              "      async function convertToInteractive(key) {\n",
              "        const element = document.querySelector('#df-d5d4b27b-d77b-4341-bf42-d357aab399dc');\n",
              "        const dataTable =\n",
              "          await google.colab.kernel.invokeFunction('convertToInteractive',\n",
              "                                                    [key], {});\n",
              "        if (!dataTable) return;\n",
              "\n",
              "        const docLinkHtml = 'Like what you see? Visit the ' +\n",
              "          '<a target=\"_blank\" href=https://colab.research.google.com/notebooks/data_table.ipynb>data table notebook</a>'\n",
              "          + ' to learn more about interactive tables.';\n",
              "        element.innerHTML = '';\n",
              "        dataTable['output_type'] = 'display_data';\n",
              "        await google.colab.output.renderOutput(dataTable, element);\n",
              "        const docLink = document.createElement('div');\n",
              "        docLink.innerHTML = docLinkHtml;\n",
              "        element.appendChild(docLink);\n",
              "      }\n",
              "    </script>\n",
              "  </div>\n",
              "\n",
              "\n",
              "<div id=\"df-120387eb-e730-487a-8485-7807e8f39257\">\n",
              "  <button class=\"colab-df-quickchart\" onclick=\"quickchart('df-120387eb-e730-487a-8485-7807e8f39257')\"\n",
              "            title=\"Suggest charts\"\n",
              "            style=\"display:none;\">\n",
              "\n",
              "<svg xmlns=\"http://www.w3.org/2000/svg\" height=\"24px\"viewBox=\"0 0 24 24\"\n",
              "     width=\"24px\">\n",
              "    <g>\n",
              "        <path d=\"M19 3H5c-1.1 0-2 .9-2 2v14c0 1.1.9 2 2 2h14c1.1 0 2-.9 2-2V5c0-1.1-.9-2-2-2zM9 17H7v-7h2v7zm4 0h-2V7h2v10zm4 0h-2v-4h2v4z\"/>\n",
              "    </g>\n",
              "</svg>\n",
              "  </button>\n",
              "\n",
              "<style>\n",
              "  .colab-df-quickchart {\n",
              "      --bg-color: #E8F0FE;\n",
              "      --fill-color: #1967D2;\n",
              "      --hover-bg-color: #E2EBFA;\n",
              "      --hover-fill-color: #174EA6;\n",
              "      --disabled-fill-color: #AAA;\n",
              "      --disabled-bg-color: #DDD;\n",
              "  }\n",
              "\n",
              "  [theme=dark] .colab-df-quickchart {\n",
              "      --bg-color: #3B4455;\n",
              "      --fill-color: #D2E3FC;\n",
              "      --hover-bg-color: #434B5C;\n",
              "      --hover-fill-color: #FFFFFF;\n",
              "      --disabled-bg-color: #3B4455;\n",
              "      --disabled-fill-color: #666;\n",
              "  }\n",
              "\n",
              "  .colab-df-quickchart {\n",
              "    background-color: var(--bg-color);\n",
              "    border: none;\n",
              "    border-radius: 50%;\n",
              "    cursor: pointer;\n",
              "    display: none;\n",
              "    fill: var(--fill-color);\n",
              "    height: 32px;\n",
              "    padding: 0;\n",
              "    width: 32px;\n",
              "  }\n",
              "\n",
              "  .colab-df-quickchart:hover {\n",
              "    background-color: var(--hover-bg-color);\n",
              "    box-shadow: 0 1px 2px rgba(60, 64, 67, 0.3), 0 1px 3px 1px rgba(60, 64, 67, 0.15);\n",
              "    fill: var(--button-hover-fill-color);\n",
              "  }\n",
              "\n",
              "  .colab-df-quickchart-complete:disabled,\n",
              "  .colab-df-quickchart-complete:disabled:hover {\n",
              "    background-color: var(--disabled-bg-color);\n",
              "    fill: var(--disabled-fill-color);\n",
              "    box-shadow: none;\n",
              "  }\n",
              "\n",
              "  .colab-df-spinner {\n",
              "    border: 2px solid var(--fill-color);\n",
              "    border-color: transparent;\n",
              "    border-bottom-color: var(--fill-color);\n",
              "    animation:\n",
              "      spin 1s steps(1) infinite;\n",
              "  }\n",
              "\n",
              "  @keyframes spin {\n",
              "    0% {\n",
              "      border-color: transparent;\n",
              "      border-bottom-color: var(--fill-color);\n",
              "      border-left-color: var(--fill-color);\n",
              "    }\n",
              "    20% {\n",
              "      border-color: transparent;\n",
              "      border-left-color: var(--fill-color);\n",
              "      border-top-color: var(--fill-color);\n",
              "    }\n",
              "    30% {\n",
              "      border-color: transparent;\n",
              "      border-left-color: var(--fill-color);\n",
              "      border-top-color: var(--fill-color);\n",
              "      border-right-color: var(--fill-color);\n",
              "    }\n",
              "    40% {\n",
              "      border-color: transparent;\n",
              "      border-right-color: var(--fill-color);\n",
              "      border-top-color: var(--fill-color);\n",
              "    }\n",
              "    60% {\n",
              "      border-color: transparent;\n",
              "      border-right-color: var(--fill-color);\n",
              "    }\n",
              "    80% {\n",
              "      border-color: transparent;\n",
              "      border-right-color: var(--fill-color);\n",
              "      border-bottom-color: var(--fill-color);\n",
              "    }\n",
              "    90% {\n",
              "      border-color: transparent;\n",
              "      border-bottom-color: var(--fill-color);\n",
              "    }\n",
              "  }\n",
              "</style>\n",
              "\n",
              "  <script>\n",
              "    async function quickchart(key) {\n",
              "      const quickchartButtonEl =\n",
              "        document.querySelector('#' + key + ' button');\n",
              "      quickchartButtonEl.disabled = true;  // To prevent multiple clicks.\n",
              "      quickchartButtonEl.classList.add('colab-df-spinner');\n",
              "      try {\n",
              "        const charts = await google.colab.kernel.invokeFunction(\n",
              "            'suggestCharts', [key], {});\n",
              "      } catch (error) {\n",
              "        console.error('Error during call to suggestCharts:', error);\n",
              "      }\n",
              "      quickchartButtonEl.classList.remove('colab-df-spinner');\n",
              "      quickchartButtonEl.classList.add('colab-df-quickchart-complete');\n",
              "    }\n",
              "    (() => {\n",
              "      let quickchartButtonEl =\n",
              "        document.querySelector('#df-120387eb-e730-487a-8485-7807e8f39257 button');\n",
              "      quickchartButtonEl.style.display =\n",
              "        google.colab.kernel.accessAllowed ? 'block' : 'none';\n",
              "    })();\n",
              "  </script>\n",
              "</div>\n",
              "    </div>\n",
              "  </div>\n"
            ]
          },
          "metadata": {}
        },
        {
          "output_type": "stream",
          "name": "stderr",
          "text": [
            "INFO:pycodestyle:8:80: E501 line too long (80 > 79 characters)\n",
            "INFO:pycodestyle:9:1: W293 blank line contains whitespace\n"
          ]
        }
      ],
      "source": [
        "# Vérifier si le code est exécuté dans Google Colab\n",
        "is_google_colab = 'COLAB_GPU' in os.environ\n",
        "print(\"Execution in Google Colab : \", is_google_colab, \"\\n\")\n",
        "\n",
        "# Definir le chemin d'import des fichiers sur Google Colab ou PC local\n",
        "if is_google_colab:\n",
        "    dossier_import = \"/content/drive/MyDrive/Colab Notebooks/data/cleaned\"\n",
        "    dossier_image = \"/content/drive/MyDrive/Colab Notebooks/data/source/Images/\"\n",
        "\n",
        "else:\n",
        "    dossier_import = \"./data/cleaned/\"\n",
        "\n",
        "# Nom et chemin du fichier\n",
        "nom_fichier = \"extraction_feature_image.csv\"\n",
        "chemin_fichier_import = os.path.join(dossier_import, nom_fichier)\n",
        "\n",
        "# Initialiser un dictionnaire vide et display de la liste des fichiers importe\n",
        "df_image = pd.read_csv(chemin_fichier_import, sep=\"\\t\", encoding=\"utf-8\")\n",
        "print(f\"===> fichier '{nom_fichier}' importé: <====\\n\")\n",
        "\n",
        "# Aperçu du dataframe\n",
        "display(df_image)"
      ]
    },
    {
      "cell_type": "markdown",
      "metadata": {
        "id": "Uoh1cGhC07F4"
      },
      "source": [
        "Nous récupérons bien le fichier CSV d'extraction image contenant les informations sur les 1_050 images du dataset :\n",
        "- le chemin de l'image (nom du fichier inclus)\n",
        "- le texte de la catégorie de l'image\n",
        "- le label numérique de la catégorie de l'image"
      ]
    },
    {
      "cell_type": "markdown",
      "source": [
        "Si le notebook est exécuté sur Google Colab, modifier le chemin des images"
      ],
      "metadata": {
        "id": "rm4Aqj2XfLq8"
      }
    },
    {
      "cell_type": "code",
      "source": [
        "if is_google_colab:\n",
        "\n",
        "    # Remplacer le chemin d'accès dans la colonne 'image'\n",
        "    df_image['image'] = df_image['image'].str.replace(\n",
        "        r'^./data/source/Images/',\n",
        "        '/content/drive/MyDrive/Colab Notebooks/data/source/Images/',\n",
        "        regex=True\n",
        "    )\n",
        "\n",
        "    # Aperçu du dataframe\n",
        "    display(df_image)\n",
        "\n",
        "else:\n",
        "    pass"
      ],
      "metadata": {
        "colab": {
          "base_uri": "https://localhost:8080/",
          "height": 424
        },
        "id": "rYWU3uZcfET3",
        "outputId": "6c6957f3-eedf-496d-e716-595087adc42b"
      },
      "execution_count": 106,
      "outputs": [
        {
          "output_type": "display_data",
          "data": {
            "text/plain": [
              "                                                  image      product_name  \\\n",
              "0     /content/drive/MyDrive/Colab Notebooks/data/so...  Home Furnishing    \n",
              "1     /content/drive/MyDrive/Colab Notebooks/data/so...        Baby Care    \n",
              "2     /content/drive/MyDrive/Colab Notebooks/data/so...        Baby Care    \n",
              "3     /content/drive/MyDrive/Colab Notebooks/data/so...  Home Furnishing    \n",
              "4     /content/drive/MyDrive/Colab Notebooks/data/so...  Home Furnishing    \n",
              "...                                                 ...               ...   \n",
              "1045  /content/drive/MyDrive/Colab Notebooks/data/so...        Baby Care    \n",
              "1046  /content/drive/MyDrive/Colab Notebooks/data/so...        Baby Care    \n",
              "1047  /content/drive/MyDrive/Colab Notebooks/data/so...        Baby Care    \n",
              "1048  /content/drive/MyDrive/Colab Notebooks/data/so...        Baby Care    \n",
              "1049  /content/drive/MyDrive/Colab Notebooks/data/so...        Baby Care    \n",
              "\n",
              "      label  \n",
              "0         4  \n",
              "1         0  \n",
              "2         0  \n",
              "3         4  \n",
              "4         4  \n",
              "...     ...  \n",
              "1045      0  \n",
              "1046      0  \n",
              "1047      0  \n",
              "1048      0  \n",
              "1049      0  \n",
              "\n",
              "[1050 rows x 3 columns]"
            ],
            "text/html": [
              "\n",
              "  <div id=\"df-ebbf42ef-e710-4a11-8c35-df51ebadfb68\" class=\"colab-df-container\">\n",
              "    <div>\n",
              "<style scoped>\n",
              "    .dataframe tbody tr th:only-of-type {\n",
              "        vertical-align: middle;\n",
              "    }\n",
              "\n",
              "    .dataframe tbody tr th {\n",
              "        vertical-align: top;\n",
              "    }\n",
              "\n",
              "    .dataframe thead th {\n",
              "        text-align: right;\n",
              "    }\n",
              "</style>\n",
              "<table border=\"1\" class=\"dataframe\">\n",
              "  <thead>\n",
              "    <tr style=\"text-align: right;\">\n",
              "      <th></th>\n",
              "      <th>image</th>\n",
              "      <th>product_name</th>\n",
              "      <th>label</th>\n",
              "    </tr>\n",
              "  </thead>\n",
              "  <tbody>\n",
              "    <tr>\n",
              "      <th>0</th>\n",
              "      <td>/content/drive/MyDrive/Colab Notebooks/data/so...</td>\n",
              "      <td>Home Furnishing</td>\n",
              "      <td>4</td>\n",
              "    </tr>\n",
              "    <tr>\n",
              "      <th>1</th>\n",
              "      <td>/content/drive/MyDrive/Colab Notebooks/data/so...</td>\n",
              "      <td>Baby Care</td>\n",
              "      <td>0</td>\n",
              "    </tr>\n",
              "    <tr>\n",
              "      <th>2</th>\n",
              "      <td>/content/drive/MyDrive/Colab Notebooks/data/so...</td>\n",
              "      <td>Baby Care</td>\n",
              "      <td>0</td>\n",
              "    </tr>\n",
              "    <tr>\n",
              "      <th>3</th>\n",
              "      <td>/content/drive/MyDrive/Colab Notebooks/data/so...</td>\n",
              "      <td>Home Furnishing</td>\n",
              "      <td>4</td>\n",
              "    </tr>\n",
              "    <tr>\n",
              "      <th>4</th>\n",
              "      <td>/content/drive/MyDrive/Colab Notebooks/data/so...</td>\n",
              "      <td>Home Furnishing</td>\n",
              "      <td>4</td>\n",
              "    </tr>\n",
              "    <tr>\n",
              "      <th>...</th>\n",
              "      <td>...</td>\n",
              "      <td>...</td>\n",
              "      <td>...</td>\n",
              "    </tr>\n",
              "    <tr>\n",
              "      <th>1045</th>\n",
              "      <td>/content/drive/MyDrive/Colab Notebooks/data/so...</td>\n",
              "      <td>Baby Care</td>\n",
              "      <td>0</td>\n",
              "    </tr>\n",
              "    <tr>\n",
              "      <th>1046</th>\n",
              "      <td>/content/drive/MyDrive/Colab Notebooks/data/so...</td>\n",
              "      <td>Baby Care</td>\n",
              "      <td>0</td>\n",
              "    </tr>\n",
              "    <tr>\n",
              "      <th>1047</th>\n",
              "      <td>/content/drive/MyDrive/Colab Notebooks/data/so...</td>\n",
              "      <td>Baby Care</td>\n",
              "      <td>0</td>\n",
              "    </tr>\n",
              "    <tr>\n",
              "      <th>1048</th>\n",
              "      <td>/content/drive/MyDrive/Colab Notebooks/data/so...</td>\n",
              "      <td>Baby Care</td>\n",
              "      <td>0</td>\n",
              "    </tr>\n",
              "    <tr>\n",
              "      <th>1049</th>\n",
              "      <td>/content/drive/MyDrive/Colab Notebooks/data/so...</td>\n",
              "      <td>Baby Care</td>\n",
              "      <td>0</td>\n",
              "    </tr>\n",
              "  </tbody>\n",
              "</table>\n",
              "<p>1050 rows × 3 columns</p>\n",
              "</div>\n",
              "    <div class=\"colab-df-buttons\">\n",
              "\n",
              "  <div class=\"colab-df-container\">\n",
              "    <button class=\"colab-df-convert\" onclick=\"convertToInteractive('df-ebbf42ef-e710-4a11-8c35-df51ebadfb68')\"\n",
              "            title=\"Convert this dataframe to an interactive table.\"\n",
              "            style=\"display:none;\">\n",
              "\n",
              "  <svg xmlns=\"http://www.w3.org/2000/svg\" height=\"24px\" viewBox=\"0 -960 960 960\">\n",
              "    <path d=\"M120-120v-720h720v720H120Zm60-500h600v-160H180v160Zm220 220h160v-160H400v160Zm0 220h160v-160H400v160ZM180-400h160v-160H180v160Zm440 0h160v-160H620v160ZM180-180h160v-160H180v160Zm440 0h160v-160H620v160Z\"/>\n",
              "  </svg>\n",
              "    </button>\n",
              "\n",
              "  <style>\n",
              "    .colab-df-container {\n",
              "      display:flex;\n",
              "      gap: 12px;\n",
              "    }\n",
              "\n",
              "    .colab-df-convert {\n",
              "      background-color: #E8F0FE;\n",
              "      border: none;\n",
              "      border-radius: 50%;\n",
              "      cursor: pointer;\n",
              "      display: none;\n",
              "      fill: #1967D2;\n",
              "      height: 32px;\n",
              "      padding: 0 0 0 0;\n",
              "      width: 32px;\n",
              "    }\n",
              "\n",
              "    .colab-df-convert:hover {\n",
              "      background-color: #E2EBFA;\n",
              "      box-shadow: 0px 1px 2px rgba(60, 64, 67, 0.3), 0px 1px 3px 1px rgba(60, 64, 67, 0.15);\n",
              "      fill: #174EA6;\n",
              "    }\n",
              "\n",
              "    .colab-df-buttons div {\n",
              "      margin-bottom: 4px;\n",
              "    }\n",
              "\n",
              "    [theme=dark] .colab-df-convert {\n",
              "      background-color: #3B4455;\n",
              "      fill: #D2E3FC;\n",
              "    }\n",
              "\n",
              "    [theme=dark] .colab-df-convert:hover {\n",
              "      background-color: #434B5C;\n",
              "      box-shadow: 0px 1px 3px 1px rgba(0, 0, 0, 0.15);\n",
              "      filter: drop-shadow(0px 1px 2px rgba(0, 0, 0, 0.3));\n",
              "      fill: #FFFFFF;\n",
              "    }\n",
              "  </style>\n",
              "\n",
              "    <script>\n",
              "      const buttonEl =\n",
              "        document.querySelector('#df-ebbf42ef-e710-4a11-8c35-df51ebadfb68 button.colab-df-convert');\n",
              "      buttonEl.style.display =\n",
              "        google.colab.kernel.accessAllowed ? 'block' : 'none';\n",
              "\n",
              "      async function convertToInteractive(key) {\n",
              "        const element = document.querySelector('#df-ebbf42ef-e710-4a11-8c35-df51ebadfb68');\n",
              "        const dataTable =\n",
              "          await google.colab.kernel.invokeFunction('convertToInteractive',\n",
              "                                                    [key], {});\n",
              "        if (!dataTable) return;\n",
              "\n",
              "        const docLinkHtml = 'Like what you see? Visit the ' +\n",
              "          '<a target=\"_blank\" href=https://colab.research.google.com/notebooks/data_table.ipynb>data table notebook</a>'\n",
              "          + ' to learn more about interactive tables.';\n",
              "        element.innerHTML = '';\n",
              "        dataTable['output_type'] = 'display_data';\n",
              "        await google.colab.output.renderOutput(dataTable, element);\n",
              "        const docLink = document.createElement('div');\n",
              "        docLink.innerHTML = docLinkHtml;\n",
              "        element.appendChild(docLink);\n",
              "      }\n",
              "    </script>\n",
              "  </div>\n",
              "\n",
              "\n",
              "<div id=\"df-b6e43985-a3b9-4d3a-811e-46efb6b05541\">\n",
              "  <button class=\"colab-df-quickchart\" onclick=\"quickchart('df-b6e43985-a3b9-4d3a-811e-46efb6b05541')\"\n",
              "            title=\"Suggest charts\"\n",
              "            style=\"display:none;\">\n",
              "\n",
              "<svg xmlns=\"http://www.w3.org/2000/svg\" height=\"24px\"viewBox=\"0 0 24 24\"\n",
              "     width=\"24px\">\n",
              "    <g>\n",
              "        <path d=\"M19 3H5c-1.1 0-2 .9-2 2v14c0 1.1.9 2 2 2h14c1.1 0 2-.9 2-2V5c0-1.1-.9-2-2-2zM9 17H7v-7h2v7zm4 0h-2V7h2v10zm4 0h-2v-4h2v4z\"/>\n",
              "    </g>\n",
              "</svg>\n",
              "  </button>\n",
              "\n",
              "<style>\n",
              "  .colab-df-quickchart {\n",
              "      --bg-color: #E8F0FE;\n",
              "      --fill-color: #1967D2;\n",
              "      --hover-bg-color: #E2EBFA;\n",
              "      --hover-fill-color: #174EA6;\n",
              "      --disabled-fill-color: #AAA;\n",
              "      --disabled-bg-color: #DDD;\n",
              "  }\n",
              "\n",
              "  [theme=dark] .colab-df-quickchart {\n",
              "      --bg-color: #3B4455;\n",
              "      --fill-color: #D2E3FC;\n",
              "      --hover-bg-color: #434B5C;\n",
              "      --hover-fill-color: #FFFFFF;\n",
              "      --disabled-bg-color: #3B4455;\n",
              "      --disabled-fill-color: #666;\n",
              "  }\n",
              "\n",
              "  .colab-df-quickchart {\n",
              "    background-color: var(--bg-color);\n",
              "    border: none;\n",
              "    border-radius: 50%;\n",
              "    cursor: pointer;\n",
              "    display: none;\n",
              "    fill: var(--fill-color);\n",
              "    height: 32px;\n",
              "    padding: 0;\n",
              "    width: 32px;\n",
              "  }\n",
              "\n",
              "  .colab-df-quickchart:hover {\n",
              "    background-color: var(--hover-bg-color);\n",
              "    box-shadow: 0 1px 2px rgba(60, 64, 67, 0.3), 0 1px 3px 1px rgba(60, 64, 67, 0.15);\n",
              "    fill: var(--button-hover-fill-color);\n",
              "  }\n",
              "\n",
              "  .colab-df-quickchart-complete:disabled,\n",
              "  .colab-df-quickchart-complete:disabled:hover {\n",
              "    background-color: var(--disabled-bg-color);\n",
              "    fill: var(--disabled-fill-color);\n",
              "    box-shadow: none;\n",
              "  }\n",
              "\n",
              "  .colab-df-spinner {\n",
              "    border: 2px solid var(--fill-color);\n",
              "    border-color: transparent;\n",
              "    border-bottom-color: var(--fill-color);\n",
              "    animation:\n",
              "      spin 1s steps(1) infinite;\n",
              "  }\n",
              "\n",
              "  @keyframes spin {\n",
              "    0% {\n",
              "      border-color: transparent;\n",
              "      border-bottom-color: var(--fill-color);\n",
              "      border-left-color: var(--fill-color);\n",
              "    }\n",
              "    20% {\n",
              "      border-color: transparent;\n",
              "      border-left-color: var(--fill-color);\n",
              "      border-top-color: var(--fill-color);\n",
              "    }\n",
              "    30% {\n",
              "      border-color: transparent;\n",
              "      border-left-color: var(--fill-color);\n",
              "      border-top-color: var(--fill-color);\n",
              "      border-right-color: var(--fill-color);\n",
              "    }\n",
              "    40% {\n",
              "      border-color: transparent;\n",
              "      border-right-color: var(--fill-color);\n",
              "      border-top-color: var(--fill-color);\n",
              "    }\n",
              "    60% {\n",
              "      border-color: transparent;\n",
              "      border-right-color: var(--fill-color);\n",
              "    }\n",
              "    80% {\n",
              "      border-color: transparent;\n",
              "      border-right-color: var(--fill-color);\n",
              "      border-bottom-color: var(--fill-color);\n",
              "    }\n",
              "    90% {\n",
              "      border-color: transparent;\n",
              "      border-bottom-color: var(--fill-color);\n",
              "    }\n",
              "  }\n",
              "</style>\n",
              "\n",
              "  <script>\n",
              "    async function quickchart(key) {\n",
              "      const quickchartButtonEl =\n",
              "        document.querySelector('#' + key + ' button');\n",
              "      quickchartButtonEl.disabled = true;  // To prevent multiple clicks.\n",
              "      quickchartButtonEl.classList.add('colab-df-spinner');\n",
              "      try {\n",
              "        const charts = await google.colab.kernel.invokeFunction(\n",
              "            'suggestCharts', [key], {});\n",
              "      } catch (error) {\n",
              "        console.error('Error during call to suggestCharts:', error);\n",
              "      }\n",
              "      quickchartButtonEl.classList.remove('colab-df-spinner');\n",
              "      quickchartButtonEl.classList.add('colab-df-quickchart-complete');\n",
              "    }\n",
              "    (() => {\n",
              "      let quickchartButtonEl =\n",
              "        document.querySelector('#df-b6e43985-a3b9-4d3a-811e-46efb6b05541 button');\n",
              "      quickchartButtonEl.style.display =\n",
              "        google.colab.kernel.accessAllowed ? 'block' : 'none';\n",
              "    })();\n",
              "  </script>\n",
              "</div>\n",
              "    </div>\n",
              "  </div>\n"
            ]
          },
          "metadata": {}
        }
      ]
    },
    {
      "cell_type": "markdown",
      "metadata": {
        "id": "M4xFuxgQ07F4"
      },
      "source": [
        "# <span style='background:blue'>Etape 1 : Structuration du travail</span>\n",
        "\n",
        "## <span style='background:green'>1/ Elaboration de modèle</span>\n",
        "\n",
        "Pour répondre au besoin métier de l'entreprise **\"Flipkart\"** qui souhaite\n",
        "lancer une marketplace e-commerce, nous avons décidé de mettre en place une\n",
        "**classification supervisée** à partir des images du dataset qu'ils nous ont\n",
        "fourni.\n",
        "Nous avons donc un dataset d'images avec des labels connus. Nous allons donc\n",
        "pouvoir entraîner un modèle de machine learning à partir de ce dataset d'images\n",
        "labellisées.\n",
        "\n",
        "Dans un premier temps, nous utiliserons un modèle de perceptron multicouche\n",
        "(**MLP**) comme <u>modèle de référence</u>.\n",
        "\n",
        "Dans un second temps, nous utiliserons un modèle de réseau de neurones\n",
        "convolutif (**CNN**) pour comparer ses performances.\n",
        "\n",
        "Dans un troisième temps, nous utiliserons la technique du Transfer Learning.\n",
        "Pour cela, nous utiliserons le modèle pré-entraîné **VGG16**.\n",
        "\n",
        "Enfin, nous utiliserons des techniques de **data augmentation** pour optimiser\n",
        "les performances du modèle qui aura présenté les meilleurs performances pour\n",
        "étudier si ces performances peuvent être encore améliorées.\n",
        "\n",
        "## <span style='background:green'>2/ Eviter le data leakage</span>\n",
        "\n",
        "Nous mettons en place plusieurs directives pour éviter le **data leakage** qui serait préjudiciable à la qualité de notre modèle de machine learning :\n",
        "- **Séparation** du dataset en 3 jeux de données : entrainement, validation et test\n",
        "- **Pas de prétraitement** des données avant la séparation du dataset\n",
        "- **Parallélisation** des prétraitements pour chacun des 3 jeux de données (entrainement, validation et test)\n",
        "- **Ajustement des hyperparamètres** sur le jeu de données d'entrainement et de validation uniquement\n",
        "- **Pas d'entrainement** sur le jeu de données de validation et de test après évaluation des performances du modèle\n",
        "\n",
        "Ces directives nous permettront de garantir que les jeux de données seront utilisés uniquement pour les étapes pour lesquelles ils sont prévus, c'est-à-dire :\n",
        "- le jeu d'entrainement pour l'entrainement\n",
        "- le jeu de validation pour l'ajustement des hyperparamètres\n",
        "- le jeu de test pour l'évaluation des performances du modèle.\n",
        "\n",
        "## <span style='background:green'>3/ informations pour le travail</span>\n",
        "\n",
        "### <span style='background:black'>a/ Nom des catégories</span>\n",
        "\n",
        "Nous isolons le nom des catégories dans une variable \"categories\" pour\n",
        "la suite du notebook."
      ]
    },
    {
      "cell_type": "code",
      "execution_count": 107,
      "metadata": {
        "id": "EiVOh4e807F4"
      },
      "outputs": [],
      "source": [
        "categories = df_image['product_name'].unique()\n",
        "print(categories)"
      ]
    },
    {
      "cell_type": "markdown",
      "metadata": {
        "id": "kGouHaPZ07F5"
      },
      "source": [
        "### <span style='background:black'>b/ disponibilité GPU</span>\n",
        "\n",
        "Nous affichons le nombre de GPU disponibles sur notre machine pour entrainer\n",
        "le modèle."
      ]
    },
    {
      "cell_type": "code",
      "execution_count": 108,
      "metadata": {
        "id": "nv0nFb_207F5"
      },
      "outputs": [],
      "source": [
        "# SI Google Colab ALORS Afficher le TPU\n",
        "if is_google_colab:\n",
        "\n",
        "    # Afficher TPU connecté\n",
        "    try:\n",
        "        tpu = tf.distribute.cluster_resolver.TPUClusterResolver()\n",
        "        print('Running on TPU ', tpu.cluster_spec().as_dict()['worker'])\n",
        "    except ValueError:\n",
        "        raise BaseException('ERROR: Not connected to a TPU runtime')\n",
        "\n",
        "    # Connexion au TPU\n",
        "    tf.config.experimental_connect_to_cluster(tpu)\n",
        "    tf.tpu.experimental.initialize_tpu_system(tpu)\n",
        "    tpu_strategy = tf.distribute.TPUStrategy(tpu)\n",
        "\n",
        "# Afficher les GPU sur le PC en local\n",
        "else:\n",
        "    amd_gpus = get_available_amd_gpus()\n",
        "    print(\"Nombre de GPU disponible(s) : \", len(amd_gpus), \"\\n\")"
      ]
    },
    {
      "cell_type": "markdown",
      "source": [
        "Nous effectuons une itération de 1 million de calcul pour avoir conscience de la rapidité de calcul"
      ],
      "metadata": {
        "id": "scsqVvt0s2Kr"
      }
    },
    {
      "cell_type": "code",
      "source": [
        "# Calculer temps pour 1 million d'itération\n",
        "start_time = time.time()\n",
        "for i in range(1_000_000):\n",
        "    pass\n",
        "end_time = time.time()\n",
        "\n",
        "# Calculez et affichez le temps d'exécution\n",
        "execution_time = end_time - start_time\n",
        "print(f\"Temps pour itération 1 million est {round(execution_time, 3)} sec.\")"
      ],
      "metadata": {
        "id": "lXvZHe6BqeiL"
      },
      "execution_count": 109,
      "outputs": []
    },
    {
      "cell_type": "markdown",
      "metadata": {
        "id": "s2MbYzrX07F5"
      },
      "source": [
        "### <span style='background:black'>c/ Reproductibilité des modèles</span>\n",
        " Pour fixer la reproductibilité des modèles, nous fixons les valeurs des graines aléatoires pour :\n",
        "- python\n",
        "- numpy\n",
        "- tensorflow\n",
        "\n",
        "Cela permet de garantir que les résultats obtenus seront reproductibles à chaque fois que ce code sera exécuté."
      ]
    },
    {
      "cell_type": "code",
      "execution_count": 110,
      "metadata": {
        "id": "uEOMVaHI07F5"
      },
      "outputs": [],
      "source": [
        "# Fixer la graine pour Python Numpy et Tensorflow\n",
        "random.seed(42)\n",
        "np.random.seed(42)\n",
        "tf.random.set_seed(42)"
      ]
    },
    {
      "cell_type": "markdown",
      "metadata": {
        "id": "Ww5REsZU07F5"
      },
      "source": [
        "# <span style='background:blue'>Etape 2 : Séparation des données</span>\n",
        "\n",
        "## <span style='background:green'>1/ Détermination target et features</span>\n",
        "\n",
        "Nous allons réaliser un apprentissage supervisé pour la classification des images.\n",
        "Pour cela, nous devons déterminer la target (valeur à prédire) et les features (paramètres explicatifs de la pédiction) :\n",
        "- Les **features** (X) sont les chemins des images (nom du fichier inclus) puisque ce sont les données contenues dans les images (pixels) qui vont permettre de prédire la catégorie de l'image\n",
        "\n",
        "- La **target** (Y) est la colonne \"label\" puisque c'est la catégorie des images que nous souhaitons prédire"
      ]
    },
    {
      "cell_type": "code",
      "execution_count": 111,
      "metadata": {
        "id": "Cw1HfM9707F5"
      },
      "outputs": [],
      "source": [
        "X = df_image['image'].values\n",
        "y = df_image['label'].values"
      ]
    },
    {
      "cell_type": "markdown",
      "metadata": {
        "id": "zCReuN6o07F6"
      },
      "source": [
        "Nous les affichons pour vérifier leur contenu."
      ]
    },
    {
      "cell_type": "code",
      "execution_count": 112,
      "metadata": {
        "id": "RgFnfWQZ07F6"
      },
      "outputs": [],
      "source": [
        "print(X)"
      ]
    },
    {
      "cell_type": "code",
      "execution_count": 113,
      "metadata": {
        "id": "alYX73SU07F6"
      },
      "outputs": [],
      "source": [
        "print(y)"
      ]
    },
    {
      "cell_type": "markdown",
      "metadata": {
        "id": "uxPaZqYa07F6"
      },
      "source": [
        "## <span style='background:green'>2/ train_test_split</span>\n",
        "\n",
        "Nous divisons les données en 3 jeux de données :\n",
        "- 75% des données pour le **train**\n",
        "- 15% des données pour la **validation**\n",
        "- 15% des données pour le **test**"
      ]
    },
    {
      "cell_type": "code",
      "execution_count": 114,
      "metadata": {
        "id": "uUAihUUH07F6"
      },
      "outputs": [],
      "source": [
        "# Séparation des données (entraînement + validation) / test\n",
        "X_temp, X_test, y_temp, y_test = train_test_split(\n",
        "    X,\n",
        "    y,\n",
        "    test_size=0.15,\n",
        "    random_state=42,\n",
        "    stratify=y\n",
        "    )\n",
        "\n",
        "# Séparation des données entraînement / validation\n",
        "X_train, X_val, y_train, y_val = train_test_split(\n",
        "    X_temp,\n",
        "    y_temp,\n",
        "    test_size=0.176,\n",
        "    random_state=42,\n",
        "    stratify=y_temp\n",
        "    )\n",
        "\n",
        "# Affichage des dimensions des données\n",
        "print(\"X_train shape:\", X_train.shape, \" / y_train shape:\", y_train.shape)\n",
        "print(\"X_val shape:\", X_val.shape, \" / y_val shape:\", y_val.shape)\n",
        "print(\"X_test shape:\", X_test.shape, \" / y_test shape:\", y_test.shape)"
      ]
    },
    {
      "cell_type": "markdown",
      "metadata": {
        "id": "SHp48c8l07F7"
      },
      "source": [
        "# <span style='background:blue'>Etape 3 : Classifieur naïf</span>\n",
        "\n",
        "Nous mettons en place un classifieur naïf comme **modèle de référence** pour comparer ses performances avec celles des autres modèles que nous allons mettre en place.\n",
        "\n",
        "Ce modèle de référence est un **DummyClassifier** qui va prédire la catégorie de l'image en fonction de la catégorie la plus représentée dans le jeu de données d'entrainement."
      ]
    },
    {
      "cell_type": "code",
      "execution_count": 115,
      "metadata": {
        "colab": {
          "base_uri": "https://localhost:8080/",
          "height": 81
        },
        "id": "0Mkogb4t07F7",
        "outputId": "183d7fce-cd2e-4e64-d4b5-bc1ab0d043a3"
      },
      "outputs": [
        {
          "output_type": "display_data",
          "data": {
            "text/plain": [
              "<pandas.io.formats.style.Styler at 0x7ccd90ca9e40>"
            ],
            "text/html": [
              "<style type=\"text/css\">\n",
              "</style>\n",
              "<table id=\"T_89a2a\" class=\"dataframe\">\n",
              "  <thead>\n",
              "    <tr>\n",
              "      <th class=\"blank level0\" >&nbsp;</th>\n",
              "      <th id=\"T_89a2a_level0_col0\" class=\"col_heading level0 col0\" >Validation Accuracy</th>\n",
              "      <th id=\"T_89a2a_level0_col1\" class=\"col_heading level0 col1\" >Temps (sec)</th>\n",
              "    </tr>\n",
              "  </thead>\n",
              "  <tbody>\n",
              "    <tr>\n",
              "      <th id=\"T_89a2a_level0_row0\" class=\"row_heading level0 row0\" >Dummy</th>\n",
              "      <td id=\"T_89a2a_row0_col0\" class=\"data row0 col0\" >0.146497</td>\n",
              "      <td id=\"T_89a2a_row0_col1\" class=\"data row0 col1\" >0.001036</td>\n",
              "    </tr>\n",
              "  </tbody>\n",
              "</table>\n"
            ]
          },
          "metadata": {}
        }
      ],
      "source": [
        "# Créer un DummyClassifier qui prédit toujours la classe la plus fréquente\n",
        "dummy = DummyClassifier(strategy='most_frequent')\n",
        "\n",
        "# Lancer le chronomètre\n",
        "start_time = time.time()\n",
        "\n",
        "# Entraîner le DummyClassifier\n",
        "dummy.fit(X_train, y_train)\n",
        "\n",
        "# Faire des prédictions sur l'ensemble de validation\n",
        "dummy_predictions = dummy.predict(X_val)\n",
        "\n",
        "# Arrêter le chronomètre et calculer le temps d'exécution\n",
        "end_time = time.time()\n",
        "execution_time = end_time - start_time\n",
        "\n",
        "# Calculer l'exactitude du DummyClassifier\n",
        "dummy_accuracy = metrics.accuracy_score(y_val, dummy_predictions)\n",
        "\n",
        "# Créer dataframe pour stocker les résultats et afficher\n",
        "resultat_naif = pd.DataFrame(\n",
        "    data=[[dummy_accuracy, execution_time]],\n",
        "    columns=['Validation Accuracy', 'Temps (sec)'],\n",
        "    index=['Dummy']\n",
        "    )\n",
        "display(resultat_naif.style.apply(surligne_meilleur, axis=1))"
      ]
    },
    {
      "cell_type": "markdown",
      "metadata": {
        "id": "ufB4B2ty07F7"
      },
      "source": [
        "# <span style='background:blue'>Etape 4 : MLP</span>\n",
        "\n",
        "Pour cette classification d'image automatique, nous allons utiliser un\n",
        "**perceptron multicouche** (*MultiLayer Perceptron*, **MLP**)."
      ]
    },
    {
      "cell_type": "markdown",
      "metadata": {
        "id": "RaDxPw8t07F7"
      },
      "source": [
        "## <span style='background:green'>1/ Prétraitement des données</span>\n",
        "\n",
        "### <span style='background:black'>a/ target</span>\n",
        "\n",
        "Le prétraitement de la target consiste à transformer les catégories avec un **OneHotEncoder** pour pouvoir les utiliser dans le modèle de machine learning."
      ]
    },
    {
      "cell_type": "code",
      "execution_count": 116,
      "metadata": {
        "id": "l24o9fV207F7"
      },
      "outputs": [],
      "source": [
        "# OneHotEncoder des target d'entrainement, validation et test\n",
        "y_train_pretraited = to_categorical(y_train)\n",
        "y_val_pretraited = to_categorical(y_val)\n",
        "y_test_pretraited = to_categorical(y_test)"
      ]
    },
    {
      "cell_type": "markdown",
      "metadata": {
        "id": "sTUCoI4x07F7"
      },
      "source": [
        "Nous visualisons les 3 jeux de données pour vérifier que le prétraitement de la\n",
        "target a bien été réalisé."
      ]
    },
    {
      "cell_type": "code",
      "execution_count": 117,
      "metadata": {
        "colab": {
          "base_uri": "https://localhost:8080/",
          "height": 472
        },
        "id": "VcfdlZ9707F7",
        "outputId": "fcbee9f7-3eed-4290-f62b-ff4452b00a92"
      },
      "outputs": [
        {
          "output_type": "display_data",
          "data": {
            "text/plain": [
              "<Figure size 640x480 with 2 Axes>"
            ],
            "image/png": "[encoded data removed]"
          },
          "metadata": {}
        }
      ],
      "source": [
        "affiche_heatmap(y_train_pretraited, \"y_train_pretraited\")"
      ]
    },
    {
      "cell_type": "code",
      "execution_count": 118,
      "metadata": {
        "colab": {
          "base_uri": "https://localhost:8080/",
          "height": 472
        },
        "id": "bJ3L4-1m07F8",
        "outputId": "af130569-977b-468b-f562-1fba33403df1"
      },
      "outputs": [
        {
          "output_type": "display_data",
          "data": {
            "text/plain": [
              "<Figure size 640x480 with 2 Axes>"
            ],
            "image/png": "[encoded data removed]"
          },
          "metadata": {}
        }
      ],
      "source": [
        "affiche_heatmap(y_val_pretraited, \"y_val_pretraited\")"
      ]
    },
    {
      "cell_type": "code",
      "execution_count": 119,
      "metadata": {
        "colab": {
          "base_uri": "https://localhost:8080/",
          "height": 472
        },
        "id": "1vq8wJyc07F8",
        "outputId": "b453b2f9-f600-4d79-a353-8606f1182264"
      },
      "outputs": [
        {
          "output_type": "display_data",
          "data": {
            "text/plain": [
              "<Figure size 640x480 with 2 Axes>"
            ],
            "image/png": "[encoded data removed]"
          },
          "metadata": {}
        }
      ],
      "source": [
        "affiche_heatmap(y_test_pretraited, \"y_test_pretraited\")"
      ]
    },
    {
      "cell_type": "markdown",
      "metadata": {
        "id": "UA9rbenB07F8"
      },
      "source": [
        "### <span style='background:black'>b/ features</span>\n",
        "\n",
        "Le prétraitement des features pour le **MLP** se déroule en plusieurs étapes :\n",
        "- Redimensionnement de l'images en 224 x 224 pixels\n",
        "- Convertion de l'image en tableau NumPy\n",
        "- Certification des dimensions (hauteur, largeur, couleur)"
      ]
    },
    {
      "cell_type": "code",
      "execution_count": 120,
      "metadata": {
        "colab": {
          "base_uri": "https://localhost:8080/",
          "height": 400
        },
        "id": "bhBaSiTr07F8",
        "outputId": "a80e4a79-cfbe-4521-ddbc-842110b38497"
      },
      "outputs": [
        {
          "output_type": "error",
          "ename": "KeyboardInterrupt",
          "evalue": "",
          "traceback": [
            "\u001b[0;31m---------------------------------------------------------------------------\u001b[0m",
            "\u001b[0;31mKeyboardInterrupt\u001b[0m                         Traceback (most recent call last)",
            "\u001b[0;32m<ipython-input-120-80619fb4b19b>\u001b[0m in \u001b[0;36m<cell line: 2>\u001b[0;34m()\u001b[0m\n\u001b[1;32m      1\u001b[0m \u001b[0;31m# Prétraitement jeu entrainement\u001b[0m\u001b[0;34m\u001b[0m\u001b[0;34m\u001b[0m\u001b[0m\n\u001b[0;32m----> 2\u001b[0;31m \u001b[0mX_train_pretraited\u001b[0m \u001b[0;34m=\u001b[0m \u001b[0mpretraitement_image\u001b[0m\u001b[0;34m(\u001b[0m\u001b[0mX_train\u001b[0m\u001b[0;34m,\u001b[0m \u001b[0;34m'mlp'\u001b[0m\u001b[0;34m)\u001b[0m\u001b[0;34m\u001b[0m\u001b[0;34m\u001b[0m\u001b[0m\n\u001b[0m\u001b[1;32m      3\u001b[0m \u001b[0;34m\u001b[0m\u001b[0m\n\u001b[1;32m      4\u001b[0m \u001b[0;31m# Prétraitement jeu validation\u001b[0m\u001b[0;34m\u001b[0m\u001b[0;34m\u001b[0m\u001b[0m\n\u001b[1;32m      5\u001b[0m \u001b[0mX_val_pretraited\u001b[0m \u001b[0;34m=\u001b[0m \u001b[0mpretraitement_image\u001b[0m\u001b[0;34m(\u001b[0m\u001b[0mX_val\u001b[0m\u001b[0;34m,\u001b[0m \u001b[0;34m'mlp'\u001b[0m\u001b[0;34m)\u001b[0m\u001b[0;34m\u001b[0m\u001b[0;34m\u001b[0m\u001b[0m\n",
            "\u001b[0;32m<ipython-input-95-ece151aa31d7>\u001b[0m in \u001b[0;36mpretraitement_image\u001b[0;34m(data, model_type)\u001b[0m\n\u001b[1;32m     21\u001b[0m \u001b[0;34m\u001b[0m\u001b[0m\n\u001b[1;32m     22\u001b[0m         \u001b[0;31m# Chargement et redimensionnement de l'image en 224 x 224 pixels\u001b[0m\u001b[0;34m\u001b[0m\u001b[0;34m\u001b[0m\u001b[0m\n\u001b[0;32m---> 23\u001b[0;31m         \u001b[0mimg\u001b[0m \u001b[0;34m=\u001b[0m \u001b[0;34m(\u001b[0m\u001b[0mload_img\u001b[0m\u001b[0;34m(\u001b[0m\u001b[0mdata\u001b[0m\u001b[0;34m[\u001b[0m\u001b[0mimage_num\u001b[0m\u001b[0;34m]\u001b[0m\u001b[0;34m,\u001b[0m \u001b[0mtarget_size\u001b[0m\u001b[0;34m=\u001b[0m\u001b[0;34m(\u001b[0m\u001b[0;36m224\u001b[0m\u001b[0;34m,\u001b[0m \u001b[0;36m224\u001b[0m\u001b[0;34m)\u001b[0m\u001b[0;34m)\u001b[0m\u001b[0;34m)\u001b[0m\u001b[0;34m\u001b[0m\u001b[0;34m\u001b[0m\u001b[0m\n\u001b[0m\u001b[1;32m     24\u001b[0m \u001b[0;34m\u001b[0m\u001b[0m\n\u001b[1;32m     25\u001b[0m         \u001b[0;31m# Conversion de l'image en tableau NumPy\u001b[0m\u001b[0;34m\u001b[0m\u001b[0;34m\u001b[0m\u001b[0m\n",
            "\u001b[0;32m/usr/local/lib/python3.10/dist-packages/keras/utils/image_utils.py\u001b[0m in \u001b[0;36mload_img\u001b[0;34m(path, grayscale, color_mode, target_size, interpolation, keep_aspect_ratio)\u001b[0m\n\u001b[1;32m    477\u001b[0m                 \u001b[0mimg\u001b[0m \u001b[0;34m=\u001b[0m \u001b[0mimg\u001b[0m\u001b[0;34m.\u001b[0m\u001b[0mresize\u001b[0m\u001b[0;34m(\u001b[0m\u001b[0mwidth_height_tuple\u001b[0m\u001b[0;34m,\u001b[0m \u001b[0mresample\u001b[0m\u001b[0;34m,\u001b[0m \u001b[0mbox\u001b[0m\u001b[0;34m=\u001b[0m\u001b[0mcrop_box\u001b[0m\u001b[0;34m)\u001b[0m\u001b[0;34m\u001b[0m\u001b[0;34m\u001b[0m\u001b[0m\n\u001b[1;32m    478\u001b[0m             \u001b[0;32melse\u001b[0m\u001b[0;34m:\u001b[0m\u001b[0;34m\u001b[0m\u001b[0;34m\u001b[0m\u001b[0m\n\u001b[0;32m--> 479\u001b[0;31m                 \u001b[0mimg\u001b[0m \u001b[0;34m=\u001b[0m \u001b[0mimg\u001b[0m\u001b[0;34m.\u001b[0m\u001b[0mresize\u001b[0m\u001b[0;34m(\u001b[0m\u001b[0mwidth_height_tuple\u001b[0m\u001b[0;34m,\u001b[0m \u001b[0mresample\u001b[0m\u001b[0;34m)\u001b[0m\u001b[0;34m\u001b[0m\u001b[0;34m\u001b[0m\u001b[0m\n\u001b[0m\u001b[1;32m    480\u001b[0m     \u001b[0;32mreturn\u001b[0m \u001b[0mimg\u001b[0m\u001b[0;34m\u001b[0m\u001b[0;34m\u001b[0m\u001b[0m\n",
            "\u001b[0;32m/usr/local/lib/python3.10/dist-packages/PIL/Image.py\u001b[0m in \u001b[0;36mresize\u001b[0;34m(self, size, resample, box, reducing_gap)\u001b[0m\n\u001b[1;32m   2154\u001b[0m         \u001b[0msize\u001b[0m \u001b[0;34m=\u001b[0m \u001b[0mtuple\u001b[0m\u001b[0;34m(\u001b[0m\u001b[0msize\u001b[0m\u001b[0;34m)\u001b[0m\u001b[0;34m\u001b[0m\u001b[0;34m\u001b[0m\u001b[0m\n\u001b[1;32m   2155\u001b[0m \u001b[0;34m\u001b[0m\u001b[0m\n\u001b[0;32m-> 2156\u001b[0;31m         \u001b[0mself\u001b[0m\u001b[0;34m.\u001b[0m\u001b[0mload\u001b[0m\u001b[0;34m(\u001b[0m\u001b[0;34m)\u001b[0m\u001b[0;34m\u001b[0m\u001b[0;34m\u001b[0m\u001b[0m\n\u001b[0m\u001b[1;32m   2157\u001b[0m         \u001b[0;32mif\u001b[0m \u001b[0mbox\u001b[0m \u001b[0;32mis\u001b[0m \u001b[0;32mNone\u001b[0m\u001b[0;34m:\u001b[0m\u001b[0;34m\u001b[0m\u001b[0;34m\u001b[0m\u001b[0m\n\u001b[1;32m   2158\u001b[0m             \u001b[0mbox\u001b[0m \u001b[0;34m=\u001b[0m \u001b[0;34m(\u001b[0m\u001b[0;36m0\u001b[0m\u001b[0;34m,\u001b[0m \u001b[0;36m0\u001b[0m\u001b[0;34m)\u001b[0m \u001b[0;34m+\u001b[0m \u001b[0mself\u001b[0m\u001b[0;34m.\u001b[0m\u001b[0msize\u001b[0m\u001b[0;34m\u001b[0m\u001b[0;34m\u001b[0m\u001b[0m\n",
            "\u001b[0;32m/usr/local/lib/python3.10/dist-packages/PIL/ImageFile.py\u001b[0m in \u001b[0;36mload\u001b[0;34m(self)\u001b[0m\n\u001b[1;32m    267\u001b[0m \u001b[0;34m\u001b[0m\u001b[0m\n\u001b[1;32m    268\u001b[0m                             \u001b[0mb\u001b[0m \u001b[0;34m=\u001b[0m \u001b[0mb\u001b[0m \u001b[0;34m+\u001b[0m \u001b[0ms\u001b[0m\u001b[0;34m\u001b[0m\u001b[0;34m\u001b[0m\u001b[0m\n\u001b[0;32m--> 269\u001b[0;31m                             \u001b[0mn\u001b[0m\u001b[0;34m,\u001b[0m \u001b[0merr_code\u001b[0m \u001b[0;34m=\u001b[0m \u001b[0mdecoder\u001b[0m\u001b[0;34m.\u001b[0m\u001b[0mdecode\u001b[0m\u001b[0;34m(\u001b[0m\u001b[0mb\u001b[0m\u001b[0;34m)\u001b[0m\u001b[0;34m\u001b[0m\u001b[0;34m\u001b[0m\u001b[0m\n\u001b[0m\u001b[1;32m    270\u001b[0m                             \u001b[0;32mif\u001b[0m \u001b[0mn\u001b[0m \u001b[0;34m<\u001b[0m \u001b[0;36m0\u001b[0m\u001b[0;34m:\u001b[0m\u001b[0;34m\u001b[0m\u001b[0;34m\u001b[0m\u001b[0m\n\u001b[1;32m    271\u001b[0m                                 \u001b[0;32mbreak\u001b[0m\u001b[0;34m\u001b[0m\u001b[0;34m\u001b[0m\u001b[0m\n",
            "\u001b[0;31mKeyboardInterrupt\u001b[0m: "
          ]
        }
      ],
      "source": [
        "# Prétraitement jeu entrainement\n",
        "X_train_pretraited = pretraitement_image(X_train, 'mlp')\n",
        "\n",
        "# Prétraitement jeu validation\n",
        "X_val_pretraited = pretraitement_image(X_val, 'mlp')\n",
        "\n",
        "# Prétraitement jeu test\n",
        "X_test_pretraited = pretraitement_image(X_test, 'mlp')"
      ]
    },
    {
      "cell_type": "markdown",
      "metadata": {
        "id": "RU2MHO-Z07F9"
      },
      "source": [
        "Nous vérifions les dimensions des images pour vérifier que le prétraitement des features a bien été réalisé."
      ]
    },
    {
      "cell_type": "code",
      "execution_count": null,
      "metadata": {
        "id": "NT8ZdHP007F9"
      },
      "outputs": [],
      "source": [
        "print(\"X_train_pretraited : \", X_train_pretraited.shape)\n",
        "print(\"X_val_pretraited : \", X_val_pretraited.shape)\n",
        "print(\"X_test_pretraited : \", X_test_pretraited.shape)"
      ]
    },
    {
      "cell_type": "markdown",
      "metadata": {
        "id": "rcUmGQ2V07F9"
      },
      "source": [
        "## <span style='background:green'>2/ Elaboration du modèle</span>\n",
        "\n",
        "### <span style='background:black'>a/ Architecture</span>\n",
        "\n",
        "Le modèle MLP présente la structure suivante :\n",
        "- 1 couche d'entrée de forme (224, 224, 3)\n",
        "- 1 couche Flatten pour aplatir les données d'entrée\n",
        "- 2 couches Dense avec 10 neurones chacune et 1 fonction d'activation ReLU\n",
        "- 1 couche Dense avec 7 neurones et une fonction d'activation sigmoid\n",
        "\n",
        "### <span style='background:black'>b/ Compilation et métrique d'évaluation</span>\n",
        "\n",
        "Le modèle est compilé avec :\n",
        "- la fonction de perte '**categorical_crossentropy**' qui est adaptée à la classification multiclasse où les étiquettes sont codées en OneHotEncoder.\n",
        "\n",
        "- l'optimiseur '**rmsprop**' qui est un algoritme d'optimisation intéressant pour les réseaux de neurones profonds.\n",
        "\n",
        "- la métrique d'évaluation '**accuracy**' qui est une métrique très utilisée pour les problèmes de classification. Elle mesure le pourcentage de prédictions correctes du modèle. Sa principale limite est de présenter une image  trompeuse de la perfomance du modèle si les classes sont déséquilibrées, ce qui n'est pas le cas ici puisque nos 7 classes sont parfaitement équilibrées (150 images par classe)."
      ]
    },
    {
      "cell_type": "code",
      "execution_count": null,
      "metadata": {
        "id": "1YnkqRWF07F9"
      },
      "outputs": [],
      "source": [
        "fonction_perte = 'categorical_crossentropy'\n",
        "optimiseur = 'rmsprop'\n",
        "metric_eval = 'accuracy'"
      ]
    },
    {
      "cell_type": "markdown",
      "metadata": {
        "id": "LHzB9NHu07F9"
      },
      "source": [
        "\n",
        "### <span style='background:black'>c/ Callbacks</span>\n",
        "\n",
        "Les callbacks sont des fonctions qui sont appelées à des moments précis de\n",
        "l'entrainement du modèle pour effectuer des actions spécifiques.\n",
        "\n",
        "Nous créons 2 callbacks :\n",
        "- **ModelCheckpoint** pour sauvegarder le meilleur modèle pendant l'entrainement. Cela permet de conserver les poids du modèle qui a présenté les meilleures performances (perte du jeu de validation la plus petite) même si le modèle commence à se détériorer ou à surapprendre par la suite.\n",
        "\n",
        "- **EarlyStopping** pour arrêter l'entrainement si val_loss (la perte du jeu de validation) ne diminue plus après 3 epochs. Cela permet de gagner du temps d'entrainement et d'éviter de surapprendre le modèle pour avoir une meilleure généralisation."
      ]
    },
    {
      "cell_type": "code",
      "execution_count": null,
      "metadata": {
        "id": "OzqUWfU807F-"
      },
      "outputs": [],
      "source": [
        "# Nombre d'epochs pour la patience\n",
        "patience = 3"
      ]
    },
    {
      "cell_type": "markdown",
      "metadata": {
        "id": "Eb1A-O_907F-"
      },
      "source": [
        "### <span style='background:black'>d/ Indicateur supplémentaire</span>\n",
        "\n",
        "Pour comparer les performances des différents modèles, nous utilisons un indicateur supplémentaire pour améliorer notre prise de décision en mesurant le **temps de calcul nécessaire pour l'entrainement du modèle.** En effet, l'accuracy seule ne suffit pas à déterminer le meilleur modèle, il faut également que celui-ci réalise ses calculs en un minimun de temps.\n",
        "\n",
        "=> Le choix de l'indicateur est donc un compromis entre l'accuracy et le temps de calcul.\n",
        "\n",
        "### <span style='background:black'>e/ Optimisation hyperparamètre</span>\n",
        "\n",
        "Nous déterminons le meilleur modèle en ajustant l'hyperparamètre **batch_size** (nombre d'images utilisées pour chaque mise à jour du modèle) mais on fixant le nombre d'epochs :\n",
        "- epochs = 15\n",
        "- batch_size = 32, 64, 128, 256 et 512"
      ]
    },
    {
      "cell_type": "code",
      "execution_count": null,
      "metadata": {
        "id": "rHAfLmg407F-"
      },
      "outputs": [],
      "source": [
        "# Définir les batch_sizes à tester\n",
        "batch_sizes = [32, 64, 128, 256, 512]\n",
        "\n",
        "# Créer des dictionnaires vides pour stocker l'historique, temps, epochs\n",
        "history_dict, time_dict, epoch_dict = {}, {}, {}\n",
        "\n",
        "# POUR chaque batch_size\n",
        "for batch_size in batch_sizes:\n",
        "    print(\"\\n\", \"=\" * 30, \"batch_size :\", batch_size, \"=\" * 30)\n",
        "\n",
        "    # Utiliser le GPU\n",
        "    with tf.device('/gpu:0'):\n",
        "\n",
        "        # Créer un modèle MLP\n",
        "        model_mlp = creation_modele_mlp(\n",
        "            fonction_perte,\n",
        "            optimiseur,\n",
        "            metric_eval,\n",
        "            )\n",
        "\n",
        "        # Création des callbacks\n",
        "        callbacks_list, chemin_modele_export = creer_callbacks(\n",
        "            \"model_mlp\",\n",
        "            patience,\n",
        "            batch_size\n",
        "            )\n",
        "\n",
        "        # Enregistrer le temps de début\n",
        "        start_time = time.time()\n",
        "\n",
        "        # Entraîner le modèle\n",
        "        history_mlp = model_mlp.fit(\n",
        "            X_train_pretraited,\n",
        "            y_train_pretraited,\n",
        "            epochs=15,\n",
        "            batch_size=batch_size,\n",
        "            callbacks=callbacks_list,\n",
        "            validation_data=(X_val_pretraited, y_val_pretraited),\n",
        "            verbose=0\n",
        "            )\n",
        "\n",
        "        # Enregistrer le temps de fin\n",
        "        end_time = time.time()\n",
        "\n",
        "        # Calculer le temps d'entraînement\n",
        "        training_time = end_time - start_time\n",
        "        print(f\"\\n=> Temps d'entraînement : {round(training_time, 2)} sec <=\")\n",
        "\n",
        "        # Calculer le nombre d'epochs\n",
        "        epochs = len(history_mlp.history['loss'])\n",
        "\n",
        "    # Stocker l'historique, le temps d'entraînement et le nombre d'epochs\n",
        "    history_dict[batch_size] = history_mlp.history\n",
        "    time_dict[batch_size] = training_time\n",
        "    epoch_dict[batch_size] = epochs"
      ]
    },
    {
      "cell_type": "markdown",
      "metadata": {
        "id": "1FLdHgh407F-"
      },
      "source": [
        "Comparons les résultats obtenus pour les différents batch_size :"
      ]
    },
    {
      "cell_type": "code",
      "execution_count": null,
      "metadata": {
        "id": "KTZySJ8407F_"
      },
      "outputs": [],
      "source": [
        "# Créer un DataFrame à partir de l'historique\n",
        "resultat_mlp = pd.DataFrame(\n",
        "    {k: v['val_accuracy'][-1] for k, v in history_dict.items()},\n",
        "    index=[0]\n",
        "    )\n",
        "\n",
        "# Transposer le DataFrame (batch_sizes en index)\n",
        "resultat_mlp = resultat_mlp.transpose()\n",
        "\n",
        "# Renommer la colonne\n",
        "resultat_mlp.columns = ['Validation Accuracy']\n",
        "\n",
        "# Ajouter les temps d'entraînement et nombre d'epoch au DataFrame\n",
        "resultat_mlp['Temps (sec)'] = pd.Series(time_dict)\n",
        "resultat_mlp['Epochs'] = pd.Series(epoch_dict)\n",
        "\n",
        "# Affficher le batch_size avec la meilleure accuracy de validation\n",
        "batch__meilleur_mlp = resultat_mlp['Validation Accuracy'].idxmax()\n",
        "print(f\"\\nMeilleur batch_size (accuracy): {batch__meilleur_mlp}\")\n",
        "\n",
        "# Surligner les meilleures valeurs\n",
        "resultat_mlp.style.apply(surligne_meilleur)"
      ]
    },
    {
      "cell_type": "markdown",
      "metadata": {
        "id": "QmJ6yoru07F_"
      },
      "source": [
        "Les meilleurs performances sont obtenues pour un batch_size de 128 (accuracy de validation la plus grande et temps de calcul le plus faible).\n",
        "\n",
        "Nous choississons donc le batch_size de 128 pour la suite des analyses avec le **MLP**."
      ]
    },
    {
      "cell_type": "markdown",
      "metadata": {
        "id": "YINBadI607F_"
      },
      "source": [
        "## <span style='background:green'>3/ Modèle optimal</span>\n",
        "\n",
        "### <span style='background:black'>a/Création et entrainement</span>\n",
        "\n",
        "Nous entrainons à nouveau le modèle avec le bon batch_size pour obtenir le modèle optimal."
      ]
    },
    {
      "cell_type": "code",
      "execution_count": null,
      "metadata": {
        "id": "ueM4etSM07F_"
      },
      "outputs": [],
      "source": [
        "# Utiliser le GPU\n",
        "with tf.device('/gpu:0'):\n",
        "\n",
        "    # Créer le modèle optimal MLP\n",
        "    model_optimal_mlp = creation_modele_mlp(\n",
        "        fonction_perte,\n",
        "        optimiseur,\n",
        "        metric_eval,\n",
        "    )\n",
        "\n",
        "    # Création des callbacks\n",
        "    callbacks_list, chemin_modele_export = creer_callbacks(\n",
        "        \"model_optimal_mlp\",\n",
        "        patience,\n",
        "        batch_size\n",
        "    )\n",
        "\n",
        "    # Entraîner le modèle avec batch__meilleur_mlp\n",
        "    history_optimal_mlp = model_optimal_mlp.fit(\n",
        "        X_train_pretraited,\n",
        "        y_train_pretraited,\n",
        "        epochs=15,\n",
        "        batch_size=batch__meilleur_mlp,\n",
        "        callbacks=callbacks_list,\n",
        "        validation_data=(X_val_pretraited, y_val_pretraited),\n",
        "        verbose=0\n",
        "    )"
      ]
    },
    {
      "cell_type": "markdown",
      "metadata": {
        "id": "hU9xclvT07F_"
      },
      "source": [
        "### <span style='background:black'>b/ Plot loss et accuracy</span>\n",
        "\n",
        "Nous affichons l'évolution de la perte et de l'accuracy pour le jeu d'entrainement et le jeu de validation au cours des epoch."
      ]
    },
    {
      "cell_type": "code",
      "execution_count": null,
      "metadata": {
        "id": "6heNZtx507GA"
      },
      "outputs": [],
      "source": [
        "# Afficher l'historique de l'entraînement\n",
        "show_history(history_optimal_mlp)\n",
        "\n",
        "# Definir le chemin d'export de la figure\n",
        "dossier_figure = \"./figure/\"\n",
        "nom_figure = f\"history_optimal_mlp_batch{batch__meilleur_mlp}.png\"\n",
        "chemin_figure_export = os.path.join(dossier_figure, nom_figure)\n",
        "\n",
        "# Sauvegarder l'historique de l'entraînement\n",
        "plot_history(history_optimal_mlp, path=chemin_figure_export)\n",
        "plt.close()"
      ]
    },
    {
      "cell_type": "markdown",
      "metadata": {
        "id": "PFgfah4v07GA"
      },
      "source": [
        "Nous remarquons que le modèle présente une perte de validation faible (0,14), ce qui est un bon indicateur de la qualité du modèle. En revanche, nous remarquons que l'accuracy de validation est très faible (< 0,2).\n",
        "\n",
        "Ce modèle présente présente un **surapprentissage** important puisqu'il a appris \"par coeur\" les données d'entrainement mais il n'est pas capable de généraliser sur les données de validation."
      ]
    },
    {
      "cell_type": "markdown",
      "metadata": {
        "id": "SVr0BrAe07GA"
      },
      "source": [
        "### <span style='background:black'>c/ Comparatif des accuracy</span>\n",
        "\n",
        "Nous comparons les accuracy du modèle optimal (MLP) avec les poids du meilleur modèle pour les 3 jeux de données (entrainement, validation et test)."
      ]
    },
    {
      "cell_type": "code",
      "execution_count": null,
      "metadata": {
        "id": "5aM2T6EZ07GA"
      },
      "outputs": [],
      "source": [
        "# Charger les poids du meilleur modèle\n",
        "model_optimal_mlp.load_weights(chemin_modele_export)\n",
        "\n",
        "# Evaluation meilleur modèle sur les données d'entraînement\n",
        "loss_mlp_train, accuracy_mlp_train = model_optimal_mlp.evaluate(\n",
        "    X_train_pretraited,\n",
        "    y_train_pretraited\n",
        ")\n",
        "print(\"Training Accuracy   :  {:.3f}\".format(accuracy_mlp_train))\n",
        "\n",
        "# Evaluation meilleur modèle sur les données de validation\n",
        "loss_mlp_val, accuracy_mlp_val = model_optimal_mlp.evaluate(\n",
        "    X_val_pretraited,\n",
        "    y_val_pretraited\n",
        ")\n",
        "print(\"Validation Accuracy :  {:.3f}\".format(accuracy_mlp_val))\n",
        "\n",
        "# Evaluation meilleur modèle sur les données de test\n",
        "loss_mlp_test, accuracy_mlp_test = model_optimal_mlp.evaluate(\n",
        "    X_test_pretraited,\n",
        "    y_test_pretraited\n",
        ")\n",
        "print(\"Test Accuracy       :  {:.3f}\".format(accuracy_mlp_test))"
      ]
    },
    {
      "cell_type": "markdown",
      "metadata": {
        "id": "x7EmTXnB07GA"
      },
      "source": [
        "Les 3 accuracy sont proches mais faibles (< 0,15)."
      ]
    },
    {
      "cell_type": "markdown",
      "metadata": {
        "id": "yqFfMK5407GB"
      },
      "source": [
        "### <span style='background:black'>d/ Matrice de confusion</span>\n",
        "\n",
        "Nous affichons les valeurs réelles et celles prédites par le modèle optimal pour les données de validation."
      ]
    },
    {
      "cell_type": "code",
      "execution_count": null,
      "metadata": {
        "id": "rPAC0usd07GB"
      },
      "outputs": [],
      "source": [
        "# Categorie réelle et prédites des images de validation\n",
        "y_val_num = np.argmax(y_val_pretraited, axis=1)\n",
        "y_val_pred = np.argmax(model_optimal_mlp.predict(X_val_pretraited), axis=1)\n",
        "\n",
        "# Afficher les 30 premières catégories réelles et prédites\n",
        "print(\"Categorie reelle : \", y_val_num[:30], \"\\n\")\n",
        "print(\"Categorie prédite : \", y_val_pred[:30])"
      ]
    },
    {
      "cell_type": "markdown",
      "metadata": {
        "id": "7T_Sn6g207GC"
      },
      "source": [
        "Il semblerait que le modèle optimal MLP n'a fait que prédire une seule catégorie pour toutes les images de validation."
      ]
    },
    {
      "cell_type": "code",
      "execution_count": null,
      "metadata": {
        "id": "G-vAxqZa07GC"
      },
      "outputs": [],
      "source": [
        "# Créer un DataFrame à partir de y_val_pred\n",
        "y_val_pred_df = pd.DataFrame(y_val_pred, columns=['categorie_predite'])\n",
        "\n",
        "# Obtenir le nombre de chaque valeur unique\n",
        "unique_counts = y_val_pred_df['categorie_predite'].value_counts()\n",
        "\n",
        "# Obtenir le pourcentage de chaque valeur unique\n",
        "unique_percentages = y_val_pred_df['categorie_predite'].value_counts(\n",
        "    normalize=True) * 100\n",
        "\n",
        "# Créer un DataFrame pour afficher les résultats\n",
        "result = pd.DataFrame({\n",
        "    'Nombre': unique_counts,\n",
        "    'Pourcentage': unique_percentages\n",
        "})\n",
        "\n",
        "# Afficher les résultats\n",
        "display(result)\n",
        "print(f\"La seul categorie predite est : {categories[unique_counts.index[0]]}\")"
      ]
    },
    {
      "cell_type": "markdown",
      "metadata": {
        "id": "k02pgvqG07GC"
      },
      "source": [
        "Nous confirmons les résultats en affichant la matrice de confusion et le rapport de classification."
      ]
    },
    {
      "cell_type": "code",
      "execution_count": null,
      "metadata": {
        "id": "gsEaZdBX07GC"
      },
      "outputs": [],
      "source": [
        "# Verifier la correspondance des clusters\n",
        "y_val_pred_transform = conf_mat_transform_argmax(y_val_num, y_val_pred)\n",
        "\n",
        "# Afficher la matrice de confusion et le rapport de classification\n",
        "conf_mat_mlp = matrice_conf_et_rapport(\n",
        "    y_val_num,\n",
        "    y_val_pred_transform,\n",
        "    categories\n",
        "    )"
      ]
    },
    {
      "cell_type": "markdown",
      "metadata": {
        "id": "PJitjad307GC"
      },
      "source": [
        "Le modèle optimal MLP presente un f-score < 0,16."
      ]
    },
    {
      "cell_type": "markdown",
      "metadata": {
        "id": "tnv9iazn07GC"
      },
      "source": [
        "<div class=\"alert alert-block alert-info\"><b>Bilan: </b> <br>\n",
        "Le modèle optimal MLP présente des performances très faibles qui sont équivalentes à un classifieur naïf en ne prédisant qu'une seule catégorie. </div>"
      ]
    },
    {
      "cell_type": "markdown",
      "metadata": {
        "id": "kuMAxrU507GC"
      },
      "source": [
        "# <span style='background:blue'>Etape 5 : CNN</span>\n",
        "\n",
        "Pour cette classification d'image automatique, nous allons utiliser un Convolutionnal Neural Network (**CNN**)."
      ]
    },
    {
      "cell_type": "markdown",
      "metadata": {
        "id": "GTyAIE9j07GC"
      },
      "source": [
        "## <span style='background:green'>1/ Prétraitement des données</span>\n",
        "\n",
        "### <span style='background:black'>a/ target</span>\n",
        "\n",
        "Nous utilisons le même prétraitement de la target que précedemment. Pour rappel, il consiste à transformer les catégories avec un **OneHotEncoder** pour pouvoir les utiliser dans le modèle de machine learning."
      ]
    },
    {
      "cell_type": "markdown",
      "metadata": {
        "id": "dusFP2bd07GD"
      },
      "source": [
        "### <span style='background:black'>b/ features</span>\n",
        "\n",
        "Nous utilisons le même prétraitement des features que précedemment. Pour rappel, il se déroule en plusieurs étapes :\n",
        "- Redimensionnement de l'images en 224 x 224 pixels\n",
        "- Convertion de l'image en tableau NumPy\n",
        "- Certification des dimensions (hauteur, largeur, couleur)"
      ]
    },
    {
      "cell_type": "markdown",
      "metadata": {
        "id": "8cFmyg-207GD"
      },
      "source": [
        "## <span style='background:green'>2/ Elaboration du modèle</span>\n",
        "\n",
        "### <span style='background:black'>a/ Architecture</span>\n",
        "\n",
        "Le modèle CNN présente la structure suivante :\n",
        "- 1 couche de convolution avec 64 filtres de taille 3 x 3 et une fonction d'activation ReLU\n",
        "- 1 couche de pooling avec un filtre de taille 2 x 2\n",
        "- 1 couche de flatten pour applatir les sorties des couches précédentes en un vecteur\n",
        "- 1 couche dense avec 112 neurones et une fonction d'activation ReLU\n",
        "- 1 couche de sortie avec 7 neurones et une fonction d'activation softmax\n",
        "\n",
        "### <span style='background:black'>b/ Compilation et métrique d'évaluation</span>\n",
        "\n",
        "Le modèle est compilé avec les mêmes paramètres que précedemment, à savoir :\n",
        "- la fonction de perte '**categorical_crossentropy**'\n",
        "\n",
        "- l'optimiseur '**rmsprop**'\n",
        "\n",
        "- la métrique d'évaluation '**accuracy**'"
      ]
    },
    {
      "cell_type": "markdown",
      "metadata": {
        "id": "4yktAKro07GD"
      },
      "source": [
        "### <span style='background:black'>c/ Callbacks</span>\n",
        "\n",
        "Nous utilisons les mêmes callbacks que précedemment, à savoir :\n",
        "\n",
        "- **ModelCheckpoint** pour sauvegarder le meilleur modèle pendant l'entrainement.\n",
        "\n",
        "- **EarlyStopping** pour arrêter l'entrainement si val_loss (la perte du jeu de validation) ne diminue plus après 3 epochs."
      ]
    },
    {
      "cell_type": "markdown",
      "metadata": {
        "id": "a7ceHsMv07GD"
      },
      "source": [
        "### <span style='background:black'>d/ Indicateur supplémentaire</span>\n",
        "\n",
        "Nous utilisons le même indicateur supplémentaire que précedemment, à savoir le **temps de calcul**.\n",
        "\n",
        "### <span style='background:black'>e/ Optimisation hyperparamètre</span>\n",
        "\n",
        "Nous utilisont les mêmes paramètres que précedemment, à savoir :\n",
        "- epochs = 15\n",
        "- batch_size = 32, 64, 128, 256 et 512"
      ]
    },
    {
      "cell_type": "code",
      "execution_count": null,
      "metadata": {
        "id": "XKtJfIjd07GD"
      },
      "outputs": [],
      "source": [
        "# Créer des dictionnaires vides pour stocker l'historique, temps, epochs\n",
        "history_dict, time_dict, epoch_dict = {}, {}, {}\n",
        "\n",
        "# POUR chaque batch_size\n",
        "for batch_size in batch_sizes:\n",
        "    print(\"\\n\", \"=\" * 30, \"batch_size :\", batch_size, \"=\" * 30)\n",
        "\n",
        "    # Utiliser le GPU\n",
        "    with tf.device('/gpu:0'):\n",
        "\n",
        "        # Créer un modèle CNN\n",
        "        model_cnn = creation_modele_cnn(\n",
        "            fonction_perte,\n",
        "            optimiseur,\n",
        "            metric_eval,\n",
        "            )\n",
        "\n",
        "        # Création des callbacks\n",
        "        callbacks_list, chemin_modele_export = creer_callbacks(\n",
        "            \"model_cnn\",\n",
        "            patience,\n",
        "            batch_size\n",
        "            )\n",
        "\n",
        "        # Enregistrer le temps de début\n",
        "        start_time = time.time()\n",
        "\n",
        "        # Entraîner le modèle\n",
        "        history_cnn = model_cnn.fit(\n",
        "            X_train_pretraited,\n",
        "            y_train_pretraited,\n",
        "            epochs=15,\n",
        "            batch_size=batch_size,\n",
        "            callbacks=callbacks_list,\n",
        "            validation_data=(X_val_pretraited, y_val_pretraited),\n",
        "            verbose=1\n",
        "            )\n",
        "\n",
        "        # Enregistrer le temps de fin\n",
        "        end_time = time.time()\n",
        "\n",
        "        # Calculer le temps d'entraînement\n",
        "        training_time = end_time - start_time\n",
        "        print(f\"\\n=> Temps d'entraînement : {round(training_time, 2)} sec <=\")\n",
        "\n",
        "        # Calculer le nombre d'epochs\n",
        "        epochs = len(history_cnn.history['loss'])\n",
        "\n",
        "    # Stocker l'historique, le temps d'entraînement et le nombre d'epochs\n",
        "    history_dict[batch_size] = history_cnn.history\n",
        "    time_dict[batch_size] = training_time\n",
        "    epoch_dict[batch_size] = epochs"
      ]
    },
    {
      "cell_type": "markdown",
      "metadata": {
        "id": "L-eLF6ao07GE"
      },
      "source": [
        "Comparons les résultats obtenus pour les différents batch_size :"
      ]
    },
    {
      "cell_type": "code",
      "execution_count": null,
      "metadata": {
        "id": "2pu5HyDN07GE"
      },
      "outputs": [],
      "source": [
        "# Créer un DataFrame à partir de l'historique\n",
        "resultat_cnn = pd.DataFrame(\n",
        "    {k: v['val_accuracy'][-1] for k, v in history_dict.items()},\n",
        "    index=[0]\n",
        "    )\n",
        "\n",
        "# Transposer le DataFrame (batch_sizes en index)\n",
        "resultat_cnn = resultat_cnn.transpose()\n",
        "\n",
        "# Renommer la colonne\n",
        "resultat_cnn.columns = ['Validation Accuracy']\n",
        "\n",
        "# Ajouter les temps d'entraînement et nombre d'epoch au DataFrame\n",
        "resultat_cnn['Temps (sec)'] = pd.Series(time_dict)\n",
        "resultat_cnn['Epochs'] = pd.Series(epoch_dict)\n",
        "\n",
        "# Affficher le batch_size avec la meilleure accuracy de validation\n",
        "batch__meilleur_cnn = resultat_cnn['Validation Accuracy'].idxmax()\n",
        "print(f\"\\nMeilleur batch_size (accuracy): {batch__meilleur_cnn}\")\n",
        "\n",
        "# Surligner les meilleures valeurs\n",
        "resultat_cnn.style.apply(surligne_meilleur)"
      ]
    },
    {
      "cell_type": "markdown",
      "metadata": {
        "id": "NO74ZYVM07GL"
      },
      "source": [
        "### <span style='background:red'>bilan a faire</span>"
      ]
    },
    {
      "cell_type": "markdown",
      "metadata": {
        "id": "V8oJGJaa07GL"
      },
      "source": [
        "## <span style='background:green'>3/ Modèle optimal</span>\n",
        "\n",
        "### <span style='background:black'>a/Création et entrainement</span>\n",
        "\n",
        "Nous entrainons à nouveau le modèle avec le bon batch_size pour obtenir le modèle optimal."
      ]
    },
    {
      "cell_type": "code",
      "execution_count": null,
      "metadata": {
        "id": "cpR7ghKS07GL"
      },
      "outputs": [],
      "source": [
        "# Utiliser le GPU\n",
        "with tf.device('/gpu:0'):\n",
        "\n",
        "    # Créer le modèle optimal CNN\n",
        "    model_optimal_cnn = creation_modele_cnn(\n",
        "        fonction_perte,\n",
        "        optimiseur,\n",
        "        metric_eval,\n",
        "    )\n",
        "\n",
        "    # Création des callbacks\n",
        "    callbacks_list, chemin_modele_export = creer_callbacks(\n",
        "        \"model_optimal_cnn\",\n",
        "        patience,\n",
        "        batch_size\n",
        "    )\n",
        "\n",
        "    # Entraîner le modèle avec batch__meilleur_cnn\n",
        "    history_optimal_cnn = model_optimal_cnn.fit(\n",
        "        X_train_pretraited,\n",
        "        y_train_pretraited,\n",
        "        epochs=15,\n",
        "        batch_size=batch__meilleur_cnn,\n",
        "        callbacks=callbacks_list,\n",
        "        validation_data=(X_val_pretraited, y_val_pretraited),\n",
        "        verbose=1\n",
        "    )"
      ]
    },
    {
      "cell_type": "markdown",
      "metadata": {
        "id": "fQTVLs3W07GL"
      },
      "source": [
        "### <span style='background:black'>b/ Plot loss et accuracy</span>\n",
        "\n",
        "Nous affichons l'évolution de la perte et de l'accuracy pour le jeu d'entrainement et le jeu de validation au cours des epoch."
      ]
    },
    {
      "cell_type": "code",
      "execution_count": null,
      "metadata": {
        "id": "8Ax3vHK707GL"
      },
      "outputs": [],
      "source": [
        "# Afficher l'historique de l'entraînement\n",
        "show_history(history_optimal_cnn)\n",
        "\n",
        "# Definir le chemin d'export de la figure\n",
        "dossier_figure = \"./figure/\"\n",
        "nom_figure = f\"history_optimal_cnn_batch{batch__meilleur_cnn}.png\"\n",
        "chemin_figure_export = os.path.join(dossier_figure, nom_figure)\n",
        "\n",
        "# Sauvegarder l'historique de l'entraînement\n",
        "plot_history(history_optimal_cnn, path=chemin_figure_export)\n",
        "plt.close()"
      ]
    },
    {
      "cell_type": "markdown",
      "metadata": {
        "id": "qX59lDyU07GM"
      },
      "source": [
        "### <span style='background:red'>bilan a faire</span>"
      ]
    },
    {
      "cell_type": "markdown",
      "metadata": {
        "id": "kHMpKrrm07GM"
      },
      "source": [
        "### <span style='background:black'>c/ Comparatif des accuracy</span>\n",
        "\n",
        "Nous comparons les accuracy du modèle optimal (CNN) avec les poids du meilleur modèle pour les 3 jeux de données (entrainement, validation et test)."
      ]
    },
    {
      "cell_type": "code",
      "execution_count": null,
      "metadata": {
        "id": "BnWztT7P07GM"
      },
      "outputs": [],
      "source": [
        "# Charger les poids du meilleur modèle\n",
        "model_optimal_cnn.load_weights(chemin_modele_export)\n",
        "\n",
        "# Evaluation meilleur modèle sur les données d'entraînement\n",
        "loss_cnn_train, accuracy_cnn_train = model_optimal_cnn.evaluate(\n",
        "    X_train_pretraited,\n",
        "    y_train_pretraited\n",
        ")\n",
        "print(\"Training Accuracy   :  {:.3f}\".format(accuracy_cnn_train))\n",
        "\n",
        "# Evaluation meilleur modèle sur les données de validation\n",
        "loss_cnn_val, accuracy_cnn_val = model_optimal_cnn.evaluate(\n",
        "    X_val_pretraited,\n",
        "    y_val_pretraited\n",
        ")\n",
        "print(\"Validation Accuracy :  {:.3f}\".format(accuracy_cnn_val))\n",
        "\n",
        "# Evaluation meilleur modèle sur les données de test\n",
        "loss_cnn_test, accuracy_cnn_test = model_optimal_cnn.evaluate(\n",
        "    X_test_pretraited,\n",
        "    y_test_pretraited\n",
        ")\n",
        "print(\"Test Accuracy       :  {:.3f}\".format(accuracy_cnn_test))"
      ]
    },
    {
      "cell_type": "markdown",
      "metadata": {
        "id": "syf2nC5x07GM"
      },
      "source": [
        "### <span style='background:red'>bilan a faire</span>"
      ]
    },
    {
      "cell_type": "markdown",
      "metadata": {
        "id": "ndYxgZua07GM"
      },
      "source": [
        "### <span style='background:black'>d/ Matrice de confusion</span>\n",
        "\n",
        "Nous affichons les valeurs réelles et celles prédites par le modèle optimal pour les données de validation."
      ]
    },
    {
      "cell_type": "code",
      "execution_count": null,
      "metadata": {
        "id": "RtEvC8B_07GM"
      },
      "outputs": [],
      "source": [
        "# Categories prédites des images de validation\n",
        "y_val_pred = np.argmax(model_optimal_mlp.predict(X_val_pretraited), axis=1)\n",
        "\n",
        "# Afficher les 30 premières catégories réelles et prédites\n",
        "print(\"Categorie reelle : \", y_val_num[:30], \"\\n\")\n",
        "print(\"Categorie prédite : \", y_val_pred[:30])"
      ]
    },
    {
      "cell_type": "markdown",
      "metadata": {
        "id": "Ov7riQZq07GN"
      },
      "source": [
        "Nous confirmons les résultats en affichant la matrice de confusion et le rapport de classification."
      ]
    },
    {
      "cell_type": "code",
      "execution_count": null,
      "metadata": {
        "id": "aynIiA2507GN"
      },
      "outputs": [],
      "source": [
        "# Verifier la correspondance des clusters\n",
        "y_val_pred_transform = conf_mat_transform_argmax(y_val_num, y_val_pred)\n",
        "\n",
        "# Afficher la matrice de confusion et le rapport de classification\n",
        "conf_mat_cnn = matrice_conf_et_rapport(\n",
        "    y_val_num,\n",
        "    y_val_pred_transform,\n",
        "    categories\n",
        "    )"
      ]
    },
    {
      "cell_type": "markdown",
      "metadata": {
        "id": "LToKt6ZE07GO"
      },
      "source": [
        "### <span style='background:red'>bilan a faire</span>"
      ]
    },
    {
      "cell_type": "markdown",
      "metadata": {
        "id": "LMPgFUyX07GO"
      },
      "source": [
        "<div class=\"alert alert-block alert-info\"><b>Bilan: </b> <br>\n",
        "Le modèle optimal CNN présente des performances ... </div>"
      ]
    },
    {
      "cell_type": "markdown",
      "metadata": {
        "id": "--Vw2uOs07GO"
      },
      "source": [
        "# <span style='background:blue'>Etape 6 : CNN + Transfer learning VGG-16</span>\n",
        "\n",
        "Pour cette classification d'image automatique, nous allons utiliser un **réseau de neurones convolutionnels** (*Convolutional Neural Network*, **CNN**). Nous le couplons avec la technique du **transfer learning** pour utiliser le modèle pré-entrainé **VGG-16**.\n",
        "\n",
        "Le modèle VGG-16 a été entrainé sur un jeu de données ImageNet de plus d'1 million d'images."
      ]
    },
    {
      "cell_type": "markdown",
      "metadata": {
        "id": "e-7X4mG507GO"
      },
      "source": [
        "## <span style='background:green'>1/ Prétraitement des données</span>\n",
        "\n",
        "### <span style='background:black'>a/ target</span>\n",
        "\n",
        "Nous utilisons le même prétraitement de la target que précedemment. Pour rappel, il consiste à transformer les catégories avec un **OneHotEncoder** pour pouvoir les utiliser dans le modèle de machine learning."
      ]
    },
    {
      "cell_type": "markdown",
      "metadata": {
        "id": "PhK_iMgM07GP"
      },
      "source": [
        "### <span style='background:black'>b/ features</span>\n",
        "\n",
        "Le prétraitement des features pour le **VGG16** se déroule en plusieurs étapes :\n",
        "- Redimensionnement de l'images en 224 x 224 pixels\n",
        "- Convertion de l'image en tableau NumPy\n",
        "- Certification des dimensions (hauteur, largeur, couleur)\n",
        "- Normaliser les pixels de l'image pour VGG16 :\n",
        "  - Mettre à l'echelle entre -1 et 1 (soustraire valeur moyenne des\n",
        "    des pixels sur le canaux RGB du jeu de données ImageNet)\n",
        "  - inverser les canaux RGB en BGR"
      ]
    },
    {
      "cell_type": "code",
      "execution_count": null,
      "metadata": {
        "id": "e3T-TSvQ07GP"
      },
      "outputs": [],
      "source": [
        "# Prétraitement jeu entrainement\n",
        "X_train_pretraited = pretraitement_image(X_train, 'vgg16')\n",
        "\n",
        "# Prétraitement jeu validation\n",
        "X_val_pretraited = pretraitement_image(X_val, 'vgg16')\n",
        "\n",
        "# Prétraitement jeu test\n",
        "X_test_pretraited = pretraitement_image(X_test, 'vgg16')"
      ]
    },
    {
      "cell_type": "markdown",
      "metadata": {
        "id": "NXGfutzH07GP"
      },
      "source": [
        "Nous vérifions les dimensions des images pour vérifier que le prétraitement des features a bien été réalisé."
      ]
    },
    {
      "cell_type": "code",
      "execution_count": null,
      "metadata": {
        "id": "CruxqxeX07GP"
      },
      "outputs": [],
      "source": [
        "print(\"X_train_pretraited : \", X_train_pretraited.shape)\n",
        "print(\"X_val_pretraited : \", X_val_pretraited.shape)\n",
        "print(\"X_test_pretraited : \", X_test_pretraited.shape)"
      ]
    },
    {
      "cell_type": "markdown",
      "metadata": {
        "id": "hk3WMpXt07GP"
      },
      "source": [
        "## <span style='background:green'>2/ Elaboration du modèle</span>\n",
        "\n",
        "### <span style='background:black'>a/ Architecture</span>\n",
        "\n",
        "Le modèle VGG16 est composé de 16 couches de convolution et de 3 couches fully connected. Il classe les images (224 x 224 pixels) en 1000 catégories différentes.\n",
        "\n",
        "Nous créons un modèle de classification d'images CNN en réalisant un **transfer learning** à partir du modèle VGG16. Ce dernier est importé **sans** les 3 couches fully connected. Les **poids** du modèle sont initialisés\n",
        "avec les poids du modèle entrainé sur ImageNet.\n",
        "\n",
        "Le modèle de transfer learning VGG16 est utilisé comme extracteur de caractéristiques, et 4 nouvelles couches sont ajoutées à sa sortie :\n",
        "- 1 couche de **GlobalAveragePooling2D** pour convertir les features en un vecteur 1D\n",
        "- 1 couche **Dense** de 256 neurones et une fonction d'activation **relu**\n",
        "- 1 couche **Dropout** pour désactiver 50% des neurones\n",
        "- 1 couche **Dense** de 7 neurones et une fonction d'activation **softmax** pour la classification\n",
        "\n",
        "### <span style='background:black'>b/ Compilation et métrique d'évaluation</span>\n",
        "\n",
        "Le modèle est compilé avec les mêmes paramètres que précedemment, à savoir :\n",
        "- la fonction de perte '**categorical_crossentropy**'\n",
        "\n",
        "- l'optimiseur '**rmsprop**'\n",
        "\n",
        "- la métrique d'évaluation '**accuracy**'"
      ]
    },
    {
      "cell_type": "markdown",
      "metadata": {
        "id": "z0ageM8907GP"
      },
      "source": [
        "### <span style='background:black'>c/ Callbacks</span>\n",
        "\n",
        "Nous utilisons les mêmes callbacks que précedemment, à savoir :\n",
        "\n",
        "- **ModelCheckpoint** pour sauvegarder le meilleur modèle pendant l'entrainement.\n",
        "\n",
        "- **EarlyStopping** pour arrêter l'entrainement si val_loss (la perte du jeu de validation) ne diminue plus après 3 epochs."
      ]
    },
    {
      "cell_type": "markdown",
      "metadata": {
        "id": "Gmtg7GMN07GP"
      },
      "source": [
        "### <span style='background:black'>d/ Indicateur supplémentaire</span>\n",
        "\n",
        "Nous utilisons le même indicateur supplémentaire que précedemment, à savoir le **temps de calcul**.\n",
        "\n",
        "### <span style='background:black'>e/ Optimisation hyperparamètre</span>\n",
        "\n",
        "Nous utilisont les mêmes paramètres que précedemment, à savoir :\n",
        "- epochs = 15\n",
        "- batch_size = 32, 64, 128, 256 et 512"
      ]
    },
    {
      "cell_type": "code",
      "execution_count": null,
      "metadata": {
        "id": "M5vCNgxN07GQ"
      },
      "outputs": [],
      "source": [
        "# Créer des dictionnaires vides pour stocker l'historique, temps, epochs\n",
        "history_dict, time_dict, epoch_dict = {}, {}, {}\n",
        "\n",
        "# POUR chaque batch_size\n",
        "for batch_size in batch_sizes:\n",
        "    print(\"\\n\", \"=\" * 30, \"batch_size :\", batch_size, \"=\" * 30)\n",
        "\n",
        "    # Utiliser le GPU\n",
        "    with tf.device('/gpu:0'):\n",
        "\n",
        "        # Créer un modèle CNN\n",
        "        model_tf_vgg16_noDA = creation_modele_transfer_vgg16(\n",
        "            fonction_perte,\n",
        "            optimiseur,\n",
        "            metric_eval,\n",
        "            )\n",
        "\n",
        "        # Création des callbacks\n",
        "        callbacks_list, chemin_modele_export = creer_callbacks(\n",
        "            \"model_tf_vgg16_noDA\",\n",
        "            patience,\n",
        "            batch_size\n",
        "            )\n",
        "\n",
        "        # Enregistrer le temps de début\n",
        "        start_time = time.time()\n",
        "\n",
        "        # Entraîner le modèle\n",
        "        history_tf_vgg16_noDA = model_tf_vgg16_noDA.fit(\n",
        "            X_train_pretraited,\n",
        "            y_train_pretraited,\n",
        "            epochs=15,\n",
        "            batch_size=batch_size,\n",
        "            callbacks=callbacks_list,\n",
        "            validation_data=(X_val_pretraited, y_val_pretraited),\n",
        "            verbose=1\n",
        "            )\n",
        "\n",
        "        # Enregistrer le temps de fin\n",
        "        end_time = time.time()\n",
        "\n",
        "        # Calculer le temps d'entraînement\n",
        "        training_time = end_time - start_time\n",
        "        print(f\"\\n=> Temps d'entraînement : {round(training_time, 2)} sec <=\")\n",
        "\n",
        "        # Calculer le nombre d'epochs\n",
        "        epochs = len(history_tf_vgg16_noDA.history['loss'])\n",
        "\n",
        "    # Stocker l'historique, le temps d'entraînement et le nombre d'epochs\n",
        "    history_dict[batch_size] = history_tf_vgg16_noDA.history\n",
        "    time_dict[batch_size] = training_time\n",
        "    epoch_dict[batch_size] = epochs"
      ]
    },
    {
      "cell_type": "markdown",
      "metadata": {
        "id": "-MSl069B07GQ"
      },
      "source": [
        "Comparons les résultats obtenus pour les différents batch_size :"
      ]
    },
    {
      "cell_type": "code",
      "execution_count": null,
      "metadata": {
        "id": "GbOAVyy207GQ"
      },
      "outputs": [],
      "source": [
        "# Créer un DataFrame à partir de l'historique\n",
        "resultat_tf_vgg16_noDA = pd.DataFrame(\n",
        "    {k: v['val_accuracy'][-1] for k, v in history_dict.items()},\n",
        "    index=[0]\n",
        "    )\n",
        "\n",
        "# Transposer le DataFrame (batch_sizes en index)\n",
        "resultat_tf_vgg16_noDA = resultat_tf_vgg16_noDA.transpose()\n",
        "\n",
        "# Renommer la colonne\n",
        "resultat_tf_vgg16_noDA.columns = ['Validation Accuracy']\n",
        "\n",
        "# Ajouter les temps d'entraînement et nombre d'epoch au DataFrame\n",
        "resultat_tf_vgg16_noDA['Temps (sec)'] = pd.Series(time_dict)\n",
        "resultat_tf_vgg16_noDA['Epochs'] = pd.Series(epoch_dict)\n",
        "\n",
        "# Affficher le batch_size avec la meilleure accuracy de validation\n",
        "batch_meilleur_tf_vgg16_noDA = resultat_tf_vgg16_noDA[\n",
        "    'Validation Accuracy'].idxmax()\n",
        "print(f\"\\nMeilleur batch_size (accuracy): {batch_meilleur_tf_vgg16_noDA}\")\n",
        "\n",
        "# Surligner les meilleures valeurs\n",
        "resultat_tf_vgg16_noDA.style.apply(surligne_meilleur)"
      ]
    },
    {
      "cell_type": "markdown",
      "metadata": {
        "id": "rVjeLL-407GQ"
      },
      "source": [
        "### <span style='background:red'>bilan a faire</span>"
      ]
    },
    {
      "cell_type": "markdown",
      "metadata": {
        "id": "LQYqx2WP07GR"
      },
      "source": [
        "## <span style='background:green'>3/ Modèle optimal</span>\n",
        "\n",
        "### <span style='background:black'>a/Création et entrainement</span>\n",
        "\n",
        "Nous entrainons à nouveau le modèle avec le bon batch_size pour obtenir le modèle optimal."
      ]
    },
    {
      "cell_type": "code",
      "execution_count": null,
      "metadata": {
        "id": "qFp-tXkY07GR"
      },
      "outputs": [],
      "source": [
        "# Utiliser le GPU\n",
        "with tf.device('/gpu:0'):\n",
        "\n",
        "    # Créer le modèle optimal de tranfer learning VGG16\n",
        "    model_optimal_tf_vgg16_noDA = creation_modele_transfer_vgg16(\n",
        "        fonction_perte,\n",
        "        optimiseur,\n",
        "        metric_eval,\n",
        "    )\n",
        "\n",
        "    # Création des callbacks\n",
        "    callbacks_list, chemin_modele_export = creer_callbacks(\n",
        "        \"model_optimal_tf_vgg16_noDA\",\n",
        "        patience,\n",
        "        batch_size\n",
        "    )\n",
        "\n",
        "    # Entraîner le modèle avec batch__meilleur_cnn\n",
        "    history_optimal_tf_vgg16_noDA = model_optimal_tf_vgg16_noDA.fit(\n",
        "        X_train_pretraited,\n",
        "        y_train_pretraited,\n",
        "        epochs=15,\n",
        "        batch_size=batch_meilleur_tf_vgg16_noDA,\n",
        "        callbacks=callbacks_list,\n",
        "        validation_data=(X_val_pretraited, y_val_pretraited),\n",
        "        verbose=1\n",
        "    )"
      ]
    },
    {
      "cell_type": "markdown",
      "metadata": {
        "id": "PvdnKYQe07GR"
      },
      "source": [
        "### <span style='background:black'>b/ Plot loss et accuracy</span>\n",
        "\n",
        "Nous affichons l'évolution de la perte et de l'accuracy pour le jeu d'entrainement et le jeu de validation au cours des epoch."
      ]
    },
    {
      "cell_type": "code",
      "execution_count": null,
      "metadata": {
        "id": "AprtMg3l07GR"
      },
      "outputs": [],
      "source": [
        "# Afficher l'historique de l'entraînement\n",
        "show_history(history_optimal_tf_vgg16_noDA)\n",
        "\n",
        "# Definir le chemin d'export de la figure\n",
        "dossier_figure = \"./figure/\"\n",
        "nom_figure = f\"history_optimal_tf_vgg16_noDA_batch{\n",
        "    batch_meilleur_tf_vgg16_noDA}.png\"\n",
        "chemin_figure_export = os.path.join(dossier_figure, nom_figure)\n",
        "\n",
        "# Sauvegarder l'historique de l'entraînement\n",
        "plot_history(history_optimal_tf_vgg16_noDA, path=chemin_figure_export)\n",
        "plt.close()"
      ]
    },
    {
      "cell_type": "markdown",
      "metadata": {
        "id": "z4MUotD607GR"
      },
      "source": [
        "### <span style='background:red'>bilan a faire</span>"
      ]
    },
    {
      "cell_type": "markdown",
      "metadata": {
        "id": "ZIT1mRHh07GR"
      },
      "source": [
        "### <span style='background:black'>c/ Comparatif des accuracy</span>\n",
        "\n",
        "Nous comparons les accuracy du modèle optimal (Transfer learning avec VGG16) avec les poids du meilleur modèle pour les 3 jeux de données (entrainement, validation et test)."
      ]
    },
    {
      "cell_type": "code",
      "execution_count": null,
      "metadata": {
        "id": "RboUw_wI07GR"
      },
      "outputs": [],
      "source": [
        "# Charger les poids du meilleur modèle\n",
        "model_optimal_tf_vgg16_noDA.load_weights(chemin_modele_export)\n",
        "\n",
        "# Evaluation meilleur modèle sur les données d'entraînement\n",
        "loss_tf_vgg16_noDA_train, accuracy_tf_vgg16_noDA_train = \\\n",
        "    model_optimal_tf_vgg16_noDA.evaluate(\n",
        "        X_train_pretraited,\n",
        "        y_train_pretraited\n",
        ")\n",
        "print(\"Training Accuracy   :  {:.3f}\".format(accuracy_tf_vgg16_noDA_train))\n",
        "\n",
        "# Evaluation meilleur modèle sur les données de validation\n",
        "loss_tf_vgg16_noDA_val, accuracy_tf_vgg16_noDA_val = \\\n",
        "    model_optimal_tf_vgg16_noDA.evaluate(\n",
        "        X_val_pretraited,\n",
        "        y_val_pretraited\n",
        ")\n",
        "print(\"Validation Accuracy :  {:.3f}\".format(accuracy_tf_vgg16_noDA_val))\n",
        "\n",
        "# Evaluation meilleur modèle sur les données de test\n",
        "loss_tf_vgg16_noDA_test, accuracy_tf_vgg16_noDA_test = \\\n",
        "    model_optimal_tf_vgg16_noDA.evaluate(\n",
        "        X_test_pretraited,\n",
        "        y_test_pretraited\n",
        ")\n",
        "print(\"Test Accuracy       :  {:.3f}\".format(accuracy_tf_vgg16_noDA_test))"
      ]
    },
    {
      "cell_type": "markdown",
      "metadata": {
        "id": "S3g3SaWk07GR"
      },
      "source": [
        "### <span style='background:red'>bilan a faire</span>"
      ]
    },
    {
      "cell_type": "markdown",
      "metadata": {
        "id": "O5iwoUQE07GR"
      },
      "source": [
        "### <span style='background:black'>d/ Matrice de confusion</span>\n",
        "\n",
        "Nous affichons les valeurs réelles et celles prédites par le modèle optimal pour les données de validation."
      ]
    },
    {
      "cell_type": "code",
      "execution_count": null,
      "metadata": {
        "id": "i7hHEN4U07GS"
      },
      "outputs": [],
      "source": [
        "# Categorie réelle et prédites des images de validation\n",
        "y_val_num = np.argmax(y_val_pretraited, axis=1)\n",
        "y_val_pred = np.argmax(\n",
        "    model_optimal_tf_vgg16_noDA.predict(X_val_pretraited),\n",
        "    axis=1\n",
        ")\n",
        "\n",
        "# Afficher les 30 premières catégories réelles et prédites\n",
        "print(\"Categorie reelle : \", y_val_num[:30], \"\\n\")\n",
        "print(\"Categorie prédite : \", y_val_pred[:30])"
      ]
    },
    {
      "cell_type": "markdown",
      "metadata": {
        "id": "C6mbu8sp07GS"
      },
      "source": [
        "Nous confirmons les résultats en affichant la matrice de confusion et le rapport de classification."
      ]
    },
    {
      "cell_type": "code",
      "execution_count": null,
      "metadata": {
        "id": "q0ibbMHA07GS"
      },
      "outputs": [],
      "source": [
        "# Verifier la correspondance des clusters\n",
        "y_val_pred_transform = conf_mat_transform_argmax(y_val_num, y_val_pred)\n",
        "\n",
        "# Afficher la matrice de confusion et le rapport de classification\n",
        "conf_mat_tf_vgg16_noDA = matrice_conf_et_rapport(\n",
        "    y_val_num,\n",
        "    y_val_pred_transform,\n",
        "    categories\n",
        "    )"
      ]
    },
    {
      "cell_type": "markdown",
      "metadata": {
        "id": "t8Nhu8lj07GT"
      },
      "source": [
        "### <span style='background:red'>bilan a faire</span>"
      ]
    },
    {
      "cell_type": "markdown",
      "metadata": {
        "id": "rPUy9PkT07GT"
      },
      "source": [
        "<div class=\"alert alert-block alert-info\"><b>Bilan: </b> <br>\n",
        "Le modèle optimal CNN avec transfer learning du VGG16 présente des performances ... </div>"
      ]
    },
    {
      "cell_type": "markdown",
      "metadata": {
        "id": "Dy0a9O3007GT"
      },
      "source": [
        "# <span style='background:blue'>Etape 7 : CNN + Transfer learning VGG-16 avec Data Augmentation</span>\n",
        "\n",
        "Pour cette classification d'image automatique, nous allons utiliser un **réseau de neurones convolutionnels** (*Convolutional Neural Network*, **CNN**). Nous le couplons avec la technique du **transfer learning** pour utiliser le modèle pré-entrainé **VGG-16**. Nous optimisons les performances du modèle en utilisant la technique de **data augmentation**."
      ]
    },
    {
      "cell_type": "markdown",
      "metadata": {
        "id": "jVoFFGUX07GT"
      },
      "source": [
        "## <span style='background:green'>1/ Prétraitement des données</span>"
      ]
    },
    {
      "cell_type": "markdown",
      "metadata": {
        "id": "A3Y-8d6o07GT"
      },
      "source": [
        "### <span style='background:red'>data augmentation?</span>"
      ]
    },
    {
      "cell_type": "markdown",
      "metadata": {
        "id": "CAxJ3o6907GT"
      },
      "source": [
        "La cellule ci-dessous est à activer si les images sont classées par catégories et qu'il faut les mélanger."
      ]
    },
    {
      "cell_type": "code",
      "execution_count": null,
      "metadata": {
        "id": "SblcswUE07GT"
      },
      "outputs": [],
      "source": [
        "# # Pour mélanger les images, classées initalement par classe\n",
        "# data = data.sample(frac=1, random_state=42).reset_index(drop=True)"
      ]
    },
    {
      "cell_type": "code",
      "execution_count": null,
      "metadata": {
        "id": "o1FVoTi707GT"
      },
      "outputs": [],
      "source": [
        "def data_flow_fct(data, datagen, batch_size, data_type=None):\n",
        "    \"\"\"\n",
        "    Crée un générateur de données à partir d'un DataFrame.\n",
        "\n",
        "    Paramètres :\n",
        "    - data : DataFrame contenant les chemins des images et les labels\n",
        "    correspondants.\n",
        "    - datagen : instance de ImageDataGenerator pour effectuer la data\n",
        "    augmentation.\n",
        "    - batch_size : int, taille des batchs.\n",
        "    - data_type : str, facultatif. Si 'training' ou 'validation', détermine le\n",
        "    sous-ensemble de données à utiliser.\n",
        "\n",
        "    Retourne :\n",
        "    - data_flow : générateur de données.\n",
        "    \"\"\"\n",
        "    data_flow = datagen.flow_from_dataframe(\n",
        "        data,\n",
        "        directory='',\n",
        "        x_col='image_path',\n",
        "        y_col='label_name',\n",
        "        weight_col=None,\n",
        "        target_size=(256, 256),\n",
        "        classes=None,\n",
        "        class_mode='categorical',\n",
        "        batch_size=batch_size,\n",
        "        shuffle=True,\n",
        "        seed=42,\n",
        "        subset=data_type\n",
        "    )\n",
        "\n",
        "    return data_flow"
      ]
    },
    {
      "cell_type": "code",
      "execution_count": null,
      "metadata": {
        "id": "w-twVPm207GT"
      },
      "outputs": [],
      "source": [
        "# Création d'un générateur de données pour les images d'entraînement\n",
        "datagen_train = ImageDataGenerator(\n",
        "#    featurewise_center=True,\n",
        "#    featurewise_std_normalization=True,\n",
        "    rotation_range=20,\n",
        "    width_shift_range=0.2,\n",
        "    height_shift_range=0.2,\n",
        "    horizontal_flip=True,\n",
        "    validation_split=0.25,\n",
        "    preprocessing_function=preprocess_input\n",
        ")\n",
        "\n",
        "# Application du generateur de donnees sur le jeu d'entrainement et validation\n",
        "train_flow = data_flow_fct(data, datagen_train, data_type='training')\n",
        "val_flow = data_flow_fct(data, datagen_train, data_type='validation')\n",
        "\n",
        "# Création générateur de données pour images de test (pas de data augmentation)\n",
        "datagen_test = ImageDataGenerator(\n",
        "    validation_split=0,\n",
        "    preprocessing_function=preprocess_input\n",
        ")\n",
        "\n",
        "# Application du generateur de donnees sur le jeu de test\n",
        "test_flow = data_flow_fct(data_test, datagen_test, data_type=None)\n",
        "\n",
        "# compute quantities required for featurewise normalization\n",
        "# (std, mean, and principal components if ZCA whitening is applied)\n",
        "# datagen.fit(X_train)\n",
        "# fits the model on batches with real-time data augmentation:"
      ]
    },
    {
      "cell_type": "markdown",
      "metadata": {
        "id": "AFk-CPDQ07GT"
      },
      "source": [
        "## <span style='background:green'>2/ Elaboration du modèle</span>\n",
        "\n",
        "### <span style='background:black'>a/ Architecture</span>\n",
        "\n",
        "Nous créons un modèle de classification d'images CNN en réalisant un **transfer learning** à partir du modèle VGG16 identique à celui de l'étape précédente.\n",
        "\n",
        "### <span style='background:black'>b/ Compilation et métrique d'évaluation</span>\n",
        "\n",
        "Le modèle est compilé avec les mêmes paramètres que précedemment, à savoir :\n",
        "- la fonction de perte '**categorical_crossentropy**'\n",
        "\n",
        "- l'optimiseur '**rmsprop**'\n",
        "\n",
        "- la métrique d'évaluation '**accuracy**'"
      ]
    },
    {
      "cell_type": "markdown",
      "metadata": {
        "id": "2MwdZqCc07GT"
      },
      "source": [
        "### <span style='background:black'>c/ Callbacks</span>\n",
        "\n",
        "Nous utilisons les mêmes callbacks que précedemment, à savoir :\n",
        "\n",
        "- **ModelCheckpoint** pour sauvegarder le meilleur modèle pendant l'entrainement.\n",
        "\n",
        "- **EarlyStopping** pour arrêter l'entrainement si val_loss (la perte du jeu de validation) ne diminue plus après 3 epochs."
      ]
    },
    {
      "cell_type": "markdown",
      "metadata": {
        "id": "7yK2vnJB07GT"
      },
      "source": [
        "### <span style='background:black'>d/ Indicateur supplémentaire</span>\n",
        "\n",
        "Nous utilisons le même indicateur supplémentaire que précedemment, à savoir le **temps de calcul**.\n",
        "\n",
        "### <span style='background:black'>e/ Optimisation hyperparamètre</span>\n",
        "\n",
        "Nous utilisont les mêmes paramètres que précedemment, à savoir :\n",
        "- epochs = 15\n",
        "- batch_size = 32, 64, 128, 256 et 512"
      ]
    },
    {
      "cell_type": "code",
      "execution_count": null,
      "metadata": {
        "id": "zacsAGuF07GT"
      },
      "outputs": [],
      "source": [
        "# Créer des dictionnaires vides pour stocker l'historique, temps, epochs\n",
        "history_dict, time_dict, epoch_dict = {}, {}, {}\n",
        "\n",
        "# POUR chaque batch_size\n",
        "for batch_size in batch_sizes:\n",
        "    print(\"\\n\", \"=\" * 30, \"batch_size :\", batch_size, \"=\" * 30)\n",
        "\n",
        "    # Utiliser le GPU\n",
        "    with tf.device('/gpu:0'):\n",
        "\n",
        "        # Créer un modèle CNN\n",
        "        model_tf_vgg16_DA = creation_modele_transfer_vgg16(\n",
        "            fonction_perte,\n",
        "            optimiseur,\n",
        "            metric_eval,\n",
        "            )\n",
        "\n",
        "        # Création des callbacks\n",
        "        callbacks_list, chemin_modele_export = creer_callbacks(\n",
        "            \"model_tf_vgg16_DA\",\n",
        "            patience,\n",
        "            batch_size\n",
        "            )\n",
        "\n",
        "        # Enregistrer le temps de début\n",
        "        start_time = time.time()\n",
        "\n",
        "        # Entraîner le modèle\n",
        "        history_tf_vgg16_DA = model_tf_vgg16_DA.fit(\n",
        "            X_train_pretraited,\n",
        "            y_train_pretraited,\n",
        "            epochs=15,\n",
        "            batch_size=batch_size,\n",
        "            callbacks=callbacks_list,\n",
        "            validation_data=(X_val_pretraited, y_val_pretraited),\n",
        "            verbose=1\n",
        "            )\n",
        "\n",
        "        # Enregistrer le temps de fin\n",
        "        end_time = time.time()\n",
        "\n",
        "        # Calculer le temps d'entraînement\n",
        "        training_time = end_time - start_time\n",
        "        print(f\"\\n=> Temps d'entraînement : {round(training_time, 2)} sec <=\")\n",
        "\n",
        "        # Calculer le nombre d'epochs\n",
        "        epochs = len(history_tf_vgg16_DA.history['loss'])\n",
        "\n",
        "    # Stocker l'historique, le temps d'entraînement et le nombre d'epochs\n",
        "    history_dict[batch_size] = history_tf_vgg16_DA.history\n",
        "    time_dict[batch_size] = training_time\n",
        "    epoch_dict[batch_size] = epochs"
      ]
    },
    {
      "cell_type": "markdown",
      "metadata": {
        "id": "6M8EBdOc07GU"
      },
      "source": [
        "Comparons les résultats obtenus pour les différents batch_size :"
      ]
    },
    {
      "cell_type": "code",
      "execution_count": null,
      "metadata": {
        "id": "g2Mfwj2u07GU"
      },
      "outputs": [],
      "source": [
        "# Créer un DataFrame à partir de l'historique\n",
        "resultat_tf_vgg16_DA = pd.DataFrame(\n",
        "    {k: v['val_accuracy'][-1] for k, v in history_dict.items()},\n",
        "    index=[0]\n",
        "    )\n",
        "\n",
        "# Transposer le DataFrame (batch_sizes en index)\n",
        "resultat_tf_vgg16_DA = resultat_tf_vgg16_DA.transpose()\n",
        "\n",
        "# Renommer la colonne\n",
        "resultat_tf_vgg16_DA.columns = ['Validation Accuracy']\n",
        "\n",
        "# Ajouter les temps d'entraînement et nombre d'epoch au DataFrame\n",
        "resultat_tf_vgg16_DA['Temps (sec)'] = pd.Series(time_dict)\n",
        "resultat_tf_vgg16_DA['Epochs'] = pd.Series(epoch_dict)\n",
        "\n",
        "# Affficher le batch_size avec la meilleure accuracy de validation\n",
        "batch_meilleur_tf_vgg16_DA = resultat_tf_vgg16_DA[\n",
        "    'Validation Accuracy'].idxmax()\n",
        "print(f\"\\nMeilleur batch_size (accuracy): {batch_meilleur_tf_vgg16_DA}\")\n",
        "\n",
        "# Surligner les meilleures valeurs\n",
        "resultat_tf_vgg16_DA.style.apply(surligne_meilleur)"
      ]
    },
    {
      "cell_type": "markdown",
      "metadata": {
        "id": "-UKeUsjb07GU"
      },
      "source": [
        "### <span style='background:red'>bilan a faire</span>"
      ]
    },
    {
      "cell_type": "markdown",
      "metadata": {
        "id": "j957nUdo07GU"
      },
      "source": [
        "## <span style='background:green'>3/ Modèle optimal</span>\n",
        "\n",
        "### <span style='background:black'>a/Création et entrainement</span>\n",
        "\n",
        "Nous entrainons à nouveau le modèle avec le bon batch_size pour obtenir le modèle optimal."
      ]
    },
    {
      "cell_type": "code",
      "execution_count": null,
      "metadata": {
        "id": "7lWEDyO407GU"
      },
      "outputs": [],
      "source": [
        "# Utiliser le GPU\n",
        "with tf.device('/gpu:0'):\n",
        "\n",
        "    # Créer le modèle optimal de tranfer learning VGG16\n",
        "    model_optimal_tf_vgg16_DA = creation_modele_transfer_vgg16(\n",
        "        fonction_perte,\n",
        "        optimiseur,\n",
        "        metric_eval,\n",
        "    )\n",
        "\n",
        "    # Création des callbacks\n",
        "    callbacks_list, chemin_modele_export = creer_callbacks(\n",
        "        \"model_optimal_tf_vgg16_DA\",\n",
        "        patience,\n",
        "        batch_size\n",
        "    )\n",
        "\n",
        "    # Entraîner le modèle avec batch__meilleur_cnn\n",
        "    history_optimal_tf_vgg16_DA = model_optimal_tf_vgg16_DA.fit(\n",
        "        X_train_pretraited,\n",
        "        y_train_pretraited,\n",
        "        epochs=15,\n",
        "        batch_size=batch_meilleur_tf_vgg16_DA,\n",
        "        callbacks=callbacks_list,\n",
        "        validation_data=(X_val_pretraited, y_val_pretraited),\n",
        "        verbose=1\n",
        "    )"
      ]
    },
    {
      "cell_type": "markdown",
      "metadata": {
        "id": "oG511RV-07GU"
      },
      "source": [
        "### <span style='background:black'>b/ Plot loss et accuracy</span>\n",
        "\n",
        "Nous affichons l'évolution de la perte et de l'accuracy pour le jeu d'entrainement et le jeu de validation au cours des epoch."
      ]
    },
    {
      "cell_type": "code",
      "execution_count": null,
      "metadata": {
        "id": "HPvY9z4E07GV"
      },
      "outputs": [],
      "source": [
        "# Afficher l'historique de l'entraînement\n",
        "show_history(history_optimal_tf_vgg16_DA)\n",
        "\n",
        "# Definir le chemin d'export de la figure\n",
        "dossier_figure = \"./figure/\"\n",
        "nom_figure = f\"history_optimal_tf_vgg16_DA_batch{\n",
        "    batch_meilleur_tf_vgg16_DA}.png\"\n",
        "chemin_figure_export = os.path.join(dossier_figure, nom_figure)\n",
        "\n",
        "# Sauvegarder l'historique de l'entraînement\n",
        "plot_history(history_optimal_tf_vgg16_DA, path=chemin_figure_export)\n",
        "plt.close()"
      ]
    },
    {
      "cell_type": "markdown",
      "metadata": {
        "id": "yTqMsubS07GV"
      },
      "source": [
        "### <span style='background:red'>bilan a faire</span>"
      ]
    },
    {
      "cell_type": "markdown",
      "metadata": {
        "id": "Th5r4Lme07GV"
      },
      "source": [
        "### <span style='background:black'>c/ Comparatif des accuracy</span>\n",
        "\n",
        "Nous comparons les accuracy du modèle optimal (Transfer learning avec VGG16) avec les poids du meilleur modèle pour les 3 jeux de données (entrainement, validation et test)."
      ]
    },
    {
      "cell_type": "code",
      "execution_count": null,
      "metadata": {
        "id": "cBJfbmRv07GV"
      },
      "outputs": [],
      "source": [
        "# Charger les poids du meilleur modèle\n",
        "model_optimal_tf_vgg16_DA.load_weights(chemin_modele_export)\n",
        "\n",
        "# Evaluation meilleur modèle sur les données d'entraînement\n",
        "loss_tf_vgg16_DA_train, accuracy_tf_vgg16_DA_train = \\\n",
        "    model_optimal_tf_vgg16_DA.evaluate(\n",
        "        X_train_pretraited,\n",
        "        y_train_pretraited\n",
        ")\n",
        "print(\"Training Accuracy   :  {:.3f}\".format(accuracy_tf_vgg16_DA_train))\n",
        "\n",
        "# Evaluation meilleur modèle sur les données de validation\n",
        "loss_tf_vgg16_DA_val, accuracy_tf_vgg16_DA_val = \\\n",
        "    model_optimal_tf_vgg16_DA.evaluate(\n",
        "        X_val_pretraited,\n",
        "        y_val_pretraited\n",
        ")\n",
        "print(\"Validation Accuracy :  {:.3f}\".format(accuracy_tf_vgg16_DA_val))\n",
        "\n",
        "# Evaluation meilleur modèle sur les données de test\n",
        "loss_tf_vgg16_DA_test, accuracy_tf_vgg16_DA_test = \\\n",
        "    model_optimal_tf_vgg16_DA.evaluate(\n",
        "        X_test_pretraited,\n",
        "        y_test_pretraited\n",
        ")\n",
        "print(\"Test Accuracy       :  {:.3f}\".format(accuracy_tf_vgg16_DA_test))"
      ]
    },
    {
      "cell_type": "markdown",
      "metadata": {
        "id": "CUttQz9T07GV"
      },
      "source": [
        "### <span style='background:red'>bilan a faire</span>"
      ]
    },
    {
      "cell_type": "markdown",
      "metadata": {
        "id": "zAwGnN-J07GV"
      },
      "source": [
        "### <span style='background:black'>d/ Matrice de confusion</span>\n",
        "\n",
        "Nous affichons les valeurs réelles et celles prédites par le modèle optimal pour les données de validation."
      ]
    },
    {
      "cell_type": "code",
      "execution_count": null,
      "metadata": {
        "id": "EIQKCa3l07GV"
      },
      "outputs": [],
      "source": [
        "# Categorie réelle et prédites des images de validation\n",
        "y_val_num = np.argmax(y_val_pretraited, axis=1)\n",
        "y_val_pred = np.argmax(\n",
        "    model_optimal_tf_vgg16_DA.predict(X_val_pretraited),\n",
        "    axis=1\n",
        ")\n",
        "\n",
        "# Afficher les 30 premières catégories réelles et prédites\n",
        "print(\"Categorie reelle : \", y_val_num[:30], \"\\n\")\n",
        "print(\"Categorie prédite : \", y_val_pred[:30])"
      ]
    },
    {
      "cell_type": "markdown",
      "metadata": {
        "id": "aRu9e2ty07GV"
      },
      "source": [
        "Nous confirmons les résultats en affichant la matrice de confusion et le rapport de classification."
      ]
    },
    {
      "cell_type": "code",
      "execution_count": null,
      "metadata": {
        "id": "iN0DWaMn07GW"
      },
      "outputs": [],
      "source": [
        "# Verifier la correspondance des clusters\n",
        "y_val_pred_transform = conf_mat_transform_argmax(y_val_num, y_val_pred)\n",
        "\n",
        "# Afficher la matrice de confusion et le rapport de classification\n",
        "conf_mat_tf_vgg16_DA = matrice_conf_et_rapport(\n",
        "    y_val_num,\n",
        "    y_val_pred_transform,\n",
        "    categories\n",
        "    )"
      ]
    },
    {
      "cell_type": "markdown",
      "metadata": {
        "id": "xjYTLkGN07GW"
      },
      "source": [
        "### <span style='background:red'>bilan a faire</span>"
      ]
    },
    {
      "cell_type": "markdown",
      "metadata": {
        "id": "rud0YPtF07GX"
      },
      "source": [
        "<div class=\"alert alert-block alert-info\"><b>Bilan: </b> <br>\n",
        "Le modèle optimal CNN avec transfer learning du VGG16 et Data Augmentation présente des performances ... </div>"
      ]
    },
    {
      "cell_type": "markdown",
      "metadata": {
        "id": "bg7H94ae07GX"
      },
      "source": [
        "# <span style='background:blue'>Etape 8 : Comparaison des résultats</span>"
      ]
    },
    {
      "cell_type": "code",
      "execution_count": null,
      "metadata": {
        "id": "nktijdlo07GX"
      },
      "outputs": [],
      "source": []
    },
    {
      "cell_type": "markdown",
      "metadata": {
        "id": "Er6_FtpZ07GX"
      },
      "source": [
        "# <span style='background:blue'>Conclusion</span>"
      ]
    },
    {
      "cell_type": "markdown",
      "metadata": {
        "id": "WBDzoo1007GX"
      },
      "source": [
        "ici"
      ]
    },
    {
      "cell_type": "code",
      "execution_count": null,
      "metadata": {
        "id": "vP2qpqu507GX"
      },
      "outputs": [],
      "source": [
        "# Afficher temps d'exécution du notebook\n",
        "calculer_duree_notebook(start_time)"
      ]
    },
    {
      "cell_type": "markdown",
      "metadata": {
        "id": "n7j9B_H-07GX"
      },
      "source": [
        "Compétence OCR:\n",
        "\n",
        "**Définir la stratégie d’élaboration d’un modèle d'apprentissage profond, concevoir ou ré-utiliser des modèles pré-entraînés (transfer learning) et entraîner des modèles afin de réaliser une analyse prédictive.**\n",
        "- ~~CE1 Le candidat a défini sa stratégie d’élaboration d’un modèle pour répondre à un besoin métier (par exemple : choix de conception d’un modèle ou ré-utilisation de modèles pré-entraînés).~~\n",
        "- ~~CE2 Le candidat a identifié la ou les cibles.~~\n",
        "- ~~CE3 Le candidat a réalisé la séparation du jeu de données en jeu d’entraînement, jeu de validation et jeu de test.~~\n",
        "- ~~CE4 Le candidat s'est assuré qu'il n’y a pas de fuite d’information entre les jeux de données (entraînement, validation et test).~~\n",
        "- CE5 Le candidat a testé plusieurs modèles d’apprentissage profond (par exemple à l’aide de la librairie Tensorflow / Keras) en partant du plus simple vers les plus complexes.\n",
        "- CE6 Le candidat a mis en oeuvre des modèles à partir de modèles pré-entraînés (technique de Transfer Learning)"
      ]
    },
    {
      "cell_type": "markdown",
      "metadata": {
        "id": "5j7jRwkM07GX"
      },
      "source": [
        "**Évaluer la performance des modèles d’apprentissage profond selon différents critères (scores, temps d'entraînement, etc.) afin de choisir le modèle le plus performant pour la problématique métier.**\n",
        "- ~~CE1 Le candidat a choisi une métrique adaptée à la problématique métier, et sert à évaluer la performance des modèles~~\n",
        "- ~~CE2 Le candidat a explicité le choix de la métrique d’évaluation~~\n",
        "- CE3 Le candidat a évalué la performance d’un modèle de référence et sert de comparaison pour évaluer la performance des modèles plus complexes\n",
        "- ~~CE4 Le candidat a calculé, hormis la métrique choisie, au moins un autre indicateur pour comparer les modèles (par exemple : le temps nécessaire pour l’entraînement du modèle)~~\n",
        "- ~~CE5 Le candidat a optimisé au moins un des hyperparamètres du modèle choisi (par exemple : le choix de la fonction Loss, le Batch Size, le nombre d'Epochs)~~"
      ]
    },
    {
      "cell_type": "markdown",
      "metadata": {
        "id": "LqxWWeeU07GY"
      },
      "source": [
        "**Utiliser des techniques d’augmentation des données afin d'améliorer la performance des modèles.**\n",
        "- CE1 Le candidat a utilisé plusieurs techniques d’augmentation des données (ex. pour des images : rotation, changement d’échelle, ajout de bruit…).\n",
        "- CE2 Le candidat a présenté une synthèse comparative des améliorations de performance grâce aux différentes techniques d'augmentation de données utilisées (maîtrise de l’overfitting, meilleur score)."
      ]
    }
  ],
  "metadata": {
    "kernelspec": {
      "display_name": "Python 3",
      "name": "python3"
    },
    "language_info": {
      "codemirror_mode": {
        "name": "ipython",
        "version": 3
      },
      "file_extension": ".py",
      "mimetype": "text/x-python",
      "name": "python",
      "nbconvert_exporter": "python",
      "pygments_lexer": "ipython3",
      "version": "3.11.7"
    },
    "colab": {
      "provenance": [],
      "include_colab_link": true
    },
    "accelerator": "TPU"
  },
  "nbformat": 4,
  "nbformat_minor": 0
}