{
 "cells": [
  {
   "cell_type": "markdown",
   "metadata": {},
   "source": [
    "# <span style='color:SteelBlue'>P6 - Classifiez automatiquement des biens de consommation (part 3)</span>"
   ]
  },
  {
   "cell_type": "markdown",
   "metadata": {},
   "source": [
    "<img src=\"https://user.oc-static.com/upload/2019/02/24/15510259240381_Projet%20textimage%20logo.png\" width=\"600\" height=\"400\">"
   ]
  },
  {
   "cell_type": "markdown",
   "metadata": {},
   "source": [
    "# <span style='background:red; color:black'>a MAJ</span>\n",
    "\n",
    "# <span style='background:white; color:black'>Sommaire</span>\n",
    "\n",
    "Importations des librairies utilisees dans ce notebook <br>\n",
    "\n",
    "Paramètres d'affichage du notebook <br>\n",
    "\n",
    "Fonctions utilisees dans ce notebook <br>\n",
    "\n",
    "Importation des données <br>\n",
    "\n",
    "**Etape 1 : Description des donnees**\n",
    "- _1/ etc...\n",
    "\n",
    "\n",
    "Conclusion"
   ]
  },
  {
   "cell_type": "markdown",
   "metadata": {},
   "source": [
    "# <span style='background:blue'>Introduction</span>\n",
    "\n",
    "L'entreprise **\"place de marché\"** est une entreprise qui souhaite lancer une\n",
    "marketplace e-commerce. Sur cette place de marché anglophone, des vendeurs\n",
    "proposent des articles à des acheteurs en postant une photo et une description.\n",
    "Pour rendre l’expérience utilisateur des vendeurs (faciliter la mise en ligne\n",
    "de nouveaux articles) et des acheteurs (faciliter la recherche de produits) \n",
    "la plus fluide possible, et dans l'optique d'un passage à l'échelle, \n",
    "il devient nécessaire **d'automatiser l'attribution de la catégorie** d'un \n",
    "article (actuellement effectuée manuellement par les vendeurs, donc peu \n",
    "fiable).\n",
    "___\n",
    "**Missions**<br>\n",
    "1/ Faire une **étude de la faisabilité d’un moteur de classification**\n",
    "d’article basé sur une **description** pour automatiser l’attribution\n",
    "de catégorie de l’article. \n",
    "\n",
    "2/ Faire une **étude de la faisabilité d’un moteur de classification**\n",
    "d’article basé sur une **image** pour automatiser l’attribution\n",
    "de catégorie de l’article. \n",
    "\n",
    "3/ **Réaliser une classification supervisée** à partir des images par la mise\n",
    "en place d’une data augmentation afin d’optimiser le modèle. \n",
    "\n",
    "4/ **Extraire les 10 premiers produits à base de « champagne »** issus de\n",
    "l’API fournie dans un fichier “.csv”, contenant pour chaque produit les\n",
    "données suivantes : foodId, label, category, foodContentsLabel, image.\n",
    "___\n",
    "Ce notebook presente la 3ème partie concernant la réalisation de la\n",
    "classification...\n",
    "\n",
    "# <span style='background:red'>a terminer</span>\n",
    "\n",
    "___\n",
    "**Source des datasets**<br>\n",
    "Source : Non précisé<br>\n",
    "___"
   ]
  },
  {
   "cell_type": "markdown",
   "metadata": {},
   "source": [
    "<div class=\"alert alert-block alert-warning\">\n",
    "<b>Formattage du notebook au PEP8 => lancer cette ligne de code dans le\n",
    "terminal VSC : </b><br>\n",
    "nbqa black Berthe_Pierrick_1_notebook_exploration_112023.ipynb</div>"
   ]
  },
  {
   "cell_type": "markdown",
   "metadata": {},
   "source": [
    "# <span style='background:grey'>Importations des librairies utilisees dans ce notebook</span>"
   ]
  },
  {
   "cell_type": "code",
   "execution_count": null,
   "metadata": {},
   "outputs": [],
   "source": [
    "# Librairies generales\n",
    "import os.path\n",
    "import sys\n",
    "from IPython.display import display\n",
    "import time\n",
    "from datetime import datetime\n",
    "from tqdm import tqdm\n",
    "import concurrent.futures\n",
    "\n",
    "# Librairies data science\n",
    "import matplotlib as mpl\n",
    "import matplotlib.pyplot as plt\n",
    "import numpy as np\n",
    "import pandas as pd\n",
    "import seaborn as sns\n",
    "\n",
    "# CNN Transfer learning\n",
    "import tensorflow as tf\n",
    "from tensorflow.keras.models import Model, Sequential\n",
    "from tensorflow.keras.applications.vgg16 import VGG16\n",
    "from tensorflow.keras.applications.vgg16 import preprocess_input\n",
    "from tensorflow.keras.preprocessing.image import load_img, img_to_array\n",
    "\n",
    "# Affichage plot dans le notebook\n",
    "%matplotlib inline\n",
    "\n",
    "# Versions\n",
    "print(\"Version des librairies utilisees :\")\n",
    "print(\"Python        : \" + sys.version)\n",
    "print(\"Matplotlib    : \" + mpl.__version__)\n",
    "print(\"NumPy         : \" + np.version.full_version)\n",
    "print(\"Pandas        : \" + pd.__version__)\n",
    "print(\"Seaborn       : \" + sns.__version__)\n",
    "print(\"Tensorflow    : \" + tf.__version__)\n",
    "\n",
    "# Nombre de coeurs\n",
    "nbr_coeur = os.cpu_count()\n",
    "print(f\"\\nNombre de coeur disponible(s) sur ce PC: {nbr_coeur} coeur(s)\")\n",
    "\n",
    "# Afficher heure lancement\n",
    "maintenant = datetime.now().isoformat()\n",
    "print(\"\\nCode lance le : \" + maintenant)\n",
    "\n",
    "# Enregistrer l'heure de debut\n",
    "start_time = time.time()\n",
    "\n",
    "# Activer la verification PEP8\n",
    "print(\"\")\n",
    "%load_ext pycodestyle_magic\n",
    "%pycodestyle_on"
   ]
  },
  {
   "cell_type": "markdown",
   "metadata": {},
   "source": [
    "<div class=\"alert alert-block alert-warning\">\n",
    "<b>Formattage du notebook au PEP8 => lancer cette ligne de code dans le \n",
    "terminal VSC : </b> <br>\n",
    "nbqa black nom_fichier.ipynb</div>"
   ]
  },
  {
   "cell_type": "markdown",
   "metadata": {},
   "source": [
    "# <span style='background:grey'>Paramètres d'affichage</span>"
   ]
  },
  {
   "cell_type": "code",
   "execution_count": null,
   "metadata": {},
   "outputs": [],
   "source": []
  },
  {
   "cell_type": "markdown",
   "metadata": {},
   "source": [
    "# <span style='background:grey'>Fonctions</span>"
   ]
  },
  {
   "cell_type": "code",
   "execution_count": 1,
   "metadata": {},
   "outputs": [],
   "source": [
    "def calculer_duree_notebook(start_time):\n",
    "    \"\"\"\n",
    "    Cette procédure calcule et affiche la durée totale depuis un temps de\n",
    "    début donné.\n",
    "\n",
    "    Args:\n",
    "        start_time (float): Le temps de début en secondes depuis l'époque.\n",
    "\n",
    "    Returns:\n",
    "        None\n",
    "    \"\"\"\n",
    "\n",
    "    # Calculer la durée totale\n",
    "    total_time = time.time() - start_time\n",
    "\n",
    "    # Convertir en minutes et secondes\n",
    "    minutes, seconds = divmod(total_time, 60)\n",
    "\n",
    "    # Afficher la durée totale\n",
    "    message = (\n",
    "        \"Durée totale pour faire tourner le notebook : \"\n",
    "        \"{0} minute(s) {1} seconde(s)\"\n",
    "    )\n",
    "    print(message.format(int(minutes), int(seconds)))"
   ]
  },
  {
   "cell_type": "markdown",
   "metadata": {},
   "source": [
    "# <span style='background:grey'>Importation des donnees</span>\n",
    "\n",
    "Importation des fichiers CSV avec Pandas"
   ]
  },
  {
   "cell_type": "code",
   "execution_count": null,
   "metadata": {},
   "outputs": [],
   "source": [
    "# Definir le chemin\n",
    "chemin = \"./data/source/\"\n",
    "\n",
    "# Obtenir une liste de tous les fichiers dans le repertoire\n",
    "fichiers = os.listdir(chemin)\n",
    "\n",
    "# Initialiser un dictionnaire vide et display de la liste des fichiers importe\n",
    "data_brut = {}\n",
    "display(\"===> Liste des fichiers importes: <====\\n\")\n",
    "\n",
    "# POUR chaque fichier\n",
    "for fichier in fichiers:\n",
    "\n",
    "    # Traiter uniquement les fichiers .csv\n",
    "    if fichier.endswith(\".csv\"):\n",
    "        display(fichier)\n",
    "\n",
    "        # Lire le fichier csv et le stocker dans le dictionnaire\n",
    "        data_brut[fichier] = pd.read_csv(\n",
    "            chemin + fichier,\n",
    "            sep=\",\",\n",
    "            encoding=\"utf-8\"\n",
    "        )"
   ]
  },
  {
   "cell_type": "markdown",
   "metadata": {},
   "source": [
    "# <span style='background:blue'>Etape 1 : Présentation du dataset</span>\n",
    "\n",
    "## <span style='background:green'>1/ Aperçu tableau</span>"
   ]
  },
  {
   "cell_type": "code",
   "execution_count": null,
   "metadata": {},
   "outputs": [],
   "source": []
  },
  {
   "cell_type": "markdown",
   "metadata": {},
   "source": [
    "Compétence OCR:\n",
    "\n",
    "**Définir la stratégie d’élaboration d’un modèle d'apprentissage profond, concevoir ou ré-utiliser des\n",
    "modèles pré-entraînés (transfer learning) et entraîner des modèles afin de réaliser une analyse\n",
    "prédictive.**\n",
    "- CE1 Le candidat a défini sa stratégie d’élaboration d’un modèle pour répondre à un besoin métier (par\n",
    "exemple : choix de conception d’un modèle ou ré-utilisation de modèles pré-entraînés).\n",
    "- CE2 Le candidat a identifié la ou les cibles.\n",
    "- CE3 Le candidat a réalisé la séparation du jeu de données en jeu d’entraînement, jeu de validation et\n",
    "jeu de test.\n",
    "- CE4 Le candidat s'est assuré qu'il n’y a pas de fuite d’information entre les jeux de données\n",
    "(entraînement, validation et test).\n",
    "- CE5 Le candidat a testé plusieurs modèles d’apprentissage profond (par exemple à l’aide de la librairie\n",
    "Tensorflow / Keras) en partant du plus simple vers les plus complexes.\n",
    "- CE6 Le candidat a mis en oeuvre des modèles à partir de modèles pré-entraînés (technique de\n",
    "Transfer Learning)"
   ]
  },
  {
   "cell_type": "markdown",
   "metadata": {},
   "source": [
    "**Évaluer la performance des modèles d’apprentissage profond selon différents critères (scores,\n",
    "temps d'entraînement, etc.) afin de choisir le modèle le plus performant pour la problématique\n",
    "métier.**\n",
    "- CE1 Le candidat a choisi une métrique adaptée à la problématique métier, et sert à évaluer la\n",
    "performance des modèles\n",
    "- CE2 Le candidat a explicité le choix de la métrique d’évaluation\n",
    "- CE3 Le candidat a évalué la performance d’un modèle de référence et sert de comparaison pour\n",
    "évaluer la performance des modèles plus complexes\n",
    "- CE4 Le candidat a calculé, hormis la métrique choisie, au moins un autre indicateur pour comparer les\n",
    "modèles (par exemple : le temps nécessaire pour l’entraînement du modèle)\n",
    "- CE5 Le candidat a optimisé au moins un des hyperparamètres du modèle choisi (par exemple : le choix\n",
    "de la fonction Loss, le Batch Size, le nombre d'Epochs)"
   ]
  },
  {
   "cell_type": "markdown",
   "metadata": {},
   "source": [
    "**Utiliser des techniques d’augmentation des données afin d'améliorer la performance des modèles.**\n",
    "- CE1 Le candidat a utilisé plusieurs techniques d’augmentation des données (ex. pour des images :\n",
    "rotation, changement d’échelle, ajout de bruit…).\n",
    "- CE2 Le candidat a présenté une synthèse comparative des améliorations de performance grâce aux\n",
    "différentes techniques d'augmentation de données utilisées (maîtrise de l’overfitting, meilleur score)."
   ]
  },
  {
   "cell_type": "code",
   "execution_count": null,
   "metadata": {},
   "outputs": [],
   "source": [
    "# Afficher temps d'exécution du notebook\n",
    "calculer_duree_notebook(start_time)"
   ]
  }
 ],
 "metadata": {
  "kernelspec": {
   "display_name": "env",
   "language": "python",
   "name": "python3"
  },
  "language_info": {
   "codemirror_mode": {
    "name": "ipython",
    "version": 3
   },
   "file_extension": ".py",
   "mimetype": "text/x-python",
   "name": "python",
   "nbconvert_exporter": "python",
   "pygments_lexer": "ipython3",
   "version": "3.11.7"
  }
 },
 "nbformat": 4,
 "nbformat_minor": 2
}
