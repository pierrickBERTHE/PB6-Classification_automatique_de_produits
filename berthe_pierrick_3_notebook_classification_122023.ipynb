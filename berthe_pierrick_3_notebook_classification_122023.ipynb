{
  "cells": [
    {
      "cell_type": "markdown",
      "metadata": {
        "colab_type": "text",
        "id": "view-in-github"
      },
      "source": [
        "<a href=\"https://colab.research.google.com/github/pierrickBERTHE/Projet6_OCR_DataScientist-/blob/main/berthe_pierrick_3_notebook_classification_122023.ipynb\" target=\"_parent\"><img src=\"https://colab.research.google.com/assets/colab-badge.svg\" alt=\"Open In Colab\"/></a>"
      ]
    },
    {
      "cell_type": "markdown",
      "metadata": {
        "id": "UPpgnGKh07Fv"
      },
      "source": [
        "# <span style='color:SteelBlue'>P6 - Classifiez automatiquement des biens de consommation (part 3)</span>"
      ]
    },
    {
      "cell_type": "markdown",
      "metadata": {
        "id": "ck3z0ZFR07Fw"
      },
      "source": [
        "<img src=\"https://logo-marque.com/wp-content/uploads/2020/11/Flipkart-Logo.png\" width=\"300\" height=\"200\">"
      ]
    },
    {
      "cell_type": "markdown",
      "metadata": {
        "id": "15C8ftJT07Fw"
      },
      "source": [
        "**Introduction**\n",
        "\n",
        "Importations des librairies utilisees dans ce notebook <br>\n",
        "\n",
        "Paramètres d'affichage<br>\n",
        "\n",
        "Fonctions <br>\n",
        "\n",
        "Importation des données <br>\n",
        "\n",
        "**Etape 1 : Structuration du travail**\n",
        "- _1/ Elaboration du modèle_\n",
        "- _2/ Eviter le data leakage_\n",
        "- _3/ Informations pour le travail_\n",
        "\n",
        "**Etape 2 : Séparation des données**\n",
        "- _1/ Détermination target et features_\n",
        "- _2/ Train_test_split_\n",
        "- \n",
        "**Etape 3 : Classifieur naïf**\n",
        "\n",
        "**Etape 4 : MLP**\n",
        "- _1/ Prétraitement des données_\n",
        "- _2/ Elaboration du modèle_\n",
        "- _3/ Modèle optimal_\n",
        "\n",
        "**Etape 5 : CNN**\n",
        "- _1/ Prétraitement des données_\n",
        "- _2/ Elaboration du modèle_\n",
        "- _3/ Modèle optimal_\n",
        "\n",
        "**Etape 6 : CNN + Transfer learning VGG-16**\n",
        "- _1/ Prétraitement des données_\n",
        "- _2/ Elaboration du modèle_\n",
        "- _3/ Modèle optimal_\n",
        "\n",
        "**Etape 7 : Comparaison des résultats**\n",
        "\n",
        "**Etape 8 : CNN + Transfer learning VGG-16 avec Data Augmentation**\n",
        "- _1/ Prétraitement des données_\n",
        "- _2/ Elaboration du modèle_\n",
        "- _3/ Modèle optimal_\n",
        "\n",
        "**Etape 9 : Comparaison des résultats**\n",
        "\n",
        "**Conclusion**"
      ]
    },
    {
      "cell_type": "markdown",
      "metadata": {
        "id": "0VhX5SlE07Fx"
      },
      "source": [
        "# <span style='background:blue'>Introduction</span>\n",
        "\n",
        "L'entreprise **\"Flipkart\"** est une entreprise indienne qui souhaite lancer une\n",
        "marketplace e-commerce. Sur cette place de marché anglophone, des vendeurs\n",
        "proposent des articles à des acheteurs en postant une photo et une description.\n",
        "Pour rendre l’expérience utilisateur des vendeurs (faciliter la mise en ligne\n",
        "de nouveaux articles) et des acheteurs (faciliter la recherche de produits)\n",
        "la plus fluide possible, et dans l'optique d'un passage à l'échelle,\n",
        "il devient nécessaire **d'automatiser l'attribution de la catégorie** d'un\n",
        "article (actuellement effectuée manuellement par les vendeurs, donc peu\n",
        "fiable).\n",
        "___\n",
        "**Missions**<br>\n",
        "1/ Faire une **étude de la faisabilité d’un moteur de classification**\n",
        "d’article basé sur une **description** pour automatiser l’attribution\n",
        "de catégorie de l’article.\n",
        "\n",
        "2/ Faire une **étude de la faisabilité d’un moteur de classification**\n",
        "d’article basé sur une **image** pour automatiser l’attribution\n",
        "de catégorie de l’article.\n",
        "\n",
        "3/ **Réaliser une classification supervisée** à partir des images par la mise\n",
        "en place d’une data augmentation afin d’optimiser le modèle.\n",
        "\n",
        "4/ **Extraire les 10 premiers produits à base de « champagne »** issus de\n",
        "l’API fournie dans un fichier “.csv”, contenant pour chaque produit les\n",
        "données suivantes : foodId, label, category, foodContentsLabel, image.\n",
        "___\n",
        "Ce notebook presente la 3ème partie concernant la réalisation de la\n",
        "classification supervisée à partir des images par la mise en place d’une\n",
        "data augmentation afin d’optimiser le modèle.\n",
        "___\n",
        "**Source des datasets**<br>\n",
        "Source : Non précisé<br>\n",
        "___"
      ]
    },
    {
      "cell_type": "markdown",
      "metadata": {
        "id": "5_c-_Zoy07Fx"
      },
      "source": [
        "# <span style='background:grey'>Importations des librairies utilisees dans ce notebook</span>"
      ]
    },
    {
      "cell_type": "code",
      "execution_count": 1,
      "metadata": {
        "colab": {
          "base_uri": "https://localhost:8080/"
        },
        "id": "C29DafT_07Fy",
        "outputId": "e924da2e-3a91-46c5-eb5a-4a18d69fb6df"
      },
      "outputs": [
        {
          "name": "stdout",
          "output_type": "stream",
          "text": [
            "WARNING:tensorflow:From c:\\Users\\pierr\\VSC_Projects\\Projet6_OCR_DataScientist-\\env\\Lib\\site-packages\\keras\\src\\losses.py:2976: The name tf.losses.sparse_softmax_cross_entropy is deprecated. Please use tf.compat.v1.losses.sparse_softmax_cross_entropy instead.\n",
            "\n",
            "Version des librairies utilisees :\n",
            "Python        : 3.11.8 (tags/v3.11.8:db85d51, Feb  6 2024, 22:03:32) [MSC v.1937 64 bit (AMD64)]\n",
            "Matplotlib    : 3.8.2\n",
            "NumPy         : 1.26.2\n",
            "Pandas        : 2.1.4\n",
            "Seaborn       : 0.13.0\n",
            "Tensorflow    : 2.15.0\n",
            "\n",
            "Nombre de coeur disponible(s) sur ce PC: 12 coeur(s)\n",
            "\n",
            "Code lance le : 2024-02-09T09:49:26.668618\n",
            "\n"
          ]
        }
      ],
      "source": [
        "# # pip install pour Google Colab\n",
        "# !pip install pyopencl\n",
        "# !pip install plot-keras-history\n",
        "# !pip install flake8 pycodestyle_magic\n",
        "# !pip install tensorflow\n",
        "\n",
        "# Librairies generales\n",
        "import os.path\n",
        "import sys\n",
        "from IPython.display import display\n",
        "import time\n",
        "from datetime import datetime\n",
        "import pyopencl as cl\n",
        "import pickle\n",
        "\n",
        "# Librairies data science\n",
        "import matplotlib as mpl\n",
        "import matplotlib.pyplot as plt\n",
        "import numpy as np\n",
        "import pandas as pd\n",
        "import seaborn as sns\n",
        "from PIL import Image\n",
        "import random\n",
        "\n",
        "# Machine learning\n",
        "from sklearn.model_selection import train_test_split\n",
        "from sklearn import metrics\n",
        "from sklearn.dummy import DummyClassifier\n",
        "\n",
        "# deep learning\n",
        "import tensorflow as tf\n",
        "from keras import Input\n",
        "from tensorflow.keras.preprocessing.image import load_img, img_to_array\n",
        "from keras.applications.vgg16 import preprocess_input\n",
        "from keras.utils import to_categorical\n",
        "from keras.applications.vgg16 import VGG16\n",
        "from keras.layers import GlobalAveragePooling2D, Dense, Dropout, Flatten\n",
        "from keras.layers import Conv2D, MaxPooling2D\n",
        "from keras.models import Model, Sequential, load_model\n",
        "from keras.callbacks import EarlyStopping, ModelCheckpoint\n",
        "from plot_keras_history import show_history, plot_history\n",
        "from keras.preprocessing.image import ImageDataGenerator\n",
        "\n",
        "\n",
        "# # Pour Google Colab\n",
        "# from google.colab import drive\n",
        "# drive.mount('/content/drive')\n",
        "# print(\"\\nConnecté à Google Drive\\n\")\n",
        "\n",
        "# Affichage plot dans le notebook\n",
        "%matplotlib inline\n",
        "\n",
        "# Versions\n",
        "print(\"Version des librairies utilisees :\")\n",
        "print(\"Python        : \" + sys.version)\n",
        "print(\"Matplotlib    : \" + mpl.__version__)\n",
        "print(\"NumPy         : \" + np.version.full_version)\n",
        "print(\"Pandas        : \" + pd.__version__)\n",
        "print(\"Seaborn       : \" + sns.__version__)\n",
        "print(\"Tensorflow    : \" + tf.__version__)\n",
        "\n",
        "# Nombre de coeurs\n",
        "nbr_coeur = os.cpu_count()\n",
        "print(f\"\\nNombre de coeur disponible(s) sur ce PC: {nbr_coeur} coeur(s)\")\n",
        "\n",
        "# Afficher heure lancement\n",
        "maintenant = datetime.now().isoformat()\n",
        "print(\"\\nCode lance le : \" + maintenant)\n",
        "\n",
        "# Enregistrer l'heure de debut\n",
        "start_time = time.time()\n",
        "\n",
        "# Activer la verification PEP8\n",
        "print(\"\")\n",
        "%load_ext pycodestyle_magic\n",
        "%pycodestyle_on"
      ]
    },
    {
      "cell_type": "markdown",
      "metadata": {
        "id": "bZGN1VuQVDZE"
      },
      "source": [
        "<div class=\"alert alert-block alert-info\"><b>Note informative: </b> <br>\n",
        "J'ai exécuté ce notebook sur Google Colab pour obtenir les modèles de deep learning car lorsque exécuté ce notebook en local sur mon CPU, j'obtenais ce message d'erreur après le batch_size=64 du modèle CNN :<br>\n",
        "\n",
        "*The Kernel crashed while executing code in the the current cell or a previous cell. Please review the code in the cell(s) to identify a possible cause of the failure. Click here for more info. View Jupyter log for further details.* <div>\n",
        "\n",
        "A la suite de ces calculs effectués sur Google colab, j'ai du à nouveau exécuter ce notebook en local sur mon CPU pour pouvoir effectuer la data augmentation. Les cellules d'output de Google Colab ne sont donc pas disponibles dans ce notebook mais la totalité des résultats y sont bien présentés."
      ]
    },
    {
      "cell_type": "markdown",
      "metadata": {
        "id": "0yYdIMbO07Fz"
      },
      "source": [
        "# <span style='background:grey'>Paramètres d'affichage</span>"
      ]
    },
    {
      "cell_type": "code",
      "execution_count": 2,
      "metadata": {
        "id": "H-48WpYH07Fz"
      },
      "outputs": [],
      "source": [
        "# parametrage des paramètres d'affichage dans le notebook\n",
        "pd.set_option(\"display.max_row\", 50)\n",
        "pd.set_option(\"display.max_column\", 50)\n",
        "pd.set_option(\"display.precision\", 2)\n",
        "\n",
        "# Ignorer les messages d'avertissement de tensorflow\n",
        "tf.get_logger().setLevel('ERROR')\n",
        "\n",
        "# Desactiver la limite de taille des images\n",
        "Image.MAX_IMAGE_PIXELS = None"
      ]
    },
    {
      "cell_type": "markdown",
      "metadata": {
        "id": "rh2KYSIH07Fz"
      },
      "source": [
        "# <span style='background:grey'>Fonctions</span>"
      ]
    },
    {
      "cell_type": "code",
      "execution_count": 3,
      "metadata": {
        "id": "Tb3gN-ap07F0"
      },
      "outputs": [],
      "source": [
        "def calculer_duree_notebook(start_time):\n",
        "    \"\"\"\n",
        "    Cette procédure calcule et affiche la durée totale depuis un temps de\n",
        "    début donné.\n",
        "\n",
        "    Args:\n",
        "        start_time (float): Le temps de début en secondes depuis l'époque.\n",
        "\n",
        "    Returns:\n",
        "        None\n",
        "    \"\"\"\n",
        "\n",
        "    # Calculer la durée totale\n",
        "    total_time = time.time() - start_time\n",
        "\n",
        "    # Convertir en minutes et secondes\n",
        "    minutes, seconds = divmod(total_time, 60)\n",
        "\n",
        "    # Afficher la durée totale\n",
        "    message = (\n",
        "        \"Durée totale pour faire tourner le notebook : \"\n",
        "        \"{0} minute(s) {1} seconde(s)\"\n",
        "    )\n",
        "    print(message.format(int(minutes), int(seconds)))"
      ]
    },
    {
      "cell_type": "code",
      "execution_count": 4,
      "metadata": {
        "id": "LUWeOXBH07F0"
      },
      "outputs": [],
      "source": [
        "def affiche_heatmap(y, nom_y):\n",
        "    \"\"\"\n",
        "    Crée un heatmap des labels y.\n",
        "\n",
        "    Parameters:\n",
        "    y (numpy.array): Un array numpy contenant les labels à visualiser.\n",
        "    nom_y (str): Le nom de la variable y.\n",
        "\n",
        "    Returns:\n",
        "    None\n",
        "    \"\"\"\n",
        "    sns.heatmap(y)\n",
        "    plt.title(f'Heatmap \"{nom_y}\"')\n",
        "    plt.xlabel('Catégories')\n",
        "    plt.ylabel('Image')\n",
        "    plt.show()"
      ]
    },
    {
      "cell_type": "code",
      "execution_count": 5,
      "metadata": {
        "id": "hoZepxGp07F0"
      },
      "outputs": [],
      "source": [
        "def pretraitement_image(data, model_type):\n",
        "    \"\"\"\n",
        "    Cette fonction prépare les images pour l'entraînement d'un modèle de\n",
        "    machine learning. Si le modèle est de type VGG-16, un prétraitement\n",
        "    spécifique est appliqué.\n",
        "\n",
        "    Paramètres :\n",
        "    data (DataFrame) : DataFrame contenant les chemins d'accès aux images\n",
        "    model_type (str) : Le type de modèle pour lequel les images sont préparées.\n",
        "        Si 'vgg16', le prétraitement spécifique à VGG-16 est appliqué.\n",
        "\n",
        "    Retourne :\n",
        "    prepared_images_np (ndarray) : Tableau NumPy des images préparées.\n",
        "    \"\"\"\n",
        "\n",
        "    # Initialisation de la liste pour stocker les images préparées\n",
        "    prepared_images = []\n",
        "\n",
        "    # Parcours de chaque chemin d'image dans data\n",
        "    for image_num in range(len(data)):\n",
        "\n",
        "        # Chargement et redimensionnement de l'image en 224 x 224 pixels\n",
        "        img = (load_img(data[image_num], target_size=(224, 224)))\n",
        "\n",
        "        # Conversion de l'image en tableau NumPy\n",
        "        img = img_to_array(img)\n",
        "\n",
        "        # Redimensionnement tableau de l'image pour certifier les 3 dimensions\n",
        "        img = img.reshape((img.shape[0], img.shape[1], img.shape[2]))\n",
        "\n",
        "        # Pré-traitement specifique à VGG-16\n",
        "        if model_type == 'vgg16':\n",
        "            img = preprocess_input(img)\n",
        "        else:\n",
        "            pass\n",
        "\n",
        "        # Ajout de l'image préparée à la liste\n",
        "        prepared_images.append(img)\n",
        "\n",
        "    # Conversion de la liste en tableau NumPy\n",
        "    prepared_images_np = np.array(prepared_images)\n",
        "\n",
        "    return prepared_images_np"
      ]
    },
    {
      "cell_type": "code",
      "execution_count": 6,
      "metadata": {
        "id": "GOSie4K607F0"
      },
      "outputs": [],
      "source": [
        "def creation_modele_mlp(fonction_perte, optimiseur, metric_eval, verbose=0):\n",
        "    \"\"\"\n",
        "    Cette fonction crée et compile un modèle de réseau de neurones à\n",
        "    plusieurs couches () avec Keras. Le modèle est conçu pour des données\n",
        "    d'entrée de forme (224, 224, 3).\n",
        "\n",
        "    Le modèle a la structure suivante :\n",
        "    - 1 couche d'entrée de forme (224, 224, 3)\n",
        "    - 1 couche Flatten pour aplatir les données d'entrée\n",
        "    - 2 couches Dense avec 10 neurones chacune et 1 fonction d'activation ReLU\n",
        "    - 1 couche Dense avec 7 neurones et une fonction d'activation softmax\n",
        "\n",
        "    Le modèle est compilé avec la fonction de perte 'categorical_crossentropy',\n",
        "    l'optimiseur 'rmsprop' et la métrique 'accuracy'.\n",
        "\n",
        "    Paramètres :\n",
        "    fonction_perte (str) : La fonction de perte à utiliser pour la compilation\n",
        "    du modèle.\n",
        "    optimiseur (str) : L'optimiseur à utiliser pour la compilation du modèle.\n",
        "    metric_eval (str) : La métrique à utiliser pour la compilation du modèle.\n",
        "    verbose (int) : Le niveau de détail à afficher pour le modèle. 0 pour\n",
        "    aucune information, 1 pour un résumé du modèle. Par défaut, 0.\n",
        "\n",
        "    Retourne :\n",
        "    Le modèle  compilé.\n",
        "    \"\"\"\n",
        "    # Créer le modèle\n",
        "    model_mlp = Sequential()\n",
        "    model_mlp.add(Input(shape=(224, 224, 3)))\n",
        "    model_mlp.add(Flatten())\n",
        "    model_mlp.add(Dense(10, activation='relu'))\n",
        "    model_mlp.add(Dense(10, activation='relu'))\n",
        "    model_mlp.add(Dense(7, activation='softmax'))\n",
        "\n",
        "    # Compiler le modèle\n",
        "    model_mlp.compile(\n",
        "        loss=fonction_perte,\n",
        "        optimizer=optimiseur,\n",
        "        metrics=[metric_eval]\n",
        "    )\n",
        "\n",
        "    # Afficher un résumé du modèle si besoin\n",
        "    if verbose == 1:\n",
        "        print(model_mlp.summary())\n",
        "    else:\n",
        "        pass\n",
        "\n",
        "    return model_mlp"
      ]
    },
    {
      "cell_type": "code",
      "execution_count": 7,
      "metadata": {
        "id": "kuh6Txmv07F1"
      },
      "outputs": [],
      "source": [
        "def creation_modele_cnn(fonction_perte, optimiseur, metric_eval, verbose=0):\n",
        "    \"\"\"\n",
        "    Crée un modèle de réseau de neurones convolutif (CNN) pour la\n",
        "    classification d'images.\n",
        "\n",
        "    Le modèle est composé de la manière suivante :\n",
        "    - Une couche de convolution avec 32 filtres de taille (3,3) et une fonction\n",
        "    d'activation ReLU\n",
        "    - Une couche de pooling max avec une taille de pool de (2,2)\n",
        "    - Une couche de flatten pour aplatir les sorties des couches précédentes en\n",
        "    un seul vecteur\n",
        "    - Une couche dense (fully connected) avec 56 neurones et une fonction\n",
        "    d'activation ReLU\n",
        "    - Une couche de sortie avec 7 neurones et une fonction d'activation\n",
        "    softmax\n",
        "\n",
        "    Le modèle est compilé avec la fonction de perte, l'optimiseur et la\n",
        "    métrique spécifiés par les paramètres de la fonction.\n",
        "\n",
        "    Paramètres :\n",
        "    fonction_perte (str) : La fonction de perte à utiliser pour la compilation\n",
        "    du modèle.\n",
        "    optimiseur (str) : L'optimiseur à utiliser pour la compilation du modèle.\n",
        "    metric_eval (str) : La métrique à utiliser pour la compilation du modèle.\n",
        "    verbose (int) : Le niveau de détail à afficher pour le modèle. 0 pour\n",
        "    aucune information, 1 pour un résumé du modèle. Par défaut, 0.\n",
        "\n",
        "    Retourne :\n",
        "    Le modèle CNN créé et compilé.\n",
        "    \"\"\"\n",
        "    # Créer le modèle\n",
        "    model_cnn = Sequential()\n",
        "    model_cnn.add(\n",
        "        Conv2D(32, (3, 3), activation='relu', input_shape=(224, 224, 3)))\n",
        "    model_cnn.add(MaxPooling2D(pool_size=(2, 2)))\n",
        "    model_cnn.add(Flatten())\n",
        "    model_cnn.add(Dense(56, activation='relu'))\n",
        "    model_cnn.add(Dense(7, activation='softmax'))\n",
        "\n",
        "    # Compiler le modèle\n",
        "    model_cnn.compile(\n",
        "        loss=fonction_perte,\n",
        "        optimizer=optimiseur,\n",
        "        metrics=[metric_eval]\n",
        "    )\n",
        "\n",
        "    # Afficher un résumé du modèle si besoin\n",
        "    if verbose == 1:\n",
        "        print(model_cnn.summary())\n",
        "    else:\n",
        "        pass\n",
        "\n",
        "    return model_cnn"
      ]
    },
    {
      "cell_type": "code",
      "execution_count": 8,
      "metadata": {
        "id": "h7fBWNoL07F1"
      },
      "outputs": [],
      "source": [
        "def creation_modele_transfer_vgg16(\n",
        "        fonction_perte,\n",
        "        optimiseur,\n",
        "        metric_eval,\n",
        "        verbose=0\n",
        "):\n",
        "    \"\"\"\n",
        "    Crée un modèle de classification d'images basé sur le modèle pré-entraîné\n",
        "    VGG16. Le modèle VGG16 est utilisé comme extracteur de caractéristiques,\n",
        "    et de nouvelles couches sont ajoutées pour la classification.\n",
        "\n",
        "    Les poids du modèle VGG16 sont initialisés avec les poids appris sur\n",
        "    ImageNet et ne sont pas mis à jour pendant l'entraînement.\n",
        "\n",
        "    Le nouveau modèle est compilé avec la perte de cross-entropie catégorielle,\n",
        "    l'optimiseur RMSprop et la précision comme métrique.\n",
        "\n",
        "    Retourne:\n",
        "        model: Le modèle créé.\n",
        "    \"\"\"\n",
        "    # Récupération du modèle pré-entraîné VGG16 sans les couches supérieures\n",
        "    model0 = VGG16(\n",
        "        include_top=False,\n",
        "        weights=\"imagenet\",\n",
        "        input_shape=(224, 224, 3)\n",
        "    )\n",
        "\n",
        "    # Rendre les couches du modèle VGG16 non entraînables\n",
        "    for layer in model0.layers:\n",
        "        layer.trainable = False\n",
        "\n",
        "    # Récupérer la sortie du modèle VGG16\n",
        "    x = model0.output\n",
        "\n",
        "    # Completer model : vecteur 1D / ReLU / desactive moitié / softmax 7 cate\n",
        "    x = GlobalAveragePooling2D()(x)\n",
        "    x = Dense(256, activation='relu')(x)\n",
        "    x = Dropout(0.5)(x)\n",
        "    predictions = Dense(7, activation='softmax')(x)\n",
        "\n",
        "    # Créer le nouveau modèle\n",
        "    model = Model(inputs=model0.input, outputs=predictions)\n",
        "\n",
        "    # Compiler le modèle : perte a minimiser / optimiseur / métrique evaluation\n",
        "    model.compile(\n",
        "        loss=fonction_perte,\n",
        "        optimizer=optimiseur,\n",
        "        metrics=[metric_eval]\n",
        "        )\n",
        "\n",
        "    # Afficher un résumé du modèle si besoin\n",
        "    if verbose == 1:\n",
        "        print(model.summary())\n",
        "    else:\n",
        "        pass\n",
        "\n",
        "    return model"
      ]
    },
    {
      "cell_type": "code",
      "execution_count": 9,
      "metadata": {
        "id": "JpHb5MiE07F1"
      },
      "outputs": [],
      "source": [
        "def creer_callbacks(nom_modele, patience, batch_size=None, verbose=1):\n",
        "    \"\"\"\n",
        "    Cette fonction crée une liste de callbacks pour l'entraînement d'un modèle\n",
        "    Keras. Les callbacks incluent un checkpoint pour enregistrer les meilleurs\n",
        "    poids du modèle (lorsque val_loss est minimale) et un EarlyStopping pour\n",
        "    arrêter l'entraînement si val_loss ne diminue plus après un certain nombre\n",
        "    d'epochs.\n",
        "\n",
        "    Paramètres :\n",
        "    nom_modele (str) : Le nom du modèle. Utilisé pour nommer le fichier de\n",
        "    poids exporté.\n",
        "    patience (int) : Le nombre d'epochs à attendre avant d'arrêter\n",
        "    batch_size (int) : La taille des batchs à utiliser pour l'entraînement\n",
        "    (initialisé à None)\n",
        "    verbose (int) : Le niveau de verbosité pour les callbacks (initialisé à 1)\n",
        "\n",
        "    Retourne :\n",
        "    callbacks_list (list) : Liste des callbacks à utiliser lors de\n",
        "    l'entraînement du modèle.\n",
        "    chemin_modele_export (str) : Chemin d'exportation du modèle.\n",
        "    \"\"\"\n",
        "    # Définir le chemin d'exportation du modèle\n",
        "    if batch_size is None:\n",
        "        chemin_modele_export = (f\"./modele_ML/{nom_modele}_best_weights.h5\")\n",
        "    else:\n",
        "        chemin_modele_export = (\n",
        "            f\"./modele_ML/{nom_modele}_batch{batch_size}_best_weights.h5\"\n",
        "        )\n",
        "\n",
        "    # Callback 1 : Enregistrer le meilleur modèle (poids quand val_loss min)\n",
        "    checkpoint = ModelCheckpoint(\n",
        "        chemin_modele_export,\n",
        "        monitor='val_loss',\n",
        "        verbose=verbose,\n",
        "        save_best_only=True,\n",
        "        mode='min'\n",
        "    )\n",
        "\n",
        "    # Callback 2 : stop entrainement si val_loss ne diminue plus apres 3 epochs\n",
        "    es = EarlyStopping(\n",
        "        monitor='val_loss',\n",
        "        mode='min',\n",
        "        verbose=verbose,\n",
        "        patience=patience\n",
        "    )\n",
        "\n",
        "    # Assigner les callbacks à une liste\n",
        "    callbacks_list = [checkpoint, es]\n",
        "\n",
        "    return callbacks_list, chemin_modele_export"
      ]
    },
    {
      "cell_type": "code",
      "execution_count": 10,
      "metadata": {
        "id": "sIjpTIaB07F2"
      },
      "outputs": [],
      "source": [
        "def conf_mat_transform_argmax(y_true, y_pred):\n",
        "    \"\"\"\n",
        "    Transforme les labels prédits en utilisant la valeur maximale de chaque\n",
        "    colonne.\n",
        "\n",
        "    Paramètres:\n",
        "    y_true (array-like): Les vrais labels.\n",
        "    y_pred (array-like): Les labels prédits.\n",
        "\n",
        "    Retourne:\n",
        "    y_pred_transform (Series): Les labels prédits transformés.\n",
        "    \"\"\"\n",
        "\n",
        "    # Calculer la matrice de confusion\n",
        "    conf_mat = metrics.confusion_matrix(y_true, y_pred)\n",
        "\n",
        "    # Calcule les correspondances (valeurs max de chaque colonne)\n",
        "    corresp = np.argmax(conf_mat, axis=0)\n",
        "    print(\"\\nCorrespondance des clusters : \", corresp)\n",
        "\n",
        "    # Créer un DataFrame avec les vrais labels et les labels prédits\n",
        "    labels = pd.Series(y_true, name=\"y_true\").to_frame()\n",
        "    labels['y_pred'] = y_pred\n",
        "\n",
        "    # Transformer les labels prédits en utilisant la correspondance\n",
        "    labels['y_pred_transform'] = labels['y_pred'].apply(\n",
        "        lambda x: corresp[x] if x < len(corresp) else x)\n",
        "\n",
        "    # Retourner les labels prédits transformés\n",
        "    return labels['y_pred_transform']"
      ]
    },
    {
      "cell_type": "code",
      "execution_count": 11,
      "metadata": {
        "id": "Zr2Wu3mz07F3"
      },
      "outputs": [],
      "source": [
        "def get_available_amd_gpus():\n",
        "    \"\"\"\n",
        "    Cette fonction renvoie une liste des GPU AMD disponibles sur la machine.\n",
        "\n",
        "    Elle utilise la bibliothèque pyopencl pour obtenir une liste des\n",
        "    plateformes disponibles,\n",
        "    puis vérifie chaque plateforme pour voir si elle est fournie par AMD.\n",
        "    Si c'est le cas, elle vérifie chaque device sur la plateforme pour voir\n",
        "    s'il s'agit d'un GPU,\n",
        "    et si c'est le cas, elle l'ajoute à la liste des GPU.\n",
        "\n",
        "    Retourne :\n",
        "        Une liste des objets pyopencl.Device pour les GPU AMD disponibles.\n",
        "    \"\"\"\n",
        "    # Obtenir une liste de toutes les plateformes disponibles\n",
        "    platforms = cl.get_platforms()\n",
        "\n",
        "    # Initialiser une liste vide pour stocker les GPU AMD\n",
        "    gpu_devices = []\n",
        "\n",
        "    # Parcourir chaque plateforme\n",
        "    for platform in platforms:\n",
        "\n",
        "        # Vérifier si la plateforme est fournie par AMD\n",
        "        amd_vendor = 'Advanced Micro Devices, Inc.'\n",
        "        if platform.get_info(cl.platform_info.VENDOR) == amd_vendor:\n",
        "\n",
        "            # Parcourir chaque device sur la plateforme\n",
        "            for device in platform.get_devices():\n",
        "\n",
        "                # Vérifier si le device est un GPU\n",
        "                if device.type == cl.device_type.GPU:\n",
        "\n",
        "                    # Si c'est un GPU, l'ajouter à la liste des GPU\n",
        "                    gpu_devices.append(device)\n",
        "\n",
        "    # Retourner la liste des GPU AMD\n",
        "    return gpu_devices"
      ]
    },
    {
      "cell_type": "code",
      "execution_count": 12,
      "metadata": {
        "id": "q6-W1BV407F3"
      },
      "outputs": [],
      "source": [
        "def matrice_conf_et_rapport(y_val_num, y_val_pred_transform, categories):\n",
        "    \"\"\"\n",
        "    Affiche la matrice de confusion et le rapport de classification pour les\n",
        "    valeurs prédites et réelles.\n",
        "\n",
        "    Paramètres:\n",
        "    y_val_num (array): Les valeurs réelles.\n",
        "    y_val_pred_transform (array): Les valeurs prédites.\n",
        "    categories (list): Les catégories pour les axes de la matrice de confusion.\n",
        "\n",
        "    Retourne:\n",
        "    conf_mat_trans_df (DataFrame): La matrice de confusion.\n",
        "    \"\"\"\n",
        "    # Creer la matrice de confusion\n",
        "    conf_mat = metrics.confusion_matrix(y_val_num, y_val_pred_transform)\n",
        "\n",
        "    # Transformation en dataFrame\n",
        "    conf_mat_trans_df = pd.DataFrame(\n",
        "        conf_mat,\n",
        "        index=[label for label in sorted(categories)],\n",
        "        columns=[label for label in sorted(categories)]\n",
        "        )\n",
        "\n",
        "    # Afficher la matrice de confusion\n",
        "    plt.figure(figsize=(6, 4))\n",
        "    sns.heatmap(conf_mat_trans_df, annot=True, cmap=\"Blues\")\n",
        "    plt.title('Matrice de confusion')\n",
        "    plt.xlabel('Catégories réelles')\n",
        "    plt.ylabel('Catégories prédites')\n",
        "    plt.xticks(rotation=45, ha='right')\n",
        "    plt.show()\n",
        "\n",
        "    # Afficher le rapport de classification\n",
        "    print(metrics.classification_report(\n",
        "        y_val_num,\n",
        "        y_val_pred_transform,\n",
        "        zero_division=1\n",
        "        )\n",
        "    )\n",
        "\n",
        "    return conf_mat_trans_df"
      ]
    },
    {
      "cell_type": "code",
      "execution_count": 13,
      "metadata": {
        "id": "1H4wmGfd07F3"
      },
      "outputs": [],
      "source": [
        "def surligne_meilleur(s):\n",
        "    \"\"\"\n",
        "    Cette fonction met en évidence la valeur maximale pour 'Validation\n",
        "    Accuracy' et la valeur minimale pour 'Temps (sec)' dans une série pandas.\n",
        "\n",
        "    Paramètres :\n",
        "    s (pd.Series) : Une série pandas contenant les données à mettre en avant.\n",
        "\n",
        "    Retourne :\n",
        "    list : Une liste de chaînes de caractères représentant les styles CSS pour\n",
        "    chaque élément de la série. Les valeurs maximales/minimales sont mises en\n",
        "    évidence avec un fond vert.\n",
        "\n",
        "    \"\"\"\n",
        "    # Initialiser is_best avec une série de False\n",
        "    is_best = pd.Series([False] * len(s), index=s.index)\n",
        "\n",
        "    # SI c'est la valeur mon/max, mettre en évidence avec un fond vert\n",
        "    if s.name == 'Validation Accuracy':\n",
        "        is_best = s == s.max()\n",
        "\n",
        "    elif s.name == 'Temps (sec)':\n",
        "        is_best = s == s.min()\n",
        "\n",
        "    # SINON, ne rien faire\n",
        "    else:\n",
        "        pass\n",
        "\n",
        "    return ['background-color: green' if v else '' for v in is_best]"
      ]
    },
    {
      "cell_type": "code",
      "execution_count": 14,
      "metadata": {
        "id": "w9WpTO_xwsQ3"
      },
      "outputs": [],
      "source": [
        "def creer_dataframe_resultats(\n",
        "        history_dict,\n",
        "        time_dict,\n",
        "        epoch_dict,\n",
        "        batch_sizes,\n",
        "        nom_modele\n",
        "):\n",
        "    \"\"\"\n",
        "    Cette fonction crée un DataFrame à partir de l'historique de\n",
        "    l'entraînement du modèle, ajoute les temps d'entraînement, le nombre\n",
        "    d'époques et les tailles de batch comme colonnes, et sauvegarde le\n",
        "    DataFrame dans un fichier CSV.\n",
        "\n",
        "    Paramètres :\n",
        "    - history_dict (dict) : Dictionnaire contenant l'historique de\n",
        "    l'entraînement du modèle.\n",
        "    - time_dict (dict) : Dictionnaire contenant les temps d'entraînement.\n",
        "    - epoch_dict (dict) : Dictionnaire contenant le nombre d'époques pour\n",
        "    chaque taille de batch.\n",
        "    - batch_sizes (list) : Liste des tailles de batch utilisées.\n",
        "\n",
        "    Retourne :\n",
        "    - resultat_model (DataFrame) : DataFrame contenant les résultats du modèle.\n",
        "    \"\"\"\n",
        "    # Créer un DataFrame à partir de l'historique\n",
        "    resultat_model = pd.DataFrame(\n",
        "        {k: v['val_accuracy'][-1] for k, v in history_dict.items()},\n",
        "        index=[0]\n",
        "    )\n",
        "\n",
        "    # Transposer le DataFrame (batch_sizes en index)\n",
        "    resultat_model = resultat_model.transpose()\n",
        "\n",
        "    # Renommer la colonne\n",
        "    resultat_model.columns = ['Validation Accuracy']\n",
        "\n",
        "    # Ajouter les temps d'entraînement, epoch et batch_size\n",
        "    resultat_model['Temps (sec)'] = pd.Series(time_dict)\n",
        "    resultat_model['Epochs'] = pd.Series(epoch_dict)\n",
        "    resultat_model = resultat_model.reset_index(drop=True)\n",
        "    resultat_model['batch_size'] = pd.Series(batch_sizes)\n",
        "\n",
        "    # Sauvegarder le DataFrame dans un fichier CSV\n",
        "    resultat_model.to_csv(f'./modele_ML/{nom_modele}.csv', index=False)\n",
        "\n",
        "    return resultat_model"
      ]
    },
    {
      "cell_type": "code",
      "execution_count": 15,
      "metadata": {
        "id": "L_mbEtxCwsQ3"
      },
      "outputs": [],
      "source": [
        "def creer_dataframe_optimal(history_optimal_dict, batch_size, nom_model):\n",
        "    \"\"\"\n",
        "    Cette fonction crée un DataFrame à partir de l'historique de l'entraînement\n",
        "    du modèle optimal, ajoute les temps d'entraînement, le nombre d'époques et\n",
        "    la taille de batch comme colonnes et le nom du modèle en index.\n",
        "\n",
        "    Paramètres :\n",
        "    - history_optimal_dict (dict) : Dictionnaire contenant l'historique de\n",
        "    l'entraînement du modèle optimal, le temps d'exécution et le nombre\n",
        "    d'époques.\n",
        "    - batch_size (int) : Taille de batch utilisée.\n",
        "    - nom_model (str) : Nom du modèle.\n",
        "\n",
        "    Retourne :\n",
        "    - resultat_optimal (DataFrame) : DataFrame contenant les résultats du\n",
        "    modèle optimal.\n",
        "    \"\"\"\n",
        "    # Récupérer l'historique de l'entraînement\n",
        "    history = history_optimal_dict\n",
        "\n",
        "    # Créer un DataFrame à partir de l'historique\n",
        "    resultat_optimal = pd.DataFrame(\n",
        "        {\n",
        "            'Validation Accuracy': history['history']['val_accuracy'][-1],\n",
        "            'Temps (sec)': history['temps_train'],\n",
        "            'Epochs': history['num_epochs']\n",
        "        },\n",
        "        index=[0]\n",
        "    )\n",
        "\n",
        "    # Ajouter la taille de batch au DataFrame\n",
        "    resultat_optimal['batch_size'] = batch_size\n",
        "\n",
        "    # Définir le nom du modèle comme index\n",
        "    resultat_optimal.index = [nom_model]\n",
        "\n",
        "    return resultat_optimal"
      ]
    },
    {
      "cell_type": "markdown",
      "metadata": {
        "id": "x_ETjCI107F4"
      },
      "source": [
        "# <span style='background:grey'>Importation des donnees</span>\n",
        "\n",
        "Importation du fichier CSV d'extraction image avec Pandas"
      ]
    },
    {
      "cell_type": "code",
      "execution_count": 16,
      "metadata": {
        "colab": {
          "base_uri": "https://localhost:8080/",
          "height": 531
        },
        "id": "pTtfaMZG07F4",
        "outputId": "9ebfafef-ce7d-4cc2-b420-b42f95ad11aa"
      },
      "outputs": [
        {
          "name": "stdout",
          "output_type": "stream",
          "text": [
            "Execution in Google Colab :  False \n",
            "\n",
            "./data/cleaned/extraction_feature_image.csv\n",
            "===> fichier 'extraction_feature_image.csv' importé: <====\n",
            "\n"
          ]
        },
        {
          "data": {
            "text/html": [
              "<div>\n",
              "<style scoped>\n",
              "    .dataframe tbody tr th:only-of-type {\n",
              "        vertical-align: middle;\n",
              "    }\n",
              "\n",
              "    .dataframe tbody tr th {\n",
              "        vertical-align: top;\n",
              "    }\n",
              "\n",
              "    .dataframe thead th {\n",
              "        text-align: right;\n",
              "    }\n",
              "</style>\n",
              "<table border=\"1\" class=\"dataframe\">\n",
              "  <thead>\n",
              "    <tr style=\"text-align: right;\">\n",
              "      <th></th>\n",
              "      <th>image</th>\n",
              "      <th>product_name</th>\n",
              "      <th>label</th>\n",
              "    </tr>\n",
              "  </thead>\n",
              "  <tbody>\n",
              "    <tr>\n",
              "      <th>0</th>\n",
              "      <td>./data/source/Images/55b85ea15a1536d46b7190ad6...</td>\n",
              "      <td>Home Furnishing</td>\n",
              "      <td>4</td>\n",
              "    </tr>\n",
              "    <tr>\n",
              "      <th>1</th>\n",
              "      <td>./data/source/Images/7b72c92c2f6c40268628ec5f1...</td>\n",
              "      <td>Baby Care</td>\n",
              "      <td>0</td>\n",
              "    </tr>\n",
              "    <tr>\n",
              "      <th>2</th>\n",
              "      <td>./data/source/Images/64d5d4a258243731dc7bbb1ee...</td>\n",
              "      <td>Baby Care</td>\n",
              "      <td>0</td>\n",
              "    </tr>\n",
              "    <tr>\n",
              "      <th>3</th>\n",
              "      <td>./data/source/Images/d4684dcdc759dd9cdf4150469...</td>\n",
              "      <td>Home Furnishing</td>\n",
              "      <td>4</td>\n",
              "    </tr>\n",
              "    <tr>\n",
              "      <th>4</th>\n",
              "      <td>./data/source/Images/6325b6870c54cd47be6ebfbff...</td>\n",
              "      <td>Home Furnishing</td>\n",
              "      <td>4</td>\n",
              "    </tr>\n",
              "    <tr>\n",
              "      <th>...</th>\n",
              "      <td>...</td>\n",
              "      <td>...</td>\n",
              "      <td>...</td>\n",
              "    </tr>\n",
              "    <tr>\n",
              "      <th>1045</th>\n",
              "      <td>./data/source/Images/958f54f4c46b53c8a0a9b8167...</td>\n",
              "      <td>Baby Care</td>\n",
              "      <td>0</td>\n",
              "    </tr>\n",
              "    <tr>\n",
              "      <th>1046</th>\n",
              "      <td>./data/source/Images/fd6cbcc22efb6b761bd564c28...</td>\n",
              "      <td>Baby Care</td>\n",
              "      <td>0</td>\n",
              "    </tr>\n",
              "    <tr>\n",
              "      <th>1047</th>\n",
              "      <td>./data/source/Images/5912e037d12774bb73a2048f3...</td>\n",
              "      <td>Baby Care</td>\n",
              "      <td>0</td>\n",
              "    </tr>\n",
              "    <tr>\n",
              "      <th>1048</th>\n",
              "      <td>./data/source/Images/c3edc504d1b4f0ba6224fa53a...</td>\n",
              "      <td>Baby Care</td>\n",
              "      <td>0</td>\n",
              "    </tr>\n",
              "    <tr>\n",
              "      <th>1049</th>\n",
              "      <td>./data/source/Images/f2f027ad6a6df617c9f125173...</td>\n",
              "      <td>Baby Care</td>\n",
              "      <td>0</td>\n",
              "    </tr>\n",
              "  </tbody>\n",
              "</table>\n",
              "<p>1050 rows × 3 columns</p>\n",
              "</div>"
            ],
            "text/plain": [
              "                                                  image      product_name  \\\n",
              "0     ./data/source/Images/55b85ea15a1536d46b7190ad6...  Home Furnishing    \n",
              "1     ./data/source/Images/7b72c92c2f6c40268628ec5f1...        Baby Care    \n",
              "2     ./data/source/Images/64d5d4a258243731dc7bbb1ee...        Baby Care    \n",
              "3     ./data/source/Images/d4684dcdc759dd9cdf4150469...  Home Furnishing    \n",
              "4     ./data/source/Images/6325b6870c54cd47be6ebfbff...  Home Furnishing    \n",
              "...                                                 ...               ...   \n",
              "1045  ./data/source/Images/958f54f4c46b53c8a0a9b8167...        Baby Care    \n",
              "1046  ./data/source/Images/fd6cbcc22efb6b761bd564c28...        Baby Care    \n",
              "1047  ./data/source/Images/5912e037d12774bb73a2048f3...        Baby Care    \n",
              "1048  ./data/source/Images/c3edc504d1b4f0ba6224fa53a...        Baby Care    \n",
              "1049  ./data/source/Images/f2f027ad6a6df617c9f125173...        Baby Care    \n",
              "\n",
              "      label  \n",
              "0         4  \n",
              "1         0  \n",
              "2         0  \n",
              "3         4  \n",
              "4         4  \n",
              "...     ...  \n",
              "1045      0  \n",
              "1046      0  \n",
              "1047      0  \n",
              "1048      0  \n",
              "1049      0  \n",
              "\n",
              "[1050 rows x 3 columns]"
            ]
          },
          "metadata": {},
          "output_type": "display_data"
        },
        {
          "name": "stderr",
          "output_type": "stream",
          "text": [
            "8:80: E501 line too long (80 > 79 characters)\n"
          ]
        }
      ],
      "source": [
        "# Vérifier si le code est exécuté dans Google Colab\n",
        "is_google_colab = 'COLAB_GPU' in os.environ\n",
        "print(\"Execution in Google Colab : \", is_google_colab, \"\\n\")\n",
        "\n",
        "# Definir le chemin d'import des fichiers sur Google Colab ou PC local\n",
        "if is_google_colab:\n",
        "    dossier_import = \"/content/drive/MyDrive/Colab Notebooks/data/cleaned\"\n",
        "    dossier_image = \"/content/drive/MyDrive/Colab Notebooks/data/source/Images/\"\n",
        "\n",
        "else:\n",
        "    dossier_import = \"./data/cleaned/\"\n",
        "\n",
        "# Nom et chemin du fichier\n",
        "nom_fichier = \"extraction_feature_image.csv\"\n",
        "chemin_fichier_import = os.path.join(dossier_import, nom_fichier)\n",
        "print(chemin_fichier_import)\n",
        "\n",
        "# Initialiser un dictionnaire vide et display de la liste des fichiers importe\n",
        "df_image = pd.read_csv(chemin_fichier_import, sep=\"\\t\", encoding=\"utf-8\")\n",
        "print(f\"===> fichier '{nom_fichier}' importé: <====\\n\")\n",
        "\n",
        "# Aperçu du dataframe\n",
        "display(df_image)"
      ]
    },
    {
      "cell_type": "markdown",
      "metadata": {
        "id": "Uoh1cGhC07F4"
      },
      "source": [
        "Nous récupérons bien le fichier CSV d'extraction image contenant les informations sur les 1_050 images du dataset :\n",
        "- le chemin de l'image (nom du fichier inclus)\n",
        "- le texte de la catégorie de l'image\n",
        "- le label numérique de la catégorie de l'image"
      ]
    },
    {
      "cell_type": "markdown",
      "metadata": {
        "id": "rm4Aqj2XfLq8"
      },
      "source": [
        "Si le notebook est exécuté sur Google Colab, modifier le chemin des images"
      ]
    },
    {
      "cell_type": "code",
      "execution_count": 17,
      "metadata": {
        "colab": {
          "base_uri": "https://localhost:8080/",
          "height": 424
        },
        "id": "rYWU3uZcfET3",
        "outputId": "c6c3385a-4fa3-40ec-a989-f47aca8ee988"
      },
      "outputs": [
        {
          "name": "stdout",
          "output_type": "stream",
          "text": [
            "Pas de modification car execution en local sur PC\n"
          ]
        }
      ],
      "source": [
        "if is_google_colab:\n",
        "\n",
        "    # Remplacer le chemin d'accès dans la colonne 'image'\n",
        "    df_image['image'] = df_image['image'].str.replace(\n",
        "        r'^./data/source/Images/',\n",
        "        '/content/drive/MyDrive/Colab Notebooks/data/source/Images/',\n",
        "        regex=True\n",
        "    )\n",
        "\n",
        "    # Aperçu du dataframe\n",
        "    display(df_image)\n",
        "\n",
        "else:\n",
        "    print(\"Pas de modification car execution en local sur PC\")"
      ]
    },
    {
      "cell_type": "markdown",
      "metadata": {
        "id": "M4xFuxgQ07F4"
      },
      "source": [
        "# <span style='background:blue'>Etape 1 : Structuration du travail</span>\n",
        "\n",
        "## <span style='background:green'>1/ Elaboration de modèle</span>\n",
        "\n",
        "Pour répondre au besoin métier de l'entreprise **\"Flipkart\"** qui souhaite\n",
        "lancer une marketplace e-commerce, nous avons décidé de mettre en place une\n",
        "**classification supervisée** à partir des images du dataset qu'ils nous ont\n",
        "fourni.\n",
        "Nous avons donc un dataset de 1_050 images avec des labels connus. Nous allons donc\n",
        "pouvoir entraîner un modèle de machine learning à partir de ce dataset d'images\n",
        "labellisées.\n",
        "\n",
        "Dans un premier temps, nous utiliserons un modèle de classifieur naïf\n",
        "comme <u>modèle de référence</u>.\n",
        "\n",
        "Dans un deuxième temps, nous utiliserons un modèle de perceptron multicouche\n",
        "(**MLP**).\n",
        "\n",
        "Dans un troisième temps, nous utiliserons un modèle de réseau de neurones\n",
        "convolutif (**CNN**) pour comparer ses performances.\n",
        "\n",
        "Dans un quatrième temps, nous utiliserons un CNN couplé avec la technique du\n",
        "Transfer Learning. Pour cela, nous utiliserons le modèle pré-entraîné **VGG16**.\n",
        "\n",
        "Enfin, nous utiliserons des techniques de **data augmentation** pour optimiser\n",
        "les performances du modèle qui aura présenté les meilleurs performances pour\n",
        "étudier si ces performances peuvent être encore améliorées.\n",
        "\n",
        "## <span style='background:green'>2/ Eviter le data leakage</span>\n",
        "\n",
        "Nous mettons en place plusieurs directives pour éviter le **data leakage** qui serait préjudiciable à la qualité de notre modèle de machine learning :\n",
        "- **Séparation** du dataset en 3 jeux de données : entrainement, validation et test\n",
        "- **Pas de prétraitement** des données avant la séparation du dataset\n",
        "- **Parallélisation** des prétraitements pour chacun des 3 jeux de données (entrainement, validation et test)\n",
        "- **Ajustement des hyperparamètres** sur le jeu de données d'entrainement et de validation uniquement\n",
        "- **Pas d'entrainement** sur le jeu de données de validation et de test après évaluation des performances du modèle\n",
        "\n",
        "Ces directives nous permettront de garantir que les jeux de données seront utilisés uniquement pour les étapes pour lesquelles ils sont prévus, c'est-à-dire :\n",
        "- le jeu d'entrainement pour l'entrainement\n",
        "- le jeu de validation pour l'ajustement des hyperparamètres\n",
        "- le jeu de test pour l'évaluation des performances du modèle.\n",
        "\n",
        "## <span style='background:green'>3/ Informations pour le travail</span>\n",
        "\n",
        "### <span style='background:black'>a/ Nom des catégories</span>\n",
        "\n",
        "Nous isolons le nom des catégories dans une variable \"categories\" pour\n",
        "la suite du notebook."
      ]
    },
    {
      "cell_type": "code",
      "execution_count": 18,
      "metadata": {
        "colab": {
          "base_uri": "https://localhost:8080/"
        },
        "id": "EiVOh4e807F4",
        "outputId": "03a58b5b-5d7f-4994-a49e-754e87cf2eea"
      },
      "outputs": [
        {
          "name": "stdout",
          "output_type": "stream",
          "text": [
            "['Home Furnishing ' 'Baby Care ' 'Watches ' 'Home Decor & Festive Needs '\n",
            " 'Kitchen & Dining ' 'Beauty and Personal Care ' 'Computers ']\n"
          ]
        }
      ],
      "source": [
        "categories = df_image['product_name'].unique()\n",
        "print(categories)"
      ]
    },
    {
      "cell_type": "markdown",
      "metadata": {
        "id": "kGouHaPZ07F5"
      },
      "source": [
        "### <span style='background:black'>b/ Disponibilité TPU/GPU</span>\n",
        "\n",
        "Nous affichons le nombre de TPU/GPU disponibles sur notre machine pour entrainer\n",
        "le modèle."
      ]
    },
    {
      "cell_type": "code",
      "execution_count": 19,
      "metadata": {
        "colab": {
          "base_uri": "https://localhost:8080/"
        },
        "id": "nv0nFb_207F5",
        "outputId": "bc653bb2-3e58-4db2-b93d-2990e3ff8b6a"
      },
      "outputs": [
        {
          "name": "stdout",
          "output_type": "stream",
          "text": [
            "Execution sur PC local\n",
            "Nombre de GPU disponible(s) :  1 \n",
            "\n"
          ]
        }
      ],
      "source": [
        "# SI Google Colab ALORS Afficher le TPU\n",
        "if is_google_colab:\n",
        "\n",
        "    # Afficher TPU connecté\n",
        "    try:\n",
        "        tpu = tf.distribute.cluster_resolver.TPUClusterResolver()\n",
        "        print('Execution sur TPU ', tpu.cluster_spec().as_dict()['worker'])\n",
        "    except ValueError:\n",
        "        raise BaseException('ERREUR: Non connecté à un TPU runtime')\n",
        "\n",
        "    # Verification TPU\n",
        "    if tpu:\n",
        "        tf.config.experimental_connect_to_cluster(tpu)\n",
        "        tf.tpu.experimental.initialize_tpu_system(tpu)\n",
        "        tpu_strategy = tf.distribute.TPUStrategy(tpu)\n",
        "        print('Connecté à un TPU')\n",
        "    else:\n",
        "        print('Pas connecté à un TPU')\n",
        "\n",
        "# Afficher les GPU sur le PC en local\n",
        "else:\n",
        "    amd_gpus = get_available_amd_gpus()\n",
        "    print(\"Execution sur PC local\")\n",
        "    print(\"Nombre de GPU disponible(s) : \", len(amd_gpus), \"\\n\")"
      ]
    },
    {
      "cell_type": "markdown",
      "metadata": {
        "id": "scsqVvt0s2Kr"
      },
      "source": [
        "Nous effectuons une itération de 1 million de calcul pour avoir conscience de la rapidité de calcul."
      ]
    },
    {
      "cell_type": "code",
      "execution_count": 20,
      "metadata": {
        "colab": {
          "base_uri": "https://localhost:8080/"
        },
        "id": "lXvZHe6BqeiL",
        "outputId": "fb0486fa-da7e-4e8d-8b65-3b55894b812e"
      },
      "outputs": [
        {
          "name": "stdout",
          "output_type": "stream",
          "text": [
            "Temps pour itération 1 million est 0.028 sec.\n"
          ]
        }
      ],
      "source": [
        "# Calculer temps pour 1 million d'itération\n",
        "start_time = time.time()\n",
        "for i in range(1_000_000):\n",
        "    pass\n",
        "end_time = time.time()\n",
        "\n",
        "# Calculez et affichez le temps d'exécution\n",
        "execution_time = end_time - start_time\n",
        "print(f\"Temps pour itération 1 million est {round(execution_time, 3)} sec.\")"
      ]
    },
    {
      "cell_type": "markdown",
      "metadata": {
        "id": "s2MbYzrX07F5"
      },
      "source": [
        "### <span style='background:black'>c/ Reproductibilité des modèles</span>\n",
        " Pour fixer la reproductibilité des modèles, nous fixons les valeurs des graines aléatoires pour :\n",
        "- python\n",
        "- numpy\n",
        "- tensorflow\n",
        "\n",
        "Cela permet de garantir que les résultats obtenus seront reproductibles à chaque fois que ce code sera exécuté."
      ]
    },
    {
      "cell_type": "code",
      "execution_count": 21,
      "metadata": {
        "id": "uEOMVaHI07F5"
      },
      "outputs": [],
      "source": [
        "# Fixer la graine pour Python Numpy et Tensorflow\n",
        "random.seed(42)\n",
        "np.random.seed(42)\n",
        "tf.random.set_seed(42)"
      ]
    },
    {
      "cell_type": "markdown",
      "metadata": {
        "id": "WpQCjPLrCGmR"
      },
      "source": [
        "### <span style='background:black'>d/ Modèle ML déjà calculé</span>\n",
        "\n",
        "Nous vérifions si les modèles de ML ont déjà été calculés, auquel cas, il n'est pas nécessaire de les calculer à nouveau mais il suffit de charger les fichiers."
      ]
    },
    {
      "cell_type": "code",
      "execution_count": 22,
      "metadata": {
        "colab": {
          "base_uri": "https://localhost:8080/"
        },
        "id": "WyZZ4TevCYC4",
        "outputId": "2d25a833-604a-4267-b4c0-8beaad97a051"
      },
      "outputs": [
        {
          "name": "stdout",
          "output_type": "stream",
          "text": [
            "Chargement des fichiers MLP.\n",
            "Chargement des fichiers CNN.\n",
            "Chargement des fichiers CNN TF.\n",
            "Calcul a faire pour CNN TF avec Data Augmentation.\n"
          ]
        }
      ],
      "source": [
        "# SI fichier des resultats MLP existe ALORS on charge les fichiers\n",
        "if os.path.exists('./modele_ML/history_optimal_mlp.pickle'):\n",
        "    is_modele_mlp_calculed = True\n",
        "\n",
        "    # resultat\n",
        "    resultat_mlp = pd.read_csv(\"./modele_ML/resultat_mlp.csv\")\n",
        "\n",
        "    # Modele optimal\n",
        "    model_optimal_mlp = load_model(\n",
        "        './modele_ML/model_optimal_mlp_best_weights.h5'\n",
        "    )\n",
        "\n",
        "    # History\n",
        "    with open(\"./modele_ML/history_optimal_mlp.pickle\", 'rb') as f:\n",
        "        history_optimal_mlp_dict = pickle.load(f)\n",
        "\n",
        "    print(\"Chargement des fichiers MLP.\")\n",
        "\n",
        "else:\n",
        "    is_modele_mlp_calculed = False\n",
        "    print(\"Calcul a faire pour MLP.\")\n",
        "\n",
        "# SI fichier des resultats CNN existe ALORS on charge les fichiers\n",
        "if os.path.exists('./modele_ML/history_optimal_cnn.pickle'):\n",
        "    is_modele_cnn_calculed = True\n",
        "\n",
        "    # resultat\n",
        "    resultat_cnn = pd.read_csv(\"./modele_ML/resultat_cnn.csv\")\n",
        "\n",
        "    # Modele optimal\n",
        "    model_optimal_cnn = load_model(\n",
        "        './modele_ML/model_optimal_cnn_best_weights.h5'\n",
        "    )\n",
        "\n",
        "    # History\n",
        "    with open(\"./modele_ML/history_optimal_cnn.pickle\", 'rb') as f:\n",
        "        history_optimal_cnn_dict = pickle.load(f)\n",
        "\n",
        "    print(\"Chargement des fichiers CNN.\")\n",
        "\n",
        "else:\n",
        "    is_modele_cnn_calculed = False\n",
        "    print(\"Calcul a faire pour CNN.\")\n",
        "\n",
        "\n",
        "# SI fichier des resultats CNN TL existe ALORS on charge les fichiers\n",
        "if os.path.exists('./modele_ML/history_optimal_tf_vgg16_noDA.pickle'):\n",
        "    is_modele_tf_vgg16_noDA_calculed = True\n",
        "\n",
        "    # resultat\n",
        "    resultat_tf_vgg16_noDA = pd.read_csv(\n",
        "        \"./modele_ML/resultat_tf_vgg16_noDA.csv\"\n",
        "    )\n",
        "\n",
        "    # Modele optimal\n",
        "    model_optimal_tf_vgg16_noDA = load_model(\n",
        "        './modele_ML/model_optimal_tf_vgg16_noDA_best_weights.h5'\n",
        "    )\n",
        "\n",
        "    # History\n",
        "    with open(\"./modele_ML/history_optimal_tf_vgg16_noDA.pickle\", 'rb') as f:\n",
        "        history_optimal_tf_vgg16_noDA_dict = pickle.load(f)\n",
        "\n",
        "    print(\"Chargement des fichiers CNN TF.\")\n",
        "\n",
        "else:\n",
        "    is_modele_tf_vgg16_noDA_calculed = False\n",
        "    print(\"Calcul a faire pour CNN TF.\")\n",
        "\n",
        "# SI fichier des resultats CNN TL avec DA existe ALORS on charge les fichiers\n",
        "if os.path.exists('./modele_ML/history_optimal_tf_vgg16_DA.pickle'):\n",
        "    is_modele_tf_vgg16_DA_calculed = True\n",
        "\n",
        "    # modele optimal\n",
        "    model_optimal_tf_vgg16_DA = load_model(\n",
        "        './modele_ML/model_optimal_tf_vgg16_DA_best_weights.h5'\n",
        "    )\n",
        "\n",
        "    # History\n",
        "    with open(\"./modele_ML/history_optimal_tf_vgg16_DA.pickle\", 'rb') as f:\n",
        "        history_optimal_tf_vgg16_DA = pickle.load(f)\n",
        "\n",
        "    print(\"Chargement des fichiers CNN TF avec Data Augmentation.\")\n",
        "\n",
        "else:\n",
        "    is_modele_tf_vgg16_DA_calculed = False\n",
        "    print(\"Calcul a faire pour CNN TF avec Data Augmentation.\")"
      ]
    },
    {
      "cell_type": "markdown",
      "metadata": {
        "id": "Ww5REsZU07F5"
      },
      "source": [
        "# <span style='background:blue'>Etape 2 : Séparation des données</span>\n",
        "\n",
        "## <span style='background:green'>1/ Détermination target et features</span>\n",
        "\n",
        "Nous allons réaliser un apprentissage supervisé pour la classification des images.\n",
        "Pour cela, nous devons déterminer la target (valeur à prédire) et les features (paramètres explicatifs de la pédiction) :\n",
        "- Les **features** (X) sont les chemins des images (nom du fichier inclus) puisque ce sont les données contenues dans les images (pixels) qui vont permettre de prédire la catégorie de l'image\n",
        "\n",
        "- La **target** (Y) est la colonne \"label\" puisque c'est la catégorie des images que nous souhaitons prédire"
      ]
    },
    {
      "cell_type": "code",
      "execution_count": 23,
      "metadata": {
        "id": "Cw1HfM9707F5"
      },
      "outputs": [],
      "source": [
        "X = df_image['image'].values\n",
        "y = df_image['label'].values"
      ]
    },
    {
      "cell_type": "markdown",
      "metadata": {
        "id": "zCReuN6o07F6"
      },
      "source": [
        "Nous les affichons pour vérifier leur contenu."
      ]
    },
    {
      "cell_type": "code",
      "execution_count": 24,
      "metadata": {
        "colab": {
          "base_uri": "https://localhost:8080/"
        },
        "id": "RgFnfWQZ07F6",
        "outputId": "655a0d27-a054-490b-fe6e-7ac488fce90b"
      },
      "outputs": [
        {
          "name": "stdout",
          "output_type": "stream",
          "text": [
            "['./data/source/Images/55b85ea15a1536d46b7190ad6fff8ce7.jpg'\n",
            " './data/source/Images/7b72c92c2f6c40268628ec5f14c6d590.jpg'\n",
            " './data/source/Images/64d5d4a258243731dc7bbb1eef49ad74.jpg' ...\n",
            " './data/source/Images/5912e037d12774bb73a2048f35a00009.jpg'\n",
            " './data/source/Images/c3edc504d1b4f0ba6224fa53a43a7ad6.jpg'\n",
            " './data/source/Images/f2f027ad6a6df617c9f125173da71e44.jpg']\n"
          ]
        }
      ],
      "source": [
        "print(X)"
      ]
    },
    {
      "cell_type": "code",
      "execution_count": 25,
      "metadata": {
        "colab": {
          "base_uri": "https://localhost:8080/"
        },
        "id": "alYX73SU07F6",
        "outputId": "fde1293e-afa4-4777-f707-16bfcba058ea"
      },
      "outputs": [
        {
          "name": "stdout",
          "output_type": "stream",
          "text": [
            "[4 0 0 ... 0 0 0]\n"
          ]
        }
      ],
      "source": [
        "print(y)"
      ]
    },
    {
      "cell_type": "markdown",
      "metadata": {
        "id": "uxPaZqYa07F6"
      },
      "source": [
        "## <span style='background:green'>2/ train_test_split</span>\n",
        "\n",
        "Nous divisons les données en 3 jeux de données :\n",
        "- 75% des données pour le **train**\n",
        "- 15% des données pour la **validation**\n",
        "- 15% des données pour le **test**"
      ]
    },
    {
      "cell_type": "code",
      "execution_count": 26,
      "metadata": {
        "colab": {
          "base_uri": "https://localhost:8080/"
        },
        "id": "uUAihUUH07F6",
        "outputId": "0467e454-d328-4205-cb46-74c44f3652a2"
      },
      "outputs": [
        {
          "name": "stdout",
          "output_type": "stream",
          "text": [
            "X_train shape: (735,)  / y_train shape: (735,)\n",
            "X_val shape: (157,)  / y_val shape: (157,)\n",
            "X_test shape: (158,)  / y_test shape: (158,)\n"
          ]
        }
      ],
      "source": [
        "# Séparation des données (entraînement + validation) / test\n",
        "X_temp, X_test, y_temp, y_test = train_test_split(\n",
        "    X,\n",
        "    y,\n",
        "    test_size=0.15,\n",
        "    random_state=42,\n",
        "    stratify=y\n",
        "    )\n",
        "\n",
        "# Séparation des données entraînement / validation\n",
        "X_train, X_val, y_train, y_val = train_test_split(\n",
        "    X_temp,\n",
        "    y_temp,\n",
        "    test_size=0.176,\n",
        "    random_state=42,\n",
        "    stratify=y_temp\n",
        "    )\n",
        "\n",
        "# Affichage des dimensions des données\n",
        "print(\"X_train shape:\", X_train.shape, \" / y_train shape:\", y_train.shape)\n",
        "print(\"X_val shape:\", X_val.shape, \" / y_val shape:\", y_val.shape)\n",
        "print(\"X_test shape:\", X_test.shape, \" / y_test shape:\", y_test.shape)"
      ]
    },
    {
      "cell_type": "markdown",
      "metadata": {
        "id": "SHp48c8l07F7"
      },
      "source": [
        "# <span style='background:blue'>Etape 3 : Classifieur naïf</span>\n",
        "\n",
        "Nous mettons en place un classifieur naïf comme **modèle de référence** pour comparer ses performances avec celles des autres modèles que nous allons mettre en place.\n",
        "\n",
        "Ce modèle de référence est un **DummyClassifier** qui va prédire la catégorie de l'image en fonction de la catégorie la plus représentée dans le jeu de données d'entrainement."
      ]
    },
    {
      "cell_type": "code",
      "execution_count": 27,
      "metadata": {
        "colab": {
          "base_uri": "https://localhost:8080/",
          "height": 81
        },
        "id": "0Mkogb4t07F7",
        "outputId": "08b47d03-3848-43d3-8141-558e300e1436"
      },
      "outputs": [
        {
          "data": {
            "text/html": [
              "<style type=\"text/css\">\n",
              "</style>\n",
              "<table id=\"T_eac8b\">\n",
              "  <thead>\n",
              "    <tr>\n",
              "      <th class=\"blank level0\" >&nbsp;</th>\n",
              "      <th id=\"T_eac8b_level0_col0\" class=\"col_heading level0 col0\" >Validation Accuracy</th>\n",
              "      <th id=\"T_eac8b_level0_col1\" class=\"col_heading level0 col1\" >Temps (sec)</th>\n",
              "    </tr>\n",
              "  </thead>\n",
              "  <tbody>\n",
              "    <tr>\n",
              "      <th id=\"T_eac8b_level0_row0\" class=\"row_heading level0 row0\" >Dummy</th>\n",
              "      <td id=\"T_eac8b_row0_col0\" class=\"data row0 col0\" >0.146497</td>\n",
              "      <td id=\"T_eac8b_row0_col1\" class=\"data row0 col1\" >0.000000</td>\n",
              "    </tr>\n",
              "  </tbody>\n",
              "</table>\n"
            ],
            "text/plain": [
              "<pandas.io.formats.style.Styler at 0x134417f2050>"
            ]
          },
          "metadata": {},
          "output_type": "display_data"
        }
      ],
      "source": [
        "# Créer un DummyClassifier qui prédit toujours la classe la plus fréquente\n",
        "dummy = DummyClassifier(strategy='most_frequent')\n",
        "\n",
        "# Lancer le chronomètre\n",
        "start_time = time.time()\n",
        "\n",
        "# Entraîner le DummyClassifier\n",
        "dummy.fit(X_train, y_train)\n",
        "\n",
        "# Faire des prédictions sur l'ensemble de validation\n",
        "dummy_predictions = dummy.predict(X_val)\n",
        "\n",
        "# Arrêter le chronomètre et calculer le temps d'exécution\n",
        "end_time = time.time()\n",
        "temps_train = end_time - start_time\n",
        "\n",
        "# Calculer l'exactitude du DummyClassifier\n",
        "dummy_accuracy = metrics.accuracy_score(y_val, dummy_predictions)\n",
        "\n",
        "# Créer dataframe pour stocker les résultats et afficher\n",
        "resultat_naif = pd.DataFrame(\n",
        "    data=[[dummy_accuracy, temps_train]],\n",
        "    columns=['Validation Accuracy', 'Temps (sec)'],\n",
        "    index=['Dummy']\n",
        "    )\n",
        "display(resultat_naif.style.apply(surligne_meilleur, axis=1))"
      ]
    },
    {
      "cell_type": "markdown",
      "metadata": {
        "id": "ufB4B2ty07F7"
      },
      "source": [
        "# <span style='background:blue'>Etape 4 : MLP</span>\n",
        "\n",
        "Pour cette classification d'image automatique, nous allons utiliser un\n",
        "**perceptron multicouche** (*MultiLayer Perceptron*, **MLP**)."
      ]
    },
    {
      "cell_type": "markdown",
      "metadata": {
        "id": "RaDxPw8t07F7"
      },
      "source": [
        "## <span style='background:green'>1/ Prétraitement des données</span>\n",
        "\n",
        "### <span style='background:black'>a/ target</span>\n",
        "\n",
        "Le prétraitement de la target consiste à transformer les catégories avec un **OneHotEncoder** pour pouvoir les utiliser dans le modèle de machine learning."
      ]
    },
    {
      "cell_type": "code",
      "execution_count": 28,
      "metadata": {
        "id": "l24o9fV207F7"
      },
      "outputs": [],
      "source": [
        "# OneHotEncoder des target d'entrainement, validation et test\n",
        "y_train_pretraited = to_categorical(y_train)\n",
        "y_val_pretraited = to_categorical(y_val)\n",
        "y_test_pretraited = to_categorical(y_test)"
      ]
    },
    {
      "cell_type": "markdown",
      "metadata": {
        "id": "sTUCoI4x07F7"
      },
      "source": [
        "Nous visualisons les 3 jeux de données pour vérifier que le prétraitement de la\n",
        "target a bien été réalisé."
      ]
    },
    {
      "cell_type": "code",
      "execution_count": 29,
      "metadata": {
        "colab": {
          "base_uri": "https://localhost:8080/",
          "height": 472
        },
        "id": "VcfdlZ9707F7",
        "outputId": "69eef921-767f-4a5e-a1ea-7e2095ec9191"
      },
      "outputs": [
        {
          "data": {
            "image/png": "[encoded data removed]",
            "text/plain": [
              "<Figure size 640x480 with 2 Axes>"
            ]
          },
          "metadata": {},
          "output_type": "display_data"
        }
      ],
      "source": [
        "affiche_heatmap(y_train_pretraited, \"y_train_pretraited\")"
      ]
    },
    {
      "cell_type": "code",
      "execution_count": 30,
      "metadata": {
        "colab": {
          "base_uri": "https://localhost:8080/",
          "height": 472
        },
        "id": "bJ3L4-1m07F8",
        "outputId": "dc972fc5-2165-4e4a-b54f-bb90923a9a68"
      },
      "outputs": [
        {
          "data": {
            "image/png": "[encoded data removed]",
            "text/plain": [
              "<Figure size 640x480 with 2 Axes>"
            ]
          },
          "metadata": {},
          "output_type": "display_data"
        }
      ],
      "source": [
        "affiche_heatmap(y_val_pretraited, \"y_val_pretraited\")"
      ]
    },
    {
      "cell_type": "code",
      "execution_count": 31,
      "metadata": {
        "colab": {
          "base_uri": "https://localhost:8080/",
          "height": 472
        },
        "id": "1vq8wJyc07F8",
        "outputId": "69e624c1-b962-4541-d1c2-5447da553db0"
      },
      "outputs": [
        {
          "data": {
            "image/png": "[encoded data removed]",
            "text/plain": [
              "<Figure size 640x480 with 2 Axes>"
            ]
          },
          "metadata": {},
          "output_type": "display_data"
        }
      ],
      "source": [
        "affiche_heatmap(y_test_pretraited, \"y_test_pretraited\")"
      ]
    },
    {
      "cell_type": "markdown",
      "metadata": {
        "id": "UA9rbenB07F8"
      },
      "source": [
        "### <span style='background:black'>b/ features</span>\n",
        "\n",
        "Le prétraitement des features pour le **MLP** se déroule en plusieurs étapes :\n",
        "- Redimensionnement de l'images en 224 x 224 pixels\n",
        "- Convertion de l'image en tableau NumPy\n",
        "- Certification des dimensions (hauteur, largeur, couleur)"
      ]
    },
    {
      "cell_type": "code",
      "execution_count": 32,
      "metadata": {
        "id": "bhBaSiTr07F8"
      },
      "outputs": [],
      "source": [
        "# Prétraitement jeu entrainement\n",
        "X_train_pretraited = pretraitement_image(X_train, 'mlp')\n",
        "\n",
        "# Prétraitement jeu validation\n",
        "X_val_pretraited = pretraitement_image(X_val, 'mlp')\n",
        "\n",
        "# Prétraitement jeu test\n",
        "X_test_pretraited = pretraitement_image(X_test, 'mlp')"
      ]
    },
    {
      "cell_type": "markdown",
      "metadata": {
        "id": "RU2MHO-Z07F9"
      },
      "source": [
        "Nous vérifions les dimensions des images pour vérifier que le prétraitement des features a bien été réalisé."
      ]
    },
    {
      "cell_type": "code",
      "execution_count": 33,
      "metadata": {
        "colab": {
          "base_uri": "https://localhost:8080/"
        },
        "id": "NT8ZdHP007F9",
        "outputId": "db6f2eba-35aa-4945-cb29-2aa777f5a20f"
      },
      "outputs": [
        {
          "name": "stdout",
          "output_type": "stream",
          "text": [
            "X_train_pretraited :  (735, 224, 224, 3)\n",
            "X_val_pretraited :  (157, 224, 224, 3)\n",
            "X_test_pretraited :  (158, 224, 224, 3)\n"
          ]
        }
      ],
      "source": [
        "print(\"X_train_pretraited : \", X_train_pretraited.shape)\n",
        "print(\"X_val_pretraited : \", X_val_pretraited.shape)\n",
        "print(\"X_test_pretraited : \", X_test_pretraited.shape)"
      ]
    },
    {
      "cell_type": "markdown",
      "metadata": {
        "id": "rcUmGQ2V07F9"
      },
      "source": [
        "## <span style='background:green'>2/ Elaboration du modèle</span>\n",
        "\n",
        "### <span style='background:black'>a/ Architecture</span>\n",
        "\n",
        "Le modèle MLP présente la structure suivante :\n",
        "- 1 couche d'entrée de forme (224, 224, 3)\n",
        "- 1 couche Flatten pour aplatir les données d'entrée\n",
        "- 2 couches Dense avec 10 neurones chacune et 1 fonction d'activation ReLU\n",
        "- 1 couche Dense avec 7 neurones et une fonction d'activation sofmax\n",
        "\n",
        "### <span style='background:black'>b/ Compilation et métrique d'évaluation</span>\n",
        "\n",
        "Le modèle est compilé avec :\n",
        "- la fonction de perte '**categorical_crossentropy**' qui est adaptée à la classification multiclasse où les étiquettes sont codées en OneHotEncoder.\n",
        "\n",
        "- l'optimiseur '**rmsprop**' qui est un algoritme d'optimisation intéressant pour les réseaux de neurones profonds.\n",
        "\n",
        "- la métrique d'évaluation '**accuracy**' qui est une métrique très utilisée pour les problèmes de classification. Elle mesure le pourcentage de prédictions correctes du modèle. Sa principale limite est de présenter une image  trompeuse de la perfomance du modèle si les classes sont déséquilibrées, ce qui n'est pas le cas ici puisque nos 7 classes sont parfaitement équilibrées (150 images par classe)."
      ]
    },
    {
      "cell_type": "code",
      "execution_count": 34,
      "metadata": {
        "id": "1YnkqRWF07F9"
      },
      "outputs": [],
      "source": [
        "fonction_perte = 'categorical_crossentropy'\n",
        "optimiseur = 'rmsprop'\n",
        "metric_eval = 'accuracy'"
      ]
    },
    {
      "cell_type": "markdown",
      "metadata": {
        "id": "LHzB9NHu07F9"
      },
      "source": [
        "\n",
        "### <span style='background:black'>c/ Callbacks</span>\n",
        "\n",
        "Les callbacks sont des fonctions qui sont appelées à des moments précis de\n",
        "l'entrainement du modèle pour effectuer des actions spécifiques.\n",
        "\n",
        "Nous créons 2 callbacks :\n",
        "- **ModelCheckpoint** pour sauvegarder le meilleur modèle pendant l'entrainement. Cela permet de conserver les poids du modèle qui a présenté les meilleures performances (perte du jeu de validation la plus petite) même si le modèle commence à se détériorer ou à surapprendre par la suite.\n",
        "\n",
        "- **EarlyStopping** pour arrêter l'entrainement si val_loss (la perte du jeu de validation) ne diminue plus après 3 epochs. Cela permet de gagner du temps d'entrainement et d'éviter de surapprendre le modèle pour avoir une meilleure généralisation."
      ]
    },
    {
      "cell_type": "code",
      "execution_count": 35,
      "metadata": {
        "id": "OzqUWfU807F-"
      },
      "outputs": [],
      "source": [
        "# Nombre d'epochs pour la patience\n",
        "patience = 3"
      ]
    },
    {
      "cell_type": "markdown",
      "metadata": {
        "id": "Eb1A-O_907F-"
      },
      "source": [
        "### <span style='background:black'>d/ Indicateur supplémentaire</span>\n",
        "\n",
        "Pour comparer les performances des différents modèles, nous utilisons un indicateur supplémentaire pour améliorer notre prise de décision en mesurant le **temps de calcul nécessaire pour l'entrainement du modèle.** En effet, l'accuracy seule ne suffit pas à déterminer le meilleur modèle, il faut également que celui-ci réalise ses calculs en un minimun de temps.\n",
        "\n",
        "=> Le choix de l'indicateur est donc un compromis entre l'accuracy et le temps de calcul.\n",
        "\n",
        "### <span style='background:black'>e/ Optimisation hyperparamètre</span>\n",
        "\n",
        "Nous déterminons le meilleur modèle en ajustant l'hyperparamètre **batch_size** (nombre d'images par lot utilisées pour chaque mise à jour du modèle) mais nous fixons le nombre d'epochs :\n",
        "- epochs = 15\n",
        "- batch_size = 32, 64, 128 et 256"
      ]
    },
    {
      "cell_type": "code",
      "execution_count": 36,
      "metadata": {
        "colab": {
          "base_uri": "https://localhost:8080/"
        },
        "id": "rHAfLmg407F-",
        "outputId": "adb9db7d-f746-4d19-b8aa-2ba48ffc2c1f"
      },
      "outputs": [
        {
          "name": "stdout",
          "output_type": "stream",
          "text": [
            "Les calculs ont deja tournés sur Google Colab\n"
          ]
        }
      ],
      "source": [
        "# Définir les batch_sizes à tester\n",
        "batch_sizes = [32, 64, 128, 256]\n",
        "\n",
        "# SI fichier des resultats existe ALORS on passe\n",
        "if is_modele_mlp_calculed:\n",
        "    print(\"Les calculs ont deja tournés sur Google Colab\")\n",
        "\n",
        "# SINON il n'existe pas et il faut faire les calculs\n",
        "else:\n",
        "\n",
        "    # Créer des dictionnaires vides pour stocker l'historique, temps, epochs\n",
        "    history_dict, time_dict, epoch_dict = {}, {}, {}\n",
        "\n",
        "    # POUR chaque batch_size\n",
        "    for batch_size in batch_sizes:\n",
        "        print(\"\\n\", \"=\" * 30, \"batch_size :\", batch_size, \"=\" * 30)\n",
        "\n",
        "        # Créer un modèle MLP\n",
        "        model_mlp = creation_modele_mlp(\n",
        "            fonction_perte,\n",
        "            optimiseur,\n",
        "            metric_eval\n",
        "        )\n",
        "\n",
        "        # Création des callbacks\n",
        "        callbacks_list, chemin_modele_export = creer_callbacks(\n",
        "            \"model_mlp\",\n",
        "            patience,\n",
        "            batch_size\n",
        "        )\n",
        "\n",
        "        # Enregistrer le temps de début\n",
        "        start_time = time.time()\n",
        "\n",
        "        # Entraîner le modèle\n",
        "        history_mlp = model_mlp.fit(\n",
        "            X_train_pretraited,\n",
        "            y_train_pretraited,\n",
        "            epochs=15,\n",
        "            batch_size=batch_size,\n",
        "            callbacks=callbacks_list,\n",
        "            validation_data=(X_val_pretraited, y_val_pretraited),\n",
        "            verbose=0\n",
        "        )\n",
        "\n",
        "        # Enregistrer le temps de fin\n",
        "        end_time = time.time()\n",
        "\n",
        "        # Calculer le temps d'entraînement\n",
        "        temps_train = end_time - start_time\n",
        "        print(f\"\\n=> Temps d'entraînement : {round(temps_train, 2)} sec <=\")\n",
        "\n",
        "        # Calculer le nombre d'epochs\n",
        "        epochs = len(history_mlp.history['loss'])\n",
        "\n",
        "        # Stocker l'historique, le temps d'entraînement et le nombre d'epochs\n",
        "        history_dict[batch_size] = history_mlp.history\n",
        "        time_dict[batch_size] = temps_train\n",
        "        epoch_dict[batch_size] = epochs"
      ]
    },
    {
      "cell_type": "markdown",
      "metadata": {
        "id": "1FLdHgh407F-"
      },
      "source": [
        "Comparons les résultats obtenus pour les différents batch_size :"
      ]
    },
    {
      "cell_type": "code",
      "execution_count": 37,
      "metadata": {
        "colab": {
          "base_uri": "https://localhost:8080/",
          "height": 211
        },
        "id": "KTZySJ8407F_",
        "outputId": "de31f99a-20ee-4af3-e814-4cc7205ce631"
      },
      "outputs": [
        {
          "name": "stdout",
          "output_type": "stream",
          "text": [
            "Les calculs ont deja tournés sur Google Colab\n",
            "\n",
            "Meilleur batch_size (accuracy): 128\n"
          ]
        },
        {
          "data": {
            "text/html": [
              "<style type=\"text/css\">\n",
              "#T_2eae5_row2_col0, #T_2eae5_row2_col1 {\n",
              "  background-color: green;\n",
              "}\n",
              "</style>\n",
              "<table id=\"T_2eae5\">\n",
              "  <thead>\n",
              "    <tr>\n",
              "      <th class=\"blank level0\" >&nbsp;</th>\n",
              "      <th id=\"T_2eae5_level0_col0\" class=\"col_heading level0 col0\" >Validation Accuracy</th>\n",
              "      <th id=\"T_2eae5_level0_col1\" class=\"col_heading level0 col1\" >Temps (sec)</th>\n",
              "      <th id=\"T_2eae5_level0_col2\" class=\"col_heading level0 col2\" >Epochs</th>\n",
              "      <th id=\"T_2eae5_level0_col3\" class=\"col_heading level0 col3\" >batch_size</th>\n",
              "    </tr>\n",
              "  </thead>\n",
              "  <tbody>\n",
              "    <tr>\n",
              "      <th id=\"T_2eae5_level0_row0\" class=\"row_heading level0 row0\" >0</th>\n",
              "      <td id=\"T_2eae5_row0_col0\" class=\"data row0 col0\" >0.140127</td>\n",
              "      <td id=\"T_2eae5_row0_col1\" class=\"data row0 col1\" >13.971376</td>\n",
              "      <td id=\"T_2eae5_row0_col2\" class=\"data row0 col2\" >15</td>\n",
              "      <td id=\"T_2eae5_row0_col3\" class=\"data row0 col3\" >32</td>\n",
              "    </tr>\n",
              "    <tr>\n",
              "      <th id=\"T_2eae5_level0_row1\" class=\"row_heading level0 row1\" >1</th>\n",
              "      <td id=\"T_2eae5_row1_col0\" class=\"data row1 col0\" >0.140127</td>\n",
              "      <td id=\"T_2eae5_row1_col1\" class=\"data row1 col1\" >11.278276</td>\n",
              "      <td id=\"T_2eae5_row1_col2\" class=\"data row1 col2\" >15</td>\n",
              "      <td id=\"T_2eae5_row1_col3\" class=\"data row1 col3\" >64</td>\n",
              "    </tr>\n",
              "    <tr>\n",
              "      <th id=\"T_2eae5_level0_row2\" class=\"row_heading level0 row2\" >2</th>\n",
              "      <td id=\"T_2eae5_row2_col0\" class=\"data row2 col0\" >0.146497</td>\n",
              "      <td id=\"T_2eae5_row2_col1\" class=\"data row2 col1\" >8.965965</td>\n",
              "      <td id=\"T_2eae5_row2_col2\" class=\"data row2 col2\" >11</td>\n",
              "      <td id=\"T_2eae5_row2_col3\" class=\"data row2 col3\" >128</td>\n",
              "    </tr>\n",
              "    <tr>\n",
              "      <th id=\"T_2eae5_level0_row3\" class=\"row_heading level0 row3\" >3</th>\n",
              "      <td id=\"T_2eae5_row3_col0\" class=\"data row3 col0\" >0.140127</td>\n",
              "      <td id=\"T_2eae5_row3_col1\" class=\"data row3 col1\" >9.892615</td>\n",
              "      <td id=\"T_2eae5_row3_col2\" class=\"data row3 col2\" >15</td>\n",
              "      <td id=\"T_2eae5_row3_col3\" class=\"data row3 col3\" >256</td>\n",
              "    </tr>\n",
              "  </tbody>\n",
              "</table>\n"
            ],
            "text/plain": [
              "<pandas.io.formats.style.Styler at 0x134aed67790>"
            ]
          },
          "execution_count": 37,
          "metadata": {},
          "output_type": "execute_result"
        }
      ],
      "source": [
        "# SI fichier des resultats existe ALORS on passe\n",
        "if is_modele_mlp_calculed:\n",
        "    print(\"Les calculs ont deja tournés sur Google Colab\")\n",
        "\n",
        "# SINON il n'existe pas et il faut faire les calculs\n",
        "else:\n",
        "    resultat_mlp = creer_dataframe_resultats(\n",
        "        history_dict,\n",
        "        time_dict,\n",
        "        epoch_dict,\n",
        "        batch_sizes,\n",
        "        \"resultat_mlp\"\n",
        "    )\n",
        "\n",
        "# Afficher le batch_size avec la meilleure accuracy de validation\n",
        "batch_meilleur_mlp = resultat_mlp.loc[\n",
        "    resultat_mlp['Validation Accuracy'].idxmax(),\n",
        "    'batch_size'\n",
        "]\n",
        "print(f\"\\nMeilleur batch_size (accuracy): {batch_meilleur_mlp}\")\n",
        "\n",
        "# Surligner les meilleures valeurs\n",
        "resultat_mlp.style.apply(surligne_meilleur)"
      ]
    },
    {
      "cell_type": "markdown",
      "metadata": {
        "id": "QmJ6yoru07F_"
      },
      "source": [
        "Les meilleurs performances sont obtenues pour un batch_size de 128 (accuracy de validation la plus grande et temps de calcul le plus faible).\n",
        "\n",
        "Nous choississons donc le **batch_size de 128** pour la suite des analyses avec le **MLP**."
      ]
    },
    {
      "cell_type": "markdown",
      "metadata": {
        "id": "YINBadI607F_"
      },
      "source": [
        "## <span style='background:green'>3/ Modèle optimal</span>\n",
        "\n",
        "### <span style='background:black'>a/Création et entrainement</span>\n",
        "\n",
        "Nous entrainons à nouveau le modèle avec le bon batch_size pour obtenir le modèle optimal."
      ]
    },
    {
      "cell_type": "code",
      "execution_count": 38,
      "metadata": {
        "colab": {
          "base_uri": "https://localhost:8080/"
        },
        "id": "ueM4etSM07F_",
        "outputId": "c9b0b170-7a2f-4595-bc38-64ced996de9d"
      },
      "outputs": [
        {
          "name": "stdout",
          "output_type": "stream",
          "text": [
            "Les calculs ont deja tournés sur Google Colab\n"
          ]
        }
      ],
      "source": [
        "# SI fichier des resultats existe ALORS on passe\n",
        "if is_modele_mlp_calculed:\n",
        "    print(\"Les calculs ont deja tournés sur Google Colab\")\n",
        "\n",
        "# SINON on realise les calculs\n",
        "else:\n",
        "    print(\"On fait les calculs.\")\n",
        "\n",
        "    # Créer le modèle optimal MLP\n",
        "    model_optimal_mlp = creation_modele_mlp(\n",
        "        fonction_perte,\n",
        "        optimiseur,\n",
        "        metric_eval,\n",
        "        verbose=1\n",
        "    )\n",
        "\n",
        "    # Création des callbacks\n",
        "    callbacks_list, chemin_modele_export = creer_callbacks(\n",
        "        \"model_optimal_mlp\",\n",
        "        patience\n",
        "    )\n",
        "\n",
        "    # Enregistrer le temps de début\n",
        "    start_time = time.time()\n",
        "\n",
        "    # Entraîner le modèle avec batch__meilleur_mlp\n",
        "    history_optimal_mlp = model_optimal_mlp.fit(\n",
        "        X_train_pretraited,\n",
        "        y_train_pretraited,\n",
        "        epochs=15,\n",
        "        batch_size=batch_meilleur_mlp,\n",
        "        callbacks=callbacks_list,\n",
        "        validation_data=(X_val_pretraited, y_val_pretraited),\n",
        "        verbose=1\n",
        "    )\n",
        "\n",
        "    # Enregistrer le temps de fin\n",
        "    end_time = time.time()\n",
        "\n",
        "    # Calculer le temps d'entraînement\n",
        "    temps_train = end_time - start_time\n",
        "    print(f\"\\n=> Temps d'entraînement : {round(temps_train, 2)} sec <=\")\n",
        "\n",
        "    # Calculer le nombre d'epochs\n",
        "    epochs = len(history_optimal_mlp.history['loss'])\n",
        "\n",
        "    # Créer un dictionnaire pour stocker historique, temps et nombre d'époch\n",
        "    history_optimal_mlp_dict = {\n",
        "        'history': history_optimal_mlp.history,\n",
        "        'temps_train': temps_train,\n",
        "        'num_epochs': epochs\n",
        "    }\n",
        "\n",
        "    # Sauvegarder l'objet history_dict\n",
        "    with open(\"./modele_ML/history_optimal_mlp.pickle\", 'wb') as f:\n",
        "        pickle.dump(history_optimal_mlp_dict, f)"
      ]
    },
    {
      "cell_type": "markdown",
      "metadata": {
        "id": "TC-VcvT1wsRC"
      },
      "source": [
        "Nous regroupons les résultats obtenus par notre modele optimal en 1 ligne."
      ]
    },
    {
      "cell_type": "code",
      "execution_count": 39,
      "metadata": {
        "colab": {
          "base_uri": "https://localhost:8080/",
          "height": 81
        },
        "id": "idOkihj_wsRD",
        "outputId": "41590c54-8b3f-4afe-9bed-d4a435451f59"
      },
      "outputs": [
        {
          "data": {
            "text/html": [
              "<div>\n",
              "<style scoped>\n",
              "    .dataframe tbody tr th:only-of-type {\n",
              "        vertical-align: middle;\n",
              "    }\n",
              "\n",
              "    .dataframe tbody tr th {\n",
              "        vertical-align: top;\n",
              "    }\n",
              "\n",
              "    .dataframe thead th {\n",
              "        text-align: right;\n",
              "    }\n",
              "</style>\n",
              "<table border=\"1\" class=\"dataframe\">\n",
              "  <thead>\n",
              "    <tr style=\"text-align: right;\">\n",
              "      <th></th>\n",
              "      <th>Validation Accuracy</th>\n",
              "      <th>Temps (sec)</th>\n",
              "      <th>Epochs</th>\n",
              "      <th>batch_size</th>\n",
              "    </tr>\n",
              "  </thead>\n",
              "  <tbody>\n",
              "    <tr>\n",
              "      <th>mlp</th>\n",
              "      <td>0.14</td>\n",
              "      <td>10.54</td>\n",
              "      <td>15</td>\n",
              "      <td>128</td>\n",
              "    </tr>\n",
              "  </tbody>\n",
              "</table>\n",
              "</div>"
            ],
            "text/plain": [
              "     Validation Accuracy  Temps (sec)  Epochs  batch_size\n",
              "mlp                 0.14        10.54      15         128"
            ]
          },
          "metadata": {},
          "output_type": "display_data"
        }
      ],
      "source": [
        "# Récuperation des résultats\n",
        "resultat_optimal_mlp = creer_dataframe_optimal(\n",
        "    history_optimal_mlp_dict,\n",
        "    batch_meilleur_mlp,\n",
        "    'mlp'\n",
        ")\n",
        "\n",
        "display(resultat_optimal_mlp)"
      ]
    },
    {
      "cell_type": "markdown",
      "metadata": {
        "id": "hU9xclvT07F_"
      },
      "source": [
        "### <span style='background:black'>b/ Plot loss et accuracy</span>\n",
        "\n",
        "Nous affichons l'évolution de la perte et de l'accuracy pour le jeu d'entrainement et le jeu de test au cours des epochs."
      ]
    },
    {
      "cell_type": "code",
      "execution_count": 40,
      "metadata": {
        "colab": {
          "base_uri": "https://localhost:8080/",
          "height": 528
        },
        "id": "6heNZtx507GA",
        "outputId": "4e9ba5b7-0b47-4381-fd97-22ff1e326f9f"
      },
      "outputs": [
        {
          "data": {
            "image/png": "[encoded data removed]",
            "text/plain": [
              "<Figure size 1000x500 with 2 Axes>"
            ]
          },
          "metadata": {},
          "output_type": "display_data"
        }
      ],
      "source": [
        "# Afficher l'historique de l'entraînement\n",
        "show_history(history_optimal_mlp_dict['history'])\n",
        "\n",
        "# Definir le chemin d'export de la figure\n",
        "dossier_figure = \"./figure/\"\n",
        "nom_figure = \"history_optimal_mlp.png\"\n",
        "chemin_figure_export = os.path.join(dossier_figure, nom_figure)\n",
        "\n",
        "# Sauvegarder le plot de l'historique de l'entraînement\n",
        "plot_history(history_optimal_mlp_dict, path=chemin_figure_export)\n",
        "plt.close()"
      ]
    },
    {
      "cell_type": "markdown",
      "metadata": {
        "id": "PFgfah4v07GA"
      },
      "source": [
        "Nous remarquons que le modèle présente une perte de validation élevée (1,94) et une accuracy de validation faible (< 0,2)."
      ]
    },
    {
      "cell_type": "markdown",
      "metadata": {
        "id": "SVr0BrAe07GA"
      },
      "source": [
        "### <span style='background:black'>c/ Comparatif des accuracy</span>\n",
        "\n",
        "Nous comparons les accuracy du modèle optimal (MLP) avec les poids du meilleur modèle pour les 2 jeux de données (entrainement et test)."
      ]
    },
    {
      "cell_type": "code",
      "execution_count": 41,
      "metadata": {
        "colab": {
          "base_uri": "https://localhost:8080/"
        },
        "id": "5aM2T6EZ07GA",
        "outputId": "c9cbd5e9-6633-483b-dead-7624a7085f59"
      },
      "outputs": [
        {
          "name": "stdout",
          "output_type": "stream",
          "text": [
            "23/23 [==============================] - 1s 3ms/step - loss: 1.9459 - accuracy: 0.1429\n",
            "Training Accuracy   :  0.143\n",
            "5/5 [==============================] - 0s 3ms/step - loss: 1.9459 - accuracy: 0.1456\n",
            "Test Accuracy       :  0.146\n"
          ]
        }
      ],
      "source": [
        "# Charger les poids du meilleur modèle\n",
        "model_optimal_mlp.load_weights(\"./modele_ML/model_optimal_mlp_best_weights.h5\")\n",
        "\n",
        "# Evaluation meilleur modèle sur les données d'entraînement\n",
        "loss_mlp_train, accuracy_mlp_train = model_optimal_mlp.evaluate(\n",
        "    X_train_pretraited,\n",
        "    y_train_pretraited\n",
        ")\n",
        "print(\"Training Accuracy   :  {:.3f}\".format(accuracy_mlp_train))\n",
        "\n",
        "# Evaluation meilleur modèle sur les données de test\n",
        "loss_mlp_test, accuracy_mlp_test = model_optimal_mlp.evaluate(\n",
        "    X_test_pretraited,\n",
        "    y_test_pretraited\n",
        ")\n",
        "print(\"Test Accuracy       :  {:.3f}\".format(accuracy_mlp_test))"
      ]
    },
    {
      "cell_type": "markdown",
      "metadata": {
        "id": "x7EmTXnB07GA"
      },
      "source": [
        "Les 2 accuracy sont proches mais faibles (< 0,15)."
      ]
    },
    {
      "cell_type": "markdown",
      "metadata": {
        "id": "yqFfMK5407GB"
      },
      "source": [
        "### <span style='background:black'>d/ Matrice de confusion</span>\n",
        "\n",
        "Nous affichons les valeurs réelles et celles prédites par le modèle optimal pour les données de validation."
      ]
    },
    {
      "cell_type": "code",
      "execution_count": 42,
      "metadata": {
        "colab": {
          "base_uri": "https://localhost:8080/"
        },
        "id": "rPAC0usd07GB",
        "outputId": "5282038d-5e8b-46b1-8145-94485c478157"
      },
      "outputs": [
        {
          "name": "stdout",
          "output_type": "stream",
          "text": [
            "5/5 [==============================] - 0s 3ms/step\n",
            "Categorie reelle :  [1 5 6 2 5 2 2 6 5 6 5 6 6 2 3 0 3 0 1 6 1 0 6 1 1 1 1 2 6 4] \n",
            "\n",
            "Categorie prédite :  [4 4 4 4 4 4 4 4 4 4 4 4 4 4 4 4 4 4 4 4 4 4 4 4 4 4 4 4 4 4]\n"
          ]
        }
      ],
      "source": [
        "# Categorie réelle et prédites des images de validation\n",
        "y_val_num = np.argmax(y_val_pretraited, axis=1)\n",
        "y_val_pred = np.argmax(model_optimal_mlp.predict(\n",
        "    X_val_pretraited), axis=1)\n",
        "\n",
        "# Afficher les 30 premières catégories réelles et prédites\n",
        "print(\"Categorie reelle : \", y_val_num[:30], \"\\n\")\n",
        "print(\"Categorie prédite : \", y_val_pred[:30])"
      ]
    },
    {
      "cell_type": "markdown",
      "metadata": {
        "id": "7T_Sn6g207GC"
      },
      "source": [
        "Il semblerait que le modèle optimal MLP n'a fait que prédire une seule catégorie pour toutes les images de validation."
      ]
    },
    {
      "cell_type": "code",
      "execution_count": 43,
      "metadata": {
        "colab": {
          "base_uri": "https://localhost:8080/",
          "height": 99
        },
        "id": "G-vAxqZa07GC",
        "outputId": "3c791d55-e4b8-4bed-c643-56b4a18ce85f"
      },
      "outputs": [
        {
          "data": {
            "text/html": [
              "<div>\n",
              "<style scoped>\n",
              "    .dataframe tbody tr th:only-of-type {\n",
              "        vertical-align: middle;\n",
              "    }\n",
              "\n",
              "    .dataframe tbody tr th {\n",
              "        vertical-align: top;\n",
              "    }\n",
              "\n",
              "    .dataframe thead th {\n",
              "        text-align: right;\n",
              "    }\n",
              "</style>\n",
              "<table border=\"1\" class=\"dataframe\">\n",
              "  <thead>\n",
              "    <tr style=\"text-align: right;\">\n",
              "      <th></th>\n",
              "      <th>Nombre</th>\n",
              "      <th>Pourcentage</th>\n",
              "    </tr>\n",
              "    <tr>\n",
              "      <th>categorie_predite</th>\n",
              "      <th></th>\n",
              "      <th></th>\n",
              "    </tr>\n",
              "  </thead>\n",
              "  <tbody>\n",
              "    <tr>\n",
              "      <th>4</th>\n",
              "      <td>157</td>\n",
              "      <td>100.0</td>\n",
              "    </tr>\n",
              "  </tbody>\n",
              "</table>\n",
              "</div>"
            ],
            "text/plain": [
              "                   Nombre  Pourcentage\n",
              "categorie_predite                     \n",
              "4                     157        100.0"
            ]
          },
          "metadata": {},
          "output_type": "display_data"
        },
        {
          "name": "stdout",
          "output_type": "stream",
          "text": [
            "La seul categorie predite est : Kitchen & Dining \n"
          ]
        }
      ],
      "source": [
        "# Créer un DataFrame à partir de y_val_pred\n",
        "y_val_pred_df = pd.DataFrame(y_val_pred, columns=['categorie_predite'])\n",
        "\n",
        "# Obtenir le nombre de chaque valeur unique\n",
        "unique_counts = y_val_pred_df['categorie_predite'].value_counts()\n",
        "\n",
        "# Obtenir le pourcentage de chaque valeur unique\n",
        "unique_percentages = y_val_pred_df['categorie_predite'].value_counts(\n",
        "    normalize=True) * 100\n",
        "\n",
        "# Créer un DataFrame pour afficher les résultats\n",
        "result = pd.DataFrame({\n",
        "    'Nombre': unique_counts,\n",
        "    'Pourcentage': unique_percentages\n",
        "})\n",
        "\n",
        "# Afficher les résultats\n",
        "display(result)\n",
        "print(f\"La seul categorie predite est : {categories[unique_counts.index[0]]}\")"
      ]
    },
    {
      "cell_type": "markdown",
      "metadata": {
        "id": "k02pgvqG07GC"
      },
      "source": [
        "Nous confirmons les résultats en affichant la matrice de confusion et le rapport de classification."
      ]
    },
    {
      "cell_type": "code",
      "execution_count": 44,
      "metadata": {
        "colab": {
          "base_uri": "https://localhost:8080/",
          "height": 839
        },
        "id": "gsEaZdBX07GC",
        "outputId": "399d8af9-e3ca-46ff-e3ce-065839cc009f"
      },
      "outputs": [
        {
          "name": "stdout",
          "output_type": "stream",
          "text": [
            "\n",
            "Correspondance des clusters :  [0 0 0 0 0 0 0]\n"
          ]
        },
        {
          "data": {
            "image/png": "[encoded data removed]",
            "text/plain": [
              "<Figure size 600x400 with 2 Axes>"
            ]
          },
          "metadata": {},
          "output_type": "display_data"
        },
        {
          "name": "stdout",
          "output_type": "stream",
          "text": [
            "              precision    recall  f1-score   support\n",
            "\n",
            "           0       0.15      1.00      0.26        23\n",
            "           1       1.00      0.00      0.00        23\n",
            "           2       1.00      0.00      0.00        22\n",
            "           3       1.00      0.00      0.00        22\n",
            "           4       1.00      0.00      0.00        22\n",
            "           5       1.00      0.00      0.00        23\n",
            "           6       1.00      0.00      0.00        22\n",
            "\n",
            "    accuracy                           0.15       157\n",
            "   macro avg       0.88      0.14      0.04       157\n",
            "weighted avg       0.87      0.15      0.04       157\n",
            "\n"
          ]
        }
      ],
      "source": [
        "# Verifier la correspondance des clusters\n",
        "y_val_pred_transform = conf_mat_transform_argmax(y_val_num, y_val_pred)\n",
        "\n",
        "# Afficher la matrice de confusion et le rapport de classification\n",
        "conf_mat_mlp = matrice_conf_et_rapport(\n",
        "    y_val_num,\n",
        "    y_val_pred_transform,\n",
        "    categories\n",
        "    )"
      ]
    },
    {
      "cell_type": "markdown",
      "metadata": {
        "id": "PJitjad307GC"
      },
      "source": [
        "Le modèle optimal MLP presente un f-score < 0,16."
      ]
    },
    {
      "cell_type": "markdown",
      "metadata": {
        "id": "tnv9iazn07GC"
      },
      "source": [
        "<div class=\"alert alert-block alert-success\"><b>Bilan: </b> <br>\n",
        "Le modèle optimal MLP présente des performances très faibles qui sont équivalentes à un classifieur naïf en ne prédisant qu'une seule catégorie. </div>"
      ]
    },
    {
      "cell_type": "markdown",
      "metadata": {
        "id": "kuMAxrU507GC"
      },
      "source": [
        "# <span style='background:blue'>Etape 5 : CNN</span>\n",
        "\n",
        "Pour cette classification d'image automatique, nous allons utiliser un Convolutionnal Neural Network (**CNN**)."
      ]
    },
    {
      "cell_type": "markdown",
      "metadata": {
        "id": "GTyAIE9j07GC"
      },
      "source": [
        "## <span style='background:green'>1/ Prétraitement des données</span>\n",
        "\n",
        "### <span style='background:black'>a/ target</span>\n",
        "\n",
        "Nous utilisons le même prétraitement de la target que précedemment. Pour rappel, il consiste à transformer les catégories avec un **OneHotEncoder** pour pouvoir les utiliser dans le modèle de machine learning."
      ]
    },
    {
      "cell_type": "markdown",
      "metadata": {
        "id": "dusFP2bd07GD"
      },
      "source": [
        "### <span style='background:black'>b/ features</span>\n",
        "\n",
        "Nous utilisons le même prétraitement des features que précedemment. Pour rappel, il se déroule en plusieurs étapes :\n",
        "- Redimensionnement de l'images en 224 x 224 pixels\n",
        "- Convertion de l'image en tableau NumPy\n",
        "- Certification des dimensions (hauteur, largeur, couleur)"
      ]
    },
    {
      "cell_type": "markdown",
      "metadata": {
        "id": "8cFmyg-207GD"
      },
      "source": [
        "## <span style='background:green'>2/ Elaboration du modèle</span>\n",
        "\n",
        "### <span style='background:black'>a/ Architecture</span>\n",
        "\n",
        "Le modèle CNN présente la structure suivante :\n",
        "- 1 couche de convolution avec 32 filtres de taille 3 x 3 et une fonction d'activation ReLU\n",
        "- 1 couche de pooling avec un filtre de taille 2 x 2\n",
        "- 1 couche de flatten pour applatir les sorties des couches précédentes en un vecteur\n",
        "- 1 couche dense avec 56 neurones et une fonction d'activation ReLU\n",
        "- 1 couche de sortie avec 7 neurones et une fonction d'activation softmax\n",
        "\n",
        "### <span style='background:black'>b/ Compilation et métrique d'évaluation</span>\n",
        "\n",
        "Le modèle est compilé avec les mêmes paramètres que précedemment, à savoir :\n",
        "- la fonction de perte '**categorical_crossentropy**'\n",
        "\n",
        "- l'optimiseur '**rmsprop**'\n",
        "\n",
        "- la métrique d'évaluation '**accuracy**'"
      ]
    },
    {
      "cell_type": "markdown",
      "metadata": {
        "id": "4yktAKro07GD"
      },
      "source": [
        "### <span style='background:black'>c/ Callbacks</span>\n",
        "\n",
        "Nous utilisons les mêmes callbacks que précedemment, à savoir :\n",
        "\n",
        "- **ModelCheckpoint** pour sauvegarder le meilleur modèle pendant l'entrainement.\n",
        "\n",
        "- **EarlyStopping** pour arrêter l'entrainement si val_loss (la perte du jeu de validation) ne diminue plus après 3 epochs."
      ]
    },
    {
      "cell_type": "markdown",
      "metadata": {
        "id": "a7ceHsMv07GD"
      },
      "source": [
        "### <span style='background:black'>d/ Indicateur supplémentaire</span>\n",
        "\n",
        "Nous utilisons le même indicateur supplémentaire que précedemment, à savoir le **temps de calcul**.\n",
        "\n",
        "### <span style='background:black'>e/ Optimisation hyperparamètre</span>\n",
        "\n",
        "Nous utilisont les mêmes paramètres que précedemment, à savoir :\n",
        "- epochs = 15\n",
        "- batch_size = 32, 64, 128 et 256"
      ]
    },
    {
      "cell_type": "code",
      "execution_count": 45,
      "metadata": {
        "colab": {
          "base_uri": "https://localhost:8080/"
        },
        "id": "XKtJfIjd07GD",
        "outputId": "26bc5962-38b4-450a-a844-81cab4108932"
      },
      "outputs": [
        {
          "name": "stdout",
          "output_type": "stream",
          "text": [
            "Les calculs ont deja tournés sur Google Colab\n"
          ]
        }
      ],
      "source": [
        "# SI fichier des resultats existe ALORS on passe\n",
        "if is_modele_cnn_calculed:\n",
        "    print(\"Les calculs ont deja tournés sur Google Colab\")\n",
        "\n",
        "# SINON il n'existe pas et il faut faire les calculs\n",
        "else:\n",
        "    # Créer des dictionnaires vides pour stocker l'historique, temps, epochs\n",
        "    history_dict, time_dict, epoch_dict = {}, {}, {}\n",
        "\n",
        "    # POUR chaque batch_size\n",
        "    for batch_size in batch_sizes:\n",
        "        print(\"\\n\", \"=\" * 30, \"batch_size :\", batch_size, \"=\" * 30)\n",
        "\n",
        "        # Créer un modèle CNN\n",
        "        model_cnn = creation_modele_cnn(\n",
        "            fonction_perte,\n",
        "            optimiseur,\n",
        "            metric_eval\n",
        "            )\n",
        "\n",
        "        # Création des callbacks\n",
        "        callbacks_list, chemin_modele_export = creer_callbacks(\n",
        "            \"model_cnn\",\n",
        "            patience,\n",
        "            batch_size\n",
        "            )\n",
        "\n",
        "        # Enregistrer le temps de début\n",
        "        start_time = time.time()\n",
        "\n",
        "        # Entraîner le modèle\n",
        "        history_cnn = model_cnn.fit(\n",
        "            X_train_pretraited,\n",
        "            y_train_pretraited,\n",
        "            epochs=15,\n",
        "            batch_size=batch_size,\n",
        "            callbacks=callbacks_list,\n",
        "            validation_data=(X_val_pretraited, y_val_pretraited),\n",
        "            verbose=0\n",
        "            )\n",
        "\n",
        "        # Enregistrer le temps de fin\n",
        "        end_time = time.time()\n",
        "\n",
        "        # Calculer le temps d'entraînement\n",
        "        temps_train = end_time - start_time\n",
        "        print(f\"\\n=> Temps d'entraînement : {round(temps_train, 2)} sec <=\")\n",
        "\n",
        "        # Calculer le nombre d'epochs\n",
        "        epochs = len(history_cnn.history['loss'])\n",
        "\n",
        "        # Stocker l'historique, le temps d'entraînement et le nombre d'epochs\n",
        "        history_dict[batch_size] = history_cnn.history\n",
        "        time_dict[batch_size] = temps_train\n",
        "        epoch_dict[batch_size] = epochs"
      ]
    },
    {
      "cell_type": "markdown",
      "metadata": {
        "id": "L-eLF6ao07GE"
      },
      "source": [
        "Comparons les résultats obtenus pour les différents batch_size :"
      ]
    },
    {
      "cell_type": "code",
      "execution_count": 46,
      "metadata": {
        "colab": {
          "base_uri": "https://localhost:8080/",
          "height": 211
        },
        "id": "E9Eq8WjkwsRH",
        "outputId": "a23e2c21-1789-47ec-a8da-570cadfd3794"
      },
      "outputs": [
        {
          "name": "stdout",
          "output_type": "stream",
          "text": [
            "Les calculs ont deja tournés sur Google Colab\n",
            "\n",
            "Meilleur batch_size (accuracy): 64\n"
          ]
        },
        {
          "data": {
            "text/html": [
              "<style type=\"text/css\">\n",
              "#T_05e43_row1_col0, #T_05e43_row3_col1 {\n",
              "  background-color: green;\n",
              "}\n",
              "</style>\n",
              "<table id=\"T_05e43\">\n",
              "  <thead>\n",
              "    <tr>\n",
              "      <th class=\"blank level0\" >&nbsp;</th>\n",
              "      <th id=\"T_05e43_level0_col0\" class=\"col_heading level0 col0\" >Validation Accuracy</th>\n",
              "      <th id=\"T_05e43_level0_col1\" class=\"col_heading level0 col1\" >Temps (sec)</th>\n",
              "      <th id=\"T_05e43_level0_col2\" class=\"col_heading level0 col2\" >Epochs</th>\n",
              "      <th id=\"T_05e43_level0_col3\" class=\"col_heading level0 col3\" >batch_size</th>\n",
              "    </tr>\n",
              "  </thead>\n",
              "  <tbody>\n",
              "    <tr>\n",
              "      <th id=\"T_05e43_level0_row0\" class=\"row_heading level0 row0\" >0</th>\n",
              "      <td id=\"T_05e43_row0_col0\" class=\"data row0 col0\" >0.140127</td>\n",
              "      <td id=\"T_05e43_row0_col1\" class=\"data row0 col1\" >36.849359</td>\n",
              "      <td id=\"T_05e43_row0_col2\" class=\"data row0 col2\" >8</td>\n",
              "      <td id=\"T_05e43_row0_col3\" class=\"data row0 col3\" >32</td>\n",
              "    </tr>\n",
              "    <tr>\n",
              "      <th id=\"T_05e43_level0_row1\" class=\"row_heading level0 row1\" >1</th>\n",
              "      <td id=\"T_05e43_row1_col0\" class=\"data row1 col0\" >0.426752</td>\n",
              "      <td id=\"T_05e43_row1_col1\" class=\"data row1 col1\" >36.910836</td>\n",
              "      <td id=\"T_05e43_row1_col2\" class=\"data row1 col2\" >9</td>\n",
              "      <td id=\"T_05e43_row1_col3\" class=\"data row1 col3\" >64</td>\n",
              "    </tr>\n",
              "    <tr>\n",
              "      <th id=\"T_05e43_level0_row2\" class=\"row_heading level0 row2\" >2</th>\n",
              "      <td id=\"T_05e43_row2_col0\" class=\"data row2 col0\" >0.299363</td>\n",
              "      <td id=\"T_05e43_row2_col1\" class=\"data row2 col1\" >55.144984</td>\n",
              "      <td id=\"T_05e43_row2_col2\" class=\"data row2 col2\" >15</td>\n",
              "      <td id=\"T_05e43_row2_col3\" class=\"data row2 col3\" >128</td>\n",
              "    </tr>\n",
              "    <tr>\n",
              "      <th id=\"T_05e43_level0_row3\" class=\"row_heading level0 row3\" >3</th>\n",
              "      <td id=\"T_05e43_row3_col0\" class=\"data row3 col0\" >0.222930</td>\n",
              "      <td id=\"T_05e43_row3_col1\" class=\"data row3 col1\" >27.912522</td>\n",
              "      <td id=\"T_05e43_row3_col2\" class=\"data row3 col2\" >7</td>\n",
              "      <td id=\"T_05e43_row3_col3\" class=\"data row3 col3\" >256</td>\n",
              "    </tr>\n",
              "  </tbody>\n",
              "</table>\n"
            ],
            "text/plain": [
              "<pandas.io.formats.style.Styler at 0x134b3238750>"
            ]
          },
          "execution_count": 46,
          "metadata": {},
          "output_type": "execute_result"
        }
      ],
      "source": [
        "# SI fichier des resultats existe ALORS on passe\n",
        "if is_modele_cnn_calculed:\n",
        "    print(\"Les calculs ont deja tournés sur Google Colab\")\n",
        "\n",
        "# SINON il n'existe pas et il faut faire les calculs\n",
        "else:\n",
        "    resultat_cnn = creer_dataframe_resultats(\n",
        "        history_dict,\n",
        "        time_dict,\n",
        "        epoch_dict,\n",
        "        batch_sizes,\n",
        "        \"resultat_cnn\"\n",
        "    )\n",
        "\n",
        "# Afficher le batch_size avec la meilleure accuracy de validation\n",
        "batch_meilleur_cnn = resultat_cnn.loc[\n",
        "    resultat_cnn['Validation Accuracy'].idxmax(),\n",
        "    'batch_size'\n",
        "]\n",
        "print(f\"\\nMeilleur batch_size (accuracy): {batch_meilleur_cnn}\")\n",
        "\n",
        "# Surligner les meilleures valeurs\n",
        "resultat_cnn.style.apply(surligne_meilleur)"
      ]
    },
    {
      "cell_type": "markdown",
      "metadata": {
        "id": "NO74ZYVM07GL"
      },
      "source": [
        "Les meilleurs performances sont obtenues pour un batch_size de 64 (accuracy de validation la plus grande et temps de calcul intermédiaire). Le temps de calcul le plus faible est obtenu avec le batch de 256 mais son accuracy de validation est nettement plus faible.\n",
        "\n",
        "Nous choississons donc le **batch_size de 64** pour la suite des analyses avec le **CNN**."
      ]
    },
    {
      "cell_type": "markdown",
      "metadata": {
        "id": "V8oJGJaa07GL"
      },
      "source": [
        "## <span style='background:green'>3/ Modèle optimal</span>\n",
        "\n",
        "### <span style='background:black'>a/Création et entrainement</span>\n",
        "\n",
        "Nous entrainons à nouveau le modèle avec le bon batch_size pour obtenir le modèle optimal."
      ]
    },
    {
      "cell_type": "code",
      "execution_count": 48,
      "metadata": {
        "colab": {
          "base_uri": "https://localhost:8080/"
        },
        "id": "cpR7ghKS07GL",
        "outputId": "84239768-60f1-4d62-f3ea-9124f55fb96b"
      },
      "outputs": [
        {
          "name": "stdout",
          "output_type": "stream",
          "text": [
            "Les calculs ont deja tournés sur Google Colab\n"
          ]
        }
      ],
      "source": [
        "# SI fichier des resultats existe ALORS on passe\n",
        "if is_modele_cnn_calculed:\n",
        "    print(\"Les calculs ont deja tournés sur Google Colab\")\n",
        "\n",
        "# SINON on realise les calculs\n",
        "else:\n",
        "    print(\"On fait les calculs.\")\n",
        "\n",
        "    # Créer le modèle optimal CNN\n",
        "    model_optimal_cnn = creation_modele_cnn(\n",
        "        fonction_perte,\n",
        "        optimiseur,\n",
        "        metric_eval,\n",
        "        verbose=1\n",
        "    )\n",
        "\n",
        "    # Création des callbacks\n",
        "    callbacks_list, chemin_modele_export = creer_callbacks(\n",
        "        \"model_optimal_cnn\",\n",
        "        patience\n",
        "    )\n",
        "\n",
        "    # Enregistrer le temps de début\n",
        "    start_time = time.time()\n",
        "\n",
        "    # Entraîner le modèle avec batch_meilleur_cnn\n",
        "    history_optimal_cnn = model_optimal_cnn.fit(\n",
        "        X_train_pretraited,\n",
        "        y_train_pretraited,\n",
        "        epochs=15,\n",
        "        batch_size=batch_meilleur_cnn,\n",
        "        callbacks=callbacks_list,\n",
        "        validation_data=(X_val_pretraited, y_val_pretraited),\n",
        "        verbose=1\n",
        "    )\n",
        "\n",
        "    # Enregistrer le temps de fin\n",
        "    end_time = time.time()\n",
        "\n",
        "    # Calculer le temps d'entraînement\n",
        "    temps_train = end_time - start_time\n",
        "    print(f\"\\n=> Temps d'entraînement : {round(temps_train, 2)} sec <=\")\n",
        "\n",
        "    # Calculer le nombre d'epochs\n",
        "    epochs = len(history_optimal_cnn.history['loss'])\n",
        "\n",
        "    # Créer un dictionnaire pour stocker historique, temps et nombre d'époch\n",
        "    history_optimal_cnn_dict = {\n",
        "        'history': history_optimal_cnn.history,\n",
        "        'temps_train': temps_train,\n",
        "        'num_epochs': epochs\n",
        "    }\n",
        "\n",
        "    # Sauvegarder l'objet history_dict\n",
        "    with open(\"./modele_ML/history_optimal_cnn.pickle\", 'wb') as f:\n",
        "        pickle.dump(history_optimal_cnn_dict, f)"
      ]
    },
    {
      "cell_type": "markdown",
      "metadata": {
        "id": "Zp3o2_Q5wsRJ"
      },
      "source": [
        "Nous regroupons les résultats obtenus par notre modele optimal en 1 ligne."
      ]
    },
    {
      "cell_type": "code",
      "execution_count": 49,
      "metadata": {
        "colab": {
          "base_uri": "https://localhost:8080/",
          "height": 81
        },
        "id": "dWo93qREwsRL",
        "outputId": "52763236-c30f-4321-cf3e-43123d5b8ca8"
      },
      "outputs": [
        {
          "data": {
            "text/html": [
              "<div>\n",
              "<style scoped>\n",
              "    .dataframe tbody tr th:only-of-type {\n",
              "        vertical-align: middle;\n",
              "    }\n",
              "\n",
              "    .dataframe tbody tr th {\n",
              "        vertical-align: top;\n",
              "    }\n",
              "\n",
              "    .dataframe thead th {\n",
              "        text-align: right;\n",
              "    }\n",
              "</style>\n",
              "<table border=\"1\" class=\"dataframe\">\n",
              "  <thead>\n",
              "    <tr style=\"text-align: right;\">\n",
              "      <th></th>\n",
              "      <th>Validation Accuracy</th>\n",
              "      <th>Temps (sec)</th>\n",
              "      <th>Epochs</th>\n",
              "      <th>batch_size</th>\n",
              "    </tr>\n",
              "  </thead>\n",
              "  <tbody>\n",
              "    <tr>\n",
              "      <th>cnn</th>\n",
              "      <td>0.17</td>\n",
              "      <td>62.15</td>\n",
              "      <td>15</td>\n",
              "      <td>64</td>\n",
              "    </tr>\n",
              "  </tbody>\n",
              "</table>\n",
              "</div>"
            ],
            "text/plain": [
              "     Validation Accuracy  Temps (sec)  Epochs  batch_size\n",
              "cnn                 0.17        62.15      15          64"
            ]
          },
          "metadata": {},
          "output_type": "display_data"
        }
      ],
      "source": [
        "# Récuperation des résultats\n",
        "resultat_optimal_cnn = creer_dataframe_optimal(\n",
        "    history_optimal_cnn_dict,\n",
        "    batch_meilleur_cnn,\n",
        "    'cnn'\n",
        ")\n",
        "\n",
        "display(resultat_optimal_cnn)"
      ]
    },
    {
      "cell_type": "markdown",
      "metadata": {
        "id": "fQTVLs3W07GL"
      },
      "source": [
        "### <span style='background:black'>b/ Plot loss et accuracy</span>\n",
        "\n",
        "Nous affichons l'évolution de la perte et de l'accuracy pour le jeu d'entrainement et le jeu de validation au cours des epoch."
      ]
    },
    {
      "cell_type": "code",
      "execution_count": 50,
      "metadata": {
        "colab": {
          "base_uri": "https://localhost:8080/",
          "height": 528
        },
        "id": "8Ax3vHK707GL",
        "outputId": "b2591fbd-5a81-4f7a-a7aa-35723dcfe6fa"
      },
      "outputs": [
        {
          "data": {
            "image/png": "[encoded data removed]",
            "text/plain": [
              "<Figure size 1000x500 with 2 Axes>"
            ]
          },
          "metadata": {},
          "output_type": "display_data"
        }
      ],
      "source": [
        "# Afficher l'historique de l'entraînement\n",
        "show_history(history_optimal_cnn_dict['history'])\n",
        "\n",
        "# Definir le chemin d'export de la figure\n",
        "dossier_figure = \"./figure/\"\n",
        "nom_figure = \"history_optimal_cnn.png\"\n",
        "chemin_figure_export = os.path.join(dossier_figure, nom_figure)\n",
        "\n",
        "# Sauvegarder l'historique de l'entraînement\n",
        "plot_history(history_optimal_cnn_dict, path=chemin_figure_export)\n",
        "plt.close()"
      ]
    },
    {
      "cell_type": "markdown",
      "metadata": {
        "id": "qX59lDyU07GM"
      },
      "source": [
        "Nous remarquons que les résultats ne sont pas à la hauteur des attentes espérées suite à l'optimisation des hyperparamètres. Le modèle présente une perte de validation élevée (1,90) et une accuracy de validation faible (< 0,2)."
      ]
    },
    {
      "cell_type": "markdown",
      "metadata": {
        "id": "kHMpKrrm07GM"
      },
      "source": [
        "### <span style='background:black'>c/ Comparatif des accuracy</span>\n",
        "\n",
        "Nous comparons les accuracy du modèle optimal (CNN) avec les poids du meilleur modèle pour les 2 jeux de données (entrainement et test)."
      ]
    },
    {
      "cell_type": "code",
      "execution_count": 51,
      "metadata": {
        "colab": {
          "base_uri": "https://localhost:8080/"
        },
        "id": "BnWztT7P07GM",
        "outputId": "0c1e33be-474a-4225-8b46-fa5a7978cdd0"
      },
      "outputs": [
        {
          "name": "stdout",
          "output_type": "stream",
          "text": [
            "23/23 [==============================] - 3s 82ms/step - loss: 1.9207 - accuracy: 0.1565\n",
            "Training Accuracy   :  0.156\n",
            "5/5 [==============================] - 0s 86ms/step - loss: 1.9336 - accuracy: 0.1519\n",
            "Test Accuracy       :  0.152\n"
          ]
        }
      ],
      "source": [
        "# Charger les poids du meilleur modèle\n",
        "model_optimal_cnn.load_weights(\"./modele_ML/model_optimal_cnn_best_weights.h5\")\n",
        "\n",
        "# Evaluation meilleur modèle sur les données d'entraînement\n",
        "loss_cnn_train, accuracy_cnn_train = model_optimal_cnn.evaluate(\n",
        "    X_train_pretraited,\n",
        "    y_train_pretraited\n",
        ")\n",
        "print(\"Training Accuracy   :  {:.3f}\".format(accuracy_cnn_train))\n",
        "\n",
        "# Evaluation meilleur modèle sur les données de test\n",
        "loss_cnn_test, accuracy_cnn_test = model_optimal_cnn.evaluate(\n",
        "    X_test_pretraited,\n",
        "    y_test_pretraited\n",
        ")\n",
        "print(\"Test Accuracy       :  {:.3f}\".format(accuracy_cnn_test))"
      ]
    },
    {
      "cell_type": "markdown",
      "metadata": {
        "id": "syf2nC5x07GM"
      },
      "source": [
        "Les 2 accuracy sont proches mais faibles (< 0,16)."
      ]
    },
    {
      "cell_type": "markdown",
      "metadata": {
        "id": "ndYxgZua07GM"
      },
      "source": [
        "### <span style='background:black'>d/ Matrice de confusion</span>\n",
        "\n",
        "Nous affichons les valeurs réelles et celles prédites par le modèle optimal pour les données de validation."
      ]
    },
    {
      "cell_type": "code",
      "execution_count": 52,
      "metadata": {
        "colab": {
          "base_uri": "https://localhost:8080/"
        },
        "id": "RtEvC8B_07GM",
        "outputId": "3fdebe36-abdf-434c-8ed7-7bc524f86dcd"
      },
      "outputs": [
        {
          "name": "stdout",
          "output_type": "stream",
          "text": [
            "5/5 [==============================] - 0s 55ms/step\n",
            "Categorie reelle :  [1 5 6 2 5 2 2 6 5 6 5 6 6 2 3 0 3 0 1 6 1 0 6 1 1 1 1 2 6 4] \n",
            "\n",
            "Categorie prédite :  [3 3 3 3 3 3 3 3 3 3 3 3 3 3 3 3 3 3 3 3 3 3 3 3 3 3 3 3 3 3]\n"
          ]
        }
      ],
      "source": [
        "# Categories prédites des images de validation\n",
        "y_val_pred = np.argmax(model_optimal_cnn.predict(X_val_pretraited), axis=1)\n",
        "\n",
        "# Afficher les 30 premières catégories réelles et prédites\n",
        "print(\"Categorie reelle : \", y_val_num[:30], \"\\n\")\n",
        "print(\"Categorie prédite : \", y_val_pred[:30])"
      ]
    },
    {
      "cell_type": "markdown",
      "metadata": {
        "id": "Ov7riQZq07GN"
      },
      "source": [
        "Nous confirmons les résultats en affichant la matrice de confusion et le rapport de classification."
      ]
    },
    {
      "cell_type": "code",
      "execution_count": 53,
      "metadata": {
        "colab": {
          "base_uri": "https://localhost:8080/",
          "height": 839
        },
        "id": "aynIiA2507GN",
        "outputId": "b5bad570-6026-444f-81dc-d96830561c04"
      },
      "outputs": [
        {
          "name": "stdout",
          "output_type": "stream",
          "text": [
            "\n",
            "Correspondance des clusters :  [0 0 2 0 0 5 0]\n"
          ]
        },
        {
          "data": {
            "image/png": "[encoded data removed]",
            "text/plain": [
              "<Figure size 600x400 with 2 Axes>"
            ]
          },
          "metadata": {},
          "output_type": "display_data"
        },
        {
          "name": "stdout",
          "output_type": "stream",
          "text": [
            "              precision    recall  f1-score   support\n",
            "\n",
            "           0       0.15      1.00      0.26        23\n",
            "           1       1.00      0.00      0.00        23\n",
            "           2       1.00      0.09      0.17        22\n",
            "           3       1.00      0.00      0.00        22\n",
            "           4       1.00      0.00      0.00        22\n",
            "           5       1.00      0.09      0.16        23\n",
            "           6       1.00      0.00      0.00        22\n",
            "\n",
            "    accuracy                           0.17       157\n",
            "   macro avg       0.88      0.17      0.08       157\n",
            "weighted avg       0.88      0.17      0.09       157\n",
            "\n"
          ]
        }
      ],
      "source": [
        "# Verifier la correspondance des clusters\n",
        "y_val_pred_transform = conf_mat_transform_argmax(y_val_num, y_val_pred)\n",
        "\n",
        "# Afficher la matrice de confusion et le rapport de classification\n",
        "conf_mat_cnn = matrice_conf_et_rapport(\n",
        "    y_val_num,\n",
        "    y_val_pred_transform,\n",
        "    categories\n",
        "    )"
      ]
    },
    {
      "cell_type": "markdown",
      "metadata": {
        "id": "LToKt6ZE07GO"
      },
      "source": [
        "Le modèle optimal CNN presente un f-score < 0,18."
      ]
    },
    {
      "cell_type": "markdown",
      "metadata": {
        "id": "LMPgFUyX07GO"
      },
      "source": [
        "<div class=\"alert alert-block alert-success\"><b>Bilan: </b> <br>\n",
        "Le modèle optimal CNN présente des performances très faibles qui sont équivalentes à un classifieur naïf et le modèle optimal MLP en ne prédisant presque tout le temps qu'une seule catégorie. </div>"
      ]
    },
    {
      "cell_type": "markdown",
      "metadata": {
        "id": "--Vw2uOs07GO"
      },
      "source": [
        "# <span style='background:blue'>Etape 6 : CNN + Transfer learning VGG-16</span>\n",
        "\n",
        "Pour cette classification d'image automatique, nous allons utiliser un **réseau de neurones convolutionnels** (*Convolutional Neural Network*, **CNN**). Nous le couplons avec la technique du **transfer learning** pour utiliser le modèle pré-entrainé **VGG-16**.\n",
        "\n",
        "Le modèle VGG-16 a été entrainé sur un jeu de données ImageNet de plus d'1 million d'images."
      ]
    },
    {
      "cell_type": "markdown",
      "metadata": {
        "id": "e-7X4mG507GO"
      },
      "source": [
        "## <span style='background:green'>1/ Prétraitement des données</span>\n",
        "\n",
        "### <span style='background:black'>a/ target</span>\n",
        "\n",
        "Nous utilisons le même prétraitement de la target que précedemment. Pour rappel, il consiste à transformer les catégories avec un **OneHotEncoder** pour pouvoir les utiliser dans le modèle de machine learning."
      ]
    },
    {
      "cell_type": "markdown",
      "metadata": {
        "id": "PhK_iMgM07GP"
      },
      "source": [
        "### <span style='background:black'>b/ features</span>\n",
        "\n",
        "Le prétraitement des features pour le **VGG16** se déroule en plusieurs étapes :\n",
        "- Redimensionnement de l'images en 224 x 224 pixels\n",
        "- Convertion de l'image en tableau NumPy\n",
        "- Certification des dimensions (hauteur, largeur, couleur)\n",
        "- Normaliser les pixels de l'image pour VGG16 :\n",
        "  - Mettre à l'echelle entre -1 et 1 (soustraire valeur moyenne des\n",
        "    des pixels sur le canaux RGB du jeu de données ImageNet)\n",
        "  - inverser les canaux RGB en BGR"
      ]
    },
    {
      "cell_type": "code",
      "execution_count": 54,
      "metadata": {
        "id": "e3T-TSvQ07GP"
      },
      "outputs": [],
      "source": [
        "# Prétraitement jeu entrainement\n",
        "X_train_pretraited = pretraitement_image(X_train, 'vgg16')\n",
        "\n",
        "# Prétraitement jeu validation\n",
        "X_val_pretraited = pretraitement_image(X_val, 'vgg16')\n",
        "\n",
        "# Prétraitement jeu test\n",
        "X_test_pretraited = pretraitement_image(X_test, 'vgg16')"
      ]
    },
    {
      "cell_type": "markdown",
      "metadata": {
        "id": "NXGfutzH07GP"
      },
      "source": [
        "Nous vérifions les dimensions des images pour vérifier que le prétraitement des features a bien été réalisé."
      ]
    },
    {
      "cell_type": "code",
      "execution_count": 55,
      "metadata": {
        "colab": {
          "base_uri": "https://localhost:8080/"
        },
        "id": "CruxqxeX07GP",
        "outputId": "5313adf9-e3a2-4238-f81b-432b8e6d0449"
      },
      "outputs": [
        {
          "name": "stdout",
          "output_type": "stream",
          "text": [
            "X_train_pretraited :  (735, 224, 224, 3)\n",
            "X_val_pretraited :  (157, 224, 224, 3)\n",
            "X_test_pretraited :  (158, 224, 224, 3)\n"
          ]
        }
      ],
      "source": [
        "print(\"X_train_pretraited : \", X_train_pretraited.shape)\n",
        "print(\"X_val_pretraited : \", X_val_pretraited.shape)\n",
        "print(\"X_test_pretraited : \", X_test_pretraited.shape)"
      ]
    },
    {
      "cell_type": "markdown",
      "metadata": {
        "id": "hk3WMpXt07GP"
      },
      "source": [
        "## <span style='background:green'>2/ Elaboration du modèle</span>\n",
        "\n",
        "### <span style='background:black'>a/ Architecture</span>\n",
        "\n",
        "Le modèle VGG16 est composé de 16 couches de convolution et de 3 couches fully connected. Il classe les images (224 x 224 pixels) en 1000 catégories différentes.\n",
        "\n",
        "Nous créons un modèle de classification d'images CNN en réalisant un **transfer learning** à partir du modèle VGG16. Ce dernier est importé **sans** les 3 couches fully connected. Les **poids** du modèle sont initialisés\n",
        "avec les poids du modèle entrainé sur ImageNet.\n",
        "\n",
        "Le modèle de transfer learning VGG16 est utilisé comme extracteur de caractéristiques, et 4 nouvelles couches sont ajoutées à sa sortie :\n",
        "- 1 couche de **GlobalAveragePooling2D** pour convertir les features en un vecteur 1D\n",
        "- 1 couche **Dense** de 256 neurones et une fonction d'activation **relu**\n",
        "- 1 couche **Dropout** pour désactiver 50% des neurones\n",
        "- 1 couche **Dense**\n",
        "de 7 neurones et une fonction d'activation **softmax** pour la classification\n",
        "\n",
        "### <span style='background:black'>b/ Compilation et métrique d'évaluation</span>\n",
        "\n",
        "Le modèle est compilé avec les mêmes paramètres que précedemment, à savoir :\n",
        "- la fonction de perte '**categorical_crossentropy**'\n",
        "\n",
        "- l'optimiseur '**rmsprop**'\n",
        "\n",
        "- la métrique d'évaluation '**accuracy**'"
      ]
    },
    {
      "cell_type": "markdown",
      "metadata": {
        "id": "z0ageM8907GP"
      },
      "source": [
        "### <span style='background:black'>c/ Callbacks</span>\n",
        "\n",
        "Nous utilisons les mêmes callbacks que précedemment, à savoir :\n",
        "\n",
        "- **ModelCheckpoint** pour sauvegarder le meilleur modèle pendant l'entrainement.\n",
        "\n",
        "- **EarlyStopping** pour arrêter l'entrainement si val_loss (la perte du jeu de validation) ne diminue plus après 3 epochs."
      ]
    },
    {
      "cell_type": "markdown",
      "metadata": {
        "id": "Gmtg7GMN07GP"
      },
      "source": [
        "### <span style='background:black'>d/ Indicateur supplémentaire</span>\n",
        "\n",
        "Nous utilisons le même indicateur supplémentaire que précedemment, à savoir le **temps de calcul**.\n",
        "\n",
        "### <span style='background:black'>e/ Optimisation hyperparamètre</span>\n",
        "\n",
        "Nous utilisont les mêmes paramètres que précedemment, à savoir :\n",
        "- epochs = 15\n",
        "- batch_size = 32, 64, 128 et 256"
      ]
    },
    {
      "cell_type": "code",
      "execution_count": 56,
      "metadata": {
        "colab": {
          "base_uri": "https://localhost:8080/"
        },
        "id": "M5vCNgxN07GQ",
        "outputId": "070e5a7e-50e9-4580-eb07-8685a355976c"
      },
      "outputs": [
        {
          "name": "stdout",
          "output_type": "stream",
          "text": [
            "Les calculs ont deja tournés sur Google Colab\n"
          ]
        }
      ],
      "source": [
        "# SI fichier des resultats existe ALORS on passe\n",
        "if is_modele_tf_vgg16_noDA_calculed:\n",
        "    print(\"Les calculs ont deja tournés sur Google Colab\")\n",
        "\n",
        "# SINON il n'existe pas et il faut faire les calculs\n",
        "else:\n",
        "\n",
        "    # Créer des dictionnaires vides pour stocker l'historique, temps, epochs\n",
        "    history_dict, time_dict, epoch_dict = {}, {}, {}\n",
        "\n",
        "    # POUR chaque batch_size\n",
        "    for batch_size in batch_sizes:\n",
        "        print(\"\\n\", \"=\" * 30, \"batch_size :\", batch_size, \"=\" * 30)\n",
        "\n",
        "        # Créer un modèle CNN avec transfert learning (VGG16)\n",
        "        model_tf_vgg16_noDA = creation_modele_transfer_vgg16(\n",
        "            fonction_perte,\n",
        "            optimiseur,\n",
        "            metric_eval,\n",
        "            verbose=0\n",
        "        )\n",
        "\n",
        "        # Création des callbacks\n",
        "        callbacks_list, chemin_modele_export = creer_callbacks(\n",
        "            \"model_tf_vgg16_noDA\",\n",
        "            patience,\n",
        "            batch_size\n",
        "        )\n",
        "\n",
        "        # Enregistrer le temps de début\n",
        "        start_time = time.time()\n",
        "\n",
        "        # Entraîner le modèle\n",
        "        history_tf_vgg16_noDA = model_tf_vgg16_noDA.fit(\n",
        "            X_train_pretraited,\n",
        "            y_train_pretraited,\n",
        "            epochs=15,\n",
        "            batch_size=batch_size,\n",
        "            callbacks=callbacks_list,\n",
        "            validation_data=(X_val_pretraited, y_val_pretraited),\n",
        "            verbose=0\n",
        "        )\n",
        "\n",
        "        # Enregistrer le temps de fin\n",
        "        end_time = time.time()\n",
        "\n",
        "        # Calculer le temps d'entraînement\n",
        "        temps_train = end_time - start_time\n",
        "        print(f\"\\n=> Temps d'entraînement : {round(temps_train, 2)} sec <=\")\n",
        "\n",
        "        # Calculer le nombre d'epochs\n",
        "        epochs = len(history_tf_vgg16_noDA.history['loss'])\n",
        "\n",
        "        # Stocker l'historique, le temps d'entraînement et le nombre d'epochs\n",
        "        history_dict[batch_size] = history_tf_vgg16_noDA.history\n",
        "        time_dict[batch_size] = temps_train\n",
        "        epoch_dict[batch_size] = epochs"
      ]
    },
    {
      "cell_type": "markdown",
      "metadata": {
        "id": "-MSl069B07GQ"
      },
      "source": [
        "Comparons les résultats obtenus pour les différents batch_size :"
      ]
    },
    {
      "cell_type": "code",
      "execution_count": 57,
      "metadata": {
        "colab": {
          "base_uri": "https://localhost:8080/",
          "height": 211
        },
        "id": "fRCggtUGwsRP",
        "outputId": "cd0de522-fbd7-4fc4-92ad-fac772636b35"
      },
      "outputs": [
        {
          "name": "stdout",
          "output_type": "stream",
          "text": [
            "Les calculs ont deja tournés sur Google Colab\n",
            "\n",
            "Meilleur batch_size (accuracy): 32\n"
          ]
        },
        {
          "data": {
            "text/html": [
              "<style type=\"text/css\">\n",
              "#T_e3571_row0_col0, #T_e3571_row1_col1 {\n",
              "  background-color: green;\n",
              "}\n",
              "</style>\n",
              "<table id=\"T_e3571\">\n",
              "  <thead>\n",
              "    <tr>\n",
              "      <th class=\"blank level0\" >&nbsp;</th>\n",
              "      <th id=\"T_e3571_level0_col0\" class=\"col_heading level0 col0\" >Validation Accuracy</th>\n",
              "      <th id=\"T_e3571_level0_col1\" class=\"col_heading level0 col1\" >Temps (sec)</th>\n",
              "      <th id=\"T_e3571_level0_col2\" class=\"col_heading level0 col2\" >Epochs</th>\n",
              "      <th id=\"T_e3571_level0_col3\" class=\"col_heading level0 col3\" >batch_size</th>\n",
              "    </tr>\n",
              "  </thead>\n",
              "  <tbody>\n",
              "    <tr>\n",
              "      <th id=\"T_e3571_level0_row0\" class=\"row_heading level0 row0\" >0</th>\n",
              "      <td id=\"T_e3571_row0_col0\" class=\"data row0 col0\" >0.834395</td>\n",
              "      <td id=\"T_e3571_row0_col1\" class=\"data row0 col1\" >87.498551</td>\n",
              "      <td id=\"T_e3571_row0_col2\" class=\"data row0 col2\" >9</td>\n",
              "      <td id=\"T_e3571_row0_col3\" class=\"data row0 col3\" >32</td>\n",
              "    </tr>\n",
              "    <tr>\n",
              "      <th id=\"T_e3571_level0_row1\" class=\"row_heading level0 row1\" >1</th>\n",
              "      <td id=\"T_e3571_row1_col0\" class=\"data row1 col0\" >0.796178</td>\n",
              "      <td id=\"T_e3571_row1_col1\" class=\"data row1 col1\" >68.602543</td>\n",
              "      <td id=\"T_e3571_row1_col2\" class=\"data row1 col2\" >7</td>\n",
              "      <td id=\"T_e3571_row1_col3\" class=\"data row1 col3\" >64</td>\n",
              "    </tr>\n",
              "    <tr>\n",
              "      <th id=\"T_e3571_level0_row2\" class=\"row_heading level0 row2\" >2</th>\n",
              "      <td id=\"T_e3571_row2_col0\" class=\"data row2 col0\" >0.802548</td>\n",
              "      <td id=\"T_e3571_row2_col1\" class=\"data row2 col1\" >74.762772</td>\n",
              "      <td id=\"T_e3571_row2_col2\" class=\"data row2 col2\" >8</td>\n",
              "      <td id=\"T_e3571_row2_col3\" class=\"data row2 col3\" >128</td>\n",
              "    </tr>\n",
              "    <tr>\n",
              "      <th id=\"T_e3571_level0_row3\" class=\"row_heading level0 row3\" >3</th>\n",
              "      <td id=\"T_e3571_row3_col0\" class=\"data row3 col0\" >0.777070</td>\n",
              "      <td id=\"T_e3571_row3_col1\" class=\"data row3 col1\" >91.626898</td>\n",
              "      <td id=\"T_e3571_row3_col2\" class=\"data row3 col2\" >10</td>\n",
              "      <td id=\"T_e3571_row3_col3\" class=\"data row3 col3\" >256</td>\n",
              "    </tr>\n",
              "  </tbody>\n",
              "</table>\n"
            ],
            "text/plain": [
              "<pandas.io.formats.style.Styler at 0x134aedf2750>"
            ]
          },
          "execution_count": 57,
          "metadata": {},
          "output_type": "execute_result"
        }
      ],
      "source": [
        "# SI fichier des resultats existe ALORS on passe\n",
        "if is_modele_tf_vgg16_noDA_calculed:\n",
        "    print(\"Les calculs ont deja tournés sur Google Colab\")\n",
        "\n",
        "# SINON il n'existe pas et il faut faire les calculs\n",
        "else:\n",
        "    resultat_tf_vgg16_noDA = creer_dataframe_resultats(\n",
        "        history_dict,\n",
        "        time_dict,\n",
        "        epoch_dict,\n",
        "        batch_sizes,\n",
        "        \"resultat_tf_vgg16_noDA\"\n",
        "    )\n",
        "\n",
        "# Afficher le batch_size avec la meilleure accuracy de validation\n",
        "batch_meilleur_tf_vgg16_noDA = resultat_tf_vgg16_noDA.loc[\n",
        "    resultat_tf_vgg16_noDA['Validation Accuracy'].idxmax(),\n",
        "    'batch_size'\n",
        "]\n",
        "print(f\"\\nMeilleur batch_size (accuracy): {batch_meilleur_tf_vgg16_noDA}\")\n",
        "\n",
        "# Surligner les meilleures valeurs\n",
        "resultat_tf_vgg16_noDA.style.apply(surligne_meilleur)"
      ]
    },
    {
      "cell_type": "markdown",
      "metadata": {
        "id": "rVjeLL-407GQ"
      },
      "source": [
        "Les meilleurs performances sont obtenues pour un batch_size de 32 (accuracy de validation la plus grande et temps de calcul intermédiaire). Le temps de calcul le plus faible est obtenu avec le batch de 256 mais l'écart de temps entre les 2 n'est pas très important (20% env.), nous préferons favoriser l'accuracy de validation.\n",
        "\n",
        "Nous choississons donc le **batch_size de 32** pour la suite des analyses avec le **CNN avec Transfer Learning VGG16**."
      ]
    },
    {
      "cell_type": "markdown",
      "metadata": {
        "id": "LQYqx2WP07GR"
      },
      "source": [
        "## <span style='background:green'>3/ Modèle optimal</span>\n",
        "\n",
        "### <span style='background:black'>a/Création et entrainement</span>\n",
        "\n",
        "Nous entrainons à nouveau le modèle avec le bon batch_size pour obtenir le modèle optimal."
      ]
    },
    {
      "cell_type": "code",
      "execution_count": 58,
      "metadata": {
        "colab": {
          "base_uri": "https://localhost:8080/"
        },
        "id": "qFp-tXkY07GR",
        "outputId": "95ec10b7-26fd-490a-942e-e1a6a4b138d3"
      },
      "outputs": [
        {
          "name": "stdout",
          "output_type": "stream",
          "text": [
            "Les calculs ont deja tournés sur Google Colab\n"
          ]
        }
      ],
      "source": [
        "# SI fichier des resultats existe ALORS on passe\n",
        "if is_modele_tf_vgg16_noDA_calculed:\n",
        "    print(\"Les calculs ont deja tournés sur Google Colab\")\n",
        "\n",
        "# SINON on realise les calculs\n",
        "else:\n",
        "    print(\"On fait les calculs.\")\n",
        "\n",
        "    # Créer le modèle optimal de tranfer learning VGG16\n",
        "    model_optimal_tf_vgg16_noDA = creation_modele_transfer_vgg16(\n",
        "        fonction_perte,\n",
        "        optimiseur,\n",
        "        metric_eval,\n",
        "        verbose=1\n",
        "    )\n",
        "\n",
        "    # Création des callbacks\n",
        "    callbacks_list, chemin_modele_export = creer_callbacks(\n",
        "        \"model_optimal_tf_vgg16_noDA\",\n",
        "        patience\n",
        "    )\n",
        "\n",
        "    # Enregistrer le temps de début\n",
        "    start_time = time.time()\n",
        "\n",
        "    # Entraîner le modèle avec batch_meilleur_tf_vgg16_noDA\n",
        "    history_optimal_tf_vgg16_noDA = model_optimal_tf_vgg16_noDA.fit(\n",
        "        X_train_pretraited,\n",
        "        y_train_pretraited,\n",
        "        epochs=15,\n",
        "        batch_size=batch_meilleur_tf_vgg16_noDA,\n",
        "        callbacks=callbacks_list,\n",
        "        validation_data=(X_val_pretraited, y_val_pretraited),\n",
        "        verbose=1\n",
        "    )\n",
        "\n",
        "    # Enregistrer le temps de fin\n",
        "    end_time = time.time()\n",
        "\n",
        "    # Calculer le temps d'entraînement\n",
        "    temps_train = end_time - start_time\n",
        "    print(f\"\\n=> Temps d'entraînement : {round(temps_train, 2)} sec <=\")\n",
        "\n",
        "    # Calculer le nombre d'epochs\n",
        "    epochs = len(history_optimal_tf_vgg16_noDA.history['loss'])\n",
        "\n",
        "    # Créer un dictionnaire pour stocker historique, temps et nombre d'époch\n",
        "    history_optimal_tf_vgg16_noDA_dict = {\n",
        "        'history': history_optimal_tf_vgg16_noDA.history,\n",
        "        'temps_train': temps_train,\n",
        "        'num_epochs': epochs\n",
        "    }\n",
        "\n",
        "    # Sauvegarder l'objet history_dict\n",
        "    with open(\"./modele_ML/history_optimal_tf_vgg16_noDA.pickle\", 'wb') as f:\n",
        "        pickle.dump(history_optimal_tf_vgg16_noDA_dict, f)"
      ]
    },
    {
      "cell_type": "markdown",
      "metadata": {
        "id": "oQtm7QDGwsRQ"
      },
      "source": [
        "Nous regroupons les résultats obtenus par notre modele optimal en 1 ligne."
      ]
    },
    {
      "cell_type": "code",
      "execution_count": 59,
      "metadata": {
        "colab": {
          "base_uri": "https://localhost:8080/",
          "height": 81
        },
        "id": "C3qDYhhpwsRQ",
        "outputId": "b3f75183-455c-4581-c7db-7aff7866ac28"
      },
      "outputs": [
        {
          "data": {
            "text/html": [
              "<div>\n",
              "<style scoped>\n",
              "    .dataframe tbody tr th:only-of-type {\n",
              "        vertical-align: middle;\n",
              "    }\n",
              "\n",
              "    .dataframe tbody tr th {\n",
              "        vertical-align: top;\n",
              "    }\n",
              "\n",
              "    .dataframe thead th {\n",
              "        text-align: right;\n",
              "    }\n",
              "</style>\n",
              "<table border=\"1\" class=\"dataframe\">\n",
              "  <thead>\n",
              "    <tr style=\"text-align: right;\">\n",
              "      <th></th>\n",
              "      <th>Validation Accuracy</th>\n",
              "      <th>Temps (sec)</th>\n",
              "      <th>Epochs</th>\n",
              "      <th>batch_size</th>\n",
              "    </tr>\n",
              "  </thead>\n",
              "  <tbody>\n",
              "    <tr>\n",
              "      <th>tf_vgg16_noDA</th>\n",
              "      <td>0.77</td>\n",
              "      <td>80.94</td>\n",
              "      <td>8</td>\n",
              "      <td>32</td>\n",
              "    </tr>\n",
              "  </tbody>\n",
              "</table>\n",
              "</div>"
            ],
            "text/plain": [
              "               Validation Accuracy  Temps (sec)  Epochs  batch_size\n",
              "tf_vgg16_noDA                 0.77        80.94       8          32"
            ]
          },
          "metadata": {},
          "output_type": "display_data"
        }
      ],
      "source": [
        "# Récuperation des résultats\n",
        "resultat_optimal_tf_vgg16_noDA = creer_dataframe_optimal(\n",
        "    history_optimal_tf_vgg16_noDA_dict,\n",
        "    batch_meilleur_tf_vgg16_noDA,\n",
        "    'tf_vgg16_noDA'\n",
        ")\n",
        "\n",
        "display(resultat_optimal_tf_vgg16_noDA)"
      ]
    },
    {
      "cell_type": "markdown",
      "metadata": {
        "id": "PvdnKYQe07GR"
      },
      "source": [
        "### <span style='background:black'>b/ Plot loss et accuracy</span>\n",
        "\n",
        "Nous affichons l'évolution de la perte et de l'accuracy pour le jeu d'entrainement et le jeu de validation au cours des epoch."
      ]
    },
    {
      "cell_type": "code",
      "execution_count": 60,
      "metadata": {
        "colab": {
          "base_uri": "https://localhost:8080/",
          "height": 528
        },
        "id": "AprtMg3l07GR",
        "outputId": "0b2da41a-4150-48f2-b63c-bc9771ed4932"
      },
      "outputs": [
        {
          "data": {
            "image/png": "[encoded data removed]",
            "text/plain": [
              "<Figure size 1000x500 with 2 Axes>"
            ]
          },
          "metadata": {},
          "output_type": "display_data"
        }
      ],
      "source": [
        "# Afficher l'historique de l'entraînement\n",
        "show_history(history_optimal_tf_vgg16_noDA_dict['history'])\n",
        "\n",
        "# Définir le chemin d'export de la figure\n",
        "dossier_figure = \"./figure/\"\n",
        "nom_figure = \"history_optimal_tf_vgg16_noDA.png\"\n",
        "chemin_figure_export = os.path.join(dossier_figure, nom_figure)\n",
        "\n",
        "# Sauvegarder l'historique de l'entraînement\n",
        "plot_history(history_optimal_tf_vgg16_noDA_dict, path=chemin_figure_export)\n",
        "plt.close()"
      ]
    },
    {
      "cell_type": "markdown",
      "metadata": {
        "id": "z4MUotD607GR"
      },
      "source": [
        "Nous remarquons que le modèle présente une perte de validation convenable (<1,2), ce qui est un bon indicateur de la qualité du modèle. De plus, nous remarquons que l'accuracy de test est convenable (> 0,75).\n",
        "\n",
        "En revanche, ce modèle présente présente un **surapprentissage** puisque son accuracy d'entrainement est nettement plus élevée (> 0,90) que celle de test."
      ]
    },
    {
      "cell_type": "markdown",
      "metadata": {
        "id": "ZIT1mRHh07GR"
      },
      "source": [
        "### <span style='background:black'>c/ Comparatif des accuracy</span>\n",
        "\n",
        "Nous comparons les accuracy du modèle optimal (Transfer learning avec VGG16) avec les poids du meilleur modèle pour les 2 jeux de données (entrainement et test)."
      ]
    },
    {
      "cell_type": "code",
      "execution_count": 61,
      "metadata": {
        "colab": {
          "base_uri": "https://localhost:8080/"
        },
        "id": "RboUw_wI07GR",
        "outputId": "37c239d4-3ee8-42a5-bb62-79e9efff1b9c"
      },
      "outputs": [
        {
          "name": "stdout",
          "output_type": "stream",
          "text": [
            "23/23 [==============================] - 51s 2s/step - loss: 0.0994 - accuracy: 0.9714\n",
            "Training Accuracy   :  0.971\n",
            "5/5 [==============================] - 11s 2s/step - loss: 0.6935 - accuracy: 0.7911\n",
            "Test Accuracy       :  0.791\n"
          ]
        }
      ],
      "source": [
        "# Charger les poids du meilleur modèle\n",
        "model_optimal_tf_vgg16_noDA.load_weights(\n",
        "    \"./modele_ML/model_optimal_tf_vgg16_noDA_best_weights.h5\"\n",
        ")\n",
        "\n",
        "# Evaluation meilleur modèle sur les données d'entraînement\n",
        "loss_tf_vgg16_noDA_train, accuracy_tf_vgg16_noDA_train = (\n",
        "    model_optimal_tf_vgg16_noDA.evaluate(\n",
        "        X_train_pretraited,\n",
        "        y_train_pretraited\n",
        "    )\n",
        ")\n",
        "print(\"Training Accuracy   :  {:.3f}\".format(accuracy_tf_vgg16_noDA_train))\n",
        "\n",
        "# Evaluation meilleur modèle sur les données de test\n",
        "loss_tf_vgg16_noDA_test, accuracy_tf_vgg16_noDA_test = (\n",
        "    model_optimal_tf_vgg16_noDA.evaluate(\n",
        "        X_test_pretraited,\n",
        "        y_test_pretraited\n",
        "    )\n",
        ")\n",
        "print(\"Test Accuracy       :  {:.3f}\".format(accuracy_tf_vgg16_noDA_test))"
      ]
    },
    {
      "cell_type": "markdown",
      "metadata": {
        "id": "S3g3SaWk07GR"
      },
      "source": [
        "L'accuracy d'entrainement est nettement plus élévé (> 0,95) que l'accuracy de test (< 0,80)."
      ]
    },
    {
      "cell_type": "markdown",
      "metadata": {
        "id": "O5iwoUQE07GR"
      },
      "source": [
        "### <span style='background:black'>d/ Matrice de confusion</span>\n",
        "\n",
        "Nous affichons les valeurs réelles et celles prédites par le modèle optimal pour les données de validation."
      ]
    },
    {
      "cell_type": "code",
      "execution_count": 62,
      "metadata": {
        "colab": {
          "base_uri": "https://localhost:8080/"
        },
        "id": "i7hHEN4U07GS",
        "outputId": "bc4dde44-5642-4f73-9d39-fbbefe1d8579"
      },
      "outputs": [
        {
          "name": "stdout",
          "output_type": "stream",
          "text": [
            "5/5 [==============================] - 11s 2s/step\n",
            "Categorie reelle :  [1 5 6 2 5 2 2 6 5 6 5 6 6 2 3 0 3 0 1 6 1 0 6 1 1 1 1 2 6 4] \n",
            "\n",
            "Categorie prédite :  [1 5 6 2 5 2 2 6 5 6 5 6 6 2 3 0 3 0 1 6 1 0 6 2 1 1 1 2 6 4]\n"
          ]
        }
      ],
      "source": [
        "# Categorie réelle et prédites des images de validation\n",
        "y_val_num = np.argmax(y_val_pretraited, axis=1)\n",
        "y_val_pred = np.argmax(\n",
        "    model_optimal_tf_vgg16_noDA.predict(X_val_pretraited),\n",
        "    axis=1\n",
        ")\n",
        "\n",
        "# Afficher les 30 premières catégories réelles et prédites\n",
        "print(\"Categorie reelle : \", y_val_num[:30], \"\\n\")\n",
        "print(\"Categorie prédite : \", y_val_pred[:30])"
      ]
    },
    {
      "cell_type": "markdown",
      "metadata": {
        "id": "C6mbu8sp07GS"
      },
      "source": [
        "Nous confirmons les résultats en affichant la matrice de confusion et le rapport de classification."
      ]
    },
    {
      "cell_type": "code",
      "execution_count": 63,
      "metadata": {
        "colab": {
          "base_uri": "https://localhost:8080/",
          "height": 839
        },
        "id": "q0ibbMHA07GS",
        "outputId": "d3534af1-39af-4e7b-e1bc-393cd14902e9"
      },
      "outputs": [
        {
          "name": "stdout",
          "output_type": "stream",
          "text": [
            "\n",
            "Correspondance des clusters :  [0 1 2 3 4 5 6]\n"
          ]
        },
        {
          "data": {
            "image/png": "[encoded data removed]",
            "text/plain": [
              "<Figure size 600x400 with 2 Axes>"
            ]
          },
          "metadata": {},
          "output_type": "display_data"
        },
        {
          "name": "stdout",
          "output_type": "stream",
          "text": [
            "              precision    recall  f1-score   support\n",
            "\n",
            "           0       0.64      0.70      0.67        23\n",
            "           1       0.78      0.78      0.78        23\n",
            "           2       0.80      0.91      0.85        22\n",
            "           3       0.70      0.73      0.71        22\n",
            "           4       0.73      0.50      0.59        22\n",
            "           5       0.83      0.87      0.85        23\n",
            "           6       0.95      0.95      0.95        22\n",
            "\n",
            "    accuracy                           0.78       157\n",
            "   macro avg       0.78      0.78      0.77       157\n",
            "weighted avg       0.78      0.78      0.77       157\n",
            "\n"
          ]
        }
      ],
      "source": [
        "# Verifier la correspondance des clusters\n",
        "y_val_pred_transform = conf_mat_transform_argmax(y_val_num, y_val_pred)\n",
        "\n",
        "# Afficher la matrice de confusion et le rapport de classification\n",
        "conf_mat_tf_vgg16_noDA = matrice_conf_et_rapport(\n",
        "    y_val_num,\n",
        "    y_val_pred_transform,\n",
        "    categories\n",
        "    )"
      ]
    },
    {
      "cell_type": "markdown",
      "metadata": {
        "id": "t8Nhu8lj07GT"
      },
      "source": [
        "Le modèle optimal CNN avec Transfer Learning VGG16 presente un f-score > 0,75."
      ]
    },
    {
      "cell_type": "markdown",
      "metadata": {
        "id": "rPUy9PkT07GT"
      },
      "source": [
        "<div class=\"alert alert-block alert-success\"><b>Bilan: </b> <br>\n",
        "Le modèle optimal CNN avec transfer learning du VGG16 présente des performances supérieures à tous les autres modèles. Il est relativement précis mais il présente un surapprentissage qui se traduit par une généralisation médiocre qui peut-être encore optimisée . </div>"
      ]
    },
    {
      "cell_type": "markdown",
      "metadata": {
        "id": "bvDpD60WVDZh"
      },
      "source": [
        "# <span style='background:blue'>Etape 7 : Comparaison des résultats</span>\n",
        "\n",
        "Nous standardisons le format des résultats pour les comparer."
      ]
    },
    {
      "cell_type": "code",
      "execution_count": 64,
      "metadata": {
        "colab": {
          "base_uri": "https://localhost:8080/",
          "height": 143
        },
        "id": "f_rTGedhw_-E",
        "outputId": "adeb1dcc-029d-42dd-d3eb-42291db457c5"
      },
      "outputs": [
        {
          "data": {
            "text/html": [
              "<div>\n",
              "<style scoped>\n",
              "    .dataframe tbody tr th:only-of-type {\n",
              "        vertical-align: middle;\n",
              "    }\n",
              "\n",
              "    .dataframe tbody tr th {\n",
              "        vertical-align: top;\n",
              "    }\n",
              "\n",
              "    .dataframe thead th {\n",
              "        text-align: right;\n",
              "    }\n",
              "</style>\n",
              "<table border=\"1\" class=\"dataframe\">\n",
              "  <thead>\n",
              "    <tr style=\"text-align: right;\">\n",
              "      <th></th>\n",
              "      <th>Validation Accuracy</th>\n",
              "      <th>Temps (sec)</th>\n",
              "      <th>Epochs</th>\n",
              "      <th>batch_size</th>\n",
              "    </tr>\n",
              "  </thead>\n",
              "  <tbody>\n",
              "    <tr>\n",
              "      <th>mlp</th>\n",
              "      <td>0.14</td>\n",
              "      <td>10.54</td>\n",
              "      <td>15</td>\n",
              "      <td>128</td>\n",
              "    </tr>\n",
              "    <tr>\n",
              "      <th>cnn</th>\n",
              "      <td>0.17</td>\n",
              "      <td>62.15</td>\n",
              "      <td>15</td>\n",
              "      <td>64</td>\n",
              "    </tr>\n",
              "    <tr>\n",
              "      <th>tf_vgg16_noDA</th>\n",
              "      <td>0.77</td>\n",
              "      <td>80.94</td>\n",
              "      <td>8</td>\n",
              "      <td>32</td>\n",
              "    </tr>\n",
              "  </tbody>\n",
              "</table>\n",
              "</div>"
            ],
            "text/plain": [
              "               Validation Accuracy  Temps (sec)  Epochs  batch_size\n",
              "mlp                           0.14        10.54      15         128\n",
              "cnn                           0.17        62.15      15          64\n",
              "tf_vgg16_noDA                 0.77        80.94       8          32"
            ]
          },
          "metadata": {},
          "output_type": "display_data"
        },
        {
          "name": "stderr",
          "output_type": "stream",
          "text": [
            "4:5: E128 continuation line under-indented for visual indent\n",
            "5:5: E128 continuation line under-indented for visual indent\n"
          ]
        }
      ],
      "source": [
        "# Concaténer les trois DataFrames\n",
        "resultat_optimal_tous = pd.concat(\n",
        "    [\n",
        "        resultat_optimal_mlp,\n",
        "        resultat_optimal_cnn,\n",
        "        resultat_optimal_tf_vgg16_noDA\n",
        "    ], ignore_index=False\n",
        ")\n",
        "\n",
        "display(resultat_optimal_tous)"
      ]
    },
    {
      "cell_type": "code",
      "execution_count": 65,
      "metadata": {
        "colab": {
          "base_uri": "https://localhost:8080/",
          "height": 143
        },
        "id": "2SeocO4an-WE",
        "outputId": "2544a02a-808a-42fa-e96a-0ec73463d3dd"
      },
      "outputs": [
        {
          "data": {
            "text/html": [
              "<style type=\"text/css\">\n",
              "#T_dce53_row0_col1, #T_dce53_row2_col0 {\n",
              "  background-color: green;\n",
              "}\n",
              "</style>\n",
              "<table id=\"T_dce53\">\n",
              "  <thead>\n",
              "    <tr>\n",
              "      <th class=\"blank level0\" >&nbsp;</th>\n",
              "      <th id=\"T_dce53_level0_col0\" class=\"col_heading level0 col0\" >Validation Accuracy</th>\n",
              "      <th id=\"T_dce53_level0_col1\" class=\"col_heading level0 col1\" >Temps (sec)</th>\n",
              "      <th id=\"T_dce53_level0_col2\" class=\"col_heading level0 col2\" >Epochs</th>\n",
              "      <th id=\"T_dce53_level0_col3\" class=\"col_heading level0 col3\" >batch_size</th>\n",
              "    </tr>\n",
              "  </thead>\n",
              "  <tbody>\n",
              "    <tr>\n",
              "      <th id=\"T_dce53_level0_row0\" class=\"row_heading level0 row0\" >mlp</th>\n",
              "      <td id=\"T_dce53_row0_col0\" class=\"data row0 col0\" >0.140127</td>\n",
              "      <td id=\"T_dce53_row0_col1\" class=\"data row0 col1\" >10.536837</td>\n",
              "      <td id=\"T_dce53_row0_col2\" class=\"data row0 col2\" >15</td>\n",
              "      <td id=\"T_dce53_row0_col3\" class=\"data row0 col3\" >128</td>\n",
              "    </tr>\n",
              "    <tr>\n",
              "      <th id=\"T_dce53_level0_row1\" class=\"row_heading level0 row1\" >cnn</th>\n",
              "      <td id=\"T_dce53_row1_col0\" class=\"data row1 col0\" >0.165605</td>\n",
              "      <td id=\"T_dce53_row1_col1\" class=\"data row1 col1\" >62.145483</td>\n",
              "      <td id=\"T_dce53_row1_col2\" class=\"data row1 col2\" >15</td>\n",
              "      <td id=\"T_dce53_row1_col3\" class=\"data row1 col3\" >64</td>\n",
              "    </tr>\n",
              "    <tr>\n",
              "      <th id=\"T_dce53_level0_row2\" class=\"row_heading level0 row2\" >tf_vgg16_noDA</th>\n",
              "      <td id=\"T_dce53_row2_col0\" class=\"data row2 col0\" >0.770701</td>\n",
              "      <td id=\"T_dce53_row2_col1\" class=\"data row2 col1\" >80.939456</td>\n",
              "      <td id=\"T_dce53_row2_col2\" class=\"data row2 col2\" >8</td>\n",
              "      <td id=\"T_dce53_row2_col3\" class=\"data row2 col3\" >32</td>\n",
              "    </tr>\n",
              "  </tbody>\n",
              "</table>\n"
            ],
            "text/plain": [
              "<pandas.io.formats.style.Styler at 0x134adf5add0>"
            ]
          },
          "execution_count": 65,
          "metadata": {},
          "output_type": "execute_result"
        }
      ],
      "source": [
        "# Surligner les meilleures valeurs\n",
        "resultat_optimal_tous.style.apply(surligne_meilleur)"
      ]
    },
    {
      "cell_type": "markdown",
      "metadata": {
        "id": "BbQ2zZFXwsRT"
      },
      "source": [
        "<div class=\"alert alert-block alert-success\"><b>Bilan: </b> <br>\n",
        "Le modèle <b>CNN couplé avec le transfer Learning VGG16</b> est le seul modèle a présenter des performances convenables. Malgré un temps de calcul plus élévé, il demeure la meilleure solution envisageable pour notre classification d'image supervisée avec du deep learning. </div>"
      ]
    },
    {
      "cell_type": "markdown",
      "metadata": {
        "id": "Dy0a9O3007GT"
      },
      "source": [
        "# <span style='background:blue'>Etape 8 : CNN + Transfer learning VGG-16 avec Data Augmentation</span>\n",
        "\n",
        "Pour cette classification d'image automatique, nous allons utiliser le CNN avec Transfer Learning VGG16. Nous optimisons les performances du modèle en utilisant la technique de **data augmentation**."
      ]
    },
    {
      "cell_type": "markdown",
      "metadata": {},
      "source": [
        "<div class=\"alert alert-block alert-info\"><b>Note informative: </b> <br>\n",
        "A la différence des autres modèles qui ont été exécutés sur Google Colab pour obtenir des temps de calcul plus courts, ce modèle n'a pas pu être éxécuté sur Google Colab pour des problème d'accès aux images pendant la création du 'flow' de la data augmentation. Voici le message d'erreur obtenu lors de son exécution sur Google Colab :<br>\n",
        "\n",
        "*failed to connect to all addresses; last error: UNKNOW: ipv4:127.0.0.1:36043: Failed to connect to remote host: Connection refused {gprc_status:14, created_time:\"2024-02-08T17:55:33.249468843+00:00\"}[[{{node IteratorGetNext}}]]* <div>\n",
        "\n",
        "Ce modèle a donc été exécuté et entrainé sur notre CPU local. Les temps de calculs ne sont donc pas comparables car les ressources computationnelles ne sont pas comparables avec celles des TPU de Google Colab. </iv>"
      ]
    },
    {
      "cell_type": "markdown",
      "metadata": {
        "id": "CAxJ3o6907GT"
      },
      "source": [
        "## <span style='background:green'>1/ Prétraitement des données</span>\n",
        "\n",
        "### <span style='background:black'>a/ target</span>\n",
        "\n",
        "Nous utilisons le même prétraitement de la target que précedemment. Pour rappel, il consiste à transformer les catégories avec un **OneHotEncoder** pour pouvoir les utiliser dans le modèle de machine learning."
      ]
    },
    {
      "cell_type": "markdown",
      "metadata": {
        "id": "ezN0gwoPwsRU"
      },
      "source": [
        "### <span style='background:black'>b/ features</span>\n",
        "\n",
        "Le prétraitement des features pour le **VGG16** se déroule en plusieurs étapes :\n",
        "- Redimensionnement de l'images en 224 x 224 pixels\n",
        "- Convertion de l'image en tableau NumPy\n",
        "- Certification des dimensions (hauteur, largeur, couleur)\n",
        "- Normaliser les pixels de l'image pour VGG16 :\n",
        "  - Mettre à l'echelle entre -1 et 1 (soustraire valeur moyenne des\n",
        "    des pixels sur le canaux RGB du jeu de données ImageNet)\n",
        "  - inverser les canaux RGB en BGR"
      ]
    },
    {
      "cell_type": "markdown",
      "metadata": {},
      "source": [
        "## <span style='background:green'>2/ Elaboration du modèle de data augmentation</span>\n",
        "\n",
        "La technique de **data augmentation** consiste à générer des images supplémentaires à partir des images d'entrainement en les modifiant légèrement. Cela permet d'augmenter la taille du jeu de données d'entrainement et d'améliorer les performances du modèle. Pour cela, nous utilisons la fonction **ImageDataGenerator** de Keras.\n",
        "\n",
        "Nous créons un générateur d'images d'entrainement et de validation avec les paramètres suivants :\n",
        "- Centrer les données (soustraction de la moyenne des pixels)\n",
        "- Normaliser les données (division par l'écart-type des pixels)\n",
        "- Rotation aléatoire de l'image de +- 20 degrés\n",
        "- Translation aléatoire de l'image de +- 20% de la largeur de l'image\n",
        "- Translation aléatoire de l'image de +- 20% de la hauteur de l'image\n",
        "- Retournement horizontal aléatoire de l'image\n",
        "- Modification de la luminosité aléatoire de l'image dans la plage de 50% à 100% de la luminosité originale\n",
        "- Zoom aléatoire de l'image de 30% à 150% de la taille originale    "
      ]
    },
    {
      "cell_type": "markdown",
      "metadata": {
        "id": "j957nUdo07GU"
      },
      "source": [
        "## <span style='background:green'>3/ Modèle optimal</span>\n",
        "\n",
        "Nous entrainons directement le modèle optimal obtenu précédemment avec le CNN avec Transfer Learning VGG16. Nous utilisons également les mêmes paramètres que précedemment, à savoir :\n",
        "- epochs = 15\n",
        "- batch_size = 32 (batch_size modèle optimal CNN avec Transfer Learning VGG16)\n",
        "- callbacks : ModelCheckpoint et EarlyStopping\n",
        "- indicateurs supplémentaires : temps de calcul\n",
        "\n",
        "### <span style='background:black'>a/Création et entrainement</span>\n",
        "\n",
        "Nous entrainons à nouveau le modèle avec le bon batch_size pour obtenir le modèle optimal."
      ]
    },
    {
      "cell_type": "code",
      "execution_count": 67,
      "metadata": {
        "id": "7lWEDyO407GU",
        "outputId": "554acaff-cd55-4aaf-bd28-6ea26a5bfd3d"
      },
      "outputs": [
        {
          "name": "stdout",
          "output_type": "stream",
          "text": [
            "On fait les calculs.\n",
            "Epoch 1/15\n",
            "23/23 [==============================] - ETA: 0s - loss: 1.7402 - accuracy: 0.3456\n",
            "Epoch 1: val_loss improved from inf to 1.39717, saving model to ./modele_ML\\model_optimal_tf_vgg16_DA_best_weights.h5\n",
            "23/23 [==============================] - 63s 3s/step - loss: 1.7402 - accuracy: 0.3456 - val_loss: 1.3972 - val_accuracy: 0.5860\n",
            "Epoch 2/15\n"
          ]
        },
        {
          "name": "stderr",
          "output_type": "stream",
          "text": [
            "c:\\Users\\pierr\\VSC_Projects\\Projet6_OCR_DataScientist-\\env\\Lib\\site-packages\\keras\\src\\engine\\training.py:3103: UserWarning: You are saving your model as an HDF5 file via `model.save()`. This file format is considered legacy. We recommend using instead the native Keras format, e.g. `model.save('my_model.keras')`.\n",
            "  saving_api.save_model(\n"
          ]
        },
        {
          "name": "stdout",
          "output_type": "stream",
          "text": [
            "23/23 [==============================] - ETA: 0s - loss: 1.3617 - accuracy: 0.5442\n",
            "Epoch 2: val_loss improved from 1.39717 to 1.15093, saving model to ./modele_ML\\model_optimal_tf_vgg16_DA_best_weights.h5\n",
            "23/23 [==============================] - 61s 3s/step - loss: 1.3617 - accuracy: 0.5442 - val_loss: 1.1509 - val_accuracy: 0.6688\n",
            "Epoch 3/15\n",
            "23/23 [==============================] - ETA: 0s - loss: 1.1820 - accuracy: 0.5959\n",
            "Epoch 3: val_loss improved from 1.15093 to 1.04503, saving model to ./modele_ML\\model_optimal_tf_vgg16_DA_best_weights.h5\n",
            "23/23 [==============================] - 60s 3s/step - loss: 1.1820 - accuracy: 0.5959 - val_loss: 1.0450 - val_accuracy: 0.6815\n",
            "Epoch 4/15\n",
            " 9/23 [==========>...................] - ETA: 29s - loss: 1.1300 - accuracy: 0.6146"
          ]
        },
        {
          "name": "stdout",
          "output_type": "stream",
          "text": [
            "23/23 [==============================] - ETA: 0s - loss: 1.0802 - accuracy: 0.6313\n",
            "Epoch 4: val_loss improved from 1.04503 to 0.99404, saving model to ./modele_ML\\model_optimal_tf_vgg16_DA_best_weights.h5\n",
            "23/23 [==============================] - 58s 3s/step - loss: 1.0802 - accuracy: 0.6313 - val_loss: 0.9940 - val_accuracy: 0.7134\n",
            "Epoch 5/15\n",
            "23/23 [==============================] - ETA: 0s - loss: 1.0263 - accuracy: 0.6612\n",
            "Epoch 5: val_loss improved from 0.99404 to 0.91840, saving model to ./modele_ML\\model_optimal_tf_vgg16_DA_best_weights.h5\n",
            "23/23 [==============================] - 58s 3s/step - loss: 1.0263 - accuracy: 0.6612 - val_loss: 0.9184 - val_accuracy: 0.7134\n",
            "Epoch 6/15\n",
            "23/23 [==============================] - ETA: 0s - loss: 0.9802 - accuracy: 0.6558\n",
            "Epoch 6: val_loss improved from 0.91840 to 0.88696, saving model to ./modele_ML\\model_optimal_tf_vgg16_DA_best_weights.h5\n",
            "23/23 [==============================] - 57s 2s/step - loss: 0.9802 - accuracy: 0.6558 - val_loss: 0.8870 - val_accuracy: 0.6815\n",
            "Epoch 7/15\n",
            "23/23 [==============================] - ETA: 0s - loss: 0.9220 - accuracy: 0.7075\n",
            "Epoch 7: val_loss improved from 0.88696 to 0.84676, saving model to ./modele_ML\\model_optimal_tf_vgg16_DA_best_weights.h5\n",
            "23/23 [==============================] - 57s 2s/step - loss: 0.9220 - accuracy: 0.7075 - val_loss: 0.8468 - val_accuracy: 0.7197\n",
            "Epoch 8/15\n",
            "23/23 [==============================] - ETA: 0s - loss: 0.9096 - accuracy: 0.6857\n",
            "Epoch 8: val_loss improved from 0.84676 to 0.83934, saving model to ./modele_ML\\model_optimal_tf_vgg16_DA_best_weights.h5\n",
            "23/23 [==============================] - 56s 2s/step - loss: 0.9096 - accuracy: 0.6857 - val_loss: 0.8393 - val_accuracy: 0.6943\n",
            "Epoch 9/15\n",
            "23/23 [==============================] - ETA: 0s - loss: 0.8849 - accuracy: 0.7102\n",
            "Epoch 9: val_loss did not improve from 0.83934\n",
            "23/23 [==============================] - 57s 2s/step - loss: 0.8849 - accuracy: 0.7102 - val_loss: 0.8455 - val_accuracy: 0.6879\n",
            "Epoch 10/15\n",
            "23/23 [==============================] - ETA: 0s - loss: 0.8738 - accuracy: 0.7007\n",
            "Epoch 10: val_loss improved from 0.83934 to 0.83109, saving model to ./modele_ML\\model_optimal_tf_vgg16_DA_best_weights.h5\n",
            "23/23 [==============================] - 57s 2s/step - loss: 0.8738 - accuracy: 0.7007 - val_loss: 0.8311 - val_accuracy: 0.7261\n",
            "Epoch 11/15\n",
            "23/23 [==============================] - ETA: 0s - loss: 0.8186 - accuracy: 0.7279\n",
            "Epoch 11: val_loss improved from 0.83109 to 0.81943, saving model to ./modele_ML\\model_optimal_tf_vgg16_DA_best_weights.h5\n",
            "23/23 [==============================] - 57s 2s/step - loss: 0.8186 - accuracy: 0.7279 - val_loss: 0.8194 - val_accuracy: 0.7261\n",
            "Epoch 12/15\n",
            "23/23 [==============================] - ETA: 0s - loss: 0.8270 - accuracy: 0.7333\n",
            "Epoch 12: val_loss did not improve from 0.81943\n",
            "23/23 [==============================] - 56s 2s/step - loss: 0.8270 - accuracy: 0.7333 - val_loss: 0.8248 - val_accuracy: 0.7006\n",
            "Epoch 13/15\n",
            "23/23 [==============================] - ETA: 0s - loss: 0.7844 - accuracy: 0.7347\n",
            "Epoch 13: val_loss improved from 0.81943 to 0.77550, saving model to ./modele_ML\\model_optimal_tf_vgg16_DA_best_weights.h5\n",
            "23/23 [==============================] - 56s 2s/step - loss: 0.7844 - accuracy: 0.7347 - val_loss: 0.7755 - val_accuracy: 0.7325\n",
            "Epoch 14/15\n",
            "23/23 [==============================] - ETA: 0s - loss: 0.7383 - accuracy: 0.7524\n",
            "Epoch 14: val_loss did not improve from 0.77550\n",
            "23/23 [==============================] - 56s 2s/step - loss: 0.7383 - accuracy: 0.7524 - val_loss: 0.7865 - val_accuracy: 0.7325\n",
            "Epoch 15/15\n",
            "23/23 [==============================] - ETA: 0s - loss: 0.7626 - accuracy: 0.7497\n",
            "Epoch 15: val_loss improved from 0.77550 to 0.74405, saving model to ./modele_ML\\model_optimal_tf_vgg16_DA_best_weights.h5\n",
            "23/23 [==============================] - 57s 2s/step - loss: 0.7626 - accuracy: 0.7497 - val_loss: 0.7441 - val_accuracy: 0.7389\n",
            "\n",
            "=> Temps d'entraînement : 866.47 sec <=\n"
          ]
        }
      ],
      "source": [
        "# Définir le batch_size de la data augmentation\n",
        "batch_da = batch_meilleur_tf_vgg16_noDA\n",
        "\n",
        "# SI fichier des resultats existe ALORS on passe\n",
        "if is_modele_tf_vgg16_DA_calculed:\n",
        "    print(\"Les calculs ont deja tournés sur PC en local.\")\n",
        "\n",
        "# SINON on realise les calculs\n",
        "else:\n",
        "    print(\"On fait les calculs.\")\n",
        "\n",
        "    # Créer un générateur de données avec Data Augmentation\n",
        "    datagen = ImageDataGenerator(\n",
        "        featurewise_center=True,\n",
        "        featurewise_std_normalization=True,\n",
        "        rotation_range=20,\n",
        "        width_shift_range=0.2,\n",
        "        height_shift_range=0.2,\n",
        "        horizontal_flip=True,\n",
        "        brightness_range=(0.5, 1.),\n",
        "        zoom_range=(0.3, 1.5)\n",
        "    )\n",
        "\n",
        "    # Entrainer le générateur sur les données d'entraînement\n",
        "    datagen.fit(X_train_pretraited)\n",
        "\n",
        "    # Créer le modèle optimal de tranfer learning VGG16\n",
        "    model_optimal_tf_vgg16_DA = creation_modele_transfer_vgg16(\n",
        "        fonction_perte,\n",
        "        optimiseur,\n",
        "        metric_eval,\n",
        "    )\n",
        "\n",
        "    # Créer le flux d'entraînement avec Data Augmentation\n",
        "    train_flow = datagen.flow(\n",
        "        X_train_pretraited,\n",
        "        y_train_pretraited,\n",
        "        batch_size=batch_da\n",
        "    )\n",
        "\n",
        "    # Créer le flux de validation avec Data Augmentation\n",
        "    val_flow = datagen.flow(\n",
        "        X_val_pretraited,\n",
        "        y_val_pretraited,\n",
        "        batch_size=batch_da\n",
        "    )\n",
        "\n",
        "    # Création des callbacks\n",
        "    callbacks_list, chemin_modele_export = creer_callbacks(\n",
        "        \"model_optimal_tf_vgg16_DA\",\n",
        "        patience\n",
        "    )\n",
        "\n",
        "    # Enregistrer le temps de début\n",
        "    start_time = time.time()\n",
        "\n",
        "    # Entraîner le modèle avec batch_meilleur_tf_vgg16_DA\n",
        "    history_optimal_tf_vgg16_DA = model_optimal_tf_vgg16_DA.fit(\n",
        "        train_flow,\n",
        "        validation_data=val_flow,\n",
        "        epochs=15,\n",
        "        callbacks=callbacks_list,\n",
        "        verbose=1\n",
        "    )\n",
        "\n",
        "    # Enregistrer le temps de fin\n",
        "    end_time = time.time()\n",
        "\n",
        "    # Calculer le temps d'entraînement\n",
        "    temps_train = end_time - start_time\n",
        "    print(f\"\\n=> Temps d'entraînement : {round(temps_train, 2)} sec <=\")\n",
        "\n",
        "    # Calculer le nombre d'epochs\n",
        "    epochs = len(history_optimal_tf_vgg16_DA.history['loss'])\n",
        "\n",
        "    # Créer un dictionnaire pour stocker historique, temps et nombre d'époch\n",
        "    history_optimal_tf_vgg16_DA_dict = {\n",
        "        'history': history_optimal_tf_vgg16_DA.history,\n",
        "        'temps_train': temps_train,\n",
        "        'num_epochs': epochs\n",
        "    }\n",
        "\n",
        "    # Sauvegarder l'objet history\n",
        "    with open('./modele_ML/history_optimal_tf_vgg16_DA.pickle', 'wb') as f:\n",
        "        pickle.dump(history_optimal_tf_vgg16_DA_dict, f)"
      ]
    },
    {
      "cell_type": "markdown",
      "metadata": {},
      "source": [
        "Nous regroupons les résultats obtenus par notre modele optimal en 1 ligne."
      ]
    },
    {
      "cell_type": "code",
      "execution_count": 68,
      "metadata": {},
      "outputs": [
        {
          "data": {
            "text/html": [
              "<div>\n",
              "<style scoped>\n",
              "    .dataframe tbody tr th:only-of-type {\n",
              "        vertical-align: middle;\n",
              "    }\n",
              "\n",
              "    .dataframe tbody tr th {\n",
              "        vertical-align: top;\n",
              "    }\n",
              "\n",
              "    .dataframe thead th {\n",
              "        text-align: right;\n",
              "    }\n",
              "</style>\n",
              "<table border=\"1\" class=\"dataframe\">\n",
              "  <thead>\n",
              "    <tr style=\"text-align: right;\">\n",
              "      <th></th>\n",
              "      <th>Validation Accuracy</th>\n",
              "      <th>Temps (sec)</th>\n",
              "      <th>Epochs</th>\n",
              "      <th>batch_size</th>\n",
              "    </tr>\n",
              "  </thead>\n",
              "  <tbody>\n",
              "    <tr>\n",
              "      <th>tf_vgg16_DA</th>\n",
              "      <td>0.74</td>\n",
              "      <td>866.47</td>\n",
              "      <td>15</td>\n",
              "      <td>32</td>\n",
              "    </tr>\n",
              "  </tbody>\n",
              "</table>\n",
              "</div>"
            ],
            "text/plain": [
              "             Validation Accuracy  Temps (sec)  Epochs  batch_size\n",
              "tf_vgg16_DA                 0.74       866.47      15          32"
            ]
          },
          "metadata": {},
          "output_type": "display_data"
        }
      ],
      "source": [
        "# Récuperation des résultats\n",
        "resultat_optimal_tf_vgg16_DA = creer_dataframe_optimal(\n",
        "    history_optimal_tf_vgg16_DA_dict,\n",
        "    batch_da,\n",
        "    'tf_vgg16_DA'\n",
        ")\n",
        "\n",
        "display(resultat_optimal_tf_vgg16_DA)"
      ]
    },
    {
      "cell_type": "markdown",
      "metadata": {
        "id": "oG511RV-07GU"
      },
      "source": [
        "### <span style='background:black'>b/ Plot loss et accuracy</span>\n",
        "\n",
        "Nous affichons l'évolution de la perte et de l'accuracy pour le jeu d'entrainement et le jeu de validation au cours des epoch."
      ]
    },
    {
      "cell_type": "code",
      "execution_count": 69,
      "metadata": {
        "id": "HPvY9z4E07GV",
        "outputId": "696383c6-3466-4fd6-c0c4-443b8b5088f6"
      },
      "outputs": [
        {
          "data": {
            "image/png": "[encoded data removed]",
            "text/plain": [
              "<Figure size 1000x500 with 2 Axes>"
            ]
          },
          "metadata": {},
          "output_type": "display_data"
        }
      ],
      "source": [
        "# Afficher l'historique de l'entraînement\n",
        "show_history(history_optimal_tf_vgg16_DA_dict['history'])\n",
        "\n",
        "# Definir le chemin d'export de la figure\n",
        "dossier_figure = \"./figure/\"\n",
        "nom_figure = \"history_optimal_tf_vgg16_DA.png\"\n",
        "chemin_figure_export = os.path.join(dossier_figure, nom_figure)\n",
        "\n",
        "# Sauvegarder l'historique de l'entraînement\n",
        "plot_history(history_optimal_tf_vgg16_DA_dict, path=chemin_figure_export)\n",
        "plt.close()"
      ]
    },
    {
      "cell_type": "markdown",
      "metadata": {
        "id": "yTqMsubS07GV"
      },
      "source": [
        "Nous remarquons que le modèle présente une perte de validation faible (<1), ce qui est un bon indicateur de la qualité du modèle. De plus, nous remarquons que l'accuracy de test est convenable (> 0,73). De plus, ce modèle ne présente présente **pas de surapprentissage** puisque son accuracy d'entrainement est équivalente à celle de test.\n",
        "\n",
        "La data augmentation a permis d'améliorer les performances du modèle en atténuant nettement le surapprentissage."
      ]
    },
    {
      "cell_type": "markdown",
      "metadata": {
        "id": "Th5r4Lme07GV"
      },
      "source": [
        "### <span style='background:black'>c/ Comparatif des accuracy</span>\n",
        "\n",
        "Nous comparons les accuracy du modèle optimal (Transfer learning avec VGG16) avec les poids du meilleur modèle pour les 2 jeux de données (entrainement et test)."
      ]
    },
    {
      "cell_type": "code",
      "execution_count": 70,
      "metadata": {
        "id": "cBJfbmRv07GV",
        "outputId": "1614d9e9-fd25-4942-a0a2-b8439c2bfe30"
      },
      "outputs": [
        {
          "name": "stdout",
          "output_type": "stream",
          "text": [
            "10/23 [============>.................] - ETA: 27s - loss: 7.0631 - accuracy: 0.7969"
          ]
        },
        {
          "name": "stdout",
          "output_type": "stream",
          "text": [
            "23/23 [==============================] - 47s 2s/step - loss: 5.9919 - accuracy: 0.8190\n",
            "Training Accuracy   :  0.819\n",
            "5/5 [==============================] - 10s 2s/step - loss: 8.3831 - accuracy: 0.7975\n",
            "Test Accuracy       :  0.797\n"
          ]
        }
      ],
      "source": [
        "# Charger les poids du meilleur modèle\n",
        "model_optimal_tf_vgg16_DA.load_weights(\n",
        "    \"./modele_ML/model_optimal_tf_vgg16_DA_best_weights.h5\"\n",
        ")\n",
        "\n",
        "# Evaluation meilleur modèle sur les données d'entraînement\n",
        "loss_tf_vgg16_DA_train, accuracy_tf_vgg16_DA_train = (\n",
        "    model_optimal_tf_vgg16_DA.evaluate(\n",
        "        X_train_pretraited,\n",
        "        y_train_pretraited\n",
        "    )\n",
        ")\n",
        "print(\"Training Accuracy   :  {:.3f}\".format(accuracy_tf_vgg16_DA_train))\n",
        "\n",
        "# Evaluation meilleur modèle sur les données de test\n",
        "loss_tf_vgg16_DA_test, accuracy_tf_vgg16_DA_test = (\n",
        "    model_optimal_tf_vgg16_DA.evaluate(\n",
        "        X_test_pretraited,\n",
        "        y_test_pretraited\n",
        "    )\n",
        ")\n",
        "print(\"Test Accuracy       :  {:.3f}\".format(accuracy_tf_vgg16_DA_test))"
      ]
    },
    {
      "cell_type": "markdown",
      "metadata": {
        "id": "CUttQz9T07GV"
      },
      "source": [
        "Les accuracy d'entrainement et de test sont équivalentes et convenables (env. 0,80)."
      ]
    },
    {
      "cell_type": "markdown",
      "metadata": {
        "id": "zAwGnN-J07GV"
      },
      "source": [
        "### <span style='background:black'>d/ Matrice de confusion</span>\n",
        "\n",
        "Nous affichons les valeurs réelles et celles prédites par le modèle optimal pour les données de validation."
      ]
    },
    {
      "cell_type": "code",
      "execution_count": 71,
      "metadata": {
        "id": "EIQKCa3l07GV",
        "outputId": "6a53621d-a0aa-4e89-8b2a-3c6e666ed96f"
      },
      "outputs": [
        {
          "name": "stdout",
          "output_type": "stream",
          "text": [
            "3/5 [=================>............] - ETA: 4s"
          ]
        },
        {
          "name": "stdout",
          "output_type": "stream",
          "text": [
            "5/5 [==============================] - 11s 2s/step\n",
            "Categorie reelle :  [1 5 6 2 5 2 2 6 5 6 5 6 6 2 3 0 3 0 1 6 1 0 6 1 1 1 1 2 6 4] \n",
            "\n",
            "Categorie prédite :  [1 5 6 1 5 2 2 6 5 6 3 6 6 2 3 3 3 0 1 6 1 0 6 2 1 1 1 2 6 4]\n"
          ]
        }
      ],
      "source": [
        "# Categorie réelle et prédites des images de validation\n",
        "y_val_num = np.argmax(y_val_pretraited, axis=1)\n",
        "y_val_pred = np.argmax(\n",
        "    model_optimal_tf_vgg16_DA.predict(X_val_pretraited),\n",
        "    axis=1\n",
        ")\n",
        "\n",
        "# Afficher les 30 premières catégories réelles et prédites\n",
        "print(\"Categorie reelle : \", y_val_num[:30], \"\\n\")\n",
        "print(\"Categorie prédite : \", y_val_pred[:30])"
      ]
    },
    {
      "cell_type": "markdown",
      "metadata": {
        "id": "aRu9e2ty07GV"
      },
      "source": [
        "Nous confirmons les résultats en affichant la matrice de confusion et le rapport de classification."
      ]
    },
    {
      "cell_type": "code",
      "execution_count": 72,
      "metadata": {
        "id": "iN0DWaMn07GW",
        "outputId": "dd137b80-3a12-4327-e413-761f8214e737"
      },
      "outputs": [
        {
          "name": "stdout",
          "output_type": "stream",
          "text": [
            "\n",
            "Correspondance des clusters :  [0 1 2 3 4 5 6]\n"
          ]
        },
        {
          "data": {
            "image/png": "[encoded data removed]",
            "text/plain": [
              "<Figure size 600x400 with 2 Axes>"
            ]
          },
          "metadata": {},
          "output_type": "display_data"
        },
        {
          "name": "stdout",
          "output_type": "stream",
          "text": [
            "              precision    recall  f1-score   support\n",
            "\n",
            "           0       0.88      0.61      0.72        23\n",
            "           1       0.73      0.83      0.78        23\n",
            "           2       0.80      0.73      0.76        22\n",
            "           3       0.66      0.86      0.75        22\n",
            "           4       0.89      0.77      0.83        22\n",
            "           5       1.00      0.74      0.85        23\n",
            "           6       0.73      1.00      0.85        22\n",
            "\n",
            "    accuracy                           0.79       157\n",
            "   macro avg       0.81      0.79      0.79       157\n",
            "weighted avg       0.81      0.79      0.79       157\n",
            "\n"
          ]
        }
      ],
      "source": [
        "# Verifier la correspondance des clusters\n",
        "y_val_pred_transform = conf_mat_transform_argmax(y_val_num, y_val_pred)\n",
        "\n",
        "# Afficher la matrice de confusion et le rapport de classification\n",
        "conf_mat_tf_vgg16_DA = matrice_conf_et_rapport(\n",
        "    y_val_num,\n",
        "    y_val_pred_transform,\n",
        "    categories\n",
        "    )"
      ]
    },
    {
      "cell_type": "markdown",
      "metadata": {
        "id": "xjYTLkGN07GW"
      },
      "source": [
        "Le modèle optimal CNN avec Transfer Learning VGG16 couplé à la data ugmentation présente un f-score > 0,75."
      ]
    },
    {
      "cell_type": "markdown",
      "metadata": {
        "id": "rud0YPtF07GX"
      },
      "source": [
        "<div class=\"alert alert-block alert-success\"><b>Bilan: </b> <br>\n",
        "Le modèle optimal CNN avec transfer learning du VGG16 couplé avec la Data Augmentation présente des performances équivalentes au même modèle sans data augmentation. Néanmoins, il convient davantage à notre objectif puisqu'il évite le surapprentissage qui été induit par le même modèle sans la data augmentation. </div>"
      ]
    },
    {
      "cell_type": "markdown",
      "metadata": {
        "id": "bg7H94ae07GX"
      },
      "source": [
        "# <span style='background:blue'>Etape 9 : Comparaison des résultats</span>\n",
        "\n",
        "Nous comparons les résultats obtenus avec les différents modèle de classification d'images pour déterminer le meilleur modèle."
      ]
    },
    {
      "cell_type": "code",
      "execution_count": 73,
      "metadata": {
        "id": "nktijdlo07GX",
        "outputId": "c5418408-5c3e-4595-cdb2-7fed9bd5df9d"
      },
      "outputs": [
        {
          "data": {
            "text/html": [
              "<div>\n",
              "<style scoped>\n",
              "    .dataframe tbody tr th:only-of-type {\n",
              "        vertical-align: middle;\n",
              "    }\n",
              "\n",
              "    .dataframe tbody tr th {\n",
              "        vertical-align: top;\n",
              "    }\n",
              "\n",
              "    .dataframe thead th {\n",
              "        text-align: right;\n",
              "    }\n",
              "</style>\n",
              "<table border=\"1\" class=\"dataframe\">\n",
              "  <thead>\n",
              "    <tr style=\"text-align: right;\">\n",
              "      <th></th>\n",
              "      <th>Validation Accuracy</th>\n",
              "      <th>Temps (sec)</th>\n",
              "      <th>Epochs</th>\n",
              "      <th>batch_size</th>\n",
              "    </tr>\n",
              "  </thead>\n",
              "  <tbody>\n",
              "    <tr>\n",
              "      <th>mlp</th>\n",
              "      <td>0.14</td>\n",
              "      <td>10.54</td>\n",
              "      <td>15</td>\n",
              "      <td>128</td>\n",
              "    </tr>\n",
              "    <tr>\n",
              "      <th>cnn</th>\n",
              "      <td>0.17</td>\n",
              "      <td>62.15</td>\n",
              "      <td>15</td>\n",
              "      <td>64</td>\n",
              "    </tr>\n",
              "    <tr>\n",
              "      <th>tf_vgg16_noDA</th>\n",
              "      <td>0.77</td>\n",
              "      <td>80.94</td>\n",
              "      <td>8</td>\n",
              "      <td>32</td>\n",
              "    </tr>\n",
              "    <tr>\n",
              "      <th>tf_vgg16_DA</th>\n",
              "      <td>0.74</td>\n",
              "      <td>866.47</td>\n",
              "      <td>15</td>\n",
              "      <td>32</td>\n",
              "    </tr>\n",
              "  </tbody>\n",
              "</table>\n",
              "</div>"
            ],
            "text/plain": [
              "               Validation Accuracy  Temps (sec)  Epochs  batch_size\n",
              "mlp                           0.14        10.54      15         128\n",
              "cnn                           0.17        62.15      15          64\n",
              "tf_vgg16_noDA                 0.77        80.94       8          32\n",
              "tf_vgg16_DA                   0.74       866.47      15          32"
            ]
          },
          "metadata": {},
          "output_type": "display_data"
        }
      ],
      "source": [
        "# Concaténer les 4 DataFrames\n",
        "resultat_optimal_tous = pd.concat(\n",
        "    [\n",
        "        resultat_optimal_mlp,\n",
        "        resultat_optimal_cnn,\n",
        "        resultat_optimal_tf_vgg16_noDA,\n",
        "        resultat_optimal_tf_vgg16_DA\n",
        "    ], ignore_index=False\n",
        ")\n",
        "display(resultat_optimal_tous)"
      ]
    },
    {
      "cell_type": "code",
      "execution_count": 74,
      "metadata": {
        "id": "QXMk3rq3wsRZ",
        "outputId": "a60e8586-5a83-48d6-f54c-5ad6b5be2156"
      },
      "outputs": [
        {
          "data": {
            "text/html": [
              "<style type=\"text/css\">\n",
              "#T_db264_row0_col1, #T_db264_row2_col0 {\n",
              "  background-color: green;\n",
              "}\n",
              "</style>\n",
              "<table id=\"T_db264\">\n",
              "  <thead>\n",
              "    <tr>\n",
              "      <th class=\"blank level0\" >&nbsp;</th>\n",
              "      <th id=\"T_db264_level0_col0\" class=\"col_heading level0 col0\" >Validation Accuracy</th>\n",
              "      <th id=\"T_db264_level0_col1\" class=\"col_heading level0 col1\" >Temps (sec)</th>\n",
              "      <th id=\"T_db264_level0_col2\" class=\"col_heading level0 col2\" >Epochs</th>\n",
              "      <th id=\"T_db264_level0_col3\" class=\"col_heading level0 col3\" >batch_size</th>\n",
              "    </tr>\n",
              "  </thead>\n",
              "  <tbody>\n",
              "    <tr>\n",
              "      <th id=\"T_db264_level0_row0\" class=\"row_heading level0 row0\" >mlp</th>\n",
              "      <td id=\"T_db264_row0_col0\" class=\"data row0 col0\" >0.140127</td>\n",
              "      <td id=\"T_db264_row0_col1\" class=\"data row0 col1\" >10.536837</td>\n",
              "      <td id=\"T_db264_row0_col2\" class=\"data row0 col2\" >15</td>\n",
              "      <td id=\"T_db264_row0_col3\" class=\"data row0 col3\" >128</td>\n",
              "    </tr>\n",
              "    <tr>\n",
              "      <th id=\"T_db264_level0_row1\" class=\"row_heading level0 row1\" >cnn</th>\n",
              "      <td id=\"T_db264_row1_col0\" class=\"data row1 col0\" >0.165605</td>\n",
              "      <td id=\"T_db264_row1_col1\" class=\"data row1 col1\" >62.145483</td>\n",
              "      <td id=\"T_db264_row1_col2\" class=\"data row1 col2\" >15</td>\n",
              "      <td id=\"T_db264_row1_col3\" class=\"data row1 col3\" >64</td>\n",
              "    </tr>\n",
              "    <tr>\n",
              "      <th id=\"T_db264_level0_row2\" class=\"row_heading level0 row2\" >tf_vgg16_noDA</th>\n",
              "      <td id=\"T_db264_row2_col0\" class=\"data row2 col0\" >0.770701</td>\n",
              "      <td id=\"T_db264_row2_col1\" class=\"data row2 col1\" >80.939456</td>\n",
              "      <td id=\"T_db264_row2_col2\" class=\"data row2 col2\" >8</td>\n",
              "      <td id=\"T_db264_row2_col3\" class=\"data row2 col3\" >32</td>\n",
              "    </tr>\n",
              "    <tr>\n",
              "      <th id=\"T_db264_level0_row3\" class=\"row_heading level0 row3\" >tf_vgg16_DA</th>\n",
              "      <td id=\"T_db264_row3_col0\" class=\"data row3 col0\" >0.738854</td>\n",
              "      <td id=\"T_db264_row3_col1\" class=\"data row3 col1\" >866.473519</td>\n",
              "      <td id=\"T_db264_row3_col2\" class=\"data row3 col2\" >15</td>\n",
              "      <td id=\"T_db264_row3_col3\" class=\"data row3 col3\" >32</td>\n",
              "    </tr>\n",
              "  </tbody>\n",
              "</table>\n"
            ],
            "text/plain": [
              "<pandas.io.formats.style.Styler at 0x134aab4f790>"
            ]
          },
          "execution_count": 74,
          "metadata": {},
          "output_type": "execute_result"
        }
      ],
      "source": [
        "# Surligner les meilleures valeurs\n",
        "resultat_optimal_tous.style.apply(surligne_meilleur)"
      ]
    },
    {
      "cell_type": "markdown",
      "metadata": {},
      "source": [
        "Nous ne pouvons pas nous prononcer sur les temps de calculs de la data augmentation en comparaison des autres modèles car les ressources computationnelles ne sont pas comparables avec celles utilisées pour entrainer les autres modèles (TPU Google Colab).\n",
        "\n",
        "Nous partons du principe que le temps de calcul de la data augmentation est assez proche de celui sans data augmentation. "
      ]
    },
    {
      "cell_type": "markdown",
      "metadata": {
        "id": "Er6_FtpZ07GX"
      },
      "source": [
        "# <span style='background:blue'>Conclusion</span>"
      ]
    },
    {
      "cell_type": "markdown",
      "metadata": {
        "id": "WBDzoo1007GX"
      },
      "source": [
        "Le meilleur modèle pour effectuer la classification d'images supervisée que nous souhaitons réaliser est le **CNN avec Transfer Learning VGG16** couplé avec la **Data Augmentation**. Ce modèle présente des performances convenables et évite le surapprentissage qui était induit par le même modèle sans la data augmentation.\n",
        "\n",
        "Il serait préférable de vérifier que les temps de calcul de ce modèle avec la data augmentation sont acceptables pour l'entreprise **Flipkart** avant de le mettre en production."
      ]
    },
    {
      "cell_type": "code",
      "execution_count": 75,
      "metadata": {
        "id": "vP2qpqu507GX",
        "outputId": "15a29cdc-821d-4b8c-b58c-7fea271d8acc"
      },
      "outputs": [
        {
          "name": "stdout",
          "output_type": "stream",
          "text": [
            "Durée totale pour faire tourner le notebook : 15 minute(s) 35 seconde(s)\n"
          ]
        }
      ],
      "source": [
        "# Afficher temps d'exécution du notebook\n",
        "calculer_duree_notebook(start_time)"
      ]
    }
  ],
  "metadata": {
    "accelerator": "TPU",
    "colab": {
      "include_colab_link": true,
      "provenance": []
    },
    "kernelspec": {
      "display_name": "Python 3",
      "name": "python3"
    },
    "language_info": {
      "codemirror_mode": {
        "name": "ipython",
        "version": 3
      },
      "file_extension": ".py",
      "mimetype": "text/x-python",
      "name": "python",
      "nbconvert_exporter": "python",
      "pygments_lexer": "ipython3",
      "version": "3.11.8"
    }
  },
  "nbformat": 4,
  "nbformat_minor": 0
}
