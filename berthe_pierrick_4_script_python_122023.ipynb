{
 "cells": [
  {
   "cell_type": "markdown",
   "metadata": {},
   "source": [
    "# <span style='color:SteelBlue'>P6 - Classifiez automatiquement des biens de consommation (part 4)</span>"
   ]
  },
  {
   "cell_type": "markdown",
   "metadata": {},
   "source": [
    "<img src=\"https://user.oc-static.com/upload/2019/02/24/15510259240381_Projet%20textimage%20logo.png\" width=\"600\" height=\"400\">"
   ]
  },
  {
   "cell_type": "markdown",
   "metadata": {},
   "source": [
    "# <span style='background:red; color:black'>a MAJ</span>\n",
    "\n",
    "# <span style='background:white; color:black'>Sommaire</span>\n",
    "\n",
    "Importations des librairies utilisees dans ce notebook <br>\n",
    "\n",
    "Paramètres d'affichage du notebook <br>\n",
    "\n",
    "Fonctions utilisees dans ce notebook <br>\n",
    "\n",
    "Importation des données <br>\n",
    "\n",
    "**Etape 1 : Description des donnees**\n",
    "- _1/ etc...\n",
    "\n",
    "\n",
    "Conclusion"
   ]
  },
  {
   "cell_type": "markdown",
   "metadata": {},
   "source": [
    "# <span style='background:blue'>Introduction</span>\n",
    "\n",
    "L'entreprise **\"place de marché\"** est une entreprise qui souhaite lancer une\n",
    "marketplace e-commerce. Sur cette place de marché anglophone, des vendeurs\n",
    "proposent des articles à des acheteurs en postant une photo et une description.\n",
    "Pour rendre l’expérience utilisateur des vendeurs (faciliter la mise en ligne\n",
    "de nouveaux articles) et des acheteurs (faciliter la recherche de produits) \n",
    "la plus fluide possible, et dans l'optique d'un passage à l'échelle, \n",
    "il devient nécessaire **d'automatiser l'attribution de la catégorie** d'un \n",
    "article (actuellement effectuée manuellement par les vendeurs, donc peu \n",
    "fiable).\n",
    "___\n",
    "**Missions**<br>\n",
    "1/ Faire une **étude de la faisabilité d’un moteur de classification**\n",
    "d’article basé sur une **description** pour automatiser l’attribution\n",
    "de catégorie de l’article. \n",
    "\n",
    "2/ Faire une **étude de la faisabilité d’un moteur de classification**\n",
    "d’article basé sur une **image** pour automatiser l’attribution\n",
    "de catégorie de l’article. \n",
    "\n",
    "3/ **Réaliser une classification supervisée** à partir des images par la mise\n",
    "en place d’une data augmentation afin d’optimiser le modèle. \n",
    "\n",
    "4/ **Extraire les 10 premiers produits à base de « champagne »** issus de\n",
    "l’API fournie dans un fichier “.csv”, contenant pour chaque produit les\n",
    "données suivantes : foodId, label, category, foodContentsLabel, image.\n",
    "___\n",
    "Ce notebook presente la 4ème partie concernant l'extraction de produit danns\n",
    "l'API...\n",
    "\n",
    "# <span style='background:red'>a terminer</span>\n",
    "\n",
    "___\n",
    "**Source des datasets**<br>\n",
    "Source : Non précisé<br>\n",
    "___"
   ]
  },
  {
   "cell_type": "markdown",
   "metadata": {},
   "source": [
    "<div class=\"alert alert-block alert-warning\">\n",
    "<b>Formattage du notebook au PEP8 => lancer cette ligne de code dans le\n",
    "terminal VSC : </b><br>\n",
    "nbqa black Berthe_Pierrick_1_notebook_exploration_112023.ipynb</div>"
   ]
  },
  {
   "cell_type": "markdown",
   "metadata": {},
   "source": [
    "# <span style='background:grey'>Importations des librairies utilisees dans ce notebook</span>"
   ]
  },
  {
   "cell_type": "code",
   "execution_count": null,
   "metadata": {},
   "outputs": [],
   "source": [
    "# Librairies generales\n",
    "import os.path\n",
    "import sys\n",
    "from IPython.display import display\n",
    "import time\n",
    "from datetime import datetime\n",
    "\n",
    "# Librairies data science\n",
    "import matplotlib as mpl\n",
    "import matplotlib.pyplot as plt\n",
    "import numpy as np\n",
    "import pandas as pd\n",
    "import seaborn as sns\n",
    "\n",
    "# Affichage plot dans le notebook\n",
    "%matplotlib inline\n",
    "\n",
    "# Versions\n",
    "print(\"Version des librairies utilisees :\")\n",
    "print(\"Python        : \" + sys.version)\n",
    "print(\"Matplotlib    : \" + mpl.__version__)\n",
    "print(\"NumPy         : \" + np.version.full_version)\n",
    "print(\"Pandas        : \" + pd.__version__)\n",
    "print(\"Seaborn       : \" + sns.__version__)\n",
    "\n",
    "# Nombre de coeurs\n",
    "nbr_coeur = os.cpu_count()\n",
    "print(f\"\\nNombre de coeur disponible(s) sur ce PC: {nbr_coeur} coeur(s)\")\n",
    "\n",
    "# Afficher heure lancement\n",
    "maintenant = datetime.now().isoformat()\n",
    "print(\"\\nCode lance le : \" + maintenant)\n",
    "\n",
    "# Enregistrer l'heure de debut\n",
    "start_time = time.time()\n",
    "\n",
    "# Activer la verification PEP8\n",
    "print(\"\")\n",
    "%load_ext pycodestyle_magic\n",
    "%pycodestyle_on"
   ]
  },
  {
   "cell_type": "markdown",
   "metadata": {},
   "source": [
    "# <span style='background:grey'>Paramètres d'affichage</span>"
   ]
  },
  {
   "cell_type": "code",
   "execution_count": null,
   "metadata": {},
   "outputs": [],
   "source": []
  },
  {
   "cell_type": "markdown",
   "metadata": {},
   "source": [
    "# <span style='background:grey'>Fonctions</span>"
   ]
  },
  {
   "cell_type": "code",
   "execution_count": null,
   "metadata": {},
   "outputs": [],
   "source": [
    "def calculer_duree_notebook(start_time):\n",
    "    \"\"\"\n",
    "    Cette procédure calcule et affiche la durée totale depuis un temps de\n",
    "    début donné.\n",
    "\n",
    "    Args:\n",
    "        start_time (float): Le temps de début en secondes depuis l'époque.\n",
    "\n",
    "    Returns:\n",
    "        None\n",
    "    \"\"\"\n",
    "\n",
    "    # Calculer la durée totale\n",
    "    total_time = time.time() - start_time\n",
    "\n",
    "    # Convertir en minutes et secondes\n",
    "    minutes, seconds = divmod(total_time, 60)\n",
    "\n",
    "    # Afficher la durée totale\n",
    "    message = (\n",
    "        \"Durée totale pour faire tourner le notebook : \"\n",
    "        \"{0} minute(s) {1} seconde(s)\"\n",
    "    )\n",
    "    print(message.format(int(minutes), int(seconds)))"
   ]
  },
  {
   "cell_type": "markdown",
   "metadata": {},
   "source": [
    "# <span style='background:grey'>Importation des donnees</span>\n",
    "\n",
    "Importation des fichiers CSV avec Pandas"
   ]
  },
  {
   "cell_type": "code",
   "execution_count": null,
   "metadata": {},
   "outputs": [],
   "source": []
  },
  {
   "cell_type": "markdown",
   "metadata": {},
   "source": [
    "# <span style='background:blue'>Etape 1 : Présentation du dataset</span>\n",
    "\n",
    "## <span style='background:green'>1/ Aperçu tableau</span>"
   ]
  },
  {
   "cell_type": "code",
   "execution_count": null,
   "metadata": {},
   "outputs": [],
   "source": []
  },
  {
   "cell_type": "markdown",
   "metadata": {},
   "source": [
    "Compétence OCR:\n",
    "\n",
    "**Définir la stratégie de collecte de données en recensant les API disponibles, et réaliser la collecte\n",
    "des données répondant à des critères définis via une API (interface de programmation) en prenant\n",
    "en compte les normes RGPD, afin de les exploiter pour l’élaboration d’un modèle.**\n",
    "\n",
    "- CE1 Le candidat a défini sa stratégie de collecte de données et recensé les API disponibles pour le\n",
    "besoin de son projet\n",
    "- CE2 Le candidat a écrit et testé une requête pour obtenir les données via l’API.\n",
    "- CE3 Le candidat a récupéré les seuls champs nécessaires. Dans le cadre de ce projet, il s’agit de :\n",
    "    - Des champs foodId, label, category, foodContentsLabel, image\n",
    "- CE4 Le candidat applique au moins un filtre sur un des champs nécessaires pour ne collecter que les\n",
    "données ayant les valeurs correspondantes sur ce ou ces champs. Dans le cadre de ce projet, il s’agit\n",
    "de :\n",
    "    - filtrer sur l’ingrédient (“ingr”) champagne.\n",
    "- CE5 Le candidat a stocké les données collectées via l’API dans un fichier utilisable (ex. : fichier CSV ou\n",
    "pickle).\n",
    "- CE6 Le candidat veille au respect des normes RGPD dans toutes phases de la collecte et du stockage\n",
    "des données. En particulier :\n",
    "    - Il présente les 5 grands principes du RGPD\n",
    "    - Il ne gère que les données nécessaires pour la finalité du projet"
   ]
  },
  {
   "cell_type": "code",
   "execution_count": null,
   "metadata": {},
   "outputs": [],
   "source": [
    "# Afficher temps d'exécution du notebook\n",
    "calculer_duree_notebook(start_time)"
   ]
  }
 ],
 "metadata": {
  "kernelspec": {
   "display_name": "env",
   "language": "python",
   "name": "python3"
  },
  "language_info": {
   "name": "python",
   "version": "3.11.7"
  }
 },
 "nbformat": 4,
 "nbformat_minor": 2
}
